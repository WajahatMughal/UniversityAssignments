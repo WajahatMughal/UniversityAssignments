{
 "cells": [
  {
   "cell_type": "code",
   "execution_count": 1,
   "metadata": {},
   "outputs": [],
   "source": [
    "import numpy as np\n",
    "import pandas as pd\n",
    "import matplotlib.pyplot as plt\n",
    "import seaborn as sns\n",
    "import warnings\n",
    "warnings.filterwarnings('ignore')"
   ]
  },
  {
   "cell_type": "markdown",
   "metadata": {},
   "source": [
    "# Task 1:"
   ]
  },
  {
   "cell_type": "markdown",
   "metadata": {},
   "source": [
    "### 1. Load Dataset and convert in Dataframe"
   ]
  },
  {
   "cell_type": "code",
   "execution_count": 2,
   "metadata": {},
   "outputs": [
    {
     "data": {
      "text/html": [
       "<div>\n",
       "<style scoped>\n",
       "    .dataframe tbody tr th:only-of-type {\n",
       "        vertical-align: middle;\n",
       "    }\n",
       "\n",
       "    .dataframe tbody tr th {\n",
       "        vertical-align: top;\n",
       "    }\n",
       "\n",
       "    .dataframe thead th {\n",
       "        text-align: right;\n",
       "    }\n",
       "</style>\n",
       "<table border=\"1\" class=\"dataframe\">\n",
       "  <thead>\n",
       "    <tr style=\"text-align: right;\">\n",
       "      <th></th>\n",
       "      <th>longitude</th>\n",
       "      <th>latitude</th>\n",
       "      <th>housing_median_age</th>\n",
       "      <th>total_rooms</th>\n",
       "      <th>population</th>\n",
       "      <th>median_income</th>\n",
       "      <th>median_house_value</th>\n",
       "      <th>ocean_proximity</th>\n",
       "    </tr>\n",
       "  </thead>\n",
       "  <tbody>\n",
       "    <tr>\n",
       "      <th>0</th>\n",
       "      <td>-122.23</td>\n",
       "      <td>37.88</td>\n",
       "      <td>41.0000</td>\n",
       "      <td>880</td>\n",
       "      <td>322</td>\n",
       "      <td>8.3252</td>\n",
       "      <td>452600</td>\n",
       "      <td>NEAR BAY</td>\n",
       "    </tr>\n",
       "    <tr>\n",
       "      <th>1</th>\n",
       "      <td>-122.23</td>\n",
       "      <td>37.88</td>\n",
       "      <td>41.0000</td>\n",
       "      <td>880</td>\n",
       "      <td>322</td>\n",
       "      <td>8.3252</td>\n",
       "      <td>452600</td>\n",
       "      <td>NEAR BAY</td>\n",
       "    </tr>\n",
       "    <tr>\n",
       "      <th>2</th>\n",
       "      <td>-122.22</td>\n",
       "      <td>37.86</td>\n",
       "      <td>21.0000</td>\n",
       "      <td>7099</td>\n",
       "      <td>2401</td>\n",
       "      <td>8.3014</td>\n",
       "      <td>358500</td>\n",
       "      <td>NEAR BAY</td>\n",
       "    </tr>\n",
       "    <tr>\n",
       "      <th>3</th>\n",
       "      <td>-122.25</td>\n",
       "      <td>37.84</td>\n",
       "      <td>52.0001</td>\n",
       "      <td>3104</td>\n",
       "      <td>1157</td>\n",
       "      <td>3.1200</td>\n",
       "      <td>241400</td>\n",
       "      <td>NEAR BAY</td>\n",
       "    </tr>\n",
       "    <tr>\n",
       "      <th>4</th>\n",
       "      <td>-122.26</td>\n",
       "      <td>37.85</td>\n",
       "      <td>52.0000</td>\n",
       "      <td>3503</td>\n",
       "      <td>1504</td>\n",
       "      <td>3.2705</td>\n",
       "      <td>241800</td>\n",
       "      <td>NEAR BAY</td>\n",
       "    </tr>\n",
       "  </tbody>\n",
       "</table>\n",
       "</div>"
      ],
      "text/plain": [
       "   longitude  latitude  housing_median_age  total_rooms  population  \\\n",
       "0    -122.23     37.88             41.0000          880         322   \n",
       "1    -122.23     37.88             41.0000          880         322   \n",
       "2    -122.22     37.86             21.0000         7099        2401   \n",
       "3    -122.25     37.84             52.0001         3104        1157   \n",
       "4    -122.26     37.85             52.0000         3503        1504   \n",
       "\n",
       "   median_income  median_house_value ocean_proximity  \n",
       "0         8.3252              452600        NEAR BAY  \n",
       "1         8.3252              452600        NEAR BAY  \n",
       "2         8.3014              358500        NEAR BAY  \n",
       "3         3.1200              241400        NEAR BAY  \n",
       "4         3.2705              241800        NEAR BAY  "
      ]
     },
     "execution_count": 2,
     "metadata": {},
     "output_type": "execute_result"
    }
   ],
   "source": [
    "# Using Panda's read_excel() function to make dataframe of given data.\n",
    "data =  pd.read_csv(r'C:\\Users\\shubz\\OneDrive\\Desktop\\University of Greenwich Data\\Programming fundamentals for data science\\Final Updates\\Data_Science\\Dataset.csv')\n",
    "data.head() # First 5 rows of given dataset."
   ]
  },
  {
   "cell_type": "markdown",
   "metadata": {},
   "source": [
    "### 2. Missing values "
   ]
  },
  {
   "cell_type": "code",
   "execution_count": 3,
   "metadata": {},
   "outputs": [
    {
     "data": {
      "text/plain": [
       "longitude             0\n",
       "latitude              0\n",
       "housing_median_age    0\n",
       "total_rooms           0\n",
       "population            0\n",
       "median_income         1\n",
       "median_house_value    0\n",
       "ocean_proximity       1\n",
       "dtype: int64"
      ]
     },
     "execution_count": 3,
     "metadata": {},
     "output_type": "execute_result"
    }
   ],
   "source": [
    "data.isna().sum() # Using isna().sum() to get total value count of NA in each columns"
   ]
  },
  {
   "cell_type": "markdown",
   "metadata": {},
   "source": [
    "    -> Now can easily see that in median_income and ocean_proximity both features have one missing values"
   ]
  },
  {
   "cell_type": "code",
   "execution_count": 4,
   "metadata": {},
   "outputs": [],
   "source": [
    "# Remove Missing values using pandas dropna() function\n",
    "data.dropna(inplace=True)"
   ]
  },
  {
   "cell_type": "code",
   "execution_count": 5,
   "metadata": {},
   "outputs": [
    {
     "data": {
      "text/plain": [
       "longitude             0\n",
       "latitude              0\n",
       "housing_median_age    0\n",
       "total_rooms           0\n",
       "population            0\n",
       "median_income         0\n",
       "median_house_value    0\n",
       "ocean_proximity       0\n",
       "dtype: int64"
      ]
     },
     "execution_count": 5,
     "metadata": {},
     "output_type": "execute_result"
    }
   ],
   "source": [
    "data.isna().sum() # There is no more missing values."
   ]
  },
  {
   "cell_type": "markdown",
   "metadata": {},
   "source": [
    "### 3. Unnecessary duplicates "
   ]
  },
  {
   "cell_type": "code",
   "execution_count": 6,
   "metadata": {},
   "outputs": [
    {
     "data": {
      "text/plain": [
       "2"
      ]
     },
     "execution_count": 6,
     "metadata": {},
     "output_type": "execute_result"
    }
   ],
   "source": [
    "data.duplicated().sum()  # Count duplicate column in dataframe."
   ]
  },
  {
   "cell_type": "markdown",
   "metadata": {},
   "source": [
    "    -> There are two duplicate values. let's remove them."
   ]
  },
  {
   "cell_type": "code",
   "execution_count": 7,
   "metadata": {},
   "outputs": [],
   "source": [
    "data.drop_duplicates(inplace=True) # remove duplicate values."
   ]
  },
  {
   "cell_type": "code",
   "execution_count": 8,
   "metadata": {},
   "outputs": [
    {
     "data": {
      "text/plain": [
       "0"
      ]
     },
     "execution_count": 8,
     "metadata": {},
     "output_type": "execute_result"
    }
   ],
   "source": [
    "data.duplicated().sum() # both duplicate column are removed."
   ]
  },
  {
   "cell_type": "markdown",
   "metadata": {},
   "source": [
    "### 4. Wrong data types "
   ]
  },
  {
   "cell_type": "code",
   "execution_count": 9,
   "metadata": {},
   "outputs": [
    {
     "name": "stdout",
     "output_type": "stream",
     "text": [
      "<class 'pandas.core.frame.DataFrame'>\n",
      "Int64Index: 24 entries, 0 to 26\n",
      "Data columns (total 8 columns):\n",
      " #   Column              Non-Null Count  Dtype  \n",
      "---  ------              --------------  -----  \n",
      " 0   longitude           24 non-null     float64\n",
      " 1   latitude            24 non-null     float64\n",
      " 2   housing_median_age  24 non-null     float64\n",
      " 3   total_rooms         24 non-null     int64  \n",
      " 4   population          24 non-null     int64  \n",
      " 5   median_income       24 non-null     float64\n",
      " 6   median_house_value  24 non-null     int64  \n",
      " 7   ocean_proximity     24 non-null     object \n",
      "dtypes: float64(4), int64(3), object(1)\n",
      "memory usage: 1.7+ KB\n"
     ]
    }
   ],
   "source": [
    "data.info()"
   ]
  },
  {
   "cell_type": "code",
   "execution_count": 10,
   "metadata": {},
   "outputs": [
    {
     "data": {
      "text/html": [
       "<div>\n",
       "<style scoped>\n",
       "    .dataframe tbody tr th:only-of-type {\n",
       "        vertical-align: middle;\n",
       "    }\n",
       "\n",
       "    .dataframe tbody tr th {\n",
       "        vertical-align: top;\n",
       "    }\n",
       "\n",
       "    .dataframe thead th {\n",
       "        text-align: right;\n",
       "    }\n",
       "</style>\n",
       "<table border=\"1\" class=\"dataframe\">\n",
       "  <thead>\n",
       "    <tr style=\"text-align: right;\">\n",
       "      <th></th>\n",
       "      <th>longitude</th>\n",
       "      <th>latitude</th>\n",
       "      <th>housing_median_age</th>\n",
       "      <th>total_rooms</th>\n",
       "      <th>population</th>\n",
       "      <th>median_income</th>\n",
       "      <th>median_house_value</th>\n",
       "      <th>ocean_proximity</th>\n",
       "    </tr>\n",
       "  </thead>\n",
       "  <tbody>\n",
       "    <tr>\n",
       "      <th>0</th>\n",
       "      <td>-122.23</td>\n",
       "      <td>37.88</td>\n",
       "      <td>41.0000</td>\n",
       "      <td>880</td>\n",
       "      <td>322</td>\n",
       "      <td>8.3252</td>\n",
       "      <td>452600</td>\n",
       "      <td>NEAR BAY</td>\n",
       "    </tr>\n",
       "    <tr>\n",
       "      <th>2</th>\n",
       "      <td>-122.22</td>\n",
       "      <td>37.86</td>\n",
       "      <td>21.0000</td>\n",
       "      <td>7099</td>\n",
       "      <td>2401</td>\n",
       "      <td>8.3014</td>\n",
       "      <td>358500</td>\n",
       "      <td>NEAR BAY</td>\n",
       "    </tr>\n",
       "    <tr>\n",
       "      <th>3</th>\n",
       "      <td>-122.25</td>\n",
       "      <td>37.84</td>\n",
       "      <td>52.0001</td>\n",
       "      <td>3104</td>\n",
       "      <td>1157</td>\n",
       "      <td>3.1200</td>\n",
       "      <td>241400</td>\n",
       "      <td>NEAR BAY</td>\n",
       "    </tr>\n",
       "    <tr>\n",
       "      <th>4</th>\n",
       "      <td>-122.26</td>\n",
       "      <td>37.85</td>\n",
       "      <td>52.0000</td>\n",
       "      <td>3503</td>\n",
       "      <td>1504</td>\n",
       "      <td>3.2705</td>\n",
       "      <td>241800</td>\n",
       "      <td>NEAR BAY</td>\n",
       "    </tr>\n",
       "    <tr>\n",
       "      <th>5</th>\n",
       "      <td>-121.65</td>\n",
       "      <td>39.32</td>\n",
       "      <td>40.0000</td>\n",
       "      <td>812</td>\n",
       "      <td>374</td>\n",
       "      <td>2.7891</td>\n",
       "      <td>73500</td>\n",
       "      <td>INLAND</td>\n",
       "    </tr>\n",
       "  </tbody>\n",
       "</table>\n",
       "</div>"
      ],
      "text/plain": [
       "   longitude  latitude  housing_median_age  total_rooms  population  \\\n",
       "0    -122.23     37.88             41.0000          880         322   \n",
       "2    -122.22     37.86             21.0000         7099        2401   \n",
       "3    -122.25     37.84             52.0001         3104        1157   \n",
       "4    -122.26     37.85             52.0000         3503        1504   \n",
       "5    -121.65     39.32             40.0000          812         374   \n",
       "\n",
       "   median_income  median_house_value ocean_proximity  \n",
       "0         8.3252              452600        NEAR BAY  \n",
       "2         8.3014              358500        NEAR BAY  \n",
       "3         3.1200              241400        NEAR BAY  \n",
       "4         3.2705              241800        NEAR BAY  \n",
       "5         2.7891               73500          INLAND  "
      ]
     },
     "execution_count": 10,
     "metadata": {},
     "output_type": "execute_result"
    }
   ],
   "source": [
    "data.head()"
   ]
  },
  {
   "cell_type": "markdown",
   "metadata": {},
   "source": [
    "### 5. Wrong values "
   ]
  },
  {
   "cell_type": "code",
   "execution_count": 11,
   "metadata": {},
   "outputs": [
    {
     "data": {
      "text/html": [
       "<div>\n",
       "<style scoped>\n",
       "    .dataframe tbody tr th:only-of-type {\n",
       "        vertical-align: middle;\n",
       "    }\n",
       "\n",
       "    .dataframe tbody tr th {\n",
       "        vertical-align: top;\n",
       "    }\n",
       "\n",
       "    .dataframe thead th {\n",
       "        text-align: right;\n",
       "    }\n",
       "</style>\n",
       "<table border=\"1\" class=\"dataframe\">\n",
       "  <thead>\n",
       "    <tr style=\"text-align: right;\">\n",
       "      <th></th>\n",
       "      <th>longitude</th>\n",
       "      <th>latitude</th>\n",
       "      <th>housing_median_age</th>\n",
       "      <th>total_rooms</th>\n",
       "      <th>population</th>\n",
       "      <th>median_income</th>\n",
       "      <th>median_house_value</th>\n",
       "      <th>ocean_proximity</th>\n",
       "    </tr>\n",
       "  </thead>\n",
       "  <tbody>\n",
       "    <tr>\n",
       "      <th>0</th>\n",
       "      <td>-122.23</td>\n",
       "      <td>37.88</td>\n",
       "      <td>41.0000</td>\n",
       "      <td>880</td>\n",
       "      <td>322</td>\n",
       "      <td>8.3252</td>\n",
       "      <td>452600</td>\n",
       "      <td>NEAR BAY</td>\n",
       "    </tr>\n",
       "    <tr>\n",
       "      <th>2</th>\n",
       "      <td>-122.22</td>\n",
       "      <td>37.86</td>\n",
       "      <td>21.0000</td>\n",
       "      <td>7099</td>\n",
       "      <td>2401</td>\n",
       "      <td>8.3014</td>\n",
       "      <td>358500</td>\n",
       "      <td>NEAR BAY</td>\n",
       "    </tr>\n",
       "    <tr>\n",
       "      <th>3</th>\n",
       "      <td>-122.25</td>\n",
       "      <td>37.84</td>\n",
       "      <td>52.0001</td>\n",
       "      <td>3104</td>\n",
       "      <td>1157</td>\n",
       "      <td>3.1200</td>\n",
       "      <td>241400</td>\n",
       "      <td>NEAR BAY</td>\n",
       "    </tr>\n",
       "    <tr>\n",
       "      <th>4</th>\n",
       "      <td>-122.26</td>\n",
       "      <td>37.85</td>\n",
       "      <td>52.0000</td>\n",
       "      <td>3503</td>\n",
       "      <td>1504</td>\n",
       "      <td>3.2705</td>\n",
       "      <td>241800</td>\n",
       "      <td>NEAR BAY</td>\n",
       "    </tr>\n",
       "    <tr>\n",
       "      <th>5</th>\n",
       "      <td>-121.65</td>\n",
       "      <td>39.32</td>\n",
       "      <td>40.0000</td>\n",
       "      <td>812</td>\n",
       "      <td>374</td>\n",
       "      <td>2.7891</td>\n",
       "      <td>73500</td>\n",
       "      <td>INLAND</td>\n",
       "    </tr>\n",
       "  </tbody>\n",
       "</table>\n",
       "</div>"
      ],
      "text/plain": [
       "   longitude  latitude  housing_median_age  total_rooms  population  \\\n",
       "0    -122.23     37.88             41.0000          880         322   \n",
       "2    -122.22     37.86             21.0000         7099        2401   \n",
       "3    -122.25     37.84             52.0001         3104        1157   \n",
       "4    -122.26     37.85             52.0000         3503        1504   \n",
       "5    -121.65     39.32             40.0000          812         374   \n",
       "\n",
       "   median_income  median_house_value ocean_proximity  \n",
       "0         8.3252              452600        NEAR BAY  \n",
       "2         8.3014              358500        NEAR BAY  \n",
       "3         3.1200              241400        NEAR BAY  \n",
       "4         3.2705              241800        NEAR BAY  \n",
       "5         2.7891               73500          INLAND  "
      ]
     },
     "execution_count": 11,
     "metadata": {},
     "output_type": "execute_result"
    }
   ],
   "source": [
    "data.head() # Values for total romms is wrong"
   ]
  },
  {
   "cell_type": "markdown",
   "metadata": {},
   "source": [
    "### 6. Updated dataframe"
   ]
  },
  {
   "cell_type": "code",
   "execution_count": 12,
   "metadata": {},
   "outputs": [],
   "source": [
    "# Save the updated data frame into a new CSV file \n",
    "update_data = data.copy() \n",
    "update_data.to_csv('update_data.csv', index=False)"
   ]
  },
  {
   "cell_type": "markdown",
   "metadata": {},
   "source": [
    "### 7. Mean of median_house_value"
   ]
  },
  {
   "cell_type": "code",
   "execution_count": 13,
   "metadata": {},
   "outputs": [
    {
     "data": {
      "text/plain": [
       "180629.16666666666"
      ]
     },
     "execution_count": 13,
     "metadata": {},
     "output_type": "execute_result"
    }
   ],
   "source": [
    "update_data.median_house_value.mean()"
   ]
  },
  {
   "cell_type": "markdown",
   "metadata": {},
   "source": [
    "### 8. Median of median_house_value"
   ]
  },
  {
   "cell_type": "code",
   "execution_count": 14,
   "metadata": {},
   "outputs": [
    {
     "data": {
      "text/plain": [
       "88100.0"
      ]
     },
     "execution_count": 14,
     "metadata": {},
     "output_type": "execute_result"
    }
   ],
   "source": [
    "update_data.median_house_value.median()"
   ]
  },
  {
   "cell_type": "markdown",
   "metadata": {},
   "source": [
    "### 9. Range of median_house_value"
   ]
  },
  {
   "cell_type": "code",
   "execution_count": 15,
   "metadata": {},
   "outputs": [
    {
     "data": {
      "text/plain": [
       "452600"
      ]
     },
     "execution_count": 15,
     "metadata": {},
     "output_type": "execute_result"
    }
   ],
   "source": [
    "update_data.median_house_value.max() # maximum range"
   ]
  },
  {
   "cell_type": "code",
   "execution_count": 16,
   "metadata": {},
   "outputs": [
    {
     "data": {
      "text/plain": [
       "56000"
      ]
     },
     "execution_count": 16,
     "metadata": {},
     "output_type": "execute_result"
    }
   ],
   "source": [
    "update_data.median_house_value.min() # minimum range"
   ]
  },
  {
   "cell_type": "markdown",
   "metadata": {},
   "source": [
    "### 10.'median_income' convert in USD"
   ]
  },
  {
   "cell_type": "code",
   "execution_count": 17,
   "metadata": {},
   "outputs": [],
   "source": [
    "data.median_income = data.median_income*10000   # median_income converted in USD"
   ]
  },
  {
   "cell_type": "code",
   "execution_count": 18,
   "metadata": {},
   "outputs": [
    {
     "data": {
      "text/html": [
       "<div>\n",
       "<style scoped>\n",
       "    .dataframe tbody tr th:only-of-type {\n",
       "        vertical-align: middle;\n",
       "    }\n",
       "\n",
       "    .dataframe tbody tr th {\n",
       "        vertical-align: top;\n",
       "    }\n",
       "\n",
       "    .dataframe thead th {\n",
       "        text-align: right;\n",
       "    }\n",
       "</style>\n",
       "<table border=\"1\" class=\"dataframe\">\n",
       "  <thead>\n",
       "    <tr style=\"text-align: right;\">\n",
       "      <th></th>\n",
       "      <th>longitude</th>\n",
       "      <th>latitude</th>\n",
       "      <th>housing_median_age</th>\n",
       "      <th>total_rooms</th>\n",
       "      <th>population</th>\n",
       "      <th>median_income</th>\n",
       "      <th>median_house_value</th>\n",
       "      <th>ocean_proximity</th>\n",
       "    </tr>\n",
       "  </thead>\n",
       "  <tbody>\n",
       "    <tr>\n",
       "      <th>0</th>\n",
       "      <td>-122.23</td>\n",
       "      <td>37.88</td>\n",
       "      <td>41.0000</td>\n",
       "      <td>880</td>\n",
       "      <td>322</td>\n",
       "      <td>83252.0</td>\n",
       "      <td>452600</td>\n",
       "      <td>NEAR BAY</td>\n",
       "    </tr>\n",
       "    <tr>\n",
       "      <th>2</th>\n",
       "      <td>-122.22</td>\n",
       "      <td>37.86</td>\n",
       "      <td>21.0000</td>\n",
       "      <td>7099</td>\n",
       "      <td>2401</td>\n",
       "      <td>83014.0</td>\n",
       "      <td>358500</td>\n",
       "      <td>NEAR BAY</td>\n",
       "    </tr>\n",
       "    <tr>\n",
       "      <th>3</th>\n",
       "      <td>-122.25</td>\n",
       "      <td>37.84</td>\n",
       "      <td>52.0001</td>\n",
       "      <td>3104</td>\n",
       "      <td>1157</td>\n",
       "      <td>31200.0</td>\n",
       "      <td>241400</td>\n",
       "      <td>NEAR BAY</td>\n",
       "    </tr>\n",
       "    <tr>\n",
       "      <th>4</th>\n",
       "      <td>-122.26</td>\n",
       "      <td>37.85</td>\n",
       "      <td>52.0000</td>\n",
       "      <td>3503</td>\n",
       "      <td>1504</td>\n",
       "      <td>32705.0</td>\n",
       "      <td>241800</td>\n",
       "      <td>NEAR BAY</td>\n",
       "    </tr>\n",
       "    <tr>\n",
       "      <th>5</th>\n",
       "      <td>-121.65</td>\n",
       "      <td>39.32</td>\n",
       "      <td>40.0000</td>\n",
       "      <td>812</td>\n",
       "      <td>374</td>\n",
       "      <td>27891.0</td>\n",
       "      <td>73500</td>\n",
       "      <td>INLAND</td>\n",
       "    </tr>\n",
       "    <tr>\n",
       "      <th>6</th>\n",
       "      <td>-121.69</td>\n",
       "      <td>39.36</td>\n",
       "      <td>29.0000</td>\n",
       "      <td>2220</td>\n",
       "      <td>1170</td>\n",
       "      <td>23224.0</td>\n",
       "      <td>56200</td>\n",
       "      <td>INLAND</td>\n",
       "    </tr>\n",
       "    <tr>\n",
       "      <th>7</th>\n",
       "      <td>-121.70</td>\n",
       "      <td>39.37</td>\n",
       "      <td>32.0000</td>\n",
       "      <td>1852</td>\n",
       "      <td>911</td>\n",
       "      <td>17885.0</td>\n",
       "      <td>57000</td>\n",
       "      <td>INLAND</td>\n",
       "    </tr>\n",
       "    <tr>\n",
       "      <th>8</th>\n",
       "      <td>-121.70</td>\n",
       "      <td>39.36</td>\n",
       "      <td>46.0000</td>\n",
       "      <td>1210</td>\n",
       "      <td>523</td>\n",
       "      <td>19100.0</td>\n",
       "      <td>63900</td>\n",
       "      <td>INLAND</td>\n",
       "    </tr>\n",
       "    <tr>\n",
       "      <th>9</th>\n",
       "      <td>-121.70</td>\n",
       "      <td>39.36</td>\n",
       "      <td>37.0000</td>\n",
       "      <td>2330</td>\n",
       "      <td>1505</td>\n",
       "      <td>20474.0</td>\n",
       "      <td>56000</td>\n",
       "      <td>INLAND</td>\n",
       "    </tr>\n",
       "    <tr>\n",
       "      <th>10</th>\n",
       "      <td>-121.69</td>\n",
       "      <td>39.36</td>\n",
       "      <td>34.0000</td>\n",
       "      <td>842</td>\n",
       "      <td>635</td>\n",
       "      <td>18355.0</td>\n",
       "      <td>63000</td>\n",
       "      <td>INLAND</td>\n",
       "    </tr>\n",
       "    <tr>\n",
       "      <th>12</th>\n",
       "      <td>-121.80</td>\n",
       "      <td>39.33</td>\n",
       "      <td>30.0000</td>\n",
       "      <td>1019</td>\n",
       "      <td>501</td>\n",
       "      <td>25259.0</td>\n",
       "      <td>81300</td>\n",
       "      <td>INLAND</td>\n",
       "    </tr>\n",
       "    <tr>\n",
       "      <th>13</th>\n",
       "      <td>-120.46</td>\n",
       "      <td>38.15</td>\n",
       "      <td>16.0000</td>\n",
       "      <td>4221</td>\n",
       "      <td>1516</td>\n",
       "      <td>23816.0</td>\n",
       "      <td>116000</td>\n",
       "      <td>INLAND</td>\n",
       "    </tr>\n",
       "    <tr>\n",
       "      <th>14</th>\n",
       "      <td>-120.55</td>\n",
       "      <td>38.12</td>\n",
       "      <td>10.0000</td>\n",
       "      <td>1566</td>\n",
       "      <td>785</td>\n",
       "      <td>25000.0</td>\n",
       "      <td>116100</td>\n",
       "      <td>INLAND</td>\n",
       "    </tr>\n",
       "    <tr>\n",
       "      <th>15</th>\n",
       "      <td>-120.56</td>\n",
       "      <td>38.09</td>\n",
       "      <td>34.0000</td>\n",
       "      <td>2745</td>\n",
       "      <td>1150</td>\n",
       "      <td>23654.0</td>\n",
       "      <td>94900</td>\n",
       "      <td>INLAND</td>\n",
       "    </tr>\n",
       "    <tr>\n",
       "      <th>16</th>\n",
       "      <td>-124.23</td>\n",
       "      <td>41.75</td>\n",
       "      <td>11.0000</td>\n",
       "      <td>3159</td>\n",
       "      <td>1343</td>\n",
       "      <td>24805.0</td>\n",
       "      <td>73200</td>\n",
       "      <td>NEAR OCEAN</td>\n",
       "    </tr>\n",
       "    <tr>\n",
       "      <th>17</th>\n",
       "      <td>-124.21</td>\n",
       "      <td>41.77</td>\n",
       "      <td>17.0000</td>\n",
       "      <td>3461</td>\n",
       "      <td>1947</td>\n",
       "      <td>25795.0</td>\n",
       "      <td>68400</td>\n",
       "      <td>NEAR O</td>\n",
       "    </tr>\n",
       "    <tr>\n",
       "      <th>18</th>\n",
       "      <td>-124.19</td>\n",
       "      <td>41.78</td>\n",
       "      <td>15.0000</td>\n",
       "      <td>3140</td>\n",
       "      <td>1645</td>\n",
       "      <td>16654.0</td>\n",
       "      <td>74600</td>\n",
       "      <td>NEAR O</td>\n",
       "    </tr>\n",
       "    <tr>\n",
       "      <th>19</th>\n",
       "      <td>-124.16</td>\n",
       "      <td>41.74</td>\n",
       "      <td>15.0000</td>\n",
       "      <td>2715</td>\n",
       "      <td>1532</td>\n",
       "      <td>21829.0</td>\n",
       "      <td>69500</td>\n",
       "      <td>NEAR OCEAN</td>\n",
       "    </tr>\n",
       "    <tr>\n",
       "      <th>21</th>\n",
       "      <td>-124.16</td>\n",
       "      <td>41.92</td>\n",
       "      <td>19.0000</td>\n",
       "      <td>1668</td>\n",
       "      <td>841</td>\n",
       "      <td>21336.0</td>\n",
       "      <td>75000</td>\n",
       "      <td>NEAR OCEAN</td>\n",
       "    </tr>\n",
       "    <tr>\n",
       "      <th>22</th>\n",
       "      <td>-118.32</td>\n",
       "      <td>33.35</td>\n",
       "      <td>27.0000</td>\n",
       "      <td>1675</td>\n",
       "      <td>744</td>\n",
       "      <td>21579.0</td>\n",
       "      <td>450000</td>\n",
       "      <td>ISLAND</td>\n",
       "    </tr>\n",
       "    <tr>\n",
       "      <th>23</th>\n",
       "      <td>-118.33</td>\n",
       "      <td>33.34</td>\n",
       "      <td>52.0000</td>\n",
       "      <td>2359</td>\n",
       "      <td>1100</td>\n",
       "      <td>28333.0</td>\n",
       "      <td>414700</td>\n",
       "      <td>ISLAND</td>\n",
       "    </tr>\n",
       "    <tr>\n",
       "      <th>24</th>\n",
       "      <td>-118.32</td>\n",
       "      <td>33.33</td>\n",
       "      <td>52.0000</td>\n",
       "      <td>2127</td>\n",
       "      <td>733</td>\n",
       "      <td>33906.0</td>\n",
       "      <td>300000</td>\n",
       "      <td>ISLAND</td>\n",
       "    </tr>\n",
       "    <tr>\n",
       "      <th>25</th>\n",
       "      <td>-118.32</td>\n",
       "      <td>33.34</td>\n",
       "      <td>52.0000</td>\n",
       "      <td>996</td>\n",
       "      <td>341</td>\n",
       "      <td>27361.0</td>\n",
       "      <td>450000</td>\n",
       "      <td>ISLAND</td>\n",
       "    </tr>\n",
       "    <tr>\n",
       "      <th>26</th>\n",
       "      <td>-118.48</td>\n",
       "      <td>33.43</td>\n",
       "      <td>29.0000</td>\n",
       "      <td>716</td>\n",
       "      <td>422</td>\n",
       "      <td>26042.0</td>\n",
       "      <td>287500</td>\n",
       "      <td>ISLAND</td>\n",
       "    </tr>\n",
       "  </tbody>\n",
       "</table>\n",
       "</div>"
      ],
      "text/plain": [
       "    longitude  latitude  housing_median_age  total_rooms  population  \\\n",
       "0     -122.23     37.88             41.0000          880         322   \n",
       "2     -122.22     37.86             21.0000         7099        2401   \n",
       "3     -122.25     37.84             52.0001         3104        1157   \n",
       "4     -122.26     37.85             52.0000         3503        1504   \n",
       "5     -121.65     39.32             40.0000          812         374   \n",
       "6     -121.69     39.36             29.0000         2220        1170   \n",
       "7     -121.70     39.37             32.0000         1852         911   \n",
       "8     -121.70     39.36             46.0000         1210         523   \n",
       "9     -121.70     39.36             37.0000         2330        1505   \n",
       "10    -121.69     39.36             34.0000          842         635   \n",
       "12    -121.80     39.33             30.0000         1019         501   \n",
       "13    -120.46     38.15             16.0000         4221        1516   \n",
       "14    -120.55     38.12             10.0000         1566         785   \n",
       "15    -120.56     38.09             34.0000         2745        1150   \n",
       "16    -124.23     41.75             11.0000         3159        1343   \n",
       "17    -124.21     41.77             17.0000         3461        1947   \n",
       "18    -124.19     41.78             15.0000         3140        1645   \n",
       "19    -124.16     41.74             15.0000         2715        1532   \n",
       "21    -124.16     41.92             19.0000         1668         841   \n",
       "22    -118.32     33.35             27.0000         1675         744   \n",
       "23    -118.33     33.34             52.0000         2359        1100   \n",
       "24    -118.32     33.33             52.0000         2127         733   \n",
       "25    -118.32     33.34             52.0000          996         341   \n",
       "26    -118.48     33.43             29.0000          716         422   \n",
       "\n",
       "    median_income  median_house_value ocean_proximity  \n",
       "0         83252.0              452600        NEAR BAY  \n",
       "2         83014.0              358500        NEAR BAY  \n",
       "3         31200.0              241400        NEAR BAY  \n",
       "4         32705.0              241800        NEAR BAY  \n",
       "5         27891.0               73500          INLAND  \n",
       "6         23224.0               56200          INLAND  \n",
       "7         17885.0               57000          INLAND  \n",
       "8         19100.0               63900          INLAND  \n",
       "9         20474.0               56000          INLAND  \n",
       "10        18355.0               63000          INLAND  \n",
       "12        25259.0               81300          INLAND  \n",
       "13        23816.0              116000          INLAND  \n",
       "14        25000.0              116100          INLAND  \n",
       "15        23654.0               94900          INLAND  \n",
       "16        24805.0               73200      NEAR OCEAN  \n",
       "17        25795.0               68400          NEAR O  \n",
       "18        16654.0               74600          NEAR O  \n",
       "19        21829.0               69500      NEAR OCEAN  \n",
       "21        21336.0               75000      NEAR OCEAN  \n",
       "22        21579.0              450000          ISLAND  \n",
       "23        28333.0              414700          ISLAND  \n",
       "24        33906.0              300000          ISLAND  \n",
       "25        27361.0              450000          ISLAND  \n",
       "26        26042.0              287500          ISLAND  "
      ]
     },
     "execution_count": 18,
     "metadata": {},
     "output_type": "execute_result"
    }
   ],
   "source": [
    "data # visulize entire dataframe"
   ]
  },
  {
   "cell_type": "markdown",
   "metadata": {},
   "source": [
    "# Task 2:"
   ]
  },
  {
   "cell_type": "markdown",
   "metadata": {},
   "source": [
    "### Part:1"
   ]
  },
  {
   "cell_type": "code",
   "execution_count": 19,
   "metadata": {},
   "outputs": [],
   "source": [
    "array = np.random.random_integers(size = (5,10), low = 0, high = 9) # uniform "
   ]
  },
  {
   "cell_type": "code",
   "execution_count": 20,
   "metadata": {},
   "outputs": [
    {
     "data": {
      "text/plain": [
       "array([[3, 0, 2, 5, 0, 1, 1, 8, 5, 8],\n",
       "       [6, 3, 6, 3, 6, 1, 1, 4, 2, 7],\n",
       "       [7, 8, 1, 6, 0, 2, 8, 8, 3, 8],\n",
       "       [3, 9, 8, 0, 4, 5, 0, 7, 1, 1],\n",
       "       [4, 8, 1, 4, 2, 9, 6, 3, 3, 4]])"
      ]
     },
     "execution_count": 20,
     "metadata": {},
     "output_type": "execute_result"
    }
   ],
   "source": [
    "array"
   ]
  },
  {
   "cell_type": "code",
   "execution_count": 21,
   "metadata": {},
   "outputs": [],
   "source": [
    "df = pd.DataFrame(array, columns = ['0','1','2','3','4','5','6','7','8','9']) # Convert two dimensional array to table"
   ]
  },
  {
   "cell_type": "code",
   "execution_count": 22,
   "metadata": {},
   "outputs": [
    {
     "data": {
      "text/html": [
       "<div>\n",
       "<style scoped>\n",
       "    .dataframe tbody tr th:only-of-type {\n",
       "        vertical-align: middle;\n",
       "    }\n",
       "\n",
       "    .dataframe tbody tr th {\n",
       "        vertical-align: top;\n",
       "    }\n",
       "\n",
       "    .dataframe thead th {\n",
       "        text-align: right;\n",
       "    }\n",
       "</style>\n",
       "<table border=\"1\" class=\"dataframe\">\n",
       "  <thead>\n",
       "    <tr style=\"text-align: right;\">\n",
       "      <th></th>\n",
       "      <th>0</th>\n",
       "      <th>1</th>\n",
       "      <th>2</th>\n",
       "      <th>3</th>\n",
       "      <th>4</th>\n",
       "      <th>5</th>\n",
       "      <th>6</th>\n",
       "      <th>7</th>\n",
       "      <th>8</th>\n",
       "      <th>9</th>\n",
       "    </tr>\n",
       "  </thead>\n",
       "  <tbody>\n",
       "    <tr>\n",
       "      <th>0</th>\n",
       "      <td>3</td>\n",
       "      <td>0</td>\n",
       "      <td>2</td>\n",
       "      <td>5</td>\n",
       "      <td>0</td>\n",
       "      <td>1</td>\n",
       "      <td>1</td>\n",
       "      <td>8</td>\n",
       "      <td>5</td>\n",
       "      <td>8</td>\n",
       "    </tr>\n",
       "    <tr>\n",
       "      <th>1</th>\n",
       "      <td>6</td>\n",
       "      <td>3</td>\n",
       "      <td>6</td>\n",
       "      <td>3</td>\n",
       "      <td>6</td>\n",
       "      <td>1</td>\n",
       "      <td>1</td>\n",
       "      <td>4</td>\n",
       "      <td>2</td>\n",
       "      <td>7</td>\n",
       "    </tr>\n",
       "    <tr>\n",
       "      <th>2</th>\n",
       "      <td>7</td>\n",
       "      <td>8</td>\n",
       "      <td>1</td>\n",
       "      <td>6</td>\n",
       "      <td>0</td>\n",
       "      <td>2</td>\n",
       "      <td>8</td>\n",
       "      <td>8</td>\n",
       "      <td>3</td>\n",
       "      <td>8</td>\n",
       "    </tr>\n",
       "    <tr>\n",
       "      <th>3</th>\n",
       "      <td>3</td>\n",
       "      <td>9</td>\n",
       "      <td>8</td>\n",
       "      <td>0</td>\n",
       "      <td>4</td>\n",
       "      <td>5</td>\n",
       "      <td>0</td>\n",
       "      <td>7</td>\n",
       "      <td>1</td>\n",
       "      <td>1</td>\n",
       "    </tr>\n",
       "    <tr>\n",
       "      <th>4</th>\n",
       "      <td>4</td>\n",
       "      <td>8</td>\n",
       "      <td>1</td>\n",
       "      <td>4</td>\n",
       "      <td>2</td>\n",
       "      <td>9</td>\n",
       "      <td>6</td>\n",
       "      <td>3</td>\n",
       "      <td>3</td>\n",
       "      <td>4</td>\n",
       "    </tr>\n",
       "  </tbody>\n",
       "</table>\n",
       "</div>"
      ],
      "text/plain": [
       "   0  1  2  3  4  5  6  7  8  9\n",
       "0  3  0  2  5  0  1  1  8  5  8\n",
       "1  6  3  6  3  6  1  1  4  2  7\n",
       "2  7  8  1  6  0  2  8  8  3  8\n",
       "3  3  9  8  0  4  5  0  7  1  1\n",
       "4  4  8  1  4  2  9  6  3  3  4"
      ]
     },
     "execution_count": 22,
     "metadata": {},
     "output_type": "execute_result"
    }
   ],
   "source": [
    "df"
   ]
  },
  {
   "cell_type": "code",
   "execution_count": 23,
   "metadata": {},
   "outputs": [
    {
     "data": {
      "image/png": "[encoded data removed]",
      "text/plain": [
       "<Figure size 432x288 with 1 Axes>"
      ]
     },
     "metadata": {
      "needs_background": "light"
     },
     "output_type": "display_data"
    }
   ],
   "source": [
    "plt.plot(df['0'], label = '1st column')\n",
    "plt.plot(df['1'], label = '2nd column')\n",
    "plt.title('Uniformaly distributed first two column')\n",
    "plt.legend()\n",
    "plt.show()"
   ]
  },
  {
   "cell_type": "markdown",
   "metadata": {},
   "source": [
    "### Part 2:"
   ]
  },
  {
   "cell_type": "code",
   "execution_count": 24,
   "metadata": {},
   "outputs": [
    {
     "data": {
      "text/html": [
       "<div>\n",
       "<style scoped>\n",
       "    .dataframe tbody tr th:only-of-type {\n",
       "        vertical-align: middle;\n",
       "    }\n",
       "\n",
       "    .dataframe tbody tr th {\n",
       "        vertical-align: top;\n",
       "    }\n",
       "\n",
       "    .dataframe thead th {\n",
       "        text-align: right;\n",
       "    }\n",
       "</style>\n",
       "<table border=\"1\" class=\"dataframe\">\n",
       "  <thead>\n",
       "    <tr style=\"text-align: right;\">\n",
       "      <th></th>\n",
       "      <th>0</th>\n",
       "      <th>1</th>\n",
       "      <th>2</th>\n",
       "      <th>3</th>\n",
       "      <th>4</th>\n",
       "      <th>5</th>\n",
       "      <th>6</th>\n",
       "      <th>7</th>\n",
       "      <th>8</th>\n",
       "      <th>9</th>\n",
       "    </tr>\n",
       "  </thead>\n",
       "  <tbody>\n",
       "    <tr>\n",
       "      <th>count</th>\n",
       "      <td>5.00000</td>\n",
       "      <td>5.000000</td>\n",
       "      <td>5.000000</td>\n",
       "      <td>5.000000</td>\n",
       "      <td>5.000000</td>\n",
       "      <td>5.000000</td>\n",
       "      <td>5.000000</td>\n",
       "      <td>5.000000</td>\n",
       "      <td>5.00000</td>\n",
       "      <td>5.00000</td>\n",
       "    </tr>\n",
       "    <tr>\n",
       "      <th>mean</th>\n",
       "      <td>4.60000</td>\n",
       "      <td>5.600000</td>\n",
       "      <td>3.600000</td>\n",
       "      <td>3.600000</td>\n",
       "      <td>2.400000</td>\n",
       "      <td>3.600000</td>\n",
       "      <td>3.200000</td>\n",
       "      <td>6.000000</td>\n",
       "      <td>2.80000</td>\n",
       "      <td>5.60000</td>\n",
       "    </tr>\n",
       "    <tr>\n",
       "      <th>std</th>\n",
       "      <td>1.81659</td>\n",
       "      <td>3.911521</td>\n",
       "      <td>3.209361</td>\n",
       "      <td>2.302173</td>\n",
       "      <td>2.607681</td>\n",
       "      <td>3.435113</td>\n",
       "      <td>3.563706</td>\n",
       "      <td>2.345208</td>\n",
       "      <td>1.48324</td>\n",
       "      <td>3.04959</td>\n",
       "    </tr>\n",
       "    <tr>\n",
       "      <th>min</th>\n",
       "      <td>3.00000</td>\n",
       "      <td>0.000000</td>\n",
       "      <td>1.000000</td>\n",
       "      <td>0.000000</td>\n",
       "      <td>0.000000</td>\n",
       "      <td>1.000000</td>\n",
       "      <td>0.000000</td>\n",
       "      <td>3.000000</td>\n",
       "      <td>1.00000</td>\n",
       "      <td>1.00000</td>\n",
       "    </tr>\n",
       "    <tr>\n",
       "      <th>25%</th>\n",
       "      <td>3.00000</td>\n",
       "      <td>3.000000</td>\n",
       "      <td>1.000000</td>\n",
       "      <td>3.000000</td>\n",
       "      <td>0.000000</td>\n",
       "      <td>1.000000</td>\n",
       "      <td>1.000000</td>\n",
       "      <td>4.000000</td>\n",
       "      <td>2.00000</td>\n",
       "      <td>4.00000</td>\n",
       "    </tr>\n",
       "    <tr>\n",
       "      <th>50%</th>\n",
       "      <td>4.00000</td>\n",
       "      <td>8.000000</td>\n",
       "      <td>2.000000</td>\n",
       "      <td>4.000000</td>\n",
       "      <td>2.000000</td>\n",
       "      <td>2.000000</td>\n",
       "      <td>1.000000</td>\n",
       "      <td>7.000000</td>\n",
       "      <td>3.00000</td>\n",
       "      <td>7.00000</td>\n",
       "    </tr>\n",
       "    <tr>\n",
       "      <th>75%</th>\n",
       "      <td>6.00000</td>\n",
       "      <td>8.000000</td>\n",
       "      <td>6.000000</td>\n",
       "      <td>5.000000</td>\n",
       "      <td>4.000000</td>\n",
       "      <td>5.000000</td>\n",
       "      <td>6.000000</td>\n",
       "      <td>8.000000</td>\n",
       "      <td>3.00000</td>\n",
       "      <td>8.00000</td>\n",
       "    </tr>\n",
       "    <tr>\n",
       "      <th>max</th>\n",
       "      <td>7.00000</td>\n",
       "      <td>9.000000</td>\n",
       "      <td>8.000000</td>\n",
       "      <td>6.000000</td>\n",
       "      <td>6.000000</td>\n",
       "      <td>9.000000</td>\n",
       "      <td>8.000000</td>\n",
       "      <td>8.000000</td>\n",
       "      <td>5.00000</td>\n",
       "      <td>8.00000</td>\n",
       "    </tr>\n",
       "  </tbody>\n",
       "</table>\n",
       "</div>"
      ],
      "text/plain": [
       "             0         1         2         3         4         5         6  \\\n",
       "count  5.00000  5.000000  5.000000  5.000000  5.000000  5.000000  5.000000   \n",
       "mean   4.60000  5.600000  3.600000  3.600000  2.400000  3.600000  3.200000   \n",
       "std    1.81659  3.911521  3.209361  2.302173  2.607681  3.435113  3.563706   \n",
       "min    3.00000  0.000000  1.000000  0.000000  0.000000  1.000000  0.000000   \n",
       "25%    3.00000  3.000000  1.000000  3.000000  0.000000  1.000000  1.000000   \n",
       "50%    4.00000  8.000000  2.000000  4.000000  2.000000  2.000000  1.000000   \n",
       "75%    6.00000  8.000000  6.000000  5.000000  4.000000  5.000000  6.000000   \n",
       "max    7.00000  9.000000  8.000000  6.000000  6.000000  9.000000  8.000000   \n",
       "\n",
       "              7        8        9  \n",
       "count  5.000000  5.00000  5.00000  \n",
       "mean   6.000000  2.80000  5.60000  \n",
       "std    2.345208  1.48324  3.04959  \n",
       "min    3.000000  1.00000  1.00000  \n",
       "25%    4.000000  2.00000  4.00000  \n",
       "50%    7.000000  3.00000  7.00000  \n",
       "75%    8.000000  3.00000  8.00000  \n",
       "max    8.000000  5.00000  8.00000  "
      ]
     },
     "execution_count": 24,
     "metadata": {},
     "output_type": "execute_result"
    }
   ],
   "source": [
    "# Using describe() function we can visulize mean, median and Standard deviation of each individual row.\n",
    "df.describe()"
   ]
  },
  {
   "cell_type": "markdown",
   "metadata": {},
   "source": [
    "### Part 3:"
   ]
  },
  {
   "cell_type": "code",
   "execution_count": 25,
   "metadata": {},
   "outputs": [],
   "source": [
    "# Nprmal distributed one-dimensional array who have mean value 1 and standard deviation 0.2.  \n",
    "array_1d = np.random.normal(loc=17, scale=0.2, size=1000) "
   ]
  },
  {
   "cell_type": "code",
   "execution_count": 26,
   "metadata": {},
   "outputs": [
    {
     "data": {
      "text/plain": [
       "array([17.17076418, 16.74111127, 16.81426696, 17.08279351, 16.66122824,\n",
       "       17.06447723, 17.31667629, 16.98435707, 17.05933451, 17.17327374,\n",
       "       17.06846078, 16.84994258, 17.23841079, 16.83959598, 17.13829611,\n",
       "       17.28221005, 17.18784383, 17.3403901 , 16.7947904 , 16.92132701,\n",
       "       17.00309062, 17.0591906 , 17.42761427, 16.80790081, 17.26665912,\n",
       "       17.08813867, 17.17063283, 16.60000569, 17.15494684, 17.14352697,\n",
       "       17.12316274, 17.14380246, 16.72133257, 17.41198061, 17.11510433,\n",
       "       16.87954203, 16.98660946, 16.86777581, 16.89614258, 16.42414748,\n",
       "       16.89515575, 17.05174086, 17.68874727, 16.97812711, 17.26362759,\n",
       "       16.8694563 , 17.49639014, 16.97203766, 16.59458697, 17.14422768,\n",
       "       17.03929409, 17.15108637, 17.05072079, 16.81548858, 16.74765724,\n",
       "       17.23491602, 17.06153786, 16.83457201, 16.96293186, 16.64342286,\n",
       "       17.20147546, 17.11155514, 16.87561604, 16.8925979 , 17.03803648,\n",
       "       16.99580944, 16.70618336, 17.27561001, 17.34200548, 17.17408025,\n",
       "       16.97261788, 17.115678  , 16.96533135, 17.14164619, 17.19164531,\n",
       "       17.26364237, 17.12749236, 17.01070555, 17.03184445, 16.93382884,\n",
       "       17.22440606, 16.8542535 , 17.39699011, 17.14647076, 16.86956811,\n",
       "       17.47060319, 16.80770993, 16.82907449, 16.58523989, 17.22849662,\n",
       "       16.95264185, 16.8650422 , 16.98266218, 16.88047511, 16.87041442,\n",
       "       16.97604558, 17.00828278, 17.05520161, 17.31393145, 17.15147794,\n",
       "       16.75783643, 17.38694032, 17.06788532, 16.77720545, 17.08283946,\n",
       "       17.03874773, 17.04191369, 16.97244662, 16.9628537 , 16.85662464,\n",
       "       16.74310279, 16.76697081, 16.72316375, 16.51774283, 17.24689527,\n",
       "       17.10222025, 17.10656522, 16.84944276, 16.75682192, 16.76036477,\n",
       "       16.91801917, 17.20280634, 17.05246661, 16.94182144, 17.08053674,\n",
       "       17.08586063, 17.29235464, 17.4438381 , 17.10079085, 17.0262247 ,\n",
       "       16.67257296, 16.5600678 , 17.31249063, 16.81340357, 16.61480862,\n",
       "       16.89554193, 16.86071941, 17.00682061, 17.10041228, 17.05105067,\n",
       "       16.71498562, 17.05511708, 17.04628626, 16.97138239, 16.95116019,\n",
       "       17.11803611, 17.07848071, 17.10835322, 16.81518456, 16.84862946,\n",
       "       16.79131548, 16.93624105, 17.00716098, 16.77904768, 17.33530018,\n",
       "       16.88306839, 17.06260353, 17.20919931, 17.36889537, 17.06836541,\n",
       "       17.12716708, 17.05174879, 17.0477128 , 17.14682306, 16.9866873 ,\n",
       "       17.1730897 , 16.68865948, 16.89491018, 16.71358647, 16.82420002,\n",
       "       17.27065937, 17.15006005, 16.81309557, 17.17922869, 17.10468998,\n",
       "       17.10387854, 17.21304201, 16.74831233, 17.13874914, 16.5924961 ,\n",
       "       17.14855003, 17.09986501, 17.10812558, 17.13712903, 16.72716098,\n",
       "       16.84841322, 16.8087941 , 17.01061529, 17.13388572, 16.86789833,\n",
       "       16.91680982, 16.7438619 , 17.18043823, 16.8806913 , 17.13522059,\n",
       "       17.06656766, 17.20527694, 17.01153282, 16.85069666, 17.177391  ,\n",
       "       17.12556741, 17.15895168, 17.31155507, 16.94908901, 16.63953996,\n",
       "       17.12046318, 16.8966014 , 17.09715529, 17.2174941 , 17.16593371,\n",
       "       17.45946721, 17.01691559, 16.86353983, 16.61943054, 16.93805731,\n",
       "       16.92616563, 16.95799052, 16.91066876, 17.0124297 , 17.0372806 ,\n",
       "       16.86296197, 16.87375067, 17.07614535, 16.91157268, 16.92998768,\n",
       "       16.84312036, 17.20032408, 16.99264136, 17.27668864, 17.02462182,\n",
       "       17.05399059, 17.1263591 , 17.15182329, 17.01949957, 16.74231167,\n",
       "       16.88957119, 16.72805071, 16.99866284, 16.64549713, 17.12477982,\n",
       "       17.48173805, 17.15661813, 16.9009118 , 16.96825174, 16.97037856,\n",
       "       17.33537247, 17.17124191, 17.14088234, 17.01894688, 17.1147056 ,\n",
       "       16.90899394, 17.03983574, 17.3091985 , 16.92664249, 16.88402246,\n",
       "       17.07075827, 16.86265131, 17.36204269, 17.09507361, 16.65731169,\n",
       "       17.10821127, 17.23368758, 17.04085464, 16.86052581, 17.10077827,\n",
       "       16.66235148, 16.94411259, 17.20369127, 16.93321898, 17.03526956,\n",
       "       16.84264253, 16.70609968, 17.01560223, 16.95073272, 16.88460236,\n",
       "       16.98162924, 17.03494595, 16.97252395, 17.28004833, 16.92285668,\n",
       "       17.28286303, 17.20309551, 16.94025203, 16.7860552 , 17.35992569,\n",
       "       17.09116496, 17.06578969, 17.38409996, 16.99956746, 16.80088878,\n",
       "       16.64819037, 16.97441536, 16.54701891, 17.05393407, 17.46474251,\n",
       "       17.14930824, 17.06973729, 16.7830432 , 17.24065853, 16.96353156,\n",
       "       16.95279738, 17.42549106, 17.21198846, 16.79718323, 17.26455345,\n",
       "       17.0852082 , 16.69512725, 16.9233852 , 16.98823128, 17.08147348,\n",
       "       16.99034535, 16.87865195, 17.02535713, 16.96741009, 17.35346074,\n",
       "       17.12395459, 16.86129383, 16.99521595, 17.00095479, 17.41127269,\n",
       "       16.62899645, 16.76435327, 17.21096537, 17.00358706, 16.91475586,\n",
       "       17.07181783, 17.02258651, 17.09056047, 17.34543545, 16.93486299,\n",
       "       17.06177971, 17.09900819, 17.07038849, 16.89233918, 16.92308189,\n",
       "       16.57623894, 16.83274002, 17.36608095, 17.00872041, 16.85593327,\n",
       "       17.00926951, 17.11378371, 17.08965694, 16.66104613, 17.13027798,\n",
       "       17.17581764, 16.89057921, 17.09605468, 16.60176738, 17.40129699,\n",
       "       17.03944071, 17.00792348, 17.13027903, 16.84131793, 16.8754454 ,\n",
       "       16.50897705, 16.9280097 , 16.97585779, 17.20752393, 17.16555248,\n",
       "       17.08576189, 17.2091637 , 16.87071091, 16.86041857, 16.89369283,\n",
       "       16.80483325, 16.99519211, 17.21270407, 17.10891032, 16.83221768,\n",
       "       16.96970809, 16.99249723, 16.68591517, 17.05559715, 16.85583282,\n",
       "       16.93345707, 17.10653404, 16.9408827 , 17.43556683, 17.09092412,\n",
       "       17.28724176, 16.8395642 , 17.15422626, 17.03196143, 17.15597856,\n",
       "       17.19940116, 16.58567031, 16.73166236, 17.09837077, 17.15728274,\n",
       "       17.08196157, 17.21813732, 17.34194439, 16.95262982, 17.01639487,\n",
       "       16.83350001, 16.7278891 , 16.97751077, 16.99570491, 16.76300915,\n",
       "       17.2608439 , 16.74735451, 17.27179551, 17.26891047, 17.32523799,\n",
       "       16.81468543, 17.40920459, 17.2398417 , 17.44602194, 17.2366354 ,\n",
       "       16.87512804, 17.20358381, 17.16951227, 16.76807702, 17.36438257,\n",
       "       16.69639365, 16.80208827, 16.71519693, 16.99621409, 17.01668809,\n",
       "       17.02255244, 17.22977993, 17.03144083, 16.8999338 , 16.8692738 ,\n",
       "       16.66744049, 16.92935536, 16.97617592, 17.11156532, 17.08010776,\n",
       "       17.02631543, 16.98767193, 17.06942967, 17.00604873, 17.21329383,\n",
       "       17.36521615, 17.01472684, 17.05816351, 17.09059118, 16.96108332,\n",
       "       16.69133263, 16.76529916, 17.15319793, 17.08726795, 16.86598801,\n",
       "       16.63663222, 16.90151251, 17.04434899, 16.88145121, 16.93714425,\n",
       "       16.58959011, 16.86348939, 16.89663062, 16.60450523, 16.76339759,\n",
       "       17.38482443, 17.12723996, 16.99888496, 17.22240732, 16.96113903,\n",
       "       16.82116284, 17.23844907, 17.14312397, 16.97397321, 16.81635897,\n",
       "       16.82853498, 17.12300297, 17.29704345, 16.95416401, 16.85200855,\n",
       "       16.98687719, 17.0414899 , 17.04572534, 17.15843491, 16.98059779,\n",
       "       16.98731629, 17.26692662, 16.85386487, 16.83810289, 17.07649668,\n",
       "       16.94485234, 17.25832935, 17.02750258, 17.38324998, 17.51429264,\n",
       "       16.85134954, 16.80364992, 17.30177707, 16.90393805, 17.15793892,\n",
       "       17.0513584 , 17.20583169, 16.80266665, 16.57104752, 17.07129494,\n",
       "       17.18121049, 17.02037026, 17.2308346 , 16.78458435, 17.13458697,\n",
       "       17.08366491, 16.89191176, 17.13795883, 17.15539137, 17.50540467,\n",
       "       16.92167318, 17.12036016, 16.73975831, 17.5158508 , 17.12065785,\n",
       "       16.89629246, 17.07727512, 16.93728388, 16.93316468, 17.01323022,\n",
       "       17.40101804, 16.8485627 , 16.69547118, 17.13998752, 17.36954944,\n",
       "       17.01358211, 16.95101011, 17.04032415, 16.99835509, 16.52649291,\n",
       "       17.08309943, 17.05364752, 16.71671963, 17.08074062, 16.92541419,\n",
       "       17.2482879 , 16.7461718 , 16.93269459, 17.3362647 , 16.95036854,\n",
       "       16.84461906, 16.71162332, 17.13000423, 16.89373293, 16.65461836,\n",
       "       16.87050242, 17.1858414 , 16.86463524, 16.85561688, 16.74641071,\n",
       "       17.37772468, 17.09799724, 16.77923702, 17.12355851, 17.00824634,\n",
       "       17.56014439, 16.97394323, 16.96297718, 17.38808192, 17.20264765,\n",
       "       17.08642027, 17.04298245, 16.98363202, 16.88452938, 16.90492246,\n",
       "       17.12363975, 16.83371321, 16.76089057, 17.33872528, 17.16906056,\n",
       "       17.4192276 , 16.9358939 , 16.8173417 , 17.53364993, 17.04495623,\n",
       "       16.93767152, 16.90384851, 16.83327533, 16.99882373, 16.99226393,\n",
       "       17.34075166, 17.08555148, 16.56293644, 17.02812582, 17.21596154,\n",
       "       16.8097391 , 17.27767439, 16.59821437, 16.80449974, 16.93545232,\n",
       "       17.23088231, 16.75576326, 16.85992646, 16.85366397, 16.85798705,\n",
       "       17.18940457, 17.04838876, 17.15014542, 16.62205177, 17.17552273,\n",
       "       17.27982614, 17.12759783, 17.01271385, 16.72050679, 16.9476533 ,\n",
       "       17.21069246, 16.96434281, 17.14485868, 17.11872267, 16.69042606,\n",
       "       17.10385613, 16.8853866 , 17.13527488, 16.85928742, 16.70234923,\n",
       "       16.6447304 , 17.09403265, 17.07786033, 17.01701581, 16.9867086 ,\n",
       "       16.9048703 , 17.31160477, 17.43859851, 16.98121648, 16.59299819,\n",
       "       17.06245689, 17.04590319, 16.66089265, 16.90197831, 17.04472637,\n",
       "       16.672373  , 17.06268421, 17.2473975 , 16.7629532 , 17.18643325,\n",
       "       16.82158528, 17.02529274, 16.68473707, 16.86278504, 17.11098868,\n",
       "       17.13914817, 16.85623447, 16.95849537, 16.84581912, 17.04104726,\n",
       "       17.30496027, 17.01943929, 17.18498536, 16.93731514, 17.1043397 ,\n",
       "       16.91921929, 17.05800019, 17.00466384, 17.16535385, 17.11086668,\n",
       "       17.10540607, 16.94948036, 17.01208398, 16.93574603, 16.91416377,\n",
       "       16.94457841, 17.38176701, 17.0330115 , 16.94443779, 16.96289499,\n",
       "       16.92071534, 16.83263331, 16.93369241, 17.04514978, 16.76431868,\n",
       "       17.09658131, 17.04521709, 17.21940152, 17.31019142, 16.96907212,\n",
       "       17.00871075, 16.6322385 , 17.02333067, 17.1350568 , 16.8044976 ,\n",
       "       16.74375008, 16.87060158, 17.06067039, 16.96067095, 16.85072818,\n",
       "       17.03303982, 17.60957106, 17.27005493, 16.84621384, 16.92203954,\n",
       "       17.01558901, 16.96822707, 17.12107314, 17.07616798, 17.07610169,\n",
       "       17.25710879, 16.58434119, 17.06855068, 16.67381133, 17.2463411 ,\n",
       "       16.89417469, 17.12021559, 17.20884133, 17.32841685, 17.19367113,\n",
       "       17.09098936, 17.30322901, 16.99337665, 17.18191457, 17.22680452,\n",
       "       16.98255462, 17.27298392, 17.22353267, 16.87181224, 16.74498547,\n",
       "       16.99677956, 17.24362921, 17.05737823, 17.33897195, 17.02327149,\n",
       "       16.80004347, 17.18437193, 16.98531514, 17.14293059, 16.63886597,\n",
       "       16.68089922, 16.80450783, 16.63983245, 17.06830519, 17.00617023,\n",
       "       16.68153791, 17.23246542, 16.90702344, 17.16542874, 17.20276525,\n",
       "       17.04779037, 17.26230412, 16.95243614, 17.04686759, 16.9634908 ,\n",
       "       16.91546923, 16.94341844, 16.88523379, 17.30690548, 17.19907261,\n",
       "       16.99135096, 16.95883201, 16.83026269, 16.64528559, 16.81951446,\n",
       "       16.97612885, 17.23852107, 17.08574131, 17.15498243, 17.099309  ,\n",
       "       17.12051924, 16.83230774, 17.45245505, 17.46587441, 17.10168902,\n",
       "       16.84768385, 17.35639294, 16.54542658, 16.88743606, 16.62915135,\n",
       "       16.88465484, 17.43528129, 16.95153474, 16.90721579, 16.93029262,\n",
       "       16.94756626, 17.01841998, 17.33554156, 17.15299448, 17.11861946,\n",
       "       16.79606162, 16.85473798, 16.97902765, 17.14674642, 16.8558298 ,\n",
       "       17.06922354, 16.65487966, 17.20226107, 16.78542479, 16.92265865,\n",
       "       17.25429928, 17.03752508, 16.68415195, 17.17584895, 16.76553975,\n",
       "       16.67261573, 17.20415539, 17.45117264, 17.17740241, 17.14058305,\n",
       "       16.88189654, 17.42642099, 16.82519798, 16.83678174, 16.89011929,\n",
       "       17.13004253, 16.71449597, 17.0022879 , 16.83115562, 16.65714126,\n",
       "       17.27403737, 17.03129492, 16.53285158, 16.78067362, 16.75414548,\n",
       "       16.97791746, 16.97980287, 17.11619326, 17.17206701, 17.13150987,\n",
       "       16.90934101, 17.4892311 , 16.92530798, 17.08534182, 16.54032379,\n",
       "       16.97406693, 16.99036134, 17.05071011, 17.41192111, 17.03493944,\n",
       "       16.54150788, 16.84196134, 16.77264877, 16.76420505, 16.59900365,\n",
       "       16.91001708, 17.09118948, 17.25882541, 17.1073214 , 17.10881039,\n",
       "       17.10409057, 16.82216504, 17.10305855, 16.77402829, 17.11985473,\n",
       "       16.7744447 , 17.25850357, 17.14639893, 16.98827653, 16.97752037,\n",
       "       16.98741874, 17.10168591, 17.17201068, 16.93116445, 16.79475721,\n",
       "       17.04358787, 16.80959458, 17.22551806, 17.03131026, 16.92022154,\n",
       "       17.31635126, 16.97636158, 16.98874129, 17.0129142 , 16.82803905,\n",
       "       16.99252572, 17.08114694, 16.95568411, 16.93623963, 16.82673367,\n",
       "       17.24800412, 16.86026204, 17.14138536, 16.78897449, 17.24134514,\n",
       "       17.09147983, 17.08702216, 16.97356586, 17.05928633, 17.06625959,\n",
       "       17.15737789, 17.07886531, 17.10858678, 16.79360278, 17.16614908,\n",
       "       17.14355943, 16.84962447, 17.24517722, 16.79844006, 16.84518961,\n",
       "       16.76268377, 16.95374106, 16.88588996, 16.75061081, 16.72930385,\n",
       "       17.30667125, 16.94809197, 16.9239396 , 17.00655844, 17.00431914,\n",
       "       17.10930399, 17.03804875, 17.09714751, 16.92740677, 16.74139315,\n",
       "       17.21404199, 16.89164661, 17.22919529, 16.57390739, 16.6556331 ,\n",
       "       16.80311752, 17.04097723, 17.17058856, 16.95866904, 17.22682632,\n",
       "       17.28478013, 17.58207454, 16.96134532, 17.06176645, 16.81684957,\n",
       "       17.21635091, 17.0693474 , 16.98629388, 17.03501004, 16.51943173,\n",
       "       17.30983527, 17.53954999, 17.11293757, 17.21292623, 17.21884745,\n",
       "       16.86538248, 17.12802262, 16.5212259 , 17.26071491, 17.37093548,\n",
       "       16.90585965, 16.80962545, 16.83671059, 16.86642242, 17.18219986,\n",
       "       17.44068042, 16.97018667, 16.9770742 , 16.66495351, 17.14322124,\n",
       "       16.97672085, 17.25854023, 17.33430694, 16.97603894, 16.98712275,\n",
       "       16.7690315 , 17.01966866, 17.39815091, 16.66829588, 17.32425657,\n",
       "       17.23586857, 16.81401494, 16.74352805, 17.11172461, 17.05143295,\n",
       "       16.58260433, 17.07788473, 16.99508165, 16.91123485, 16.95861321,\n",
       "       17.20235756, 17.08279556, 17.05375945, 17.0717061 , 17.08174583,\n",
       "       17.12390579, 17.02376555, 16.78794635, 16.8649271 , 16.97124072,\n",
       "       17.01613253, 16.96165144, 17.09690141, 16.64654132, 16.93314683,\n",
       "       17.0526329 , 16.74685772, 17.07438973, 17.25490366, 16.65347658,\n",
       "       16.86788844, 16.98400279, 17.41623556, 16.77440052, 16.77852855,\n",
       "       17.14812903, 16.63790576, 17.10624086, 16.60546584, 17.02845489,\n",
       "       17.18453997, 16.85280825, 16.99678817, 17.0841844 , 16.84089325,\n",
       "       17.1249499 , 17.03705506, 16.75939266, 16.62610773, 17.13442257,\n",
       "       17.32797869, 17.12842169, 16.86929373, 17.33067558, 17.22119316])"
      ]
     },
     "execution_count": 26,
     "metadata": {},
     "output_type": "execute_result"
    }
   ],
   "source": [
    "array_1d"
   ]
  },
  {
   "cell_type": "markdown",
   "metadata": {},
   "source": [
    "### Part 4:"
   ]
  },
  {
   "cell_type": "code",
   "execution_count": 27,
   "metadata": {},
   "outputs": [
    {
     "data": {
      "text/plain": [
       "17.68874726843864"
      ]
     },
     "execution_count": 27,
     "metadata": {},
     "output_type": "execute_result"
    }
   ],
   "source": [
    "min(array_1d) # Minimum value\n",
    "max(array_1d) # maximum value"
   ]
  },
  {
   "cell_type": "code",
   "execution_count": 28,
   "metadata": {},
   "outputs": [
    {
     "data": {
      "text/plain": [
       "1.2645997866075547"
      ]
     },
     "execution_count": 28,
     "metadata": {},
     "output_type": "execute_result"
    }
   ],
   "source": [
    "range_  = max(array_1d) - min(array_1d)\n",
    "range_ # Range."
   ]
  },
  {
   "cell_type": "markdown",
   "metadata": {},
   "source": [
    "### Part 5:"
   ]
  },
  {
   "cell_type": "code",
   "execution_count": 29,
   "metadata": {},
   "outputs": [
    {
     "data": {
      "image/png": "[encoded data removed]",
      "text/plain": [
       "<Figure size 432x288 with 1 Axes>"
      ]
     },
     "metadata": {
      "needs_background": "light"
     },
     "output_type": "display_data"
    },
    {
     "data": {
      "image/png": "[encoded data removed]",
      "text/plain": [
       "<Figure size 432x288 with 1 Axes>"
      ]
     },
     "metadata": {
      "needs_background": "light"
     },
     "output_type": "display_data"
    },
    {
     "data": {
      "image/png": "[encoded data removed]",
      "text/plain": [
       "<Figure size 432x288 with 1 Axes>"
      ]
     },
     "metadata": {
      "needs_background": "light"
     },
     "output_type": "display_data"
    },
    {
     "data": {
      "image/png": "[encoded data removed]",
      "text/plain": [
       "<Figure size 432x288 with 1 Axes>"
      ]
     },
     "metadata": {
      "needs_background": "light"
     },
     "output_type": "display_data"
    },
    {
     "data": {
      "image/png": "[encoded data removed]",
      "text/plain": [
       "<Figure size 432x288 with 1 Axes>"
      ]
     },
     "metadata": {
      "needs_background": "light"
     },
     "output_type": "display_data"
    },
    {
     "data": {
      "image/png": "[encoded data removed]",
      "text/plain": [
       "<Figure size 432x288 with 1 Axes>"
      ]
     },
     "metadata": {
      "needs_background": "light"
     },
     "output_type": "display_data"
    },
    {
     "data": {
      "image/png": "[encoded data removed]",
      "text/plain": [
       "<Figure size 432x288 with 1 Axes>"
      ]
     },
     "metadata": {
      "needs_background": "light"
     },
     "output_type": "display_data"
    },
    {
     "data": {
      "image/png": "[encoded data removed]",
      "text/plain": [
       "<Figure size 432x288 with 1 Axes>"
      ]
     },
     "metadata": {
      "needs_background": "light"
     },
     "output_type": "display_data"
    },
    {
     "data": {
      "image/png": "[encoded data removed]",
      "text/plain": [
       "<Figure size 432x288 with 1 Axes>"
      ]
     },
     "metadata": {
      "needs_background": "light"
     },
     "output_type": "display_data"
    },
    {
     "data": {
      "image/png": "[encoded data removed]",
      "text/plain": [
       "<Figure size 432x288 with 1 Axes>"
      ]
     },
     "metadata": {
      "needs_background": "light"
     },
     "output_type": "display_data"
    }
   ],
   "source": [
    "# Plotting histogram of all column of dataset with 10 bins\n",
    "for i, col in enumerate(df.columns):\n",
    "    plt.figure(i)\n",
    "    plt.hist(df[col], bins = 10)"
   ]
  },
  {
   "cell_type": "code",
   "execution_count": 1,
   "metadata": {},
   "outputs": [
    {
     "ename": "NameError",
     "evalue": "name 'sns' is not defined",
     "output_type": "error",
     "traceback": [
      "\u001b[1;31m---------------------------------------------------------------------------\u001b[0m",
      "\u001b[1;31mNameError\u001b[0m                                 Traceback (most recent call last)",
      "\u001b[1;32m<ipython-input-1-8fd076cdbffa>\u001b[0m in \u001b[0;36m<module>\u001b[1;34m\u001b[0m\n\u001b[0;32m      1\u001b[0m \u001b[1;31m# Visualise the probability density function\u001b[0m\u001b[1;33m\u001b[0m\u001b[1;33m\u001b[0m\u001b[1;33m\u001b[0m\u001b[0m\n\u001b[1;32m----> 2\u001b[1;33m ax = sns.distplot(df,\n\u001b[0m\u001b[0;32m      3\u001b[0m                   \u001b[0mbins\u001b[0m\u001b[1;33m=\u001b[0m\u001b[1;36m10\u001b[0m\u001b[1;33m,\u001b[0m\u001b[1;33m\u001b[0m\u001b[1;33m\u001b[0m\u001b[0m\n\u001b[0;32m      4\u001b[0m                   \u001b[0mkde\u001b[0m\u001b[1;33m=\u001b[0m\u001b[1;32mTrue\u001b[0m\u001b[1;33m,\u001b[0m\u001b[1;33m\u001b[0m\u001b[1;33m\u001b[0m\u001b[0m\n\u001b[0;32m      5\u001b[0m                   \u001b[0mcolor\u001b[0m\u001b[1;33m=\u001b[0m\u001b[1;34m'skyblue'\u001b[0m\u001b[1;33m,\u001b[0m\u001b[1;33m\u001b[0m\u001b[1;33m\u001b[0m\u001b[0m\n",
      "\u001b[1;31mNameError\u001b[0m: name 'sns' is not defined"
     ]
    }
   ],
   "source": [
    "# Visualise the probability density function\n",
    "ax = sns.distplot(df,\n",
    "                  bins=10,\n",
    "                  kde=True,\n",
    "                  color='skyblue',\n",
    "                  hist_kws={\"linewidth\": 15,'alpha':1})\n",
    "ax.set(xlabel='Normal Distribution', ylabel='Frequency');"
   ]
  },
  {
   "cell_type": "markdown",
   "metadata": {},
   "source": [
    "# Part: 3"
   ]
  },
  {
   "cell_type": "markdown",
   "metadata": {},
   "source": [
    "### Task 1:"
   ]
  },
  {
   "cell_type": "code",
   "execution_count": 31,
   "metadata": {},
   "outputs": [
    {
     "data": {
      "text/plain": [
       "matrix([[2, 5, 1],\n",
       "        [4, 3, 7],\n",
       "        [1, 3, 2]])"
      ]
     },
     "execution_count": 31,
     "metadata": {},
     "output_type": "execute_result"
    }
   ],
   "source": [
    "arr = np.array([[2,5,1],[4,3,7],[1,3,2]])\n",
    "A = np.asmatrix(arr) # Initialize MAtrix A\n",
    "A "
   ]
  },
  {
   "cell_type": "code",
   "execution_count": 33,
   "metadata": {},
   "outputs": [
    {
     "data": {
      "text/plain": [
       "-26.000000000000014"
      ]
     },
     "execution_count": 33,
     "metadata": {},
     "output_type": "execute_result"
    }
   ],
   "source": [
    "det = np.linalg.det(A) # Determinant of a Matrix A\n",
    "det"
   ]
  },
  {
   "cell_type": "code",
   "execution_count": 34,
   "metadata": {},
   "outputs": [
    {
     "data": {
      "text/plain": [
       "matrix([[7]])"
      ]
     },
     "execution_count": 34,
     "metadata": {},
     "output_type": "execute_result"
    }
   ],
   "source": [
    "trace = A.trace()  # Trace of a Matrix A\n",
    "trace"
   ]
  },
  {
   "cell_type": "code",
   "execution_count": 35,
   "metadata": {},
   "outputs": [
    {
     "data": {
      "text/plain": [
       "matrix([[ 0.57692308,  0.26923077, -1.23076923],\n",
       "        [ 0.03846154, -0.11538462,  0.38461538],\n",
       "        [-0.34615385,  0.03846154,  0.53846154]])"
      ]
     },
     "execution_count": 35,
     "metadata": {},
     "output_type": "execute_result"
    }
   ],
   "source": [
    "inv = np.linalg.inv(A)  # Inverse of a Matrix A\n",
    "inv"
   ]
  },
  {
   "cell_type": "markdown",
   "metadata": {},
   "source": [
    "### Task 2:"
   ]
  },
  {
   "cell_type": "code",
   "execution_count": 36,
   "metadata": {},
   "outputs": [],
   "source": [
    "arrB =np.array([[4,7,2],[3,2,5],[6,4,3]])\n",
    "arrC =np.array([[3,1,9],[7,5,8],[2,1,1]])"
   ]
  },
  {
   "cell_type": "code",
   "execution_count": 37,
   "metadata": {},
   "outputs": [],
   "source": [
    "B = np.asmatrix(arrB)\n",
    "C = np.asmatrix(arrC)"
   ]
  },
  {
   "cell_type": "code",
   "execution_count": 38,
   "metadata": {},
   "outputs": [
    {
     "name": "stdout",
     "output_type": "stream",
     "text": [
      "[[4 7 2]\n",
      " [3 2 5]\n",
      " [6 4 3]]\n",
      "\n",
      "[[3 1 9]\n",
      " [7 5 8]\n",
      " [2 1 1]]\n"
     ]
    }
   ],
   "source": [
    "# square matrices B and C\n",
    "print(B) \n",
    "print()\n",
    "print(C)"
   ]
  },
  {
   "cell_type": "code",
   "execution_count": 39,
   "metadata": {},
   "outputs": [
    {
     "data": {
      "text/plain": [
       "array([[65, 41, 94],\n",
       "       [33, 18, 48],\n",
       "       [52, 29, 89]])"
      ]
     },
     "execution_count": 39,
     "metadata": {},
     "output_type": "execute_result"
    }
   ],
   "source": [
    "P = np.dot(arrB, arrC) # dot product of two 3✖3 Matrix\n",
    "P"
   ]
  },
  {
   "cell_type": "markdown",
   "metadata": {},
   "source": [
    "### Task:3"
   ]
  },
  {
   "cell_type": "code",
   "execution_count": 40,
   "metadata": {},
   "outputs": [],
   "source": [
    "A1 = np.array([[3,2,-1], [2,-1,4], [4,-2,3]]) # Represent linear equation\n",
    "B1 = np.array([25,19,18])"
   ]
  },
  {
   "cell_type": "markdown",
   "metadata": {},
   "source": [
    "### Task: 4"
   ]
  },
  {
   "cell_type": "code",
   "execution_count": 41,
   "metadata": {},
   "outputs": [
    {
     "data": {
      "text/plain": [
       "array([5., 7., 4.])"
      ]
     },
     "execution_count": 41,
     "metadata": {},
     "output_type": "execute_result"
    }
   ],
   "source": [
    "# solving the system of linear equations from Task 3 by using matrix notation\n",
    "x1 = np.linalg.solve(A1, B1)\n",
    "x1"
   ]
  },
  {
   "cell_type": "markdown",
   "metadata": {},
   "source": [
    "### Task 5:"
   ]
  },
  {
   "cell_type": "code",
   "execution_count": 42,
   "metadata": {},
   "outputs": [
    {
     "data": {
      "text/plain": [
       "array([5., 7., 4.])"
      ]
     },
     "execution_count": 42,
     "metadata": {},
     "output_type": "execute_result"
    }
   ],
   "source": [
    "X = np.linalg.inv(A1).dot(B1)\n",
    "X"
   ]
  },
  {
   "cell_type": "markdown",
   "metadata": {},
   "source": [
    "# Task 4:"
   ]
  },
  {
   "cell_type": "code",
   "execution_count": 43,
   "metadata": {},
   "outputs": [],
   "source": [
    "import pandas as pd\n",
    "import matplotlib.pyplot as plt\n",
    "import seaborn as sn"
   ]
  },
  {
   "cell_type": "markdown",
   "metadata": {},
   "source": [
    "### Task 1"
   ]
  },
  {
   "cell_type": "code",
   "execution_count": 44,
   "metadata": {},
   "outputs": [
    {
     "data": {
      "image/png": "[encoded data removed]",
      "text/plain": [
       "<Figure size 720x504 with 1 Axes>"
      ]
     },
     "metadata": {},
     "output_type": "display_data"
    }
   ],
   "source": [
    "import networkx as nx\n",
    "import matplotlib.pyplot as plt\n",
    "\n",
    "# Create a graph object\n",
    "MyGraph = nx.Graph()\n",
    "\n",
    "# Add nodes\n",
    "# Green Line\n",
    "MyGraph.add_node('1', npos=(56, 85), ccn='#ff8400')\n",
    "MyGraph.add_node('2', npos=(20, 43), ccn='#ffae00')\n",
    "MyGraph.add_node('3', npos=(60, 33), ccn='#fff700')\n",
    "MyGraph.add_node('4', npos=(91, 54), ccn='#c3ff00')\n",
    "# Orange Line\n",
    "MyGraph.add_node('5', npos=(27, 94), ccn='#51ff00')\n",
    "MyGraph.add_node('6', npos=(87, 81), ccn='#00ff7b')\n",
    "MyGraph.add_node('7', npos=(38, 60), ccn='#00ffc3')\n",
    "MyGraph.add_node('8', npos=(71, 54), ccn='#00eeff')\n",
    "# Blue Line\n",
    "MyGraph.add_node('9', npos=(44, 65), ccn='#0084ff')\n",
    "MyGraph.add_node('10', npos=(130, 55), ccn='#6d50ab')\n",
    "MyGraph.add_node('11', npos=(85, 94), ccn='#c0a7d1')\n",
    "MyGraph.add_node('12', npos=(100, 34), ccn='#17bf1d')\n",
    "\n",
    "# Connect nodes\n",
    "\n",
    "MyGraph.add_edge('1', '2', cce='#00FF00')\n",
    "MyGraph.add_edge('2', '3', cce='#00FF00')\n",
    "MyGraph.add_edge('3', '4', cce='#00FF00')\n",
    "\n",
    "MyGraph.add_edge('5', '6', cce='#FF4500')\n",
    "MyGraph.add_edge('6', '7', cce='#FF4500')\n",
    "MyGraph.add_edge('7', '8', cce='#FF4500')\n",
    "\n",
    "MyGraph.add_edge('9', '10', cce='#0000FF')\n",
    "MyGraph.add_edge('10', '11', cce='#0000FF')\n",
    "MyGraph.add_edge('11', '12', cce='#0000FF')\n",
    "\n",
    "# Extract attributes from the graph to dictionaries\n",
    "pos = nx.get_node_attributes(MyGraph, 'npos')\n",
    "nodecolour = nx.get_node_attributes(MyGraph, 'ccn')\n",
    "edgecolour = nx.get_edge_attributes(MyGraph, 'cce')\n",
    "\n",
    "# Place the dictionary values in lists\n",
    "NodeList = list(nodecolour.values())\n",
    "EdgeList = list(edgecolour.values())\n",
    "\n",
    "# Set the size of the figure\n",
    "plt.figure(figsize=(10, 7))\n",
    "\n",
    "# Display the names of the stations\n",
    "plt.text(56, 85, s='Station 1', rotation=15)\n",
    "plt.text(20, 43, s='Station 2', rotation=15)\n",
    "plt.text(60, 33, s=' Station 3', rotation=15)\n",
    "plt.text(91, 54, s=' Station 4', rotation=15)\n",
    "\n",
    "plt.text(27, 94, s=' Station 5', rotation=15)\n",
    "plt.text(87, 81, s=' Station 6', rotation=15)\n",
    "plt.text(38, 60, s=' Station 7', rotation=15)\n",
    "plt.text(71, 54, s=' Station 8', rotation=15)\n",
    "\n",
    "plt.text(44, 65, s=' Station 9', rotation=15)\n",
    "plt.text(130, 55, s=' Station 10', rotation=15)\n",
    "plt.text(85, 94, s=' Station 11', rotation=15)\n",
    "plt.text(100, 34, s=' Station 11', rotation=15)\n",
    "\n",
    "# Draw the nodes and the edges\n",
    "nx.draw_networkx(MyGraph, pos, node_color=NodeList)\n",
    "nx.draw_networkx_edges(MyGraph, pos, edge_color=EdgeList)\n",
    "\n",
    "# Visualise the graph\n",
    "plt.show()"
   ]
  },
  {
   "cell_type": "markdown",
   "metadata": {},
   "source": [
    "### Task: 2"
   ]
  },
  {
   "cell_type": "code",
   "execution_count": 47,
   "metadata": {},
   "outputs": [],
   "source": [
    "# Store the dataset into a data frame\n",
    "df = pd.read_csv(r'C:\\Users\\shubz\\OneDrive\\Desktop\\University of Greenwich Data\\Programming fundamentals for data science\\Final Updates\\Data_Science\\HeatMap(1).csv')\n",
    "# Print the content on the screen"
   ]
  },
  {
   "cell_type": "code",
   "execution_count": 48,
   "metadata": {},
   "outputs": [],
   "source": [
    "import pandas as pd\n",
    "import matplotlib.pyplot as plt\n",
    "\n",
    "\n",
    "# This subroutine encapsulates the 'plot' method, as the most suitable for raster rendering\n",
    "def DrawBox(x, y, size, r, g, b):\n",
    "    if r < 0:\n",
    "        r = int(0)\n",
    "    if g < 0:\n",
    "        g = int(0)\n",
    "    if b < 0:\n",
    "        b = int(0)\n",
    "    if r > 255:\n",
    "        r = int(255)\n",
    "    if g > 255:\n",
    "        g = int(255)\n",
    "    if b > 255:\n",
    "        b = int(255)\n",
    "    for i in range(0, int(size)):\n",
    "        plt.plot([x, x + size], [y + i, y + i], '#{:02x}{:02x}{:02x}'.format(r, g, b))"
   ]
  },
  {
   "cell_type": "code",
   "execution_count": 49,
   "metadata": {},
   "outputs": [
    {
     "name": "stdout",
     "output_type": "stream",
     "text": [
      "         City    1    2    3    4     5     6     7     8     9    10   11  \\\n",
      "0      london  4.8  4.9  6.7  9.4  12.7  15.7  17.8  17.3  15.0  11.8  7.8   \n",
      "1  Manchester  4.0  4.1  5.6  8.1  11.2  14.0  15.7  15.2  13.3  10.3  6.7   \n",
      "2  Birmingham  4.0  3.0  6.0  8.0  11.0  14.0  17.0  16.0  14.0  11.0  7.0   \n",
      "\n",
      "    12  \n",
      "0  5.3  \n",
      "1  4.4  \n",
      "2  5.0  \n"
     ]
    }
   ],
   "source": [
    "# Store the dataset into a data frame\n",
    "df = pd.read_csv(r'C:\\Users\\shubz\\OneDrive\\Desktop\\University of Greenwich Data\\Programming fundamentals for data science\\Final Updates\\HeatMap(1).csv')\n",
    "# Print the content on the screen\n",
    "print(df.head(7))"
   ]
  },
  {
   "cell_type": "code",
   "execution_count": 50,
   "metadata": {},
   "outputs": [
    {
     "data": {
      "image/png": "[encoded data removed]",
      "text/plain": [
       "<Figure size 1296x252 with 1 Axes>"
      ]
     },
     "metadata": {},
     "output_type": "display_data"
    }
   ],
   "source": [
    "# Set the plot\n",
    "plt.figure(figsize=(18, 3.5))\n",
    "plt.axis([0, 600, 0, 400])\n",
    "plt.xticks([])\n",
    "plt.yticks([])\n",
    "plt.axis('off')\n",
    "\n",
    "Min = int(min(df.min(numeric_only=True)))\n",
    "Max = int(max(df.max(numeric_only=True)))\n",
    "\n",
    "BoxSize = int(40)\n",
    "OffsetX = int(15)\n",
    "OffsetY = int(12)\n",
    "\n",
    "# Generate the heat map\n",
    "for i in range(0, df.shape[0]):\n",
    "    for j in range(1, df.shape[1]):\n",
    "        ColourCode = int(((df.values[i, j]-Min)/(Max-Min))*255)\n",
    "        DrawBox(20+BoxSize*j, 300-BoxSize*i, BoxSize, ColourCode, 0, 0)\n",
    "        plt.text(OffsetX+20+BoxSize*j, OffsetY+300-BoxSize*i, str(df.values[i, j]), color='white')\n",
    "\n",
    "for i in range(0, 256):\n",
    "    plt.plot([560, 580], [i + 60, i + 60], '#{:02x}{:02x}{:02x}'.format(int(i), 0, 0))\n",
    "\n",
    "plt.text(585, 58, Min)\n",
    "plt.text(585, 312, Max)\n",
    "\n",
    "plt.text(72, 20, 'Jan')\n",
    "plt.text(112, 20, 'Feb')\n",
    "plt.text(152, 20, 'Mar')\n",
    "plt.text(192, 20, 'Apr')\n",
    "plt.text(232, 20, 'May')\n",
    "plt.text(272, 20, 'Jun')\n",
    "plt.text(312, 20, 'Jul')\n",
    "plt.text(352, 20, 'Aug')\n",
    "plt.text(392, 20, 'Sep')\n",
    "plt.text(432, 20, 'Oct')\n",
    "plt.text(472, 20, 'Nov')\n",
    "plt.text(512, 20, 'Dec')\n",
    "\n",
    "plt.text(5, 315, str(df.values[0, 0]))\n",
    "plt.text(5, 275, str(df.values[1, 0]))\n",
    "plt.text(5, 235, str(df.values[2, 0]))\n",
    "\n",
    "\n",
    "plt.show()"
   ]
  },
  {
   "cell_type": "code",
   "execution_count": 51,
   "metadata": {},
   "outputs": [
    {
     "data": {
      "text/html": [
       "<style  type=\"text/css\" >\n",
       "#T_78af1_row0_col1,#T_78af1_row0_col2,#T_78af1_row0_col3,#T_78af1_row0_col4,#T_78af1_row0_col5,#T_78af1_row0_col6,#T_78af1_row0_col7,#T_78af1_row0_col8,#T_78af1_row0_col9,#T_78af1_row0_col10,#T_78af1_row0_col11,#T_78af1_row0_col12{\n",
       "            background-color:  #ffffff;\n",
       "            color:  #000000;\n",
       "        }#T_78af1_row1_col1,#T_78af1_row1_col3,#T_78af1_row1_col6,#T_78af1_row1_col7,#T_78af1_row1_col8,#T_78af1_row1_col9,#T_78af1_row1_col10,#T_78af1_row1_col11,#T_78af1_row1_col12,#T_78af1_row2_col1,#T_78af1_row2_col2,#T_78af1_row2_col4,#T_78af1_row2_col5,#T_78af1_row2_col6{\n",
       "            background-color:  #0b0000;\n",
       "            color:  #f1f1f1;\n",
       "        }#T_78af1_row1_col2{\n",
       "            background-color:  #ff9000;\n",
       "            color:  #000000;\n",
       "        }#T_78af1_row1_col4{\n",
       "            background-color:  #3a0000;\n",
       "            color:  #f1f1f1;\n",
       "        }#T_78af1_row1_col5{\n",
       "            background-color:  #590000;\n",
       "            color:  #f1f1f1;\n",
       "        }#T_78af1_row2_col3{\n",
       "            background-color:  #ff0000;\n",
       "            color:  #f1f1f1;\n",
       "        }#T_78af1_row2_col7{\n",
       "            background-color:  #ffaa00;\n",
       "            color:  #000000;\n",
       "        }#T_78af1_row2_col8{\n",
       "            background-color:  #ff0a00;\n",
       "            color:  #f1f1f1;\n",
       "        }#T_78af1_row2_col9{\n",
       "            background-color:  #ff1f00;\n",
       "            color:  #f1f1f1;\n",
       "        }#T_78af1_row2_col10{\n",
       "            background-color:  #ff4400;\n",
       "            color:  #f1f1f1;\n",
       "        }#T_78af1_row2_col11{\n",
       "            background-color:  #c00000;\n",
       "            color:  #f1f1f1;\n",
       "        }#T_78af1_row2_col12{\n",
       "            background-color:  #ffca00;\n",
       "            color:  #000000;\n",
       "        }</style><table id=\"T_78af1_\" ><thead>    <tr>        <th class=\"blank level0\" ></th>        <th class=\"col_heading level0 col0\" >City</th>        <th class=\"col_heading level0 col1\" >1</th>        <th class=\"col_heading level0 col2\" >2</th>        <th class=\"col_heading level0 col3\" >3</th>        <th class=\"col_heading level0 col4\" >4</th>        <th class=\"col_heading level0 col5\" >5</th>        <th class=\"col_heading level0 col6\" >6</th>        <th class=\"col_heading level0 col7\" >7</th>        <th class=\"col_heading level0 col8\" >8</th>        <th class=\"col_heading level0 col9\" >9</th>        <th class=\"col_heading level0 col10\" >10</th>        <th class=\"col_heading level0 col11\" >11</th>        <th class=\"col_heading level0 col12\" >12</th>    </tr></thead><tbody>\n",
       "                <tr>\n",
       "                        <th id=\"T_78af1_level0_row0\" class=\"row_heading level0 row0\" >0</th>\n",
       "                        <td id=\"T_78af1_row0_col0\" class=\"data row0 col0\" >london</td>\n",
       "                        <td id=\"T_78af1_row0_col1\" class=\"data row0 col1\" >4.800000</td>\n",
       "                        <td id=\"T_78af1_row0_col2\" class=\"data row0 col2\" >4.900000</td>\n",
       "                        <td id=\"T_78af1_row0_col3\" class=\"data row0 col3\" >6.700000</td>\n",
       "                        <td id=\"T_78af1_row0_col4\" class=\"data row0 col4\" >9.400000</td>\n",
       "                        <td id=\"T_78af1_row0_col5\" class=\"data row0 col5\" >12.700000</td>\n",
       "                        <td id=\"T_78af1_row0_col6\" class=\"data row0 col6\" >15.700000</td>\n",
       "                        <td id=\"T_78af1_row0_col7\" class=\"data row0 col7\" >17.800000</td>\n",
       "                        <td id=\"T_78af1_row0_col8\" class=\"data row0 col8\" >17.300000</td>\n",
       "                        <td id=\"T_78af1_row0_col9\" class=\"data row0 col9\" >15.000000</td>\n",
       "                        <td id=\"T_78af1_row0_col10\" class=\"data row0 col10\" >11.800000</td>\n",
       "                        <td id=\"T_78af1_row0_col11\" class=\"data row0 col11\" >7.800000</td>\n",
       "                        <td id=\"T_78af1_row0_col12\" class=\"data row0 col12\" >5.300000</td>\n",
       "            </tr>\n",
       "            <tr>\n",
       "                        <th id=\"T_78af1_level0_row1\" class=\"row_heading level0 row1\" >1</th>\n",
       "                        <td id=\"T_78af1_row1_col0\" class=\"data row1 col0\" >Manchester</td>\n",
       "                        <td id=\"T_78af1_row1_col1\" class=\"data row1 col1\" >4.000000</td>\n",
       "                        <td id=\"T_78af1_row1_col2\" class=\"data row1 col2\" >4.100000</td>\n",
       "                        <td id=\"T_78af1_row1_col3\" class=\"data row1 col3\" >5.600000</td>\n",
       "                        <td id=\"T_78af1_row1_col4\" class=\"data row1 col4\" >8.100000</td>\n",
       "                        <td id=\"T_78af1_row1_col5\" class=\"data row1 col5\" >11.200000</td>\n",
       "                        <td id=\"T_78af1_row1_col6\" class=\"data row1 col6\" >14.000000</td>\n",
       "                        <td id=\"T_78af1_row1_col7\" class=\"data row1 col7\" >15.700000</td>\n",
       "                        <td id=\"T_78af1_row1_col8\" class=\"data row1 col8\" >15.200000</td>\n",
       "                        <td id=\"T_78af1_row1_col9\" class=\"data row1 col9\" >13.300000</td>\n",
       "                        <td id=\"T_78af1_row1_col10\" class=\"data row1 col10\" >10.300000</td>\n",
       "                        <td id=\"T_78af1_row1_col11\" class=\"data row1 col11\" >6.700000</td>\n",
       "                        <td id=\"T_78af1_row1_col12\" class=\"data row1 col12\" >4.400000</td>\n",
       "            </tr>\n",
       "            <tr>\n",
       "                        <th id=\"T_78af1_level0_row2\" class=\"row_heading level0 row2\" >2</th>\n",
       "                        <td id=\"T_78af1_row2_col0\" class=\"data row2 col0\" >Birmingham</td>\n",
       "                        <td id=\"T_78af1_row2_col1\" class=\"data row2 col1\" >4.000000</td>\n",
       "                        <td id=\"T_78af1_row2_col2\" class=\"data row2 col2\" >3.000000</td>\n",
       "                        <td id=\"T_78af1_row2_col3\" class=\"data row2 col3\" >6.000000</td>\n",
       "                        <td id=\"T_78af1_row2_col4\" class=\"data row2 col4\" >8.000000</td>\n",
       "                        <td id=\"T_78af1_row2_col5\" class=\"data row2 col5\" >11.000000</td>\n",
       "                        <td id=\"T_78af1_row2_col6\" class=\"data row2 col6\" >14.000000</td>\n",
       "                        <td id=\"T_78af1_row2_col7\" class=\"data row2 col7\" >17.000000</td>\n",
       "                        <td id=\"T_78af1_row2_col8\" class=\"data row2 col8\" >16.000000</td>\n",
       "                        <td id=\"T_78af1_row2_col9\" class=\"data row2 col9\" >14.000000</td>\n",
       "                        <td id=\"T_78af1_row2_col10\" class=\"data row2 col10\" >11.000000</td>\n",
       "                        <td id=\"T_78af1_row2_col11\" class=\"data row2 col11\" >7.000000</td>\n",
       "                        <td id=\"T_78af1_row2_col12\" class=\"data row2 col12\" >5.000000</td>\n",
       "            </tr>\n",
       "    </tbody></table>"
      ],
      "text/plain": [
       "<pandas.io.formats.style.Styler at 0x2300382d190>"
      ]
     },
     "execution_count": 51,
     "metadata": {},
     "output_type": "execute_result"
    }
   ],
   "source": [
    "df.style.background_gradient(cmap='hot')"
   ]
  },
  {
   "cell_type": "markdown",
   "metadata": {},
   "source": [
    "### Task: 3"
   ]
  },
  {
   "cell_type": "code",
   "execution_count": 52,
   "metadata": {},
   "outputs": [
    {
     "data": {
      "text/html": [
       "<div>\n",
       "<style scoped>\n",
       "    .dataframe tbody tr th:only-of-type {\n",
       "        vertical-align: middle;\n",
       "    }\n",
       "\n",
       "    .dataframe tbody tr th {\n",
       "        vertical-align: top;\n",
       "    }\n",
       "\n",
       "    .dataframe thead th {\n",
       "        text-align: right;\n",
       "    }\n",
       "</style>\n",
       "<table border=\"1\" class=\"dataframe\">\n",
       "  <thead>\n",
       "    <tr style=\"text-align: right;\">\n",
       "      <th></th>\n",
       "      <th>City</th>\n",
       "      <th>1</th>\n",
       "      <th>2</th>\n",
       "      <th>3</th>\n",
       "      <th>4</th>\n",
       "      <th>5</th>\n",
       "      <th>6</th>\n",
       "      <th>7</th>\n",
       "      <th>8</th>\n",
       "      <th>9</th>\n",
       "      <th>10</th>\n",
       "      <th>11</th>\n",
       "      <th>12</th>\n",
       "    </tr>\n",
       "  </thead>\n",
       "  <tbody>\n",
       "    <tr>\n",
       "      <th>0</th>\n",
       "      <td>london</td>\n",
       "      <td>4.8</td>\n",
       "      <td>4.9</td>\n",
       "      <td>6.7</td>\n",
       "      <td>9.4</td>\n",
       "      <td>12.7</td>\n",
       "      <td>15.7</td>\n",
       "      <td>17.8</td>\n",
       "      <td>17.3</td>\n",
       "      <td>15.0</td>\n",
       "      <td>11.8</td>\n",
       "      <td>7.8</td>\n",
       "      <td>5.3</td>\n",
       "    </tr>\n",
       "    <tr>\n",
       "      <th>1</th>\n",
       "      <td>Manchester</td>\n",
       "      <td>4.0</td>\n",
       "      <td>4.1</td>\n",
       "      <td>5.6</td>\n",
       "      <td>8.1</td>\n",
       "      <td>11.2</td>\n",
       "      <td>14.0</td>\n",
       "      <td>15.7</td>\n",
       "      <td>15.2</td>\n",
       "      <td>13.3</td>\n",
       "      <td>10.3</td>\n",
       "      <td>6.7</td>\n",
       "      <td>4.4</td>\n",
       "    </tr>\n",
       "    <tr>\n",
       "      <th>2</th>\n",
       "      <td>Birmingham</td>\n",
       "      <td>4.0</td>\n",
       "      <td>3.0</td>\n",
       "      <td>6.0</td>\n",
       "      <td>8.0</td>\n",
       "      <td>11.0</td>\n",
       "      <td>14.0</td>\n",
       "      <td>17.0</td>\n",
       "      <td>16.0</td>\n",
       "      <td>14.0</td>\n",
       "      <td>11.0</td>\n",
       "      <td>7.0</td>\n",
       "      <td>5.0</td>\n",
       "    </tr>\n",
       "  </tbody>\n",
       "</table>\n",
       "</div>"
      ],
      "text/plain": [
       "         City    1    2    3    4     5     6     7     8     9    10   11  \\\n",
       "0      london  4.8  4.9  6.7  9.4  12.7  15.7  17.8  17.3  15.0  11.8  7.8   \n",
       "1  Manchester  4.0  4.1  5.6  8.1  11.2  14.0  15.7  15.2  13.3  10.3  6.7   \n",
       "2  Birmingham  4.0  3.0  6.0  8.0  11.0  14.0  17.0  16.0  14.0  11.0  7.0   \n",
       "\n",
       "    12  \n",
       "0  5.3  \n",
       "1  4.4  \n",
       "2  5.0  "
      ]
     },
     "execution_count": 52,
     "metadata": {},
     "output_type": "execute_result"
    }
   ],
   "source": [
    "df"
   ]
  },
  {
   "cell_type": "code",
   "execution_count": 53,
   "metadata": {},
   "outputs": [
    {
     "data": {
      "text/plain": [
       "<AxesSubplot:>"
      ]
     },
     "execution_count": 53,
     "metadata": {},
     "output_type": "execute_result"
    },
    {
     "data": {
      "image/png": "[encoded data removed]",
      "text/plain": [
       "<Figure size 432x288 with 1 Axes>"
      ]
     },
     "metadata": {
      "needs_background": "light"
     },
     "output_type": "display_data"
    }
   ],
   "source": [
    "pd.plotting.parallel_coordinates( df.reset_index(), 'City', color=('#556270', '#4ECDC4', '#C7F464'))"
   ]
  },
  {
   "cell_type": "code",
   "execution_count": null,
   "metadata": {},
   "outputs": [],
   "source": []
  }
 ],
 "metadata": {
  "kernelspec": {
   "display_name": "Python 3",
   "language": "python",
   "name": "python3"
  },
  "language_info": {
   "codemirror_mode": {
    "name": "ipython",
    "version": 3
   },
   "file_extension": ".py",
   "mimetype": "text/x-python",
   "name": "python",
   "nbconvert_exporter": "python",
   "pygments_lexer": "ipython3",
   "version": "3.8.5"
  }
 },
 "nbformat": 4,
 "nbformat_minor": 5
}
