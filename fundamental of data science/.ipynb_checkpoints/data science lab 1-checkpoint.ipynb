{
 "cells": [
  {
   "cell_type": "markdown",
   "metadata": {},
   "source": [
    "#Q1"
   ]
  },
  {
   "cell_type": "code",
   "execution_count": 4,
   "metadata": {},
   "outputs": [
    {
     "name": "stdout",
     "output_type": "stream",
     "text": [
      "hello world\n",
      "15 + 5 = 20\n"
     ]
    }
   ],
   "source": [
    "print(\"hello world\")\n",
    "a=15\n",
    "b=5\n",
    "print(a,'+',b,\"=\",a+b)"
   ]
  },
  {
   "cell_type": "markdown",
   "metadata": {},
   "source": [
    "# Q2"
   ]
  },
  {
   "cell_type": "code",
   "execution_count": 7,
   "metadata": {},
   "outputs": [
    {
     "name": "stdout",
     "output_type": "stream",
     "text": [
      "20\n",
      "10\n",
      "75\n",
      "3.0\n",
      "can't divide by zero\n",
      "None\n"
     ]
    }
   ],
   "source": [
    "def addition(a,b):\n",
    "    c=a+b\n",
    "    return c\n",
    "\n",
    "def subtraction(a,b):\n",
    "    c=a-b\n",
    "    return c\n",
    "\n",
    "def multiplication(a,b):\n",
    "    return a*b\n",
    "\n",
    "def division(a,b):\n",
    "    try:\n",
    "        c = a/b\n",
    "        return c\n",
    "    except ZeroDivisionError as e:\n",
    "        print(\"can't divide by zero\")\n",
    "        \n",
    "print(addition(a,b))\n",
    "print(subtraction(a,b))\n",
    "print(multiplication(a,b))\n",
    "print(division(a,b))\n",
    "print(division(a,0))     "
   ]
  },
  {
   "cell_type": "markdown",
   "metadata": {},
   "source": [
    "# Q3.1"
   ]
  },
  {
   "cell_type": "code",
   "execution_count": 16,
   "metadata": {},
   "outputs": [
    {
     "name": "stdout",
     "output_type": "stream",
     "text": [
      "enter a:5\n",
      "enter b:6\n",
      "enter c:4\n",
      "The solution are x1(-0.6-0.6633249580710799j) and x2(-0.6+0.6633249580710799j)\n"
     ]
    }
   ],
   "source": [
    "import cmath\n",
    "a=int(input(\"enter a:\"))\n",
    "b=int(input(\"enter b:\"))\n",
    "c=int(input(\"enter c:\"))\n",
    "\n",
    "d = (b**2) - (4*a*c)\n",
    "x1 = (-b-cmath.sqrt((b**2)-(4*a*c)))/(2*a)\n",
    "x2 = (-b+cmath.sqrt((b**2)-(4*a*c)))/(2*a)\n",
    "\n",
    "print('The solution are x1{0} and x2{1}'.format(x1,x2))"
   ]
  },
  {
   "cell_type": "markdown",
   "metadata": {},
   "source": [
    "# Q3.2"
   ]
  },
  {
   "cell_type": "code",
   "execution_count": null,
   "metadata": {},
   "outputs": [],
   "source": []
  }
 ],
 "metadata": {
  "kernelspec": {
   "display_name": "Python 3",
   "language": "python",
   "name": "python3"
  },
  "language_info": {
   "codemirror_mode": {
    "name": "ipython",
    "version": 3
   },
   "file_extension": ".py",
   "mimetype": "text/x-python",
   "name": "python",
   "nbconvert_exporter": "python",
   "pygments_lexer": "ipython3",
   "version": "3.8.5"
  }
 },
 "nbformat": 4,
 "nbformat_minor": 4
}
