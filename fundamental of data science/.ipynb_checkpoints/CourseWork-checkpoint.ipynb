{
 "cells": [
  {
   "cell_type": "markdown",
   "metadata": {},
   "source": [
    "# WEEK 1 Python"
   ]
  },
  {
   "cell_type": "code",
   "execution_count": 194,
   "metadata": {},
   "outputs": [],
   "source": [
    "#importing libraries\n",
    "import numpy as np\n",
    "import pandas as pd\n",
    "import matplotlib.pyplot as plt\n",
    "import seaborn as sns\n",
    "import networkx as nx\n"
   ]
  },
  {
   "cell_type": "code",
   "execution_count": 74,
   "metadata": {},
   "outputs": [
    {
     "name": "stdout",
     "output_type": "stream",
     "text": [
      "    longitude  latitude  housing_median_age  total_rooms  population  median_income  median_house_value ocean_proximity\n",
      "0     -122.23     37.88             41.0000          880         322         8.3252              452600        NEAR BAY\n",
      "1     -122.23     37.88             41.0000          880         322         8.3252              452600        NEAR BAY\n",
      "2     -122.22     37.86             21.0000         7099        2401         8.3014              358500        NEAR BAY\n",
      "3     -122.25     37.84             52.0001         3104        1157         3.1200              241400        NEAR BAY\n",
      "4     -122.26     37.85             52.0000         3503        1504         3.2705              241800        NEAR BAY\n",
      "5     -121.65     39.32             40.0000          812         374         2.7891               73500          INLAND\n",
      "6     -121.69     39.36             29.0000         2220        1170         2.3224               56200          INLAND\n",
      "7     -121.70     39.37             32.0000         1852         911         1.7885               57000          INLAND\n",
      "8     -121.70     39.36             46.0000         1210         523         1.9100               63900          INLAND\n",
      "9     -121.70     39.36             37.0000         2330        1505         2.0474               56000          INLAND\n",
      "10    -121.69     39.36             34.0000          842         635         1.8355               63000          INLAND\n",
      "11    -121.74     39.38             27.0000         2596        1100         2.3243               85500             NaN\n",
      "12    -121.80     39.33             30.0000         1019         501         2.5259               81300          INLAND\n",
      "13    -120.46     38.15             16.0000         4221        1516         2.3816              116000          INLAND\n",
      "14    -120.55     38.12             10.0000         1566         785         2.5000              116100          INLAND\n",
      "15    -120.56     38.09             34.0000         2745        1150         2.3654               94900          INLAND\n",
      "16    -124.23     41.75             11.0000         3159        1343         2.4805               73200      NEAR OCEAN\n",
      "17    -124.21     41.77             17.0000         3461        1947         2.5795               68400          NEAR O\n",
      "18    -124.19     41.78             15.0000         3140        1645         1.6654               74600          NEAR O\n",
      "19    -124.16     41.74             15.0000         2715        1532         2.1829               69500      NEAR OCEAN\n",
      "20    -124.14     41.95             21.0000         2696        1208            NaN              122400      NEAR OCEAN\n",
      "21    -124.16     41.92             19.0000         1668         841         2.1336               75000      NEAR OCEAN\n",
      "22    -118.32     33.35             27.0000         1675         744         2.1579              450000          ISLAND\n",
      "23    -118.33     33.34             52.0000         2359        1100         2.8333              414700          ISLAND\n",
      "24    -118.32     33.33             52.0000         2127         733         3.3906              300000          ISLAND\n",
      "25    -118.32     33.34             52.0000          996         341         2.7361              450000          ISLAND\n",
      "26    -118.48     33.43             29.0000          716         422         2.6042              287500          ISLAND\n",
      "27    -118.48     33.43             29.0000          716         422         2.6042              287500          ISLAND\n"
     ]
    }
   ],
   "source": [
    "#Task 1.1\n",
    "#importing dataset\n",
    "dataFrame =  pd.read_csv('Dataset.csv', delimiter=',')\n",
    "print(dataFrame.to_string())"
   ]
  },
  {
   "cell_type": "code",
   "execution_count": 75,
   "metadata": {},
   "outputs": [
    {
     "name": "stdout",
     "output_type": "stream",
     "text": [
      "    longitude  latitude  housing_median_age  total_rooms  population  median_income  median_house_value ocean_proximity\n",
      "0     -122.23     37.88             41.0000          880         322         8.3252              452600        NEAR BAY\n",
      "1     -122.23     37.88             41.0000          880         322         8.3252              452600        NEAR BAY\n",
      "2     -122.22     37.86             21.0000         7099        2401         8.3014              358500        NEAR BAY\n",
      "3     -122.25     37.84             52.0001         3104        1157         3.1200              241400        NEAR BAY\n",
      "4     -122.26     37.85             52.0000         3503        1504         3.2705              241800        NEAR BAY\n",
      "5     -121.65     39.32             40.0000          812         374         2.7891               73500          INLAND\n",
      "6     -121.69     39.36             29.0000         2220        1170         2.3224               56200          INLAND\n",
      "7     -121.70     39.37             32.0000         1852         911         1.7885               57000          INLAND\n",
      "8     -121.70     39.36             46.0000         1210         523         1.9100               63900          INLAND\n",
      "9     -121.70     39.36             37.0000         2330        1505         2.0474               56000          INLAND\n",
      "10    -121.69     39.36             34.0000          842         635         1.8355               63000          INLAND\n",
      "12    -121.80     39.33             30.0000         1019         501         2.5259               81300          INLAND\n",
      "13    -120.46     38.15             16.0000         4221        1516         2.3816              116000          INLAND\n",
      "14    -120.55     38.12             10.0000         1566         785         2.5000              116100          INLAND\n",
      "15    -120.56     38.09             34.0000         2745        1150         2.3654               94900          INLAND\n",
      "16    -124.23     41.75             11.0000         3159        1343         2.4805               73200      NEAR OCEAN\n",
      "17    -124.21     41.77             17.0000         3461        1947         2.5795               68400          NEAR O\n",
      "18    -124.19     41.78             15.0000         3140        1645         1.6654               74600          NEAR O\n",
      "19    -124.16     41.74             15.0000         2715        1532         2.1829               69500      NEAR OCEAN\n",
      "21    -124.16     41.92             19.0000         1668         841         2.1336               75000      NEAR OCEAN\n",
      "22    -118.32     33.35             27.0000         1675         744         2.1579              450000          ISLAND\n",
      "23    -118.33     33.34             52.0000         2359        1100         2.8333              414700          ISLAND\n",
      "24    -118.32     33.33             52.0000         2127         733         3.3906              300000          ISLAND\n",
      "25    -118.32     33.34             52.0000          996         341         2.7361              450000          ISLAND\n",
      "26    -118.48     33.43             29.0000          716         422         2.6042              287500          ISLAND\n",
      "27    -118.48     33.43             29.0000          716         422         2.6042              287500          ISLAND\n"
     ]
    }
   ],
   "source": [
    "#Task 1.2 Remove the row with missing values\n",
    "dataFrame1 = dataFrame.dropna()\n",
    "# Display the new dataset\n",
    "print(dataFrame1.to_string())\n"
   ]
  },
  {
   "cell_type": "code",
   "execution_count": 76,
   "metadata": {},
   "outputs": [
    {
     "name": "stdout",
     "output_type": "stream",
     "text": [
      "0     False\n",
      "1      True\n",
      "2     False\n",
      "3     False\n",
      "4     False\n",
      "5     False\n",
      "6     False\n",
      "7     False\n",
      "8     False\n",
      "9     False\n",
      "10    False\n",
      "12    False\n",
      "13    False\n",
      "14    False\n",
      "15    False\n",
      "16    False\n",
      "17    False\n",
      "18    False\n",
      "19    False\n",
      "21    False\n",
      "22    False\n",
      "23    False\n",
      "24    False\n",
      "25    False\n",
      "26    False\n",
      "27     True\n",
      "dtype: bool\n"
     ]
    }
   ],
   "source": [
    "#Task 1.3\n",
    "#Examining the dataset and resolving the issues\n",
    "# Examinig Duplicates from dataframe\n",
    "print(dataFrame1.duplicated())\n"
   ]
  },
  {
   "cell_type": "code",
   "execution_count": 77,
   "metadata": {},
   "outputs": [
    {
     "name": "stdout",
     "output_type": "stream",
     "text": [
      "    longitude  latitude  housing_median_age  total_rooms  population  median_income  median_house_value ocean_proximity\n",
      "0     -122.23     37.88             41.0000          880         322         8.3252              452600        NEAR BAY\n",
      "1     -122.22     37.86             21.0000         7099        2401         8.3014              358500        NEAR BAY\n",
      "2     -122.25     37.84             52.0001         3104        1157         3.1200              241400        NEAR BAY\n",
      "3     -122.26     37.85             52.0000         3503        1504         3.2705              241800        NEAR BAY\n",
      "4     -121.65     39.32             40.0000          812         374         2.7891               73500          INLAND\n",
      "5     -121.69     39.36             29.0000         2220        1170         2.3224               56200          INLAND\n",
      "6     -121.70     39.37             32.0000         1852         911         1.7885               57000          INLAND\n",
      "7     -121.70     39.36             46.0000         1210         523         1.9100               63900          INLAND\n",
      "8     -121.70     39.36             37.0000         2330        1505         2.0474               56000          INLAND\n",
      "9     -121.69     39.36             34.0000          842         635         1.8355               63000          INLAND\n",
      "10    -121.80     39.33             30.0000         1019         501         2.5259               81300          INLAND\n",
      "11    -120.46     38.15             16.0000         4221        1516         2.3816              116000          INLAND\n",
      "12    -120.55     38.12             10.0000         1566         785         2.5000              116100          INLAND\n",
      "13    -120.56     38.09             34.0000         2745        1150         2.3654               94900          INLAND\n",
      "14    -124.23     41.75             11.0000         3159        1343         2.4805               73200      NEAR OCEAN\n",
      "15    -124.21     41.77             17.0000         3461        1947         2.5795               68400          NEAR O\n",
      "16    -124.19     41.78             15.0000         3140        1645         1.6654               74600          NEAR O\n",
      "17    -124.16     41.74             15.0000         2715        1532         2.1829               69500      NEAR OCEAN\n",
      "18    -124.16     41.92             19.0000         1668         841         2.1336               75000      NEAR OCEAN\n",
      "19    -118.32     33.35             27.0000         1675         744         2.1579              450000          ISLAND\n",
      "20    -118.33     33.34             52.0000         2359        1100         2.8333              414700          ISLAND\n",
      "21    -118.32     33.33             52.0000         2127         733         3.3906              300000          ISLAND\n",
      "22    -118.32     33.34             52.0000          996         341         2.7361              450000          ISLAND\n",
      "23    -118.48     33.43             29.0000          716         422         2.6042              287500          ISLAND\n"
     ]
    }
   ],
   "source": [
    "# Remove duplicated rows \n",
    "dataFrame2 = dataFrame1.drop_duplicates()\n",
    "dataFrame2.reset_index(drop=True, inplace=True)\n",
    "# Print data frame\n",
    "print(dataFrame2.to_string())"
   ]
  },
  {
   "cell_type": "code",
   "execution_count": 78,
   "metadata": {},
   "outputs": [
    {
     "name": "stdout",
     "output_type": "stream",
     "text": [
      "<class 'pandas.core.frame.DataFrame'>\n",
      "RangeIndex: 24 entries, 0 to 23\n",
      "Data columns (total 8 columns):\n",
      " #   Column              Non-Null Count  Dtype  \n",
      "---  ------              --------------  -----  \n",
      " 0   longitude           24 non-null     float64\n",
      " 1   latitude            24 non-null     float64\n",
      " 2   housing_median_age  24 non-null     float64\n",
      " 3   total_rooms         24 non-null     int64  \n",
      " 4   population          24 non-null     int64  \n",
      " 5   median_income       24 non-null     float64\n",
      " 6   median_house_value  24 non-null     int64  \n",
      " 7   ocean_proximity     24 non-null     object \n",
      "dtypes: float64(4), int64(3), object(1)\n",
      "memory usage: 1.6+ KB\n"
     ]
    }
   ],
   "source": [
    "#Task 1.4 Wrong data types\n",
    "# correcting Wrong data types \n",
    "dataFrame2.info()\n",
    "dataFrame2.at[3, 'housing_median_age'] = int(dataFrame2.at[3, 'housing_median_age'])"
   ]
  },
  {
   "cell_type": "code",
   "execution_count": 80,
   "metadata": {},
   "outputs": [
    {
     "name": "stdout",
     "output_type": "stream",
     "text": [
      "    longitude  latitude  housing_median_age  total_rooms  population  median_income  median_house_value ocean_proximity\n",
      "0     -122.23     37.88             41.0000          880         322         8.3252              452600        NEAR BAY\n",
      "1     -122.22     37.86             21.0000         7099        2401         8.3014              358500        NEAR BAY\n",
      "2     -122.25     37.84             52.0001         3104        1157         3.1200              241400        NEAR BAY\n",
      "3     -122.26     37.85             52.0000         3503        1504         3.2705              241800        NEAR BAY\n",
      "4     -121.65     39.32             40.0000          812         374         2.7891               73500          INLAND\n",
      "5     -121.69     39.36             29.0000         2220        1170         2.3224               56200          INLAND\n",
      "6     -121.70     39.37             32.0000         1852         911         1.7885               57000          INLAND\n",
      "7     -121.70     39.36             46.0000         1210         523         1.9100               63900          INLAND\n",
      "8     -121.70     39.36             37.0000         2330        1505         2.0474               56000          INLAND\n",
      "9     -121.69     39.36             34.0000          842         635         1.8355               63000          INLAND\n",
      "10    -121.80     39.33             30.0000         1019         501         2.5259               81300          INLAND\n",
      "11    -120.46     38.15             16.0000         4221        1516         2.3816              116000          INLAND\n",
      "12    -120.55     38.12             10.0000         1566         785         2.5000              116100          INLAND\n",
      "13    -120.56     38.09             34.0000         2745        1150         2.3654               94900          INLAND\n",
      "14    -124.23     41.75             11.0000         3159        1343         2.4805               73200      NEAR OCEAN\n",
      "15    -124.21     41.77             17.0000         3461        1947         2.5795               68400      NEAR OCEAN\n",
      "16    -124.19     41.78             15.0000         3140        1645         1.6654               74600      NEAR OCEAN\n",
      "17    -124.16     41.74             15.0000         2715        1532         2.1829               69500      NEAR OCEAN\n",
      "18    -124.16     41.92             19.0000         1668         841         2.1336               75000      NEAR OCEAN\n",
      "19    -118.32     33.35             27.0000         1675         744         2.1579              450000          ISLAND\n",
      "20    -118.33     33.34             52.0000         2359        1100         2.8333              414700          ISLAND\n",
      "21    -118.32     33.33             52.0000         2127         733         3.3906              300000          ISLAND\n",
      "22    -118.32     33.34             52.0000          996         341         2.7361              450000          ISLAND\n",
      "23    -118.48     33.43             29.0000          716         422         2.6042              287500          ISLAND\n"
     ]
    }
   ],
   "source": [
    "#Task 1.5 Correcting the Wrong values \n",
    "dataFrame2.at[15, 'ocean_proximity'] = 'NEAR OCEAN'\n",
    "dataFrame2.at[16, 'ocean_proximity'] = 'NEAR OCEAN'\n",
    "print(dataFrame2.to_string())"
   ]
  },
  {
   "cell_type": "code",
   "execution_count": 81,
   "metadata": {},
   "outputs": [],
   "source": [
    "#Task 1.6\n",
    "#saving the data into new file\n",
    "uData = dataFrame2.copy() \n",
    "uData.to_csv('uDataset.csv', index=False)"
   ]
  },
  {
   "cell_type": "code",
   "execution_count": 82,
   "metadata": {},
   "outputs": [
    {
     "data": {
      "text/plain": [
       "180629.16666666666"
      ]
     },
     "execution_count": 82,
     "metadata": {},
     "output_type": "execute_result"
    }
   ],
   "source": [
    "#Task 1.7\n",
    "#Mean of the Updated Data\n",
    "uData.median_house_value.mean()"
   ]
  },
  {
   "cell_type": "code",
   "execution_count": 83,
   "metadata": {},
   "outputs": [
    {
     "data": {
      "text/plain": [
       "88100.0"
      ]
     },
     "execution_count": 83,
     "metadata": {},
     "output_type": "execute_result"
    }
   ],
   "source": [
    "#Task 1.8\n",
    "#Median of the Updated Data\n",
    "uData.median_house_value.median()"
   ]
  },
  {
   "cell_type": "code",
   "execution_count": 84,
   "metadata": {},
   "outputs": [
    {
     "name": "stdout",
     "output_type": "stream",
     "text": [
      "Max Range:  452600\n",
      "Min Range:  56000\n"
     ]
    }
   ],
   "source": [
    "#Task 1.9\n",
    "#Range\n",
    "print(\"Max Range: \",uData.median_house_value.max())\n",
    "print(\"Min Range: \",uData.median_house_value.min())"
   ]
  },
  {
   "cell_type": "code",
   "execution_count": 85,
   "metadata": {},
   "outputs": [
    {
     "name": "stdout",
     "output_type": "stream",
     "text": [
      "    longitude  latitude  housing_median_age  total_rooms  population  median_income  median_house_value ocean_proximity\n",
      "0     -122.23     37.88             41.0000          880         322        83252.0              452600        NEAR BAY\n",
      "1     -122.22     37.86             21.0000         7099        2401        83014.0              358500        NEAR BAY\n",
      "2     -122.25     37.84             52.0001         3104        1157        31200.0              241400        NEAR BAY\n",
      "3     -122.26     37.85             52.0000         3503        1504        32705.0              241800        NEAR BAY\n",
      "4     -121.65     39.32             40.0000          812         374        27891.0               73500          INLAND\n",
      "5     -121.69     39.36             29.0000         2220        1170        23224.0               56200          INLAND\n",
      "6     -121.70     39.37             32.0000         1852         911        17885.0               57000          INLAND\n",
      "7     -121.70     39.36             46.0000         1210         523        19100.0               63900          INLAND\n",
      "8     -121.70     39.36             37.0000         2330        1505        20474.0               56000          INLAND\n",
      "9     -121.69     39.36             34.0000          842         635        18355.0               63000          INLAND\n",
      "10    -121.80     39.33             30.0000         1019         501        25259.0               81300          INLAND\n",
      "11    -120.46     38.15             16.0000         4221        1516        23816.0              116000          INLAND\n",
      "12    -120.55     38.12             10.0000         1566         785        25000.0              116100          INLAND\n",
      "13    -120.56     38.09             34.0000         2745        1150        23654.0               94900          INLAND\n",
      "14    -124.23     41.75             11.0000         3159        1343        24805.0               73200      NEAR OCEAN\n",
      "15    -124.21     41.77             17.0000         3461        1947        25795.0               68400      NEAR OCEAN\n",
      "16    -124.19     41.78             15.0000         3140        1645        16654.0               74600      NEAR OCEAN\n",
      "17    -124.16     41.74             15.0000         2715        1532        21829.0               69500      NEAR OCEAN\n",
      "18    -124.16     41.92             19.0000         1668         841        21336.0               75000      NEAR OCEAN\n",
      "19    -118.32     33.35             27.0000         1675         744        21579.0              450000          ISLAND\n",
      "20    -118.33     33.34             52.0000         2359        1100        28333.0              414700          ISLAND\n",
      "21    -118.32     33.33             52.0000         2127         733        33906.0              300000          ISLAND\n",
      "22    -118.32     33.34             52.0000          996         341        27361.0              450000          ISLAND\n",
      "23    -118.48     33.43             29.0000          716         422        26042.0              287500          ISLAND\n"
     ]
    }
   ],
   "source": [
    "#Task 1.10\n",
    "#Range\n",
    "uData.median_income = uData.median_income*10000\n",
    "print(uData.to_string())"
   ]
  },
  {
   "cell_type": "markdown",
   "metadata": {},
   "source": [
    "# WEEK 2"
   ]
  },
  {
   "cell_type": "code",
   "execution_count": 168,
   "metadata": {},
   "outputs": [
    {
     "data": {
      "text/plain": [
       "array([[5, 6, 1, 1, 6, 2, 4, 7, 4, 1],\n",
       "       [1, 8, 2, 2, 1, 6, 1, 2, 7, 4],\n",
       "       [7, 3, 7, 2, 2, 7, 4, 6, 0, 1],\n",
       "       [0, 7, 2, 0, 4, 4, 8, 8, 6, 7],\n",
       "       [5, 0, 6, 6, 3, 1, 1, 0, 6, 4]])"
      ]
     },
     "execution_count": 168,
     "metadata": {},
     "output_type": "execute_result"
    }
   ],
   "source": [
    "#part 1\n",
    "\n",
    "#uniform distributed array data\n",
    "array=np.empty(shape=(5,10), dtype='int')\n",
    "for i in range(0,5):\n",
    "    for j in range(0,10):\n",
    "        array[i][j] = int(np.random.randint(0,9))\n",
    "        \n",
    "array"
   ]
  },
  {
   "cell_type": "code",
   "execution_count": 169,
   "metadata": {},
   "outputs": [
    {
     "data": {
      "text/html": [
       "<div>\n",
       "<style scoped>\n",
       "    .dataframe tbody tr th:only-of-type {\n",
       "        vertical-align: middle;\n",
       "    }\n",
       "\n",
       "    .dataframe tbody tr th {\n",
       "        vertical-align: top;\n",
       "    }\n",
       "\n",
       "    .dataframe thead th {\n",
       "        text-align: right;\n",
       "    }\n",
       "</style>\n",
       "<table border=\"1\" class=\"dataframe\">\n",
       "  <thead>\n",
       "    <tr style=\"text-align: right;\">\n",
       "      <th></th>\n",
       "      <th>0</th>\n",
       "      <th>1</th>\n",
       "      <th>2</th>\n",
       "      <th>3</th>\n",
       "      <th>4</th>\n",
       "      <th>5</th>\n",
       "      <th>6</th>\n",
       "      <th>7</th>\n",
       "      <th>8</th>\n",
       "      <th>9</th>\n",
       "    </tr>\n",
       "  </thead>\n",
       "  <tbody>\n",
       "    <tr>\n",
       "      <th>0</th>\n",
       "      <td>5</td>\n",
       "      <td>6</td>\n",
       "      <td>1</td>\n",
       "      <td>1</td>\n",
       "      <td>6</td>\n",
       "      <td>2</td>\n",
       "      <td>4</td>\n",
       "      <td>7</td>\n",
       "      <td>4</td>\n",
       "      <td>1</td>\n",
       "    </tr>\n",
       "    <tr>\n",
       "      <th>1</th>\n",
       "      <td>1</td>\n",
       "      <td>8</td>\n",
       "      <td>2</td>\n",
       "      <td>2</td>\n",
       "      <td>1</td>\n",
       "      <td>6</td>\n",
       "      <td>1</td>\n",
       "      <td>2</td>\n",
       "      <td>7</td>\n",
       "      <td>4</td>\n",
       "    </tr>\n",
       "    <tr>\n",
       "      <th>2</th>\n",
       "      <td>7</td>\n",
       "      <td>3</td>\n",
       "      <td>7</td>\n",
       "      <td>2</td>\n",
       "      <td>2</td>\n",
       "      <td>7</td>\n",
       "      <td>4</td>\n",
       "      <td>6</td>\n",
       "      <td>0</td>\n",
       "      <td>1</td>\n",
       "    </tr>\n",
       "    <tr>\n",
       "      <th>3</th>\n",
       "      <td>0</td>\n",
       "      <td>7</td>\n",
       "      <td>2</td>\n",
       "      <td>0</td>\n",
       "      <td>4</td>\n",
       "      <td>4</td>\n",
       "      <td>8</td>\n",
       "      <td>8</td>\n",
       "      <td>6</td>\n",
       "      <td>7</td>\n",
       "    </tr>\n",
       "    <tr>\n",
       "      <th>4</th>\n",
       "      <td>5</td>\n",
       "      <td>0</td>\n",
       "      <td>6</td>\n",
       "      <td>6</td>\n",
       "      <td>3</td>\n",
       "      <td>1</td>\n",
       "      <td>1</td>\n",
       "      <td>0</td>\n",
       "      <td>6</td>\n",
       "      <td>4</td>\n",
       "    </tr>\n",
       "  </tbody>\n",
       "</table>\n",
       "</div>"
      ],
      "text/plain": [
       "   0  1  2  3  4  5  6  7  8  9\n",
       "0  5  6  1  1  6  2  4  7  4  1\n",
       "1  1  8  2  2  1  6  1  2  7  4\n",
       "2  7  3  7  2  2  7  4  6  0  1\n",
       "3  0  7  2  0  4  4  8  8  6  7\n",
       "4  5  0  6  6  3  1  1  0  6  4"
      ]
     },
     "execution_count": 169,
     "metadata": {},
     "output_type": "execute_result"
    }
   ],
   "source": [
    "# Converting two dimensional array to table format\n",
    "df = pd.DataFrame(array, columns = ['0','1','2','3','4','5','6','7','8','9']) \n",
    "df"
   ]
  },
  {
   "cell_type": "code",
   "execution_count": 172,
   "metadata": {},
   "outputs": [
    {
     "data": {
      "image/png": "[encoded data removed]",
      "text/plain": [
       "<Figure size 432x288 with 1 Axes>"
      ]
     },
     "metadata": {
      "needs_background": "light"
     },
     "output_type": "display_data"
    }
   ],
   "source": [
    "#ploting and showing the result of first 2 rows\n",
    "plt.plot(array[0,],marker='o', label = 'Row 1', color=\"r\")\n",
    "plt.plot(array[1,], marker='s', label = 'Row 2', color=\"g\")\n",
    "plt.legend()\n",
    "plt.show()"
   ]
  },
  {
   "cell_type": "code",
   "execution_count": 137,
   "metadata": {},
   "outputs": [
    {
     "data": {
      "text/plain": [
       "0    4.4\n",
       "1    4.0\n",
       "2    5.8\n",
       "3    4.6\n",
       "4    5.2\n",
       "5    4.8\n",
       "6    4.0\n",
       "7    4.6\n",
       "8    5.4\n",
       "9    2.6\n",
       "dtype: float64"
      ]
     },
     "execution_count": 137,
     "metadata": {},
     "output_type": "execute_result"
    }
   ],
   "source": [
    "## part2\n",
    "#part2.1\n",
    "\n",
    "#Mean\n",
    "df.mean()"
   ]
  },
  {
   "cell_type": "code",
   "execution_count": 138,
   "metadata": {},
   "outputs": [
    {
     "data": {
      "text/plain": [
       "0    5.0\n",
       "1    4.0\n",
       "2    7.0\n",
       "3    5.0\n",
       "4    6.0\n",
       "5    6.0\n",
       "6    4.0\n",
       "7    4.0\n",
       "8    6.0\n",
       "9    2.0\n",
       "dtype: float64"
      ]
     },
     "execution_count": 138,
     "metadata": {},
     "output_type": "execute_result"
    }
   ],
   "source": [
    "#part2.2\n",
    "\n",
    "#Median\n",
    "df.median()"
   ]
  },
  {
   "cell_type": "code",
   "execution_count": 139,
   "metadata": {},
   "outputs": [
    {
     "data": {
      "text/plain": [
       "0    2.701851\n",
       "1    1.870829\n",
       "2    2.949576\n",
       "3    3.049590\n",
       "4    2.588436\n",
       "5    2.949576\n",
       "6    2.915476\n",
       "7    2.190890\n",
       "8    2.302173\n",
       "9    2.792848\n",
       "dtype: float64"
      ]
     },
     "execution_count": 139,
     "metadata": {},
     "output_type": "execute_result"
    }
   ],
   "source": [
    "#part2.3\n",
    "\n",
    "#Stander Deviation\n",
    "df.std()"
   ]
  },
  {
   "cell_type": "code",
   "execution_count": 140,
   "metadata": {},
   "outputs": [
    {
     "data": {
      "text/plain": [
       "array([17.19385308, 17.11781519, 16.9419913 , 16.94469713, 17.08165089,\n",
       "       17.01651947, 16.9983142 , 17.07621753, 17.22451131, 17.09102663,\n",
       "       17.03871232, 16.49609872, 16.92296862, 17.18471015, 17.27544419,\n",
       "       17.15219315, 17.02874491, 17.15520832, 16.65210474, 17.01053232,\n",
       "       16.81223307, 16.75961737, 17.16039944, 17.00870432, 17.03459292,\n",
       "       16.87449953, 17.00391494, 16.8396176 , 16.93910114, 16.9996121 ,\n",
       "       16.88420875, 16.78778003, 17.2188295 , 16.96836919, 16.81408588,\n",
       "       17.13843904, 16.92644861, 16.90787621, 17.05136472, 16.80247516,\n",
       "       17.17773425, 17.33832267, 17.21114944, 17.06351754, 17.51160834,\n",
       "       17.16137473, 16.68445951, 16.95518926, 16.74432088, 17.33398257,\n",
       "       16.7512898 , 16.85638191, 17.01893366, 17.26469343, 16.88736048,\n",
       "       17.14498765, 16.97348878, 16.74594199, 16.70446213, 16.97514822,\n",
       "       16.90669148, 16.85057521, 17.11215798, 16.8201721 , 17.11728241,\n",
       "       17.17651342, 16.79246237, 17.18038791, 17.2968802 , 17.17176642,\n",
       "       16.90330059, 17.27639423, 17.06559102, 16.99618205, 17.00181192,\n",
       "       17.11192493, 17.28051535, 16.94639561, 17.07225263, 17.1572567 ,\n",
       "       16.75669556, 17.05247704, 17.13019201, 16.85538206, 16.84104529,\n",
       "       16.98568566, 16.94145646, 16.67433805, 17.60695269, 17.11168773,\n",
       "       16.86816116, 17.17854282, 17.08357196, 17.19801307, 17.13880665,\n",
       "       17.11142414, 16.74609229, 16.83119048, 17.09403786, 16.96392817,\n",
       "       16.47670876, 17.17540243, 16.67674477, 17.12197671, 16.88891672,\n",
       "       16.7610628 , 16.80017956, 17.10651085, 16.72902923, 17.31874912,\n",
       "       16.80911327, 16.8786832 , 17.30167381, 17.02490295, 16.74178732,\n",
       "       16.99061329, 17.0444523 , 16.75197758, 17.121929  , 16.92154509,\n",
       "       17.56132015, 17.32755808, 17.00343217, 17.24427117, 17.09086451,\n",
       "       16.79028341, 17.14106214, 17.30745469, 16.90974102, 16.95399942,\n",
       "       17.11588542, 17.11566031, 17.21995777, 17.01687429, 17.12883065,\n",
       "       16.67967115, 17.10330594, 16.9892246 , 17.14992751, 16.9317303 ,\n",
       "       17.18444649, 16.94826798, 17.05144592, 17.03272946, 17.30547593,\n",
       "       16.76769295, 16.86635108, 16.94144789, 17.38611971, 17.34745177,\n",
       "       17.16799   , 17.51142678, 17.06360879, 16.86961638, 16.92495447,\n",
       "       16.96126941, 16.6624198 , 16.51305518, 16.78092689, 16.93938572,\n",
       "       17.10994486, 17.04905825, 17.07003151, 16.95219004, 17.04103899,\n",
       "       16.89784759, 17.11363126, 17.04937404, 17.15538562, 17.27777935,\n",
       "       17.14459616, 16.80961774, 17.11425386, 17.28684425, 16.97191309,\n",
       "       17.05635681, 16.75740119, 16.92669366, 16.88885764, 16.9214244 ,\n",
       "       16.81142644, 16.63496854, 16.84212033, 17.21174994, 16.94238334,\n",
       "       17.16638694, 16.9724666 , 16.72879296, 17.27299601, 17.22337056,\n",
       "       17.03754792, 16.91493726, 17.0573827 , 16.99616058, 17.17508728,\n",
       "       16.95471919, 17.29126056, 17.20215883, 16.98901616, 17.05460216,\n",
       "       16.8038945 , 16.88458089, 17.19386285, 17.47919501, 16.99788309,\n",
       "       17.13750849, 17.03917412, 16.61507531, 16.94565164, 16.68230669,\n",
       "       16.72309434, 16.70636031, 16.98989252, 16.81135829, 17.01801019,\n",
       "       17.2855583 , 16.97835846, 17.15819873, 16.97946593, 16.86124642,\n",
       "       16.72708241, 17.19199276, 17.33326553, 17.0502102 , 17.2321407 ,\n",
       "       17.05240431, 16.89334126, 17.14617095, 17.06194204, 17.27880689,\n",
       "       16.84429223, 17.10821885, 16.77694589, 16.80743774, 16.94313489,\n",
       "       16.96728416, 17.19844313, 17.16923452, 17.13086396, 17.0053554 ,\n",
       "       16.74284393, 17.15947983, 16.79776857, 17.16558937, 16.99951373,\n",
       "       16.96835812, 17.26949071, 16.9539783 , 16.96954324, 17.19454648,\n",
       "       17.11997603, 16.86543129, 16.7905238 , 17.11034784, 16.96483464,\n",
       "       17.17112937, 17.57913088, 17.21166687, 17.06025868, 16.91785566,\n",
       "       17.10367549, 16.9586354 , 17.0141769 , 17.34635543, 17.1468895 ,\n",
       "       17.29679252, 17.06826676, 16.87099486, 16.96812228, 17.33943953,\n",
       "       16.9059965 , 16.91112033, 16.88387895, 16.85305543, 17.0522515 ,\n",
       "       16.84244414, 16.85139199, 17.042532  , 17.13362794, 17.25408578,\n",
       "       17.4231503 , 16.95027357, 16.79162975, 16.74985047, 17.04887886,\n",
       "       17.26885051, 17.02377346, 16.75412099, 16.77023085, 17.11933612,\n",
       "       17.1919573 , 16.93367268, 17.16207063, 16.88106843, 16.7329988 ,\n",
       "       17.35025567, 17.25399153, 16.97385405, 17.24868069, 16.61362281,\n",
       "       17.14270388, 17.0308246 , 17.19619563, 17.32003691, 17.04017343,\n",
       "       16.85626128, 17.34648586, 17.29839536, 17.3020593 , 17.1228724 ,\n",
       "       17.05722503, 17.15795585, 16.86136048, 16.83098041, 16.68180492,\n",
       "       17.19447566, 17.15221289, 16.96018353, 16.9058855 , 17.10568147,\n",
       "       17.22446854, 17.26515872, 17.4544066 , 17.08437084, 17.39674114,\n",
       "       17.31215446, 17.12562139, 17.10173167, 17.02390823, 16.85431703,\n",
       "       16.98864713, 17.21305644, 17.00019704, 16.79563827, 16.95679566,\n",
       "       17.01962116, 17.08491448, 17.13171469, 17.22491383, 16.30480393,\n",
       "       17.3583236 , 17.20779648, 17.05553557, 17.1468314 , 17.236134  ,\n",
       "       16.90518489, 17.3070877 , 17.0534648 , 16.56079711, 17.13268308,\n",
       "       17.34842521, 16.99799712, 16.88281379, 16.85553526, 17.18991058,\n",
       "       17.13863094, 17.11203354, 17.15430972, 17.33637112, 17.48724957,\n",
       "       17.17733466, 16.63775377, 17.12114836, 16.979646  , 16.81831558,\n",
       "       16.94399271, 17.11815028, 17.12997644, 17.23851074, 17.19085412,\n",
       "       17.14044254, 16.92128482, 16.78672943, 16.78090133, 16.5845147 ,\n",
       "       17.04938121, 16.79047518, 17.11207294, 17.11770524, 17.00925455,\n",
       "       16.96242871, 17.14262694, 16.9021022 , 16.8808276 , 16.7285508 ,\n",
       "       17.03969507, 16.91830462, 17.05721588, 17.1313047 , 16.73447852,\n",
       "       17.51371525, 17.16976828, 16.98095654, 17.27256745, 17.02298101,\n",
       "       17.43114164, 17.15744558, 17.12263544, 17.10262939, 16.94611753,\n",
       "       16.79556521, 16.87393837, 17.13637673, 17.14220936, 17.06339356,\n",
       "       16.96680918, 16.83005431, 16.96987181, 16.98094357, 16.89154479,\n",
       "       16.70443242, 16.94749683, 17.02503837, 17.16085328, 16.7600398 ,\n",
       "       16.89555925, 17.14164232, 16.76994525, 16.71763239, 16.99836769,\n",
       "       17.23622279, 16.8371685 , 16.97952547, 16.81489303, 16.95959802,\n",
       "       17.2242386 , 16.88157136, 17.12713567, 16.9370056 , 17.18100742,\n",
       "       17.21786495, 16.74745477, 17.13572991, 17.10015875, 16.89477858,\n",
       "       16.74184984, 16.62898962, 17.08198691, 17.17942144, 16.71541154,\n",
       "       17.01760585, 17.08680275, 16.90711239, 17.05300666, 16.5841985 ,\n",
       "       17.01051669, 16.76737917, 17.21979256, 16.86377711, 17.25413694,\n",
       "       17.00059869, 16.66450704, 16.90089321, 17.18544566, 17.10706589,\n",
       "       16.98900015, 17.11093186, 17.04542171, 16.58945686, 16.8008222 ,\n",
       "       17.16344234, 16.77547028, 16.9935044 , 16.91695278, 17.16220307,\n",
       "       16.74291431, 16.5811604 , 17.05936616, 16.90675372, 16.87863612,\n",
       "       17.1597134 , 16.81581282, 16.85697232, 17.23246264, 16.90492939,\n",
       "       17.13171426, 16.89813315, 17.08893872, 17.22568894, 16.98612676,\n",
       "       17.17698706, 16.74325915, 17.12791045, 17.01494773, 17.036365  ,\n",
       "       16.65972743, 17.01060014, 16.96585   , 16.79520636, 17.13671319,\n",
       "       16.89093665, 17.11298094, 17.47783632, 17.119607  , 16.89982118,\n",
       "       16.95347098, 17.0095219 , 16.95560106, 16.80500475, 16.86463455,\n",
       "       16.63772386, 17.07521493, 16.96047566, 16.66953679, 16.98871491,\n",
       "       16.56391635, 17.28989149, 16.90077422, 16.99671875, 17.26944083,\n",
       "       16.49634195, 16.83883435, 17.01803838, 16.72660206, 16.93822312,\n",
       "       16.98507694, 17.03256535, 17.12402575, 17.21738863, 17.17292461,\n",
       "       16.68898747, 16.97121652, 17.0765408 , 16.66529301, 16.56886997,\n",
       "       16.9545326 , 17.30678601, 17.09230989, 17.25760488, 16.77621278,\n",
       "       17.09844273, 17.21303496, 16.82372109, 16.93534771, 17.19377202,\n",
       "       17.12969186, 16.72677882, 16.88765006, 16.6427106 , 17.041662  ,\n",
       "       16.6176479 , 16.90282665, 17.40013356, 17.06255626, 16.64500226,\n",
       "       16.86304371, 17.18561229, 17.18394934, 16.91840903, 16.55646657,\n",
       "       16.66902137, 17.29394369, 17.13697514, 16.94886574, 16.95956565,\n",
       "       16.80432631, 16.57272233, 17.09673221, 17.21057259, 16.99953565,\n",
       "       17.21909726, 16.98941698, 16.81708945, 17.01781984, 16.80284637,\n",
       "       17.30478669, 17.11334515, 17.27755623, 16.85240704, 17.25097984,\n",
       "       17.17628617, 17.51301392, 16.68538846, 16.85685778, 17.07273002,\n",
       "       16.90749266, 17.12938929, 16.89005889, 16.64593383, 17.42985443,\n",
       "       16.57197657, 17.0255929 , 16.82215297, 16.81685227, 16.76684092,\n",
       "       17.37372599, 17.22479406, 16.93215954, 17.60024858, 16.83920111,\n",
       "       16.90392976, 17.31860099, 16.84852922, 16.99474626, 17.19367225,\n",
       "       17.07488458, 17.3674609 , 16.88420072, 16.62710627, 16.97883135,\n",
       "       16.8309237 , 16.91215996, 17.05130653, 16.82342521, 17.17358769,\n",
       "       17.20252627, 16.90841221, 17.04404584, 16.93216778, 16.73521857,\n",
       "       16.92119261, 16.95100428, 17.05168915, 17.2287935 , 17.37968013,\n",
       "       17.11913699, 17.40400272, 16.93092235, 17.02016379, 16.82048118,\n",
       "       16.96959809, 16.77166456, 17.30866698, 17.14372894, 17.19899822,\n",
       "       17.17623373, 17.00004514, 17.01150987, 16.86357675, 17.15309773,\n",
       "       16.68677594, 17.26872621, 17.38396654, 17.01092102, 16.90834304,\n",
       "       16.62538039, 17.11674463, 17.16152495, 17.21284927, 16.67156277,\n",
       "       17.19287879, 16.9870709 , 17.08283318, 17.29538416, 16.84343316,\n",
       "       17.03703267, 17.3740284 , 17.05420479, 17.24809381, 16.85399395,\n",
       "       17.035122  , 16.71936049, 16.98189906, 17.01428217, 17.27260072,\n",
       "       16.90491358, 17.18481642, 17.26609656, 17.23325667, 17.13251736,\n",
       "       17.02789712, 16.75887254, 16.92144841, 16.95076066, 16.82946309,\n",
       "       17.07393242, 17.52899818, 17.19227218, 16.98699768, 16.99474731,\n",
       "       16.83526816, 16.7431376 , 17.35137348, 16.81639189, 17.10627031,\n",
       "       17.03633712, 16.66035583, 17.11130502, 17.12176337, 17.02212315,\n",
       "       16.74102113, 16.54324557, 17.0511258 , 17.10697101, 16.6509754 ,\n",
       "       16.71338504, 16.7622198 , 16.90531426, 17.07054964, 16.54242777,\n",
       "       16.81808707, 16.81108807, 16.96914761, 17.19197383, 17.14793576,\n",
       "       17.07497799, 17.43309661, 17.03476291, 16.87388834, 17.04792986,\n",
       "       17.25063962, 16.93851726, 16.88954348, 16.86860122, 16.60542342,\n",
       "       16.39305872, 17.01240678, 16.94703898, 17.52966443, 17.3361454 ,\n",
       "       16.99703281, 17.40463058, 16.78430871, 16.94899645, 16.96689974,\n",
       "       16.99741422, 16.97741917, 16.95711894, 16.91451096, 17.09618073,\n",
       "       17.02446197, 16.62845221, 17.08297523, 17.04611179, 16.85557743,\n",
       "       17.0398967 , 16.92566916, 16.721329  , 17.31338665, 16.80753604,\n",
       "       17.11382619, 17.06922728, 16.98081176, 16.77430087, 17.08376414,\n",
       "       16.98329457, 17.00260124, 17.32504998, 16.97522858, 17.0951949 ,\n",
       "       16.95250956, 16.8760521 , 17.17006801, 16.72310058, 16.87169899,\n",
       "       16.80053746, 17.18553501, 16.89387085, 17.18181117, 16.89764792,\n",
       "       16.82281243, 17.14884545, 17.24413004, 16.86806673, 17.05312707,\n",
       "       16.97775711, 17.18358847, 16.86440377, 16.672454  , 17.3389735 ,\n",
       "       16.9538856 , 16.84189806, 16.77697438, 16.67871932, 16.80968517,\n",
       "       16.79233828, 16.93916561, 17.10104626, 17.08972512, 17.11421849,\n",
       "       17.1159912 , 17.15582178, 16.78345059, 16.98931051, 16.92884145,\n",
       "       17.21004254, 16.90021252, 16.89469819, 16.59402025, 16.68939877,\n",
       "       17.07024691, 17.3315622 , 17.07898748, 17.01328798, 17.30030151,\n",
       "       16.90620082, 17.53128155, 17.18384507, 16.71596613, 17.10880518,\n",
       "       17.07733925, 17.17284879, 17.23443967, 17.07796108, 16.93851864,\n",
       "       16.9376072 , 16.943394  , 16.84361327, 17.05445681, 16.92606493,\n",
       "       16.88467941, 17.49164006, 16.98142265, 16.85825284, 17.14377975,\n",
       "       16.83853637, 17.10922821, 16.74719612, 17.34017753, 17.19324629,\n",
       "       16.97007027, 17.41942161, 17.16427494, 17.10674722, 17.17537627,\n",
       "       17.21246227, 16.65869982, 17.20429768, 17.00428172, 16.86074318,\n",
       "       17.05306952, 16.63689931, 17.00376189, 16.95579631, 16.7997598 ,\n",
       "       17.31104845, 16.46839381, 17.09230934, 16.55383938, 16.80742348,\n",
       "       17.09918542, 16.92878143, 16.67798522, 16.71495853, 17.05279835,\n",
       "       17.09695212, 17.2120693 , 17.42738186, 17.07419086, 16.79695344,\n",
       "       16.91544959, 17.08699263, 16.99315709, 16.7844845 , 16.9700712 ,\n",
       "       17.0679022 , 17.11550256, 17.03633846, 16.86861482, 16.98333334,\n",
       "       16.98966082, 16.91434403, 16.67537405, 16.87784758, 16.92078414,\n",
       "       16.6198439 , 16.90165915, 17.1143573 , 17.08476432, 16.95411275,\n",
       "       17.17686812, 16.94923552, 17.15438787, 17.24118882, 16.362624  ,\n",
       "       17.15125419, 16.79000954, 17.05252383, 16.87881156, 17.22651631,\n",
       "       17.0195417 , 16.8298494 , 16.91826809, 17.18942933, 17.06012677,\n",
       "       16.91751863, 16.94546634, 16.52329528, 17.14136019, 17.07533326,\n",
       "       16.73144626, 16.96385521, 17.0504288 , 16.94839328, 16.8524748 ,\n",
       "       17.18184205, 17.28938122, 16.71189637, 17.14698868, 16.47063619,\n",
       "       17.14591812, 16.98946983, 17.09180922, 17.01534923, 17.11691519,\n",
       "       17.5576903 , 17.03452861, 16.81513507, 16.98421663, 17.0046553 ,\n",
       "       17.17943154, 16.84904707, 16.96349844, 16.77667383, 16.85828163,\n",
       "       17.36319728, 16.82774411, 17.05431988, 16.65127652, 16.90998164,\n",
       "       16.89780975, 16.90898239, 17.08611144, 16.85341356, 17.18918008,\n",
       "       16.86327007, 17.11680939, 17.11458756, 17.01877505, 16.95763889,\n",
       "       17.11306445, 16.93443029, 16.9883374 , 16.91899431, 17.1685946 ,\n",
       "       16.98586235, 17.03846099, 17.08350663, 17.12476326, 16.89660624,\n",
       "       17.03360101, 16.79397068, 16.99077899, 16.66953317, 17.03819285,\n",
       "       16.98758137, 17.14675872, 16.86660474, 16.88475639, 17.11966787,\n",
       "       17.08621357, 17.39450022, 16.98271827, 16.63706647, 16.83840186,\n",
       "       17.08568807, 17.22912183, 17.03460905, 16.99861106, 16.83199444,\n",
       "       17.22634944, 17.48492309, 17.23447913, 17.54792157, 17.20095019,\n",
       "       17.18736973, 17.23522573, 16.97325712, 17.06551965, 17.13651451,\n",
       "       16.76631411, 16.95379812, 17.2027339 , 17.14346174, 17.06765629,\n",
       "       17.18945873, 16.7843909 , 16.73514063, 17.09494961, 16.92441435,\n",
       "       17.3279313 , 17.1086076 , 17.30007924, 17.13320142, 16.80650125,\n",
       "       17.14278238, 17.15090404, 17.09965532, 16.7993911 , 16.91713851,\n",
       "       16.65812083, 16.86636664, 16.91921334, 16.87384645, 16.90218803,\n",
       "       16.93224326, 16.93179546, 16.96028051, 16.87531109, 17.06115345,\n",
       "       17.23077739, 16.79491312, 16.76926943, 16.86036165, 16.94603464,\n",
       "       16.88751434, 16.9291848 , 16.93629009, 16.88918628, 17.1345501 ])"
      ]
     },
     "execution_count": 140,
     "metadata": {},
     "output_type": "execute_result"
    }
   ],
   "source": [
    "## part 3\n",
    "\n",
    "ar1 = np.random.normal(loc=17, scale=0.2, size=1000) \n",
    "ar1"
   ]
  },
  {
   "cell_type": "code",
   "execution_count": 173,
   "metadata": {},
   "outputs": [
    {
     "name": "stdout",
     "output_type": "stream",
     "text": [
      "min : 16.30480393118943\n",
      "max : 17.606952688077403\n",
      "Range:  1.3021487568879735\n"
     ]
    }
   ],
   "source": [
    "## Part 4\n",
    "\n",
    "# Minimum Value\n",
    "print(\"min :\", min(ar1))\n",
    "# Maximum Value\n",
    "print(\"max :\", max(ar1))\n",
    "# Range\n",
    "rng  = max(ar1) - min(ar1)\n",
    "print(\"Range: \",rng) "
   ]
  },
  {
   "cell_type": "code",
   "execution_count": 181,
   "metadata": {},
   "outputs": [
    {
     "data": {
      "image/png": "[encoded data removed]",
      "text/plain": [
       "<Figure size 432x288 with 1 Axes>"
      ]
     },
     "metadata": {
      "needs_background": "light"
     },
     "output_type": "display_data"
    },
    {
     "data": {
      "image/png": "[encoded data removed]",
      "text/plain": [
       "<Figure size 432x288 with 1 Axes>"
      ]
     },
     "metadata": {
      "needs_background": "light"
     },
     "output_type": "display_data"
    },
    {
     "data": {
      "image/png": "[encoded data removed]",
      "text/plain": [
       "<Figure size 432x288 with 1 Axes>"
      ]
     },
     "metadata": {
      "needs_background": "light"
     },
     "output_type": "display_data"
    },
    {
     "data": {
      "image/png": "[encoded data removed]",
      "text/plain": [
       "<Figure size 432x288 with 1 Axes>"
      ]
     },
     "metadata": {
      "needs_background": "light"
     },
     "output_type": "display_data"
    },
    {
     "data": {
      "image/png": "[encoded data removed]",
      "text/plain": [
       "<Figure size 432x288 with 1 Axes>"
      ]
     },
     "metadata": {
      "needs_background": "light"
     },
     "output_type": "display_data"
    },
    {
     "data": {
      "image/png": "[encoded data removed]",
      "text/plain": [
       "<Figure size 432x288 with 1 Axes>"
      ]
     },
     "metadata": {
      "needs_background": "light"
     },
     "output_type": "display_data"
    },
    {
     "data": {
      "image/png": "[encoded data removed]",
      "text/plain": [
       "<Figure size 432x288 with 1 Axes>"
      ]
     },
     "metadata": {
      "needs_background": "light"
     },
     "output_type": "display_data"
    },
    {
     "data": {
      "image/png": "[encoded data removed]",
      "text/plain": [
       "<Figure size 432x288 with 1 Axes>"
      ]
     },
     "metadata": {
      "needs_background": "light"
     },
     "output_type": "display_data"
    },
    {
     "data": {
      "image/png": "[encoded data removed]",
      "text/plain": [
       "<Figure size 432x288 with 1 Axes>"
      ]
     },
     "metadata": {
      "needs_background": "light"
     },
     "output_type": "display_data"
    },
    {
     "data": {
      "image/png": "[encoded data removed]",
      "text/plain": [
       "<Figure size 432x288 with 1 Axes>"
      ]
     },
     "metadata": {
      "needs_background": "light"
     },
     "output_type": "display_data"
    }
   ],
   "source": [
    "## Part 5\n",
    "\n",
    "# Visualise the dataset by using a histogram with 10 bins\n",
    "for i, col in enumerate(df.columns):\n",
    "    plt.figure(i)\n",
    "    plt.hist(df[col], bins = 10, color=\"r\")"
   ]
  },
  {
   "cell_type": "code",
   "execution_count": 180,
   "metadata": {},
   "outputs": [
    {
     "data": {
      "image/png": "[encoded data removed]",
      "text/plain": [
       "<Figure size 432x288 with 1 Axes>"
      ]
     },
     "metadata": {
      "needs_background": "light"
     },
     "output_type": "display_data"
    }
   ],
   "source": [
    "# Visualise the probability density function\n",
    "ax = sns.distplot(df,\n",
    "                  bins=10,\n",
    "                  kde=True,\n",
    "                  color='green',\n",
    "                  hist_kws={\"linewidth\": 15,'alpha':1})\n",
    "ax.set(xlabel='Normal Distribution', ylabel='Frequency');"
   ]
  },
  {
   "cell_type": "markdown",
   "metadata": {},
   "source": [
    "# Week 3"
   ]
  },
  {
   "cell_type": "code",
   "execution_count": 183,
   "metadata": {},
   "outputs": [
    {
     "name": "stdout",
     "output_type": "stream",
     "text": [
      "A: [[2 5 1]\n",
      " [4 3 7]\n",
      " [1 3 2]]\n",
      "D: -26.000000000000014\n",
      "T: 7\n",
      "inverse A1: [[ 0.57692308  0.26923077 -1.23076923]\n",
      " [ 0.03846154 -0.11538462  0.38461538]\n",
      " [-0.34615385  0.03846154  0.53846154]]\n"
     ]
    }
   ],
   "source": [
    "## Part 1\n",
    "\n",
    "#initializing the matrix \n",
    "M = np.array([[2, 5, 1], [4, 3, 7], [1, 3, 2]])\n",
    "print('A:', M)\n",
    "\n",
    "#finding Determinant of the matrix\n",
    "D = np.linalg.det(M)\n",
    "print('D:', D)\n",
    "\n",
    "#finding Trace of the matrix\n",
    "T = np.trace(M)\n",
    "print('T:', T)\n",
    "\n",
    "#finding inverse of the matrix\n",
    "A1 = np.linalg.inv(M)\n",
    "print('inverse A1:', A1)"
   ]
  },
  {
   "cell_type": "code",
   "execution_count": 185,
   "metadata": {},
   "outputs": [
    {
     "name": "stdout",
     "output_type": "stream",
     "text": [
      "B: [[4 7 2]\n",
      " [3 2 5]\n",
      " [6 4 3]]\n",
      "C: [[3 1 9]\n",
      " [5 7 8]\n",
      " [2 1 1]]\n",
      "P: [[51 55 94]\n",
      " [29 22 48]\n",
      " [44 37 89]]\n"
     ]
    }
   ],
   "source": [
    "## part 2\n",
    "#defining the matrix B and C\n",
    "B = np.array([[4, 7, 2], [3, 2, 5], [6, 4, 3]])\n",
    "print('B:', B)\n",
    "C = np.array([[3, 1, 9], [5, 7, 8], [2, 1, 1]])\n",
    "print('C:', C)\n",
    "\n",
    "\n",
    "P = np.matmul(B, C)\n",
    "print('P:', S)"
   ]
  },
  {
   "cell_type": "markdown",
   "metadata": {},
   "source": [
    "##### part 3\n",
    "\n",
    "AB=C\n",
    "\\begin{equation}\n",
    "A\\left( \\begin{array}{c}\n",
    "\\\\3 & 2 & -1 \n",
    "\\\\2 & -1 & 4 \n",
    "\\\\4 & -2 & 3\n",
    "\\end{array} \\right)\n",
    "B\\left( \\begin{array}{c} X \\\\ Y\\\\ Z \\end{array} \\right) =\n",
    "C\\left( \\begin{array}{c} 25 \\\\ 19 \\\\ 18 \\end{array} \\right)\n",
    "\\end{equation}"
   ]
  },
  {
   "cell_type": "markdown",
   "metadata": {},
   "source": [
    "#### part 4\n",
    "\n",
    "\n",
    "A'AB=A'C\n",
    "\n",
    "\\begin{equation}\n",
    "A'\\left( \\begin{array}{c}\n",
    "0.14285714 & -0.11428571 & 0.2 \\\\\n",
    "0.28571429 & 0.37142857 & -0.4 \\\\\n",
    "0. & 0.4 & -0.2\n",
    "\\end{array} \\right)\n",
    "A\\left( \\begin{array}{c}\n",
    "3 & 2 & -1 \\\\\n",
    "2 & -1 & 4 \\\\\n",
    "4 & -2 & 3\n",
    "\\end{array} \\right)\n",
    "B\\left( \\begin{array}{c} X \\\\ Y\\\\ Z \\end{array} \\right) =\n",
    "A'\\left( \\begin{array}{c}\n",
    "0.14285714 & -0.11428571 & 0.2 \\\\\n",
    "0.28571429 & 0.37142857 & -0.4 \\\\\n",
    "0. & 0.4 & -0.2\n",
    "\\end{array} \\right)\n",
    "C\\left( \\begin{array}{c} 25 \\\\ 19 \\\\ 18 \\end{array} \\right)\n",
    "\\end{equation}"
   ]
  },
  {
   "cell_type": "code",
   "execution_count": 193,
   "metadata": {},
   "outputs": [
    {
     "name": "stdout",
     "output_type": "stream",
     "text": [
      "M: [[5.]\n",
      " [7.]\n",
      " [4.]]\n"
     ]
    }
   ],
   "source": [
    "## part 5\n",
    "A = np.array([[3, 2, -1], [2, -1, 4], [4, -2, 3]])\n",
    "A1 = np.linalg.inv(A)\n",
    "C = np.array([[25], [19], [18]])\n",
    "M = np.matmul(A1, C)\n",
    "print('M:', X)"
   ]
  },
  {
   "cell_type": "markdown",
   "metadata": {},
   "source": [
    "# week 4"
   ]
  },
  {
   "cell_type": "code",
   "execution_count": 346,
   "metadata": {},
   "outputs": [
    {
     "data": {
      "image/png": "[encoded data removed]",
      "text/plain": [
       "<Figure size 720x504 with 1 Axes>"
      ]
     },
     "metadata": {},
     "output_type": "display_data"
    }
   ],
   "source": [
    "# Create a graph object\n",
    "\n",
    "MyGraph = nx.Graph()\n",
    "\n",
    "# Add nodes\n",
    "\n",
    "# Blue Nodes\n",
    "MyGraph.add_node('A', npos=(50, 10), ccn='#40AEE1')\n",
    "MyGraph.add_node('B', npos=(50, 50), ccn='#40AEE1')\n",
    "MyGraph.add_node('C', npos=(50, 80), ccn='#40AEE1')\n",
    "MyGraph.add_node('D', npos=(75, 90), ccn='#40AEE1')\n",
    "\n",
    "# Green Nodes\n",
    "MyGraph.add_node('E1', npos=(0, 42), ccn='#00823C')\n",
    "MyGraph.add_node('E', npos=(32, 56), ccn='#00823C')\n",
    "MyGraph.add_node('F', npos=(80, 60), ccn='#00823C')\n",
    "MyGraph.add_node('G', npos=(100, 110), ccn='#00823C')\n",
    "\n",
    "# Purple Nodes\n",
    "MyGraph.add_node('I', npos=(80, 50), ccn='#0000FF')\n",
    "MyGraph.add_node('J', npos=(80, 30), ccn='#0000FF')\n",
    "MyGraph.add_node('K', npos=(49, 28), ccn='#0000FF')\n",
    "MyGraph.add_node('L', npos=(0, 28), ccn='#0000FF')\n",
    "\n",
    "# Connect nodes\n",
    "# Blue Line\n",
    "MyGraph.add_edge('A', 'B', cce='#40AEE1')\n",
    "MyGraph.add_edge('B', 'C', cce='#40AEE1')\n",
    "MyGraph.add_edge('C', 'D', cce='#40AEE1')\n",
    "\n",
    "# Green Line\n",
    "MyGraph.add_edge('E1', 'E', cce='#00823C')\n",
    "MyGraph.add_edge('E', 'F', cce='#00823C')\n",
    "MyGraph.add_edge('F', 'G', cce='#00823C')\n",
    "\n",
    "# Purple Line\n",
    "MyGraph.add_edge('I', 'J', cce='#0000FF')\n",
    "MyGraph.add_edge('J', 'K', cce='#0000FF')\n",
    "MyGraph.add_edge('K', 'L', cce='#0000FF')\n",
    "\n",
    "# Extract attributes from the graph to dictionaries\n",
    "pos = nx.get_node_attributes(MyGraph, 'npos')\n",
    "nodecolour = nx.get_node_attributes(MyGraph, 'ccn')\n",
    "edgecolour = nx.get_edge_attributes(MyGraph, 'cce')\n",
    "\n",
    "# Place the dictionary values in lists\n",
    "NodeList = list(nodecolour.values())\n",
    "EdgeList = list(edgecolour.values())\n",
    "\n",
    "# Set the size of the figure\n",
    "plt.figure(figsize=(10, 7))\n",
    "\n",
    "# Display the names of the stations\n",
    "plt.text(55, 10, s='Lewisham', rotation=15)\n",
    "plt.text(52, 35, s='6 Mile', rotation=15)\n",
    "plt.text(52, 52, s='Poplar', rotation=15)\n",
    "plt.text(52, 69, s='4.6 Mile', rotation=15)\n",
    "plt.text(34, 83, s='Bow Church', rotation=15)\n",
    "plt.text(54, 85, s='3 Mile', rotation=15)\n",
    "plt.text(68, 83, s='Stratford', rotation=15)\n",
    "\n",
    "plt.text(0, 49, s='WhiteChapel', rotation=15)\n",
    "plt.text(12, 42, s='5 Mile', rotation=15)\n",
    "plt.text(32, 59, s='Mile End', rotation=15)\n",
    "plt.text(57, 59, s='3.6 Mile', rotation=15)\n",
    "plt.text(70, 65, s='West Ham', rotation=1)\n",
    "plt.text(90, 83, s='9 Miles', rotation=15)\n",
    "plt.text(100, 100, s='upminster', rotation=15)\n",
    "\n",
    "plt.text(80, 44, s='Canning Town', rotation=15)\n",
    "plt.text(73, 35, s='2 Miles', rotation=15)\n",
    "plt.text(80, 25, s='North Greenwich', rotation=15)\n",
    "plt.text(60, 25, s='5 Miles', rotation=0)\n",
    "plt.text(37, 30, s='Canary Wharf', rotation=15)\n",
    "plt.text(20, 25, s='7 Miles', rotation=0)\n",
    "plt.text(0, 20, s='canada Water', rotation=0)\n",
    "\n",
    "# Draw the nodes and the edges\n",
    "nx.draw_networkx(MyGraph, pos, node_color=NodeList)\n",
    "nx.draw_networkx_edges(MyGraph, pos, edge_color=EdgeList)\n",
    "\n",
    "# Visualise the graph\n",
    "plt.show()"
   ]
  },
  {
   "cell_type": "code",
   "execution_count": null,
   "metadata": {},
   "outputs": [],
   "source": []
  }
 ],
 "metadata": {
  "kernelspec": {
   "display_name": "Python 3",
   "language": "python",
   "name": "python3"
  },
  "language_info": {
   "codemirror_mode": {
    "name": "ipython",
    "version": 3
   },
   "file_extension": ".py",
   "mimetype": "text/x-python",
   "name": "python",
   "nbconvert_exporter": "python",
   "pygments_lexer": "ipython3",
   "version": "3.8.5"
  }
 },
 "nbformat": 4,
 "nbformat_minor": 4
}
