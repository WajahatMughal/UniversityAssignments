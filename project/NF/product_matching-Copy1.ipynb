{
 "cells": [
  {
   "cell_type": "markdown",
   "metadata": {},
   "source": [
    "# Importing Required Libraries"
   ]
  },
  {
   "cell_type": "code",
   "execution_count": 1,
   "metadata": {},
   "outputs": [],
   "source": [
    "import pandas as pd\n",
    "import numpy as np\n",
    "import time\n",
    "\n",
    "import re\n",
    "#from sklearn.model_selection import train_test_split\n",
    "from sklearn.metrics import classification_report\n",
    "from sklearn.metrics import f1_score\n",
    "from sklearn.metrics import accuracy_score\n",
    "from sklearn.metrics import precision_score\n",
    "from sklearn.metrics import recall_score\n",
    "from sklearn.metrics import confusion_matrix\n",
    "from sklearn.tree import DecisionTreeClassifier\n",
    "from sklearn.ensemble import RandomForestClassifier\n",
    "import warnings\n",
    "warnings.filterwarnings('ignore')\n",
    "from sklearn import preprocessing\n"
   ]
  },
  {
   "cell_type": "markdown",
   "metadata": {},
   "source": [
    "# Converting Json data to DataFrame"
   ]
  },
  {
   "cell_type": "code",
   "execution_count": 2,
   "metadata": {},
   "outputs": [
    {
     "data": {
      "text/html": [
       "<div>\n",
       "<style scoped>\n",
       "    .dataframe tbody tr th:only-of-type {\n",
       "        vertical-align: middle;\n",
       "    }\n",
       "\n",
       "    .dataframe tbody tr th {\n",
       "        vertical-align: top;\n",
       "    }\n",
       "\n",
       "    .dataframe thead th {\n",
       "        text-align: right;\n",
       "    }\n",
       "</style>\n",
       "<table border=\"1\" class=\"dataframe\">\n",
       "  <thead>\n",
       "    <tr style=\"text-align: right;\">\n",
       "      <th></th>\n",
       "      <th>id_left</th>\n",
       "      <th>category_left</th>\n",
       "      <th>cluster_id_left</th>\n",
       "      <th>id_right</th>\n",
       "      <th>category_right</th>\n",
       "      <th>cluster_id_right</th>\n",
       "      <th>label</th>\n",
       "      <th>pair_id</th>\n",
       "      <th>brand_left</th>\n",
       "      <th>brand_right</th>\n",
       "      <th>description_left</th>\n",
       "      <th>description_right</th>\n",
       "      <th>keyValuePairs_left</th>\n",
       "      <th>keyValuePairs_right</th>\n",
       "      <th>price_left</th>\n",
       "      <th>price_right</th>\n",
       "      <th>specTableContent_left</th>\n",
       "      <th>specTableContent_right</th>\n",
       "      <th>title_left</th>\n",
       "      <th>title_right</th>\n",
       "    </tr>\n",
       "  </thead>\n",
       "  <tbody>\n",
       "    <tr>\n",
       "      <th>0</th>\n",
       "      <td>2551242</td>\n",
       "      <td>Computers_and_Accessories</td>\n",
       "      <td>79457</td>\n",
       "      <td>16272671</td>\n",
       "      <td>Computers_and_Accessories</td>\n",
       "      <td>79457</td>\n",
       "      <td>1</td>\n",
       "      <td>2551242#16272671</td>\n",
       "      <td>\"Corsair\"@en</td>\n",
       "      <td>NaN</td>\n",
       "      <td>\"DDR4, 2666MHz, CL16, 1.2v, XMP 2.0, Lifetime ...</td>\n",
       "      <td>NaN</td>\n",
       "      <td>{'Memory Type': 'DDR4 (PC4-21300)', 'Capacity'...</td>\n",
       "      <td>{'Categorie': 'Geheugen intern', 'Merk': 'Cors...</td>\n",
       "      <td>NaN</td>\n",
       "      <td>NaN</td>\n",
       "      <td>Memory Type DDR4 (PC4-21300) Capacity 64GB (4...</td>\n",
       "      <td>Categorie Geheugen intern Merk Corsair Produc...</td>\n",
       "      <td>\"Corsair Vengeance LPX Black 64GB (4x16GB) DD...</td>\n",
       "      <td>\"Corsair Vengeance LPX CMK64GX4M4A2666C16 - P...</td>\n",
       "    </tr>\n",
       "    <tr>\n",
       "      <th>1</th>\n",
       "      <td>16757469</td>\n",
       "      <td>Computers_and_Accessories</td>\n",
       "      <td>63553</td>\n",
       "      <td>16476204</td>\n",
       "      <td>Computers_and_Accessories</td>\n",
       "      <td>63553</td>\n",
       "      <td>1</td>\n",
       "      <td>16757469#16476204</td>\n",
       "      <td>\"HP Enterprise\"</td>\n",
       "      <td>\"HP Enterprise\"</td>\n",
       "      <td>\"Description:2 x 72GB 2.5-inch Serial Attached...</td>\n",
       "      <td>\"Description:10 x 72GB 2.5-inch Serial Attach...</td>\n",
       "      <td>{'Category': 'Proliant HardDrive', 'Sub-Catego...</td>\n",
       "      <td>{'Category': 'Proliant HardDrive', 'Sub-Catego...</td>\n",
       "      <td>NaN</td>\n",
       "      <td>\"CAD\", \"$757.74 CAD\"</td>\n",
       "      <td>Specifications: Category Proliant HardDrive S...</td>\n",
       "      <td>Specifications: Category Proliant HardDrive S...</td>\n",
       "      <td>\"DH0072BALWL HP 72-GB 3G 15K 2.5 DP SAS\", \"Nu...</td>\n",
       "      <td>\"DH0072BALWL HP 72-GB 3G 15K 2.5 DP SAS\" \"Null\"</td>\n",
       "    </tr>\n",
       "    <tr>\n",
       "      <th>2</th>\n",
       "      <td>232007</td>\n",
       "      <td>Computers_and_Accessories</td>\n",
       "      <td>212917</td>\n",
       "      <td>16442945</td>\n",
       "      <td>Computers_and_Accessories</td>\n",
       "      <td>14319765</td>\n",
       "      <td>0</td>\n",
       "      <td>232007#16442945</td>\n",
       "      <td>\"SanDisk\"</td>\n",
       "      <td>\"HP Enterprise\"</td>\n",
       "      <td>\"SDSDJ-1024 BXP 1GB 9p SD Class 2 Secure Digi...</td>\n",
       "      <td>\"Description:Genuine HPE 1GB FBD PC2-5300(2x5...</td>\n",
       "      <td>NaN</td>\n",
       "      <td>{'Category': 'Proliant Memory', 'Sub-Category'...</td>\n",
       "      <td>\"USD\", \"7.98\"</td>\n",
       "      <td>\"USD\", \"$69.95\"</td>\n",
       "      <td>NaN</td>\n",
       "      <td>Specifications: Category Proliant Memory Sub-...</td>\n",
       "      <td>\"SanDisk SDSDJ-1024 BXP 1GB 9p SD Class 2 Sec...</td>\n",
       "      <td>\"397409-B21 HP 1GB (2x512MB) PC2-5300 SDRAM\" ...</td>\n",
       "    </tr>\n",
       "    <tr>\n",
       "      <th>3</th>\n",
       "      <td>2066119</td>\n",
       "      <td>Computers_and_Accessories</td>\n",
       "      <td>667772</td>\n",
       "      <td>12411100</td>\n",
       "      <td>Computers_and_Accessories</td>\n",
       "      <td>667772</td>\n",
       "      <td>1</td>\n",
       "      <td>2066119#12411100</td>\n",
       "      <td>NaN</td>\n",
       "      <td>\"KINGSTON\"</td>\n",
       "      <td>\"DISCO DURO INTERNO SOLIDO HDD SSD\"@es</td>\n",
       "      <td>NaN</td>\n",
       "      <td>NaN</td>\n",
       "      <td>NaN</td>\n",
       "      <td>NaN</td>\n",
       "      <td>NaN</td>\n",
       "      <td>NaN</td>\n",
       "      <td>NaN</td>\n",
       "      <td>\"DISCO DURO INTERNO SOLIDO HDD SSD KINGSTON V...</td>\n",
       "      <td>\"DISCO DURO SSD Kingston Technology SSDNow V3...</td>\n",
       "    </tr>\n",
       "    <tr>\n",
       "      <th>4</th>\n",
       "      <td>6656540</td>\n",
       "      <td>Computers_and_Accessories</td>\n",
       "      <td>505997</td>\n",
       "      <td>2639431</td>\n",
       "      <td>Computers_and_Accessories</td>\n",
       "      <td>154118</td>\n",
       "      <td>0</td>\n",
       "      <td>6656540#2639431</td>\n",
       "      <td>NaN</td>\n",
       "      <td>\"Corsair\"</td>\n",
       "      <td>NaN</td>\n",
       "      <td>NaN</td>\n",
       "      <td>NaN</td>\n",
       "      <td>NaN</td>\n",
       "      <td>NaN</td>\n",
       "      <td>NaN</td>\n",
       "      <td>NaN</td>\n",
       "      <td>NaN</td>\n",
       "      <td>\"Corsair Vengeance LED 32GB (2 x 16GB) DDR4 D...</td>\n",
       "      <td>\"Corsair - Vengeance LPX 32GB (2 x 16GB) DDR4...</td>\n",
       "    </tr>\n",
       "    <tr>\n",
       "      <th>...</th>\n",
       "      <td>...</td>\n",
       "      <td>...</td>\n",
       "      <td>...</td>\n",
       "      <td>...</td>\n",
       "      <td>...</td>\n",
       "      <td>...</td>\n",
       "      <td>...</td>\n",
       "      <td>...</td>\n",
       "      <td>...</td>\n",
       "      <td>...</td>\n",
       "      <td>...</td>\n",
       "      <td>...</td>\n",
       "      <td>...</td>\n",
       "      <td>...</td>\n",
       "      <td>...</td>\n",
       "      <td>...</td>\n",
       "      <td>...</td>\n",
       "      <td>...</td>\n",
       "      <td>...</td>\n",
       "      <td>...</td>\n",
       "    </tr>\n",
       "    <tr>\n",
       "      <th>68456</th>\n",
       "      <td>6493497</td>\n",
       "      <td>Computers_and_Accessories</td>\n",
       "      <td>222681</td>\n",
       "      <td>16149764</td>\n",
       "      <td>Computers_and_Accessories</td>\n",
       "      <td>502396</td>\n",
       "      <td>0</td>\n",
       "      <td>6493497#16149764</td>\n",
       "      <td>\"HP Enterprise\"</td>\n",
       "      <td>\"HP Enterprise\"</td>\n",
       "      <td>\"Description:5 x 300GB 2.5-inch Serial Attache...</td>\n",
       "      <td>\"Description:2 x 72GB 2.5-inch Serial Attache...</td>\n",
       "      <td>{'Category': 'Proliant HardDrive', 'Sub-Catego...</td>\n",
       "      <td>{'Category': 'Proliant HardDrive', 'Sub-Catego...</td>\n",
       "      <td>NaN</td>\n",
       "      <td>\"$151.40\", \"USD\"</td>\n",
       "      <td>Specifications: Category Proliant HardDrive S...</td>\n",
       "      <td>Specifications: Category Proliant HardDrive S...</td>\n",
       "      <td>\"DG0300FARVV HP 300-GB 6G 10K 2.5 DP SAS\", \"N...</td>\n",
       "      <td>\"Null\" \"512743-001 HP 72-GB 6G 15K 2.5 DP SAS\"</td>\n",
       "    </tr>\n",
       "    <tr>\n",
       "      <th>68457</th>\n",
       "      <td>17075265</td>\n",
       "      <td>Computers_and_Accessories</td>\n",
       "      <td>944407</td>\n",
       "      <td>17346839</td>\n",
       "      <td>Computers_and_Accessories</td>\n",
       "      <td>825203</td>\n",
       "      <td>0</td>\n",
       "      <td>17075265#17346839</td>\n",
       "      <td>\"Samsung\"</td>\n",
       "      <td>NaN</td>\n",
       "      <td>NaN</td>\n",
       "      <td>\"Cost-effective SSD featuring TurboWrite and ...</td>\n",
       "      <td>NaN</td>\n",
       "      <td>NaN</td>\n",
       "      <td>NaN</td>\n",
       "      <td>NaN</td>\n",
       "      <td>NaN</td>\n",
       "      <td>NaN</td>\n",
       "      <td>\"Samsung - 840 EVO 250GB 2.5\" Solid State Dri...</td>\n",
       "      <td>\"SSD 750 EVO 2.5” SATA III 120GB \"@en</td>\n",
       "    </tr>\n",
       "    <tr>\n",
       "      <th>68458</th>\n",
       "      <td>16408794</td>\n",
       "      <td>Computers_and_Accessories</td>\n",
       "      <td>144052</td>\n",
       "      <td>3675781</td>\n",
       "      <td>Computers_and_Accessories</td>\n",
       "      <td>51801</td>\n",
       "      <td>0</td>\n",
       "      <td>16408794#3675781</td>\n",
       "      <td>\"INTEL\"@fr</td>\n",
       "      <td>\"Intel\"@en</td>\n",
       "      <td>NaN</td>\n",
       "      <td>\"Quad Core Technology, 3.6GHz clock speed, 8MB...</td>\n",
       "      <td>NaN</td>\n",
       "      <td>{'Processor Number': 'I7 7700', 'Number of Cor...</td>\n",
       "      <td>NaN</td>\n",
       "      <td>NaN</td>\n",
       "      <td>NaN</td>\n",
       "      <td>Processor Number I7 7700 Number of Cores 4 Nu...</td>\n",
       "      <td>\"Socket H4 1151 - Coffee Lake Core i7-8700K 6...</td>\n",
       "      <td>\"7th Generation Intel® Core™ i7 7700 3.6GHz S...</td>\n",
       "    </tr>\n",
       "    <tr>\n",
       "      <th>68459</th>\n",
       "      <td>13925964</td>\n",
       "      <td>Computers_and_Accessories</td>\n",
       "      <td>43816</td>\n",
       "      <td>15659664</td>\n",
       "      <td>Computers_and_Accessories</td>\n",
       "      <td>478188</td>\n",
       "      <td>0</td>\n",
       "      <td>13925964#15659664</td>\n",
       "      <td>NaN</td>\n",
       "      <td>NaN</td>\n",
       "      <td>\"Built to WD's highest standards of quality an...</td>\n",
       "      <td>NaN</td>\n",
       "      <td>NaN</td>\n",
       "      <td>NaN</td>\n",
       "      <td>\"$\", \"55.99\"</td>\n",
       "      <td>NaN</td>\n",
       "      <td>NaN</td>\n",
       "      <td>NaN</td>\n",
       "      <td>\"WD Blue WD5000AZLX - hard drive 500 GB SATA ...</td>\n",
       "      <td>\"m rock ships\"@en-US \"M-ROCK Ships New Camera...</td>\n",
       "    </tr>\n",
       "    <tr>\n",
       "      <th>68460</th>\n",
       "      <td>8308259</td>\n",
       "      <td>Computers_and_Accessories</td>\n",
       "      <td>382860</td>\n",
       "      <td>16419137</td>\n",
       "      <td>Computers_and_Accessories</td>\n",
       "      <td>547580</td>\n",
       "      <td>0</td>\n",
       "      <td>8308259#16419137</td>\n",
       "      <td>NaN</td>\n",
       "      <td>NaN</td>\n",
       "      <td>\"61 cm 250 cd / m² 1920 x 1080 Pixeles 5 ms LE...</td>\n",
       "      <td>\"Longitud diagonal: 24 \"; Tamaño: 16:9; Tecnol...</td>\n",
       "      <td>NaN</td>\n",
       "      <td>NaN</td>\n",
       "      <td>NaN</td>\n",
       "      <td>NaN</td>\n",
       "      <td>NaN</td>\n",
       "      <td>NaN</td>\n",
       "      <td>\"Acer KA KA240H 24\" Full HD TN Negro pantalla...</td>\n",
       "      <td>\"XL2430 MON ZOWIE 24 LED PANORAMI\" PANORAMI |...</td>\n",
       "    </tr>\n",
       "  </tbody>\n",
       "</table>\n",
       "<p>68461 rows × 20 columns</p>\n",
       "</div>"
      ],
      "text/plain": [
       "        id_left              category_left  cluster_id_left  id_right  \\\n",
       "0       2551242  Computers_and_Accessories            79457  16272671   \n",
       "1      16757469  Computers_and_Accessories            63553  16476204   \n",
       "2        232007  Computers_and_Accessories           212917  16442945   \n",
       "3       2066119  Computers_and_Accessories           667772  12411100   \n",
       "4       6656540  Computers_and_Accessories           505997   2639431   \n",
       "...         ...                        ...              ...       ...   \n",
       "68456   6493497  Computers_and_Accessories           222681  16149764   \n",
       "68457  17075265  Computers_and_Accessories           944407  17346839   \n",
       "68458  16408794  Computers_and_Accessories           144052   3675781   \n",
       "68459  13925964  Computers_and_Accessories            43816  15659664   \n",
       "68460   8308259  Computers_and_Accessories           382860  16419137   \n",
       "\n",
       "                  category_right  cluster_id_right  label            pair_id  \\\n",
       "0      Computers_and_Accessories             79457      1   2551242#16272671   \n",
       "1      Computers_and_Accessories             63553      1  16757469#16476204   \n",
       "2      Computers_and_Accessories          14319765      0    232007#16442945   \n",
       "3      Computers_and_Accessories            667772      1   2066119#12411100   \n",
       "4      Computers_and_Accessories            154118      0    6656540#2639431   \n",
       "...                          ...               ...    ...                ...   \n",
       "68456  Computers_and_Accessories            502396      0   6493497#16149764   \n",
       "68457  Computers_and_Accessories            825203      0  17075265#17346839   \n",
       "68458  Computers_and_Accessories             51801      0   16408794#3675781   \n",
       "68459  Computers_and_Accessories            478188      0  13925964#15659664   \n",
       "68460  Computers_and_Accessories            547580      0   8308259#16419137   \n",
       "\n",
       "            brand_left      brand_right  \\\n",
       "0         \"Corsair\"@en              NaN   \n",
       "1      \"HP Enterprise\"  \"HP Enterprise\"   \n",
       "2            \"SanDisk\"  \"HP Enterprise\"   \n",
       "3                  NaN       \"KINGSTON\"   \n",
       "4                  NaN        \"Corsair\"   \n",
       "...                ...              ...   \n",
       "68456  \"HP Enterprise\"  \"HP Enterprise\"   \n",
       "68457        \"Samsung\"              NaN   \n",
       "68458       \"INTEL\"@fr       \"Intel\"@en   \n",
       "68459              NaN              NaN   \n",
       "68460              NaN              NaN   \n",
       "\n",
       "                                        description_left  \\\n",
       "0      \"DDR4, 2666MHz, CL16, 1.2v, XMP 2.0, Lifetime ...   \n",
       "1      \"Description:2 x 72GB 2.5-inch Serial Attached...   \n",
       "2       \"SDSDJ-1024 BXP 1GB 9p SD Class 2 Secure Digi...   \n",
       "3                \"DISCO DURO INTERNO SOLIDO HDD SSD\"@es    \n",
       "4                                                    NaN   \n",
       "...                                                  ...   \n",
       "68456  \"Description:5 x 300GB 2.5-inch Serial Attache...   \n",
       "68457                                                NaN   \n",
       "68458                                                NaN   \n",
       "68459  \"Built to WD's highest standards of quality an...   \n",
       "68460  \"61 cm 250 cd / m² 1920 x 1080 Pixeles 5 ms LE...   \n",
       "\n",
       "                                       description_right  \\\n",
       "0                                                    NaN   \n",
       "1       \"Description:10 x 72GB 2.5-inch Serial Attach...   \n",
       "2       \"Description:Genuine HPE 1GB FBD PC2-5300(2x5...   \n",
       "3                                                    NaN   \n",
       "4                                                    NaN   \n",
       "...                                                  ...   \n",
       "68456   \"Description:2 x 72GB 2.5-inch Serial Attache...   \n",
       "68457   \"Cost-effective SSD featuring TurboWrite and ...   \n",
       "68458  \"Quad Core Technology, 3.6GHz clock speed, 8MB...   \n",
       "68459                                                NaN   \n",
       "68460  \"Longitud diagonal: 24 \"; Tamaño: 16:9; Tecnol...   \n",
       "\n",
       "                                      keyValuePairs_left  \\\n",
       "0      {'Memory Type': 'DDR4 (PC4-21300)', 'Capacity'...   \n",
       "1      {'Category': 'Proliant HardDrive', 'Sub-Catego...   \n",
       "2                                                    NaN   \n",
       "3                                                    NaN   \n",
       "4                                                    NaN   \n",
       "...                                                  ...   \n",
       "68456  {'Category': 'Proliant HardDrive', 'Sub-Catego...   \n",
       "68457                                                NaN   \n",
       "68458                                                NaN   \n",
       "68459                                                NaN   \n",
       "68460                                                NaN   \n",
       "\n",
       "                                     keyValuePairs_right     price_left  \\\n",
       "0      {'Categorie': 'Geheugen intern', 'Merk': 'Cors...            NaN   \n",
       "1      {'Category': 'Proliant HardDrive', 'Sub-Catego...            NaN   \n",
       "2      {'Category': 'Proliant Memory', 'Sub-Category'...  \"USD\", \"7.98\"   \n",
       "3                                                    NaN            NaN   \n",
       "4                                                    NaN            NaN   \n",
       "...                                                  ...            ...   \n",
       "68456  {'Category': 'Proliant HardDrive', 'Sub-Catego...            NaN   \n",
       "68457                                                NaN            NaN   \n",
       "68458  {'Processor Number': 'I7 7700', 'Number of Cor...            NaN   \n",
       "68459                                                NaN   \"$\", \"55.99\"   \n",
       "68460                                                NaN            NaN   \n",
       "\n",
       "                price_right  \\\n",
       "0                       NaN   \n",
       "1      \"CAD\", \"$757.74 CAD\"   \n",
       "2           \"USD\", \"$69.95\"   \n",
       "3                       NaN   \n",
       "4                       NaN   \n",
       "...                     ...   \n",
       "68456      \"$151.40\", \"USD\"   \n",
       "68457                   NaN   \n",
       "68458                   NaN   \n",
       "68459                   NaN   \n",
       "68460                   NaN   \n",
       "\n",
       "                                   specTableContent_left  \\\n",
       "0       Memory Type DDR4 (PC4-21300) Capacity 64GB (4...   \n",
       "1       Specifications: Category Proliant HardDrive S...   \n",
       "2                                                    NaN   \n",
       "3                                                    NaN   \n",
       "4                                                    NaN   \n",
       "...                                                  ...   \n",
       "68456   Specifications: Category Proliant HardDrive S...   \n",
       "68457                                                NaN   \n",
       "68458                                                NaN   \n",
       "68459                                                NaN   \n",
       "68460                                                NaN   \n",
       "\n",
       "                                  specTableContent_right  \\\n",
       "0       Categorie Geheugen intern Merk Corsair Produc...   \n",
       "1       Specifications: Category Proliant HardDrive S...   \n",
       "2       Specifications: Category Proliant Memory Sub-...   \n",
       "3                                                    NaN   \n",
       "4                                                    NaN   \n",
       "...                                                  ...   \n",
       "68456   Specifications: Category Proliant HardDrive S...   \n",
       "68457                                                NaN   \n",
       "68458   Processor Number I7 7700 Number of Cores 4 Nu...   \n",
       "68459                                                NaN   \n",
       "68460                                                NaN   \n",
       "\n",
       "                                              title_left  \\\n",
       "0       \"Corsair Vengeance LPX Black 64GB (4x16GB) DD...   \n",
       "1       \"DH0072BALWL HP 72-GB 3G 15K 2.5 DP SAS\", \"Nu...   \n",
       "2       \"SanDisk SDSDJ-1024 BXP 1GB 9p SD Class 2 Sec...   \n",
       "3       \"DISCO DURO INTERNO SOLIDO HDD SSD KINGSTON V...   \n",
       "4       \"Corsair Vengeance LED 32GB (2 x 16GB) DDR4 D...   \n",
       "...                                                  ...   \n",
       "68456   \"DG0300FARVV HP 300-GB 6G 10K 2.5 DP SAS\", \"N...   \n",
       "68457   \"Samsung - 840 EVO 250GB 2.5\" Solid State Dri...   \n",
       "68458   \"Socket H4 1151 - Coffee Lake Core i7-8700K 6...   \n",
       "68459   \"WD Blue WD5000AZLX - hard drive 500 GB SATA ...   \n",
       "68460   \"Acer KA KA240H 24\" Full HD TN Negro pantalla...   \n",
       "\n",
       "                                             title_right  \n",
       "0       \"Corsair Vengeance LPX CMK64GX4M4A2666C16 - P...  \n",
       "1        \"DH0072BALWL HP 72-GB 3G 15K 2.5 DP SAS\" \"Null\"  \n",
       "2       \"397409-B21 HP 1GB (2x512MB) PC2-5300 SDRAM\" ...  \n",
       "3       \"DISCO DURO SSD Kingston Technology SSDNow V3...  \n",
       "4       \"Corsair - Vengeance LPX 32GB (2 x 16GB) DDR4...  \n",
       "...                                                  ...  \n",
       "68456     \"Null\" \"512743-001 HP 72-GB 6G 15K 2.5 DP SAS\"  \n",
       "68457              \"SSD 750 EVO 2.5” SATA III 120GB \"@en  \n",
       "68458   \"7th Generation Intel® Core™ i7 7700 3.6GHz S...  \n",
       "68459   \"m rock ships\"@en-US \"M-ROCK Ships New Camera...  \n",
       "68460   \"XL2430 MON ZOWIE 24 LED PANORAMI\" PANORAMI |...  \n",
       "\n",
       "[68461 rows x 20 columns]"
      ]
     },
     "execution_count": 2,
     "metadata": {},
     "output_type": "execute_result"
    }
   ],
   "source": [
    "data = pd.read_json('computers_train_xlarge.json',lines = True)\n",
    "data.to_csv('train.csv',index = False)\n",
    "df = pd.read_csv('train.csv')\n",
    "df\n"
   ]
  },
  {
   "cell_type": "code",
   "execution_count": 3,
   "metadata": {},
   "outputs": [
    {
     "data": {
      "text/plain": [
       "Index(['id_left', 'category_left', 'cluster_id_left', 'id_right',\n",
       "       'category_right', 'cluster_id_right', 'label', 'pair_id', 'brand_left',\n",
       "       'brand_right', 'description_left', 'description_right',\n",
       "       'keyValuePairs_left', 'keyValuePairs_right', 'price_left',\n",
       "       'price_right', 'specTableContent_left', 'specTableContent_right',\n",
       "       'title_left', 'title_right'],\n",
       "      dtype='object')"
      ]
     },
     "execution_count": 3,
     "metadata": {},
     "output_type": "execute_result"
    }
   ],
   "source": [
    "df.columns"
   ]
  },
  {
   "cell_type": "markdown",
   "metadata": {},
   "source": [
    "# Data Cleaning : Removing Unwanted Columns"
   ]
  },
  {
   "cell_type": "code",
   "execution_count": 4,
   "metadata": {},
   "outputs": [
    {
     "data": {
      "text/html": [
       "<div>\n",
       "<style scoped>\n",
       "    .dataframe tbody tr th:only-of-type {\n",
       "        vertical-align: middle;\n",
       "    }\n",
       "\n",
       "    .dataframe tbody tr th {\n",
       "        vertical-align: top;\n",
       "    }\n",
       "\n",
       "    .dataframe thead th {\n",
       "        text-align: right;\n",
       "    }\n",
       "</style>\n",
       "<table border=\"1\" class=\"dataframe\">\n",
       "  <thead>\n",
       "    <tr style=\"text-align: right;\">\n",
       "      <th></th>\n",
       "      <th>id_left</th>\n",
       "      <th>category_left</th>\n",
       "      <th>id_right</th>\n",
       "      <th>category_right</th>\n",
       "      <th>pair_id</th>\n",
       "      <th>description_left</th>\n",
       "      <th>description_right</th>\n",
       "      <th>title_left</th>\n",
       "      <th>title_right</th>\n",
       "    </tr>\n",
       "  </thead>\n",
       "  <tbody>\n",
       "    <tr>\n",
       "      <th>0</th>\n",
       "      <td>2551242</td>\n",
       "      <td>Computers_and_Accessories</td>\n",
       "      <td>16272671</td>\n",
       "      <td>Computers_and_Accessories</td>\n",
       "      <td>2551242#16272671</td>\n",
       "      <td>\"DDR4, 2666MHz, CL16, 1.2v, XMP 2.0, Lifetime ...</td>\n",
       "      <td>NaN</td>\n",
       "      <td>\"Corsair Vengeance LPX Black 64GB (4x16GB) DD...</td>\n",
       "      <td>\"Corsair Vengeance LPX CMK64GX4M4A2666C16 - P...</td>\n",
       "    </tr>\n",
       "    <tr>\n",
       "      <th>1</th>\n",
       "      <td>16757469</td>\n",
       "      <td>Computers_and_Accessories</td>\n",
       "      <td>16476204</td>\n",
       "      <td>Computers_and_Accessories</td>\n",
       "      <td>16757469#16476204</td>\n",
       "      <td>\"Description:2 x 72GB 2.5-inch Serial Attached...</td>\n",
       "      <td>\"Description:10 x 72GB 2.5-inch Serial Attach...</td>\n",
       "      <td>\"DH0072BALWL HP 72-GB 3G 15K 2.5 DP SAS\", \"Nu...</td>\n",
       "      <td>\"DH0072BALWL HP 72-GB 3G 15K 2.5 DP SAS\" \"Null\"</td>\n",
       "    </tr>\n",
       "    <tr>\n",
       "      <th>2</th>\n",
       "      <td>232007</td>\n",
       "      <td>Computers_and_Accessories</td>\n",
       "      <td>16442945</td>\n",
       "      <td>Computers_and_Accessories</td>\n",
       "      <td>232007#16442945</td>\n",
       "      <td>\"SDSDJ-1024 BXP 1GB 9p SD Class 2 Secure Digi...</td>\n",
       "      <td>\"Description:Genuine HPE 1GB FBD PC2-5300(2x5...</td>\n",
       "      <td>\"SanDisk SDSDJ-1024 BXP 1GB 9p SD Class 2 Sec...</td>\n",
       "      <td>\"397409-B21 HP 1GB (2x512MB) PC2-5300 SDRAM\" ...</td>\n",
       "    </tr>\n",
       "    <tr>\n",
       "      <th>3</th>\n",
       "      <td>2066119</td>\n",
       "      <td>Computers_and_Accessories</td>\n",
       "      <td>12411100</td>\n",
       "      <td>Computers_and_Accessories</td>\n",
       "      <td>2066119#12411100</td>\n",
       "      <td>\"DISCO DURO INTERNO SOLIDO HDD SSD\"@es</td>\n",
       "      <td>NaN</td>\n",
       "      <td>\"DISCO DURO INTERNO SOLIDO HDD SSD KINGSTON V...</td>\n",
       "      <td>\"DISCO DURO SSD Kingston Technology SSDNow V3...</td>\n",
       "    </tr>\n",
       "    <tr>\n",
       "      <th>4</th>\n",
       "      <td>6656540</td>\n",
       "      <td>Computers_and_Accessories</td>\n",
       "      <td>2639431</td>\n",
       "      <td>Computers_and_Accessories</td>\n",
       "      <td>6656540#2639431</td>\n",
       "      <td>NaN</td>\n",
       "      <td>NaN</td>\n",
       "      <td>\"Corsair Vengeance LED 32GB (2 x 16GB) DDR4 D...</td>\n",
       "      <td>\"Corsair - Vengeance LPX 32GB (2 x 16GB) DDR4...</td>\n",
       "    </tr>\n",
       "    <tr>\n",
       "      <th>...</th>\n",
       "      <td>...</td>\n",
       "      <td>...</td>\n",
       "      <td>...</td>\n",
       "      <td>...</td>\n",
       "      <td>...</td>\n",
       "      <td>...</td>\n",
       "      <td>...</td>\n",
       "      <td>...</td>\n",
       "      <td>...</td>\n",
       "    </tr>\n",
       "    <tr>\n",
       "      <th>68456</th>\n",
       "      <td>6493497</td>\n",
       "      <td>Computers_and_Accessories</td>\n",
       "      <td>16149764</td>\n",
       "      <td>Computers_and_Accessories</td>\n",
       "      <td>6493497#16149764</td>\n",
       "      <td>\"Description:5 x 300GB 2.5-inch Serial Attache...</td>\n",
       "      <td>\"Description:2 x 72GB 2.5-inch Serial Attache...</td>\n",
       "      <td>\"DG0300FARVV HP 300-GB 6G 10K 2.5 DP SAS\", \"N...</td>\n",
       "      <td>\"Null\" \"512743-001 HP 72-GB 6G 15K 2.5 DP SAS\"</td>\n",
       "    </tr>\n",
       "    <tr>\n",
       "      <th>68457</th>\n",
       "      <td>17075265</td>\n",
       "      <td>Computers_and_Accessories</td>\n",
       "      <td>17346839</td>\n",
       "      <td>Computers_and_Accessories</td>\n",
       "      <td>17075265#17346839</td>\n",
       "      <td>NaN</td>\n",
       "      <td>\"Cost-effective SSD featuring TurboWrite and ...</td>\n",
       "      <td>\"Samsung - 840 EVO 250GB 2.5\" Solid State Dri...</td>\n",
       "      <td>\"SSD 750 EVO 2.5” SATA III 120GB \"@en</td>\n",
       "    </tr>\n",
       "    <tr>\n",
       "      <th>68458</th>\n",
       "      <td>16408794</td>\n",
       "      <td>Computers_and_Accessories</td>\n",
       "      <td>3675781</td>\n",
       "      <td>Computers_and_Accessories</td>\n",
       "      <td>16408794#3675781</td>\n",
       "      <td>NaN</td>\n",
       "      <td>\"Quad Core Technology, 3.6GHz clock speed, 8MB...</td>\n",
       "      <td>\"Socket H4 1151 - Coffee Lake Core i7-8700K 6...</td>\n",
       "      <td>\"7th Generation Intel® Core™ i7 7700 3.6GHz S...</td>\n",
       "    </tr>\n",
       "    <tr>\n",
       "      <th>68459</th>\n",
       "      <td>13925964</td>\n",
       "      <td>Computers_and_Accessories</td>\n",
       "      <td>15659664</td>\n",
       "      <td>Computers_and_Accessories</td>\n",
       "      <td>13925964#15659664</td>\n",
       "      <td>\"Built to WD's highest standards of quality an...</td>\n",
       "      <td>NaN</td>\n",
       "      <td>\"WD Blue WD5000AZLX - hard drive 500 GB SATA ...</td>\n",
       "      <td>\"m rock ships\"@en-US \"M-ROCK Ships New Camera...</td>\n",
       "    </tr>\n",
       "    <tr>\n",
       "      <th>68460</th>\n",
       "      <td>8308259</td>\n",
       "      <td>Computers_and_Accessories</td>\n",
       "      <td>16419137</td>\n",
       "      <td>Computers_and_Accessories</td>\n",
       "      <td>8308259#16419137</td>\n",
       "      <td>\"61 cm 250 cd / m² 1920 x 1080 Pixeles 5 ms LE...</td>\n",
       "      <td>\"Longitud diagonal: 24 \"; Tamaño: 16:9; Tecnol...</td>\n",
       "      <td>\"Acer KA KA240H 24\" Full HD TN Negro pantalla...</td>\n",
       "      <td>\"XL2430 MON ZOWIE 24 LED PANORAMI\" PANORAMI |...</td>\n",
       "    </tr>\n",
       "  </tbody>\n",
       "</table>\n",
       "<p>68461 rows × 9 columns</p>\n",
       "</div>"
      ],
      "text/plain": [
       "        id_left              category_left  id_right  \\\n",
       "0       2551242  Computers_and_Accessories  16272671   \n",
       "1      16757469  Computers_and_Accessories  16476204   \n",
       "2        232007  Computers_and_Accessories  16442945   \n",
       "3       2066119  Computers_and_Accessories  12411100   \n",
       "4       6656540  Computers_and_Accessories   2639431   \n",
       "...         ...                        ...       ...   \n",
       "68456   6493497  Computers_and_Accessories  16149764   \n",
       "68457  17075265  Computers_and_Accessories  17346839   \n",
       "68458  16408794  Computers_and_Accessories   3675781   \n",
       "68459  13925964  Computers_and_Accessories  15659664   \n",
       "68460   8308259  Computers_and_Accessories  16419137   \n",
       "\n",
       "                  category_right            pair_id  \\\n",
       "0      Computers_and_Accessories   2551242#16272671   \n",
       "1      Computers_and_Accessories  16757469#16476204   \n",
       "2      Computers_and_Accessories    232007#16442945   \n",
       "3      Computers_and_Accessories   2066119#12411100   \n",
       "4      Computers_and_Accessories    6656540#2639431   \n",
       "...                          ...                ...   \n",
       "68456  Computers_and_Accessories   6493497#16149764   \n",
       "68457  Computers_and_Accessories  17075265#17346839   \n",
       "68458  Computers_and_Accessories   16408794#3675781   \n",
       "68459  Computers_and_Accessories  13925964#15659664   \n",
       "68460  Computers_and_Accessories   8308259#16419137   \n",
       "\n",
       "                                        description_left  \\\n",
       "0      \"DDR4, 2666MHz, CL16, 1.2v, XMP 2.0, Lifetime ...   \n",
       "1      \"Description:2 x 72GB 2.5-inch Serial Attached...   \n",
       "2       \"SDSDJ-1024 BXP 1GB 9p SD Class 2 Secure Digi...   \n",
       "3                \"DISCO DURO INTERNO SOLIDO HDD SSD\"@es    \n",
       "4                                                    NaN   \n",
       "...                                                  ...   \n",
       "68456  \"Description:5 x 300GB 2.5-inch Serial Attache...   \n",
       "68457                                                NaN   \n",
       "68458                                                NaN   \n",
       "68459  \"Built to WD's highest standards of quality an...   \n",
       "68460  \"61 cm 250 cd / m² 1920 x 1080 Pixeles 5 ms LE...   \n",
       "\n",
       "                                       description_right  \\\n",
       "0                                                    NaN   \n",
       "1       \"Description:10 x 72GB 2.5-inch Serial Attach...   \n",
       "2       \"Description:Genuine HPE 1GB FBD PC2-5300(2x5...   \n",
       "3                                                    NaN   \n",
       "4                                                    NaN   \n",
       "...                                                  ...   \n",
       "68456   \"Description:2 x 72GB 2.5-inch Serial Attache...   \n",
       "68457   \"Cost-effective SSD featuring TurboWrite and ...   \n",
       "68458  \"Quad Core Technology, 3.6GHz clock speed, 8MB...   \n",
       "68459                                                NaN   \n",
       "68460  \"Longitud diagonal: 24 \"; Tamaño: 16:9; Tecnol...   \n",
       "\n",
       "                                              title_left  \\\n",
       "0       \"Corsair Vengeance LPX Black 64GB (4x16GB) DD...   \n",
       "1       \"DH0072BALWL HP 72-GB 3G 15K 2.5 DP SAS\", \"Nu...   \n",
       "2       \"SanDisk SDSDJ-1024 BXP 1GB 9p SD Class 2 Sec...   \n",
       "3       \"DISCO DURO INTERNO SOLIDO HDD SSD KINGSTON V...   \n",
       "4       \"Corsair Vengeance LED 32GB (2 x 16GB) DDR4 D...   \n",
       "...                                                  ...   \n",
       "68456   \"DG0300FARVV HP 300-GB 6G 10K 2.5 DP SAS\", \"N...   \n",
       "68457   \"Samsung - 840 EVO 250GB 2.5\" Solid State Dri...   \n",
       "68458   \"Socket H4 1151 - Coffee Lake Core i7-8700K 6...   \n",
       "68459   \"WD Blue WD5000AZLX - hard drive 500 GB SATA ...   \n",
       "68460   \"Acer KA KA240H 24\" Full HD TN Negro pantalla...   \n",
       "\n",
       "                                             title_right  \n",
       "0       \"Corsair Vengeance LPX CMK64GX4M4A2666C16 - P...  \n",
       "1        \"DH0072BALWL HP 72-GB 3G 15K 2.5 DP SAS\" \"Null\"  \n",
       "2       \"397409-B21 HP 1GB (2x512MB) PC2-5300 SDRAM\" ...  \n",
       "3       \"DISCO DURO SSD Kingston Technology SSDNow V3...  \n",
       "4       \"Corsair - Vengeance LPX 32GB (2 x 16GB) DDR4...  \n",
       "...                                                  ...  \n",
       "68456     \"Null\" \"512743-001 HP 72-GB 6G 15K 2.5 DP SAS\"  \n",
       "68457              \"SSD 750 EVO 2.5” SATA III 120GB \"@en  \n",
       "68458   \"7th Generation Intel® Core™ i7 7700 3.6GHz S...  \n",
       "68459   \"m rock ships\"@en-US \"M-ROCK Ships New Camera...  \n",
       "68460   \"XL2430 MON ZOWIE 24 LED PANORAMI\" PANORAMI |...  \n",
       "\n",
       "[68461 rows x 9 columns]"
      ]
     },
     "execution_count": 4,
     "metadata": {},
     "output_type": "execute_result"
    }
   ],
   "source": [
    "df.drop(df.columns[[2,5,6,8,9,12,13,14,15,16,17]],axis=1,inplace =True)\n",
    "df"
   ]
  },
  {
   "cell_type": "markdown",
   "metadata": {},
   "source": [
    "# Data Analysis "
   ]
  },
  {
   "cell_type": "code",
   "execution_count": 5,
   "metadata": {},
   "outputs": [
    {
     "name": "stdout",
     "output_type": "stream",
     "text": [
      "<class 'pandas.core.frame.DataFrame'>\n",
      "RangeIndex: 68461 entries, 0 to 68460\n",
      "Data columns (total 9 columns):\n",
      " #   Column             Non-Null Count  Dtype \n",
      "---  ------             --------------  ----- \n",
      " 0   id_left            68461 non-null  int64 \n",
      " 1   category_left      68461 non-null  object\n",
      " 2   id_right           68461 non-null  int64 \n",
      " 3   category_right     68461 non-null  object\n",
      " 4   pair_id            68461 non-null  object\n",
      " 5   description_left   47460 non-null  object\n",
      " 6   description_right  48360 non-null  object\n",
      " 7   title_left         68461 non-null  object\n",
      " 8   title_right        68461 non-null  object\n",
      "dtypes: int64(2), object(7)\n",
      "memory usage: 4.7+ MB\n"
     ]
    }
   ],
   "source": [
    "df.info()"
   ]
  },
  {
   "cell_type": "code",
   "execution_count": 6,
   "metadata": {},
   "outputs": [
    {
     "data": {
      "text/plain": [
       "Computers_and_Accessories     64958\n",
       "Other_Electronics              1115\n",
       "Office_Products                 844\n",
       "Video_Games                     575\n",
       "Camera_and_Photo                286\n",
       "Musical_Instruments             269\n",
       "Luggage_and_Travel_Gear         256\n",
       "Tools_and_Home_Improvement      108\n",
       "Cellphones_and_Accessories       50\n",
       "Name: category_left, dtype: int64"
      ]
     },
     "execution_count": 6,
     "metadata": {},
     "output_type": "execute_result"
    }
   ],
   "source": [
    "df['category_left'].value_counts()"
   ]
  },
  {
   "cell_type": "code",
   "execution_count": 7,
   "metadata": {},
   "outputs": [
    {
     "data": {
      "text/plain": [
       "Computers_and_Accessories     66972\n",
       "Other_Electronics               463\n",
       "Video_Games                     405\n",
       "Office_Products                 262\n",
       "Luggage_and_Travel_Gear         122\n",
       "Cellphones_and_Accessories      109\n",
       "Camera_and_Photo                 74\n",
       "Musical_Instruments              44\n",
       "Tools_and_Home_Improvement       10\n",
       "Name: category_right, dtype: int64"
      ]
     },
     "execution_count": 7,
     "metadata": {},
     "output_type": "execute_result"
    }
   ],
   "source": [
    "df['category_right'].value_counts()\n"
   ]
  },
  {
   "cell_type": "code",
   "execution_count": 8,
   "metadata": {},
   "outputs": [
    {
     "data": {
      "text/plain": [
       "14619165    43\n",
       "8364399     42\n",
       "5411511     41\n",
       "8167053     40\n",
       "4927241     40\n",
       "            ..\n",
       "6810432      1\n",
       "16476204     1\n",
       "10969778     1\n",
       "5872903      1\n",
       "4604957      1\n",
       "Name: id_left, Length: 4287, dtype: int64"
      ]
     },
     "execution_count": 8,
     "metadata": {},
     "output_type": "execute_result"
    }
   ],
   "source": [
    "df['id_left'].value_counts()\n"
   ]
  },
  {
   "cell_type": "code",
   "execution_count": 9,
   "metadata": {},
   "outputs": [
    {
     "data": {
      "text/plain": [
       "0"
      ]
     },
     "execution_count": 9,
     "metadata": {},
     "output_type": "execute_result"
    }
   ],
   "source": [
    "(df['id_left'] < 0).sum()"
   ]
  },
  {
   "cell_type": "code",
   "execution_count": 10,
   "metadata": {},
   "outputs": [
    {
     "data": {
      "text/plain": [
       "7900893     116\n",
       "12050629    107\n",
       "7440444     106\n",
       "6443065      97\n",
       "13889537     97\n",
       "           ... \n",
       "5199342       1\n",
       "16567684      1\n",
       "16123988      1\n",
       "13661066      1\n",
       "7867351       1\n",
       "Name: id_right, Length: 4144, dtype: int64"
      ]
     },
     "execution_count": 10,
     "metadata": {},
     "output_type": "execute_result"
    }
   ],
   "source": [
    "df['id_right'].value_counts()"
   ]
  },
  {
   "cell_type": "code",
   "execution_count": 11,
   "metadata": {},
   "outputs": [
    {
     "data": {
      "text/plain": [
       "21001"
      ]
     },
     "execution_count": 11,
     "metadata": {},
     "output_type": "execute_result"
    }
   ],
   "source": [
    "df['description_left'].isnull().sum()"
   ]
  },
  {
   "cell_type": "markdown",
   "metadata": {},
   "source": [
    "# Filling the Null values of Description Columns by Title"
   ]
  },
  {
   "cell_type": "code",
   "execution_count": 12,
   "metadata": {},
   "outputs": [
    {
     "data": {
      "text/plain": [
       "0        \"DDR4, 2666MHz, CL16, 1.2v, XMP 2.0, Lifetime ...\n",
       "1        \"Description:2 x 72GB 2.5-inch Serial Attached...\n",
       "2         \"SDSDJ-1024 BXP 1GB 9p SD Class 2 Secure Digi...\n",
       "3                  \"DISCO DURO INTERNO SOLIDO HDD SSD\"@es \n",
       "4         \"Corsair Vengeance LED 32GB (2 x 16GB) DDR4 D...\n",
       "                               ...                        \n",
       "68456    \"Description:5 x 300GB 2.5-inch Serial Attache...\n",
       "68457     \"Samsung - 840 EVO 250GB 2.5\" Solid State Dri...\n",
       "68458     \"Socket H4 1151 - Coffee Lake Core i7-8700K 6...\n",
       "68459    \"Built to WD's highest standards of quality an...\n",
       "68460    \"61 cm 250 cd / m² 1920 x 1080 Pixeles 5 ms LE...\n",
       "Name: description_left, Length: 68461, dtype: object"
      ]
     },
     "execution_count": 12,
     "metadata": {},
     "output_type": "execute_result"
    }
   ],
   "source": [
    "df.description_left.fillna(df.title_left, inplace = True)\n",
    "df['description_left']"
   ]
  },
  {
   "cell_type": "code",
   "execution_count": 13,
   "metadata": {},
   "outputs": [
    {
     "data": {
      "text/plain": [
       "0"
      ]
     },
     "execution_count": 13,
     "metadata": {},
     "output_type": "execute_result"
    }
   ],
   "source": [
    "df['description_left'].isnull().sum()"
   ]
  },
  {
   "cell_type": "code",
   "execution_count": 14,
   "metadata": {},
   "outputs": [
    {
     "data": {
      "text/plain": [
       "20101"
      ]
     },
     "execution_count": 14,
     "metadata": {},
     "output_type": "execute_result"
    }
   ],
   "source": [
    "df['description_right'].isnull().sum()"
   ]
  },
  {
   "cell_type": "code",
   "execution_count": 15,
   "metadata": {},
   "outputs": [
    {
     "data": {
      "text/plain": [
       "0         \"Corsair Vengeance LPX Black 64GB (4x16GB) DD...\n",
       "1         \"Description:10 x 72GB 2.5-inch Serial Attach...\n",
       "2         \"Description:Genuine HPE 1GB FBD PC2-5300(2x5...\n",
       "3         \"DISCO DURO INTERNO SOLIDO HDD SSD KINGSTON V...\n",
       "4         \"Corsair Vengeance LED 32GB (2 x 16GB) DDR4 D...\n",
       "                               ...                        \n",
       "68456     \"Description:2 x 72GB 2.5-inch Serial Attache...\n",
       "68457     \"Cost-effective SSD featuring TurboWrite and ...\n",
       "68458    \"Quad Core Technology, 3.6GHz clock speed, 8MB...\n",
       "68459     \"WD Blue WD5000AZLX - hard drive 500 GB SATA ...\n",
       "68460    \"Longitud diagonal: 24 \"; Tamaño: 16:9; Tecnol...\n",
       "Name: description_right, Length: 68461, dtype: object"
      ]
     },
     "execution_count": 15,
     "metadata": {},
     "output_type": "execute_result"
    }
   ],
   "source": [
    "df.description_right.fillna(df.title_left, inplace = True)\n",
    "df['description_right']"
   ]
  },
  {
   "cell_type": "code",
   "execution_count": 16,
   "metadata": {},
   "outputs": [
    {
     "data": {
      "text/plain": [
       "0"
      ]
     },
     "execution_count": 16,
     "metadata": {},
     "output_type": "execute_result"
    }
   ],
   "source": [
    "df['description_right'].isnull().sum()"
   ]
  },
  {
   "cell_type": "code",
   "execution_count": 29,
   "metadata": {},
   "outputs": [],
   "source": [
    "def remove_spaces(text):\n",
    "    text=text.strip()\n",
    "    text=text.split()\n",
    "    return ' '.join(text)\n",
    "\n",
    "contraction = {'cause':'because',\n",
    "              'aint': 'am not',\n",
    "              'aren\\'t': 'are not'}\n",
    "\n",
    "def mapping_replacer(x,dic):\n",
    "    for words in dic.keys():\n",
    "        if ' ' + words + ' ' in x:\n",
    "            x=x.replace(' '+ words +' ' ,' '+dic[words]+' ' )\n",
    "    return x\n",
    "\n"
   ]
  },
  {
   "cell_type": "code",
   "execution_count": 30,
   "metadata": {},
   "outputs": [],
   "source": [
    "#Stemming, lemmetisation and tokenisation\n",
    "import nltk\n",
    "from nltk.tokenize import word_tokenize\n",
    "from nltk.stem.wordnet import WordNetLemmatizer\n",
    "from nltk.stem.lancaster import LancasterStemmer\n",
    "\n",
    "nltk.LancasterStemmer\n",
    "ls = LancasterStemmer()\n",
    "lem = WordNetLemmatizer()\n",
    "def lexicon_normalization(text):\n",
    "    words = word_tokenize(text) \n",
    "    \n",
    "    \n",
    "    # 1- Stemming\n",
    "    words_stem = [ls.stem(w) for w in words]\n",
    "    \n",
    "    # 2- Lemmatization\n",
    "    words_lem = [lem.lemmatize(w) for w in words_stem]\n",
    "    return words_lem\n",
    "\n"
   ]
  },
  {
   "cell_type": "code",
   "execution_count": 31,
   "metadata": {},
   "outputs": [],
   "source": [
    "\n",
    "#Handling stopwords\n",
    "from collections import Counter\n",
    "def remove_stopword(text):\n",
    "    stop_words = stopwords.words('english')\n",
    "    stopwords_dict = Counter(stop_words)\n",
    "    text = ' '.join([word for word in text.split() if word not in stopwords_dict])\n",
    "    return text\n"
   ]
  },
  {
   "cell_type": "code",
   "execution_count": 37,
   "metadata": {},
   "outputs": [],
   "source": [
    "\n",
    "\n",
    "#Removing links, brackets, numbers, punctuations etc.\n",
    "\n",
    "def clean_text(text):\n",
    "    '''Make text lowercase, remove text in square brackets,remove links,remove punctuation\n",
    "    and remove words containing numbers.'''\n",
    "    text = str(text).lower()\n",
    "    text = re.sub('\\[.*?\\]', ' ', text)\n",
    "    text = re.sub('https?://\\S+|www\\.\\S+', ' ', text)\n",
    "    text = re.sub('<.*?>+', ' ', text)\n",
    "    text = re.sub('_', ' ', text)\n",
    "    text = re.sub('\\n', '', text)\n",
    "    #text = re.sub('\\w*\\d\\w*', '', text)\n",
    "    text = re.sub('\\'','', text)\n",
    "    text = re.sub('and', '', text)\n",
    "    \n",
    "    \n",
    "    return text\n"
   ]
  },
  {
   "cell_type": "code",
   "execution_count": 38,
   "metadata": {},
   "outputs": [],
   "source": [
    "\n",
    "#Handling stopwords\n",
    "from collections import Counter\n",
    "def remove_stopword(text):\n",
    "    stop_words = stopwords.words('english')\n",
    "    stopwords_dict = Counter(stop_words)\n",
    "    text = ' '.join([word for word in text.split() if word not in stopwords_dict])\n",
    "    return text\n"
   ]
  },
  {
   "cell_type": "code",
   "execution_count": 39,
   "metadata": {},
   "outputs": [],
   "source": [
    "#dc=df['description_right']\n",
    "#import re\n",
    "#dc = dc.map(lambda x: re.sub(r'\\W+', ' ', str(x)))\n",
    "#dc = dc.replace(r'\\W+', ' ', regex=True)\n",
    "\n",
    "#dc=dc.apply(lambda x: mapping_replacer(x, contraction))\n",
    "\n",
    "#dc=dc.apply(lambda x:clean_text(x))\n",
    "\n",
    "#dc=dc.apply(lambda x: remove_stopword(x))\n",
    "\n",
    "#dc=dc.apply(lambda x: lexicon_normalization(x))\n",
    "\n",
    "#dc"
   ]
  },
  {
   "cell_type": "code",
   "execution_count": 40,
   "metadata": {},
   "outputs": [
    {
     "ename": "NameError",
     "evalue": "name 'stopwords' is not defined",
     "output_type": "error",
     "traceback": [
      "\u001b[1;31m---------------------------------------------------------------------------\u001b[0m",
      "\u001b[1;31mNameError\u001b[0m                                 Traceback (most recent call last)",
      "Input \u001b[1;32mIn [40]\u001b[0m, in \u001b[0;36m<cell line: 9>\u001b[1;34m()\u001b[0m\n\u001b[0;32m      5\u001b[0m df[\u001b[38;5;124m'\u001b[39m\u001b[38;5;124mdescription_right\u001b[39m\u001b[38;5;124m'\u001b[39m]\u001b[38;5;241m=\u001b[39mdf[\u001b[38;5;124m'\u001b[39m\u001b[38;5;124mdescription_right\u001b[39m\u001b[38;5;124m'\u001b[39m]\u001b[38;5;241m.\u001b[39mapply(\u001b[38;5;28;01mlambda\u001b[39;00m x:mapping_replacer(x, contraction))\n\u001b[0;32m      7\u001b[0m df[\u001b[38;5;124m'\u001b[39m\u001b[38;5;124mdescription_right\u001b[39m\u001b[38;5;124m'\u001b[39m]\u001b[38;5;241m=\u001b[39mdf[\u001b[38;5;124m'\u001b[39m\u001b[38;5;124mdescription_right\u001b[39m\u001b[38;5;124m'\u001b[39m]\u001b[38;5;241m.\u001b[39mapply(\u001b[38;5;28;01mlambda\u001b[39;00m x:clean_text(x))\n\u001b[1;32m----> 9\u001b[0m df[\u001b[38;5;124m'\u001b[39m\u001b[38;5;124mdescription_right\u001b[39m\u001b[38;5;124m'\u001b[39m]\u001b[38;5;241m=\u001b[39m\u001b[43mdf\u001b[49m\u001b[43m[\u001b[49m\u001b[38;5;124;43m'\u001b[39;49m\u001b[38;5;124;43mdescription_right\u001b[39;49m\u001b[38;5;124;43m'\u001b[39;49m\u001b[43m]\u001b[49m\u001b[38;5;241;43m.\u001b[39;49m\u001b[43mapply\u001b[49m\u001b[43m(\u001b[49m\u001b[38;5;28;43;01mlambda\u001b[39;49;00m\u001b[43m \u001b[49m\u001b[43mx\u001b[49m\u001b[43m:\u001b[49m\u001b[43mremove_stopword\u001b[49m\u001b[43m(\u001b[49m\u001b[43mx\u001b[49m\u001b[43m)\u001b[49m\u001b[43m)\u001b[49m\n",
      "File \u001b[1;32m~\\anaconda3\\lib\\site-packages\\pandas\\core\\series.py:4433\u001b[0m, in \u001b[0;36mSeries.apply\u001b[1;34m(self, func, convert_dtype, args, **kwargs)\u001b[0m\n\u001b[0;32m   4323\u001b[0m \u001b[38;5;28;01mdef\u001b[39;00m \u001b[38;5;21mapply\u001b[39m(\n\u001b[0;32m   4324\u001b[0m     \u001b[38;5;28mself\u001b[39m,\n\u001b[0;32m   4325\u001b[0m     func: AggFuncType,\n\u001b[1;32m   (...)\u001b[0m\n\u001b[0;32m   4328\u001b[0m     \u001b[38;5;241m*\u001b[39m\u001b[38;5;241m*\u001b[39mkwargs,\n\u001b[0;32m   4329\u001b[0m ) \u001b[38;5;241m-\u001b[39m\u001b[38;5;241m>\u001b[39m DataFrame \u001b[38;5;241m|\u001b[39m Series:\n\u001b[0;32m   4330\u001b[0m     \u001b[38;5;124;03m\"\"\"\u001b[39;00m\n\u001b[0;32m   4331\u001b[0m \u001b[38;5;124;03m    Invoke function on values of Series.\u001b[39;00m\n\u001b[0;32m   4332\u001b[0m \n\u001b[1;32m   (...)\u001b[0m\n\u001b[0;32m   4431\u001b[0m \u001b[38;5;124;03m    dtype: float64\u001b[39;00m\n\u001b[0;32m   4432\u001b[0m \u001b[38;5;124;03m    \"\"\"\u001b[39;00m\n\u001b[1;32m-> 4433\u001b[0m     \u001b[38;5;28;01mreturn\u001b[39;00m \u001b[43mSeriesApply\u001b[49m\u001b[43m(\u001b[49m\u001b[38;5;28;43mself\u001b[39;49m\u001b[43m,\u001b[49m\u001b[43m \u001b[49m\u001b[43mfunc\u001b[49m\u001b[43m,\u001b[49m\u001b[43m \u001b[49m\u001b[43mconvert_dtype\u001b[49m\u001b[43m,\u001b[49m\u001b[43m \u001b[49m\u001b[43margs\u001b[49m\u001b[43m,\u001b[49m\u001b[43m \u001b[49m\u001b[43mkwargs\u001b[49m\u001b[43m)\u001b[49m\u001b[38;5;241;43m.\u001b[39;49m\u001b[43mapply\u001b[49m\u001b[43m(\u001b[49m\u001b[43m)\u001b[49m\n",
      "File \u001b[1;32m~\\anaconda3\\lib\\site-packages\\pandas\\core\\apply.py:1082\u001b[0m, in \u001b[0;36mSeriesApply.apply\u001b[1;34m(self)\u001b[0m\n\u001b[0;32m   1078\u001b[0m \u001b[38;5;28;01mif\u001b[39;00m \u001b[38;5;28misinstance\u001b[39m(\u001b[38;5;28mself\u001b[39m\u001b[38;5;241m.\u001b[39mf, \u001b[38;5;28mstr\u001b[39m):\n\u001b[0;32m   1079\u001b[0m     \u001b[38;5;66;03m# if we are a string, try to dispatch\u001b[39;00m\n\u001b[0;32m   1080\u001b[0m     \u001b[38;5;28;01mreturn\u001b[39;00m \u001b[38;5;28mself\u001b[39m\u001b[38;5;241m.\u001b[39mapply_str()\n\u001b[1;32m-> 1082\u001b[0m \u001b[38;5;28;01mreturn\u001b[39;00m \u001b[38;5;28;43mself\u001b[39;49m\u001b[38;5;241;43m.\u001b[39;49m\u001b[43mapply_standard\u001b[49m\u001b[43m(\u001b[49m\u001b[43m)\u001b[49m\n",
      "File \u001b[1;32m~\\anaconda3\\lib\\site-packages\\pandas\\core\\apply.py:1137\u001b[0m, in \u001b[0;36mSeriesApply.apply_standard\u001b[1;34m(self)\u001b[0m\n\u001b[0;32m   1131\u001b[0m         values \u001b[38;5;241m=\u001b[39m obj\u001b[38;5;241m.\u001b[39mastype(\u001b[38;5;28mobject\u001b[39m)\u001b[38;5;241m.\u001b[39m_values\n\u001b[0;32m   1132\u001b[0m         \u001b[38;5;66;03m# error: Argument 2 to \"map_infer\" has incompatible type\u001b[39;00m\n\u001b[0;32m   1133\u001b[0m         \u001b[38;5;66;03m# \"Union[Callable[..., Any], str, List[Union[Callable[..., Any], str]],\u001b[39;00m\n\u001b[0;32m   1134\u001b[0m         \u001b[38;5;66;03m# Dict[Hashable, Union[Union[Callable[..., Any], str],\u001b[39;00m\n\u001b[0;32m   1135\u001b[0m         \u001b[38;5;66;03m# List[Union[Callable[..., Any], str]]]]]\"; expected\u001b[39;00m\n\u001b[0;32m   1136\u001b[0m         \u001b[38;5;66;03m# \"Callable[[Any], Any]\"\u001b[39;00m\n\u001b[1;32m-> 1137\u001b[0m         mapped \u001b[38;5;241m=\u001b[39m \u001b[43mlib\u001b[49m\u001b[38;5;241;43m.\u001b[39;49m\u001b[43mmap_infer\u001b[49m\u001b[43m(\u001b[49m\n\u001b[0;32m   1138\u001b[0m \u001b[43m            \u001b[49m\u001b[43mvalues\u001b[49m\u001b[43m,\u001b[49m\n\u001b[0;32m   1139\u001b[0m \u001b[43m            \u001b[49m\u001b[43mf\u001b[49m\u001b[43m,\u001b[49m\u001b[43m  \u001b[49m\u001b[38;5;66;43;03m# type: ignore[arg-type]\u001b[39;49;00m\n\u001b[0;32m   1140\u001b[0m \u001b[43m            \u001b[49m\u001b[43mconvert\u001b[49m\u001b[38;5;241;43m=\u001b[39;49m\u001b[38;5;28;43mself\u001b[39;49m\u001b[38;5;241;43m.\u001b[39;49m\u001b[43mconvert_dtype\u001b[49m\u001b[43m,\u001b[49m\n\u001b[0;32m   1141\u001b[0m \u001b[43m        \u001b[49m\u001b[43m)\u001b[49m\n\u001b[0;32m   1143\u001b[0m \u001b[38;5;28;01mif\u001b[39;00m \u001b[38;5;28mlen\u001b[39m(mapped) \u001b[38;5;129;01mand\u001b[39;00m \u001b[38;5;28misinstance\u001b[39m(mapped[\u001b[38;5;241m0\u001b[39m], ABCSeries):\n\u001b[0;32m   1144\u001b[0m     \u001b[38;5;66;03m# GH#43986 Need to do list(mapped) in order to get treated as nested\u001b[39;00m\n\u001b[0;32m   1145\u001b[0m     \u001b[38;5;66;03m#  See also GH#25959 regarding EA support\u001b[39;00m\n\u001b[0;32m   1146\u001b[0m     \u001b[38;5;28;01mreturn\u001b[39;00m obj\u001b[38;5;241m.\u001b[39m_constructor_expanddim(\u001b[38;5;28mlist\u001b[39m(mapped), index\u001b[38;5;241m=\u001b[39mobj\u001b[38;5;241m.\u001b[39mindex)\n",
      "File \u001b[1;32m~\\anaconda3\\lib\\site-packages\\pandas\\_libs\\lib.pyx:2870\u001b[0m, in \u001b[0;36mpandas._libs.lib.map_infer\u001b[1;34m()\u001b[0m\n",
      "Input \u001b[1;32mIn [40]\u001b[0m, in \u001b[0;36m<lambda>\u001b[1;34m(x)\u001b[0m\n\u001b[0;32m      5\u001b[0m df[\u001b[38;5;124m'\u001b[39m\u001b[38;5;124mdescription_right\u001b[39m\u001b[38;5;124m'\u001b[39m]\u001b[38;5;241m=\u001b[39mdf[\u001b[38;5;124m'\u001b[39m\u001b[38;5;124mdescription_right\u001b[39m\u001b[38;5;124m'\u001b[39m]\u001b[38;5;241m.\u001b[39mapply(\u001b[38;5;28;01mlambda\u001b[39;00m x:mapping_replacer(x, contraction))\n\u001b[0;32m      7\u001b[0m df[\u001b[38;5;124m'\u001b[39m\u001b[38;5;124mdescription_right\u001b[39m\u001b[38;5;124m'\u001b[39m]\u001b[38;5;241m=\u001b[39mdf[\u001b[38;5;124m'\u001b[39m\u001b[38;5;124mdescription_right\u001b[39m\u001b[38;5;124m'\u001b[39m]\u001b[38;5;241m.\u001b[39mapply(\u001b[38;5;28;01mlambda\u001b[39;00m x:clean_text(x))\n\u001b[1;32m----> 9\u001b[0m df[\u001b[38;5;124m'\u001b[39m\u001b[38;5;124mdescription_right\u001b[39m\u001b[38;5;124m'\u001b[39m]\u001b[38;5;241m=\u001b[39mdf[\u001b[38;5;124m'\u001b[39m\u001b[38;5;124mdescription_right\u001b[39m\u001b[38;5;124m'\u001b[39m]\u001b[38;5;241m.\u001b[39mapply(\u001b[38;5;28;01mlambda\u001b[39;00m x:\u001b[43mremove_stopword\u001b[49m\u001b[43m(\u001b[49m\u001b[43mx\u001b[49m\u001b[43m)\u001b[49m)\n",
      "Input \u001b[1;32mIn [38]\u001b[0m, in \u001b[0;36mremove_stopword\u001b[1;34m(text)\u001b[0m\n\u001b[0;32m      3\u001b[0m \u001b[38;5;28;01mdef\u001b[39;00m \u001b[38;5;21mremove_stopword\u001b[39m(text):\n\u001b[1;32m----> 4\u001b[0m     stop_words \u001b[38;5;241m=\u001b[39m \u001b[43mstopwords\u001b[49m\u001b[38;5;241m.\u001b[39mwords(\u001b[38;5;124m'\u001b[39m\u001b[38;5;124menglish\u001b[39m\u001b[38;5;124m'\u001b[39m)\n\u001b[0;32m      5\u001b[0m     stopwords_dict \u001b[38;5;241m=\u001b[39m Counter(stop_words)\n\u001b[0;32m      6\u001b[0m     text \u001b[38;5;241m=\u001b[39m \u001b[38;5;124m'\u001b[39m\u001b[38;5;124m \u001b[39m\u001b[38;5;124m'\u001b[39m\u001b[38;5;241m.\u001b[39mjoin([word \u001b[38;5;28;01mfor\u001b[39;00m word \u001b[38;5;129;01min\u001b[39;00m text\u001b[38;5;241m.\u001b[39msplit() \u001b[38;5;28;01mif\u001b[39;00m word \u001b[38;5;129;01mnot\u001b[39;00m \u001b[38;5;129;01min\u001b[39;00m stopwords_dict])\n",
      "\u001b[1;31mNameError\u001b[0m: name 'stopwords' is not defined"
     ]
    }
   ],
   "source": [
    "import re\n",
    "df['description_right'] = df['description_right'].map(lambda x: re.sub(r'\\W+', ' ', str(x)))\n",
    "df['description_right'] = df['description_right'].replace(r'\\W+', ' ', regex=True)\n",
    "\n",
    "df['description_right']=df['description_right'].apply(lambda x:mapping_replacer(x, contraction))\n",
    "\n",
    "df['description_right']=df['description_right'].apply(lambda x:clean_text(x))\n",
    "\n",
    "df['description_right']=df['description_right'].apply(lambda x:remove_stopword(x))\n",
    "\n",
    "#df['description_right']=df['description_right'].apply(lambda x: lexicon_normalization(x))"
   ]
  },
  {
   "cell_type": "code",
   "execution_count": null,
   "metadata": {},
   "outputs": [],
   "source": [
    "import re\n",
    "df['description_left'] = df['description_left'].map(lambda x: re.sub(r'\\W+', ' ', str(x)))\n",
    "df['description_left'] = df['description_left'].replace(r'\\W+', ' ', regex=True)\n",
    "\n",
    "df['description_left']=df['description_left'].apply(lambda x: mapping_replacer(x, contraction))\n",
    "\n",
    "df['description_left']=df['description_left'].apply(lambda x:clean_text(x))\n",
    "\n",
    "#df['description_left']=df['description_left'].apply(lambda x: remove_stopword(x))\n",
    "\n",
    "#df['description_left']=df['description_left'].apply(lambda x: lexicon_normalization(x))"
   ]
  },
  {
   "cell_type": "code",
   "execution_count": null,
   "metadata": {},
   "outputs": [],
   "source": []
  },
  {
   "cell_type": "code",
   "execution_count": null,
   "metadata": {},
   "outputs": [],
   "source": [
    "df['description_right']"
   ]
  },
  {
   "cell_type": "code",
   "execution_count": null,
   "metadata": {},
   "outputs": [],
   "source": [
    "df['description_left']"
   ]
  },
  {
   "cell_type": "markdown",
   "metadata": {},
   "source": [
    "# Creating Target column "
   ]
  },
  {
   "cell_type": "code",
   "execution_count": null,
   "metadata": {},
   "outputs": [],
   "source": [
    "def id_target(n):\n",
    "    if(n<0):\n",
    "        return 0\n",
    "    else:\n",
    "        return 1"
   ]
  },
  {
   "cell_type": "code",
   "execution_count": null,
   "metadata": {},
   "outputs": [],
   "source": [
    "df['target'] = df['id_right'].apply(id_target)\n",
    "df"
   ]
  },
  {
   "cell_type": "markdown",
   "metadata": {},
   "source": [
    "# Counting matched and not matched Products"
   ]
  },
  {
   "cell_type": "code",
   "execution_count": null,
   "metadata": {},
   "outputs": [],
   "source": [
    "df['target'].value_counts()\n",
    "\n",
    "#0 for negative id_right values\n",
    "#1 for positive id_right values"
   ]
  },
  {
   "cell_type": "markdown",
   "metadata": {},
   "source": [
    "# Comparing category left and category right"
   ]
  },
  {
   "cell_type": "code",
   "execution_count": null,
   "metadata": {},
   "outputs": [],
   "source": [
    "df['category_match'] = np.where(df['category_left'] == df['category_right'],1,0)\n",
    "df.head()\n",
    "\n",
    "#1-Match / 0-Unmatch\n"
   ]
  },
  {
   "cell_type": "code",
   "execution_count": null,
   "metadata": {},
   "outputs": [],
   "source": [
    "df['category_match'].value_counts()\n"
   ]
  },
  {
   "cell_type": "code",
   "execution_count": null,
   "metadata": {},
   "outputs": [],
   "source": [
    "df.info()"
   ]
  },
  {
   "cell_type": "code",
   "execution_count": null,
   "metadata": {},
   "outputs": [],
   "source": [
    "df.drop(df.index[df['category_match'] == 0],inplace = True)"
   ]
  },
  {
   "cell_type": "code",
   "execution_count": null,
   "metadata": {},
   "outputs": [],
   "source": [
    "df['category_match'].value_counts()"
   ]
  },
  {
   "cell_type": "code",
   "execution_count": null,
   "metadata": {},
   "outputs": [],
   "source": [
    "newdf=df.copy()\n",
    "newdf.head()"
   ]
  },
  {
   "cell_type": "markdown",
   "metadata": {},
   "source": [
    "# Applying Maching Numbers function to match the products Features "
   ]
  },
  {
   "cell_type": "code",
   "execution_count": null,
   "metadata": {},
   "outputs": [],
   "source": [
    "def matching_numbers(description_right, description_left):\n",
    "\n",
    "    description_right = set(re.findall(r'[0-9]+', description_right))\n",
    "    description_left = set(re.findall(r'[0-9]+', description_left))    \n",
    "    union = description_right.union(description_left)\n",
    "    intersection = description_right.intersection(description_left)\n",
    "\n",
    "    if len(description_right)==0 and len(description_left) == 0:\n",
    "        return 1\n",
    "    else:\n",
    "        return (len(intersection)/ len(union))\n"
   ]
  },
  {
   "cell_type": "markdown",
   "metadata": {},
   "source": [
    "# Implementing Levenshtein Text similarity "
   ]
  },
  {
   "cell_type": "code",
   "execution_count": null,
   "metadata": {},
   "outputs": [],
   "source": [
    "\n",
    "import jellyfish as jf\n",
    "def engineer_features(df):\n",
    "    \n",
    "    df['description_left'] = df['description_left'].str.lower()\n",
    "    df['description_right'] = df['description_right'].str.lower()\n",
    "\n",
    "    df['levenshtein_distance'] = df.apply(\n",
    "    lambda x: jf.levenshtein_distance(x['description_right'], \n",
    "                                      x['description_left']), axis=1)\n",
    "\n",
    "    df['matching_numbers'] = df.apply(\n",
    "    lambda x: matching_numbers(x['description_right'], \n",
    "                               x['description_left']), axis=1)\n",
    "\n",
    "    df['matching_numbers_log'] = (df['matching_numbers']+1).apply(np.log)\n",
    "    \n",
    "    df.replace([np.inf, -np.inf], np.nan, inplace=True)\n",
    "    df.fillna(value=0, inplace=True)\n",
    "\n",
    "    return df\n"
   ]
  },
  {
   "cell_type": "markdown",
   "metadata": {},
   "source": [
    "# All Required Features "
   ]
  },
  {
   "cell_type": "code",
   "execution_count": null,
   "metadata": {},
   "outputs": [],
   "source": [
    "df.head()"
   ]
  },
  {
   "cell_type": "code",
   "execution_count": null,
   "metadata": {},
   "outputs": [],
   "source": [
    "df = engineer_features(df)\n",
    "df = df[['description_left','description_right','levenshtein_distance','matching_numbers']]\n",
    "df"
   ]
  },
  {
   "cell_type": "code",
   "execution_count": null,
   "metadata": {},
   "outputs": [],
   "source": [
    "df=df.sort_values(by=['levenshtein_distance'], ascending=[False])\n",
    "df"
   ]
  },
  {
   "cell_type": "markdown",
   "metadata": {},
   "source": [
    "# Examining the mean ,count and max values of columns"
   ]
  },
  {
   "cell_type": "code",
   "execution_count": null,
   "metadata": {},
   "outputs": [],
   "source": [
    "df.describe()"
   ]
  },
  {
   "cell_type": "code",
   "execution_count": null,
   "metadata": {},
   "outputs": [],
   "source": [
    "df['match'] = np.where(((df['levenshtein_distance']<70) & (df['matching_numbers']>0.4)),1,0)\n",
    "df['match'].value_counts()"
   ]
  },
  {
   "cell_type": "code",
   "execution_count": null,
   "metadata": {},
   "outputs": [],
   "source": [
    "df"
   ]
  },
  {
   "cell_type": "markdown",
   "metadata": {},
   "source": [
    "# Applying Train test Split For Finding Model Accuracy"
   ]
  },
  {
   "cell_type": "code",
   "execution_count": 42,
   "metadata": {},
   "outputs": [
    {
     "ename": "KeyError",
     "evalue": "\"None of [Index(['levenshtein_distance', 'matching_numbers'], dtype='object')] are in the [columns]\"",
     "output_type": "error",
     "traceback": [
      "\u001b[1;31m---------------------------------------------------------------------------\u001b[0m",
      "\u001b[1;31mKeyError\u001b[0m                                  Traceback (most recent call last)",
      "Input \u001b[1;32mIn [42]\u001b[0m, in \u001b[0;36m<cell line: 1>\u001b[1;34m()\u001b[0m\n\u001b[1;32m----> 1\u001b[0m X \u001b[38;5;241m=\u001b[39m \u001b[43mdf\u001b[49m\u001b[43m[\u001b[49m\u001b[43m[\u001b[49m\u001b[38;5;124;43m'\u001b[39;49m\u001b[38;5;124;43mlevenshtein_distance\u001b[39;49m\u001b[38;5;124;43m'\u001b[39;49m\u001b[43m,\u001b[49m\n\u001b[0;32m      2\u001b[0m \u001b[43m       \u001b[49m\u001b[38;5;124;43m'\u001b[39;49m\u001b[38;5;124;43mmatching_numbers\u001b[39;49m\u001b[38;5;124;43m'\u001b[39;49m\u001b[43m]\u001b[49m\u001b[43m]\u001b[49m\u001b[38;5;241m.\u001b[39mvalues\n\u001b[0;32m      3\u001b[0m y \u001b[38;5;241m=\u001b[39m df[\u001b[38;5;124m'\u001b[39m\u001b[38;5;124mtarget\u001b[39m\u001b[38;5;124m'\u001b[39m]\u001b[38;5;241m.\u001b[39mvalues\n\u001b[0;32m      5\u001b[0m X_train, X_test, y_train, y_test \u001b[38;5;241m=\u001b[39m train_test_split(X, y, test_size\u001b[38;5;241m=\u001b[39m\u001b[38;5;241m0.3\u001b[39m, random_state\u001b[38;5;241m=\u001b[39m\u001b[38;5;241m1\u001b[39m, stratify\u001b[38;5;241m=\u001b[39my)\n",
      "File \u001b[1;32m~\\anaconda3\\lib\\site-packages\\pandas\\core\\frame.py:3511\u001b[0m, in \u001b[0;36mDataFrame.__getitem__\u001b[1;34m(self, key)\u001b[0m\n\u001b[0;32m   3509\u001b[0m     \u001b[38;5;28;01mif\u001b[39;00m is_iterator(key):\n\u001b[0;32m   3510\u001b[0m         key \u001b[38;5;241m=\u001b[39m \u001b[38;5;28mlist\u001b[39m(key)\n\u001b[1;32m-> 3511\u001b[0m     indexer \u001b[38;5;241m=\u001b[39m \u001b[38;5;28;43mself\u001b[39;49m\u001b[38;5;241;43m.\u001b[39;49m\u001b[43mcolumns\u001b[49m\u001b[38;5;241;43m.\u001b[39;49m\u001b[43m_get_indexer_strict\u001b[49m\u001b[43m(\u001b[49m\u001b[43mkey\u001b[49m\u001b[43m,\u001b[49m\u001b[43m \u001b[49m\u001b[38;5;124;43m\"\u001b[39;49m\u001b[38;5;124;43mcolumns\u001b[39;49m\u001b[38;5;124;43m\"\u001b[39;49m\u001b[43m)\u001b[49m[\u001b[38;5;241m1\u001b[39m]\n\u001b[0;32m   3513\u001b[0m \u001b[38;5;66;03m# take() does not accept boolean indexers\u001b[39;00m\n\u001b[0;32m   3514\u001b[0m \u001b[38;5;28;01mif\u001b[39;00m \u001b[38;5;28mgetattr\u001b[39m(indexer, \u001b[38;5;124m\"\u001b[39m\u001b[38;5;124mdtype\u001b[39m\u001b[38;5;124m\"\u001b[39m, \u001b[38;5;28;01mNone\u001b[39;00m) \u001b[38;5;241m==\u001b[39m \u001b[38;5;28mbool\u001b[39m:\n",
      "File \u001b[1;32m~\\anaconda3\\lib\\site-packages\\pandas\\core\\indexes\\base.py:5782\u001b[0m, in \u001b[0;36mIndex._get_indexer_strict\u001b[1;34m(self, key, axis_name)\u001b[0m\n\u001b[0;32m   5779\u001b[0m \u001b[38;5;28;01melse\u001b[39;00m:\n\u001b[0;32m   5780\u001b[0m     keyarr, indexer, new_indexer \u001b[38;5;241m=\u001b[39m \u001b[38;5;28mself\u001b[39m\u001b[38;5;241m.\u001b[39m_reindex_non_unique(keyarr)\n\u001b[1;32m-> 5782\u001b[0m \u001b[38;5;28;43mself\u001b[39;49m\u001b[38;5;241;43m.\u001b[39;49m\u001b[43m_raise_if_missing\u001b[49m\u001b[43m(\u001b[49m\u001b[43mkeyarr\u001b[49m\u001b[43m,\u001b[49m\u001b[43m \u001b[49m\u001b[43mindexer\u001b[49m\u001b[43m,\u001b[49m\u001b[43m \u001b[49m\u001b[43maxis_name\u001b[49m\u001b[43m)\u001b[49m\n\u001b[0;32m   5784\u001b[0m keyarr \u001b[38;5;241m=\u001b[39m \u001b[38;5;28mself\u001b[39m\u001b[38;5;241m.\u001b[39mtake(indexer)\n\u001b[0;32m   5785\u001b[0m \u001b[38;5;28;01mif\u001b[39;00m \u001b[38;5;28misinstance\u001b[39m(key, Index):\n\u001b[0;32m   5786\u001b[0m     \u001b[38;5;66;03m# GH 42790 - Preserve name from an Index\u001b[39;00m\n",
      "File \u001b[1;32m~\\anaconda3\\lib\\site-packages\\pandas\\core\\indexes\\base.py:5842\u001b[0m, in \u001b[0;36mIndex._raise_if_missing\u001b[1;34m(self, key, indexer, axis_name)\u001b[0m\n\u001b[0;32m   5840\u001b[0m     \u001b[38;5;28;01mif\u001b[39;00m use_interval_msg:\n\u001b[0;32m   5841\u001b[0m         key \u001b[38;5;241m=\u001b[39m \u001b[38;5;28mlist\u001b[39m(key)\n\u001b[1;32m-> 5842\u001b[0m     \u001b[38;5;28;01mraise\u001b[39;00m \u001b[38;5;167;01mKeyError\u001b[39;00m(\u001b[38;5;124mf\u001b[39m\u001b[38;5;124m\"\u001b[39m\u001b[38;5;124mNone of [\u001b[39m\u001b[38;5;132;01m{\u001b[39;00mkey\u001b[38;5;132;01m}\u001b[39;00m\u001b[38;5;124m] are in the [\u001b[39m\u001b[38;5;132;01m{\u001b[39;00maxis_name\u001b[38;5;132;01m}\u001b[39;00m\u001b[38;5;124m]\u001b[39m\u001b[38;5;124m\"\u001b[39m)\n\u001b[0;32m   5844\u001b[0m not_found \u001b[38;5;241m=\u001b[39m \u001b[38;5;28mlist\u001b[39m(ensure_index(key)[missing_mask\u001b[38;5;241m.\u001b[39mnonzero()[\u001b[38;5;241m0\u001b[39m]]\u001b[38;5;241m.\u001b[39munique())\n\u001b[0;32m   5845\u001b[0m \u001b[38;5;28;01mraise\u001b[39;00m \u001b[38;5;167;01mKeyError\u001b[39;00m(\u001b[38;5;124mf\u001b[39m\u001b[38;5;124m\"\u001b[39m\u001b[38;5;132;01m{\u001b[39;00mnot_found\u001b[38;5;132;01m}\u001b[39;00m\u001b[38;5;124m not in index\u001b[39m\u001b[38;5;124m\"\u001b[39m)\n",
      "\u001b[1;31mKeyError\u001b[0m: \"None of [Index(['levenshtein_distance', 'matching_numbers'], dtype='object')] are in the [columns]\""
     ]
    }
   ],
   "source": [
    "\n",
    "X = df[['levenshtein_distance',\n",
    "       'matching_numbers']].values\n",
    "y = df['target'].values\n",
    "\n",
    "X_train, X_test, y_train, y_test = train_test_split(X, y, test_size=0.3, random_state=1, stratify=y)\n",
    "y_train"
   ]
  },
  {
   "cell_type": "code",
   "execution_count": null,
   "metadata": {},
   "outputs": [],
   "source": [
    "data1 = pd.read_json('computers_gs.json',lines = True)\n",
    "data1.to_csv('test.csv',index = False)\n",
    "df_test = pd.read_csv('test.csv')\n",
    "df_test['label'].value_counts()\n"
   ]
  },
  {
   "cell_type": "code",
   "execution_count": null,
   "metadata": {},
   "outputs": [],
   "source": [
    "df_test.columns"
   ]
  },
  {
   "cell_type": "code",
   "execution_count": null,
   "metadata": {},
   "outputs": [],
   "source": [
    "df_test.drop(df_test.columns[[2,5,8,9,12,13,14,15,16,17]],axis=1,inplace =True)\n",
    "df_test\n"
   ]
  },
  {
   "cell_type": "code",
   "execution_count": null,
   "metadata": {},
   "outputs": [],
   "source": [
    "df_test['description_right'].isnull().sum()"
   ]
  },
  {
   "cell_type": "code",
   "execution_count": null,
   "metadata": {},
   "outputs": [],
   "source": [
    "df_test.description_right.fillna(df_test.title_left, inplace = True)\n",
    "df_test['description_right']"
   ]
  },
  {
   "cell_type": "code",
   "execution_count": null,
   "metadata": {},
   "outputs": [],
   "source": [
    "df_test['description_right'].isnull().sum()"
   ]
  },
  {
   "cell_type": "code",
   "execution_count": null,
   "metadata": {},
   "outputs": [],
   "source": [
    "df_test['description_left'].isnull().sum()"
   ]
  },
  {
   "cell_type": "code",
   "execution_count": null,
   "metadata": {},
   "outputs": [],
   "source": [
    "df_test.description_left.fillna(df_test.title_left, inplace = True)\n",
    "df_test['description_left']"
   ]
  },
  {
   "cell_type": "code",
   "execution_count": null,
   "metadata": {},
   "outputs": [],
   "source": [
    "df_test['description_left'].isnull().sum()"
   ]
  },
  {
   "cell_type": "code",
   "execution_count": null,
   "metadata": {},
   "outputs": [],
   "source": [
    "df_test['category_match'] = np.where(df_test['category_left'] == df_test['category_right'],1,0)\n",
    "df_test"
   ]
  },
  {
   "cell_type": "code",
   "execution_count": null,
   "metadata": {},
   "outputs": [],
   "source": [
    "df_test['category_match'].value_counts()"
   ]
  },
  {
   "cell_type": "code",
   "execution_count": null,
   "metadata": {},
   "outputs": [],
   "source": [
    "df_test.drop(df_test.index[df_test['category_match'] == 0],inplace = True)"
   ]
  },
  {
   "cell_type": "code",
   "execution_count": null,
   "metadata": {},
   "outputs": [],
   "source": [
    "df_test['category_match'].value_counts()"
   ]
  },
  {
   "cell_type": "code",
   "execution_count": null,
   "metadata": {},
   "outputs": [],
   "source": []
  },
  {
   "cell_type": "code",
   "execution_count": null,
   "metadata": {},
   "outputs": [],
   "source": [
    "df_test['description_right'] = df_test['description_right'].map(lambda x: re.sub(r'\\W+', ' ', str(x)))\n",
    "df_test['description_right'] = df_test['description_right'].replace(r'\\W+', ' ', regex=True)\n",
    "\n",
    "df_test['description_right']=df_test['description_right'].apply(lambda x: mapping_replacer(x, contraction))\n",
    "\n",
    "df_test['description_right']=df_test['description_right'].apply(lambda x:clean_text(x))\n",
    "\n",
    "#df_test['description_right']=df_test['description_right'].apply(lambda x: remove_stopword(x))\n",
    "\n",
    "#df['description_right']=df['description_right'].apply(lambda x: lexicon_normalization(x))"
   ]
  },
  {
   "cell_type": "code",
   "execution_count": null,
   "metadata": {},
   "outputs": [],
   "source": []
  },
  {
   "cell_type": "code",
   "execution_count": null,
   "metadata": {},
   "outputs": [],
   "source": [
    "df_test['description_left'] = df_test['description_left'].map(lambda x: re.sub(r'\\W+', ' ', str(x)))\n",
    "df_test['description_left'] = df_test['description_left'].replace(r'\\W+', ' ', regex=True)\n",
    "\n",
    "df_test['description_left']=df_test['description_left'].apply(lambda x: mapping_replacer(x, contraction))\n",
    "\n",
    "df_test['description_left']=df_test['description_left'].apply(lambda x:clean_text(x))\n",
    "\n",
    "#df_test['description_left']=df_test['description_left'].apply(lambda x: remove_stopword(x))\n",
    "\n",
    "#df['description_right']=df['description_right'].apply(lambda x: lexicon_normalization(x))"
   ]
  },
  {
   "cell_type": "code",
   "execution_count": null,
   "metadata": {},
   "outputs": [],
   "source": []
  },
  {
   "cell_type": "code",
   "execution_count": null,
   "metadata": {},
   "outputs": [],
   "source": [
    "df_test = engineer_features(df_test)\n",
    "df_test = df_test[['description_left','description_right','levenshtein_distance','matching_numbers','label']]\n",
    "df_test"
   ]
  },
  {
   "cell_type": "code",
   "execution_count": null,
   "metadata": {},
   "outputs": [],
   "source": [
    "X_train=df[['levenshtein_distance','matching_numbers']]\n",
    "X_test=df_test[['levenshtein_distance','matching_numbers']]\n",
    "y_train=df['match']\n",
    "y_test=df_test['label']\n",
    "y_train"
   ]
  },
  {
   "cell_type": "markdown",
   "metadata": {},
   "source": [
    "# Creating Function For Finding Confusion Matrix"
   ]
  },
  {
   "cell_type": "code",
   "execution_count": null,
   "metadata": {},
   "outputs": [],
   "source": [
    "def get_confusion_matrix_values(y_test, y_pred):\n",
    "    cm = confusion_matrix(y_test, y_pred)\n",
    "    return(cm[0][0], cm[0][1], cm[1][0], cm[1][1])"
   ]
  },
  {
   "cell_type": "code",
   "execution_count": null,
   "metadata": {},
   "outputs": [],
   "source": []
  },
  {
   "cell_type": "markdown",
   "metadata": {},
   "source": [
    "# Model Building: Decision Tree and Random Forest "
   ]
  },
  {
   "cell_type": "code",
   "execution_count": null,
   "metadata": {},
   "outputs": [],
   "source": [
    "classifiers = {\n",
    "    \"DecisionTreeClassifier\":DecisionTreeClassifier(),\n",
    "    \"RandomForestClassifier\":RandomForestClassifier(n_estimators=100,max_depth=4),\n",
    "\n",
    "}\n",
    "\n",
    "df_results = pd.DataFrame(columns=['model', 'accuracy', 'precision',\n",
    "                                   'recall','true_pos','false_pos',\n",
    "                                   'true_neg','false_neg'])\n",
    "\n",
    "for key in classifiers:\n",
    "\n",
    "    classifier = classifiers[key]\n",
    "    model = classifier.fit(X_train, y_train)\n",
    "    y_pred = model.predict(X_test)\n",
    "\n",
    "    accuracy = accuracy_score(y_test, y_pred)\n",
    "    precision = precision_score(y_test, y_pred, zero_division=0)\n",
    "    recall = recall_score(y_test, y_pred)\n",
    "    f1 = f1_score(y_test, y_pred, zero_division=0)\n",
    "    classification = classification_report(y_test, y_pred, zero_division=0)\n",
    "    tp, fp, fn, tn = get_confusion_matrix_values(y_test, y_pred)\n",
    "\n",
    "    row = {'model': key,\n",
    "           'accuracy': accuracy,\n",
    "           'precision': precision,\n",
    "           'recall': recall,\n",
    "           'f1': f1,\n",
    "           'true_pos': tp,\n",
    "           'false_pos': fp,\n",
    "           'true_neg': tn,\n",
    "           'false_neg': fn,\n",
    "          }\n",
    "    df_results = df_results.append(row, ignore_index=True)\n",
    "\n",
    "df_results.head(10)"
   ]
  },
  {
   "cell_type": "code",
   "execution_count": null,
   "metadata": {},
   "outputs": [],
   "source": [
    "classifier=RandomForestClassifier(n_estimators=100)\n",
    "model = classifier.fit(X_train, y_train)\n",
    "y_pred = model.predict(X_test)\n",
    "\n",
    "accuracy = accuracy_score(y_test, y_pred)\n",
    "accuracy"
   ]
  },
  {
   "cell_type": "markdown",
   "metadata": {},
   "source": [
    "# Estimating Results in Binary"
   ]
  },
  {
   "cell_type": "code",
   "execution_count": null,
   "metadata": {},
   "outputs": [],
   "source": [
    "results = pd.DataFrame(data={'predictions': y_pred, 'actual': y_test})\n",
    "results['result'] = np.where(results['predictions']==results['actual'], 1, 0)\n",
    "results\n"
   ]
  },
  {
   "cell_type": "markdown",
   "metadata": {},
   "source": [
    "# Final Results with Match and Not Matched Classification"
   ]
  },
  {
   "cell_type": "code",
   "execution_count": null,
   "metadata": {},
   "outputs": [],
   "source": [
    "results['predictions'].replace(0, 'Not match',inplace=True)\n",
    "results['predictions'].replace(1, 'Match',inplace=True)\n",
    "\n",
    "results['actual'].replace(0, 'Not Match',inplace=True)\n",
    "results['actual'].replace(1, 'Match',inplace=True)\n",
    "\n",
    "results['result'].replace(0, 'False',inplace=True)\n",
    "results['result'].replace(1, 'True',inplace=True)\n",
    "results"
   ]
  },
  {
   "cell_type": "code",
   "execution_count": null,
   "metadata": {},
   "outputs": [],
   "source": []
  }
 ],
 "metadata": {
  "kernelspec": {
   "display_name": "Python 3 (ipykernel)",
   "language": "python",
   "name": "python3"
  },
  "language_info": {
   "codemirror_mode": {
    "name": "ipython",
    "version": 3
   },
   "file_extension": ".py",
   "mimetype": "text/x-python",
   "name": "python",
   "nbconvert_exporter": "python",
   "pygments_lexer": "ipython3",
   "version": "3.9.12"
  }
 },
 "nbformat": 4,
 "nbformat_minor": 4
}
