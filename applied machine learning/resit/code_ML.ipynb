{
 "cells": [
  {
   "cell_type": "code",
   "execution_count": 60,
   "id": "4d62c614",
   "metadata": {},
   "outputs": [],
   "source": [
    "\n",
    "import sys\n",
    "import pandas as pd\n",
    "import nltk\n",
    "from sklearn.metrics import classification_report\n",
    "#Data Preprocessing\n",
    "import html\n",
    "import numpy as np\n",
    "import re\n",
    "import warnings\n",
    "warnings.filterwarnings('ignore')\n",
    "from nltk.corpus import stopwords\n",
    "from nltk.tokenize import word_tokenize"
   ]
  },
  {
   "cell_type": "code",
   "execution_count": 61,
   "id": "fb1df617",
   "metadata": {},
   "outputs": [
    {
     "data": {
      "text/html": [
       "<div>\n",
       "<style scoped>\n",
       "    .dataframe tbody tr th:only-of-type {\n",
       "        vertical-align: middle;\n",
       "    }\n",
       "\n",
       "    .dataframe tbody tr th {\n",
       "        vertical-align: top;\n",
       "    }\n",
       "\n",
       "    .dataframe thead th {\n",
       "        text-align: right;\n",
       "    }\n",
       "</style>\n",
       "<table border=\"1\" class=\"dataframe\">\n",
       "  <thead>\n",
       "    <tr style=\"text-align: right;\">\n",
       "      <th></th>\n",
       "      <th>review_id</th>\n",
       "      <th>text</th>\n",
       "      <th>verified</th>\n",
       "      <th>review_score</th>\n",
       "      <th>product_category</th>\n",
       "    </tr>\n",
       "  </thead>\n",
       "  <tbody>\n",
       "    <tr>\n",
       "      <th>0</th>\n",
       "      <td>product_review_000000</td>\n",
       "      <td>OMG this is sooo good.. Very Good!!!</td>\n",
       "      <td>True</td>\n",
       "      <td>5.0</td>\n",
       "      <td>prime_pantry</td>\n",
       "    </tr>\n",
       "    <tr>\n",
       "      <th>1</th>\n",
       "      <td>product_review_000001</td>\n",
       "      <td>This soap smells pretty good and it seems to w...</td>\n",
       "      <td>True</td>\n",
       "      <td>4.0</td>\n",
       "      <td>prime_pantry</td>\n",
       "    </tr>\n",
       "    <tr>\n",
       "      <th>2</th>\n",
       "      <td>product_review_000002</td>\n",
       "      <td>Don't seem to dissolve after quite some time. ...</td>\n",
       "      <td>False</td>\n",
       "      <td>1.0</td>\n",
       "      <td>prime_pantry</td>\n",
       "    </tr>\n",
       "    <tr>\n",
       "      <th>3</th>\n",
       "      <td>product_review_000003</td>\n",
       "      <td>these zip bags do as they should. very good. I...</td>\n",
       "      <td>True</td>\n",
       "      <td>5.0</td>\n",
       "      <td>prime_pantry</td>\n",
       "    </tr>\n",
       "    <tr>\n",
       "      <th>4</th>\n",
       "      <td>product_review_000004</td>\n",
       "      <td>What. A. Mess.\\nI recommend making this in a m...</td>\n",
       "      <td>True</td>\n",
       "      <td>2.0</td>\n",
       "      <td>prime_pantry</td>\n",
       "    </tr>\n",
       "  </tbody>\n",
       "</table>\n",
       "</div>"
      ],
      "text/plain": [
       "               review_id                                               text  \\\n",
       "0  product_review_000000               OMG this is sooo good.. Very Good!!!   \n",
       "1  product_review_000001  This soap smells pretty good and it seems to w...   \n",
       "2  product_review_000002  Don't seem to dissolve after quite some time. ...   \n",
       "3  product_review_000003  these zip bags do as they should. very good. I...   \n",
       "4  product_review_000004  What. A. Mess.\\nI recommend making this in a m...   \n",
       "\n",
       "  verified  review_score product_category  \n",
       "0     True           5.0     prime_pantry  \n",
       "1     True           4.0     prime_pantry  \n",
       "2    False           1.0     prime_pantry  \n",
       "3     True           5.0     prime_pantry  \n",
       "4     True           2.0     prime_pantry  "
      ]
     },
     "execution_count": 61,
     "metadata": {},
     "output_type": "execute_result"
    }
   ],
   "source": [
    "df = pd.read_csv(\"processed_reviews_split_RESIT_minimal.csv\")\n",
    "df.head()\n"
   ]
  },
  {
   "cell_type": "code",
   "execution_count": 62,
   "id": "de6dd316",
   "metadata": {},
   "outputs": [],
   "source": [
    "percent_missing = df.isnull().sum() * 100 / len(df)\n",
    "missing_value_df = pd.DataFrame({'column_name': df.columns,\n",
    "                                 'percent_missing': percent_missing})"
   ]
  },
  {
   "cell_type": "code",
   "execution_count": 63,
   "id": "b34af38e",
   "metadata": {},
   "outputs": [
    {
     "data": {
      "text/plain": [
       "<AxesSubplot:>"
      ]
     },
     "execution_count": 63,
     "metadata": {},
     "output_type": "execute_result"
    },
    {
     "data": {
      "image/png": "[encoded data removed]",
      "text/plain": [
       "<Figure size 720x720 with 1 Axes>"
      ]
     },
     "metadata": {
      "needs_background": "light"
     },
     "output_type": "display_data"
    }
   ],
   "source": [
    "#missing values percentage plot for all the features\n",
    "import matplotlib.pyplot as plt\n",
    "Miss_val = df.isna().sum()/df.shape[0]\n",
    "Miss_val.sort_values(ascending=False, inplace=True)\n",
    "Miss_val\n",
    "plt.figure(figsize=(10,10))\n",
    "Miss_val.plot.bar()"
   ]
  },
  {
   "cell_type": "code",
   "execution_count": null,
   "id": "1b2d1059",
   "metadata": {},
   "outputs": [],
   "source": []
  },
  {
   "cell_type": "code",
   "execution_count": 64,
   "id": "199241b1",
   "metadata": {},
   "outputs": [],
   "source": [
    "drp=df[df.isnull().any(axis=1)]\n",
    "idd=drp['review_id']"
   ]
  },
  {
   "cell_type": "code",
   "execution_count": 65,
   "id": "428c9e80",
   "metadata": {},
   "outputs": [],
   "source": [
    "idd=list(idd)"
   ]
  },
  {
   "cell_type": "code",
   "execution_count": 66,
   "id": "cb09ae98",
   "metadata": {},
   "outputs": [],
   "source": [
    "l=[]\n",
    "for i in df['review_id']:\n",
    "    if i in idd:\n",
    "        exc='1 reason = missing'\n",
    "        l.append(exc)\n",
    "    else:\n",
    "        exc='0 reason = complete rows'\n",
    "        l.append(exc)"
   ]
  },
  {
   "cell_type": "code",
   "execution_count": 67,
   "id": "fb3b45ea",
   "metadata": {},
   "outputs": [],
   "source": [
    "exclusivedf=df.copy()\n",
    "exclusivedf['excluded']=l"
   ]
  },
  {
   "cell_type": "code",
   "execution_count": 68,
   "id": "b0e9ae4d",
   "metadata": {},
   "outputs": [],
   "source": [
    "exclusivedf.to_csv('exclusivedataset.csv')"
   ]
  },
  {
   "cell_type": "code",
   "execution_count": 69,
   "id": "aa6f8c63",
   "metadata": {},
   "outputs": [
    {
     "data": {
      "text/html": [
       "<div>\n",
       "<style scoped>\n",
       "    .dataframe tbody tr th:only-of-type {\n",
       "        vertical-align: middle;\n",
       "    }\n",
       "\n",
       "    .dataframe tbody tr th {\n",
       "        vertical-align: top;\n",
       "    }\n",
       "\n",
       "    .dataframe thead th {\n",
       "        text-align: right;\n",
       "    }\n",
       "</style>\n",
       "<table border=\"1\" class=\"dataframe\">\n",
       "  <thead>\n",
       "    <tr style=\"text-align: right;\">\n",
       "      <th></th>\n",
       "      <th>review_id</th>\n",
       "      <th>text</th>\n",
       "      <th>verified</th>\n",
       "      <th>review_score</th>\n",
       "      <th>product_category</th>\n",
       "    </tr>\n",
       "  </thead>\n",
       "  <tbody>\n",
       "    <tr>\n",
       "      <th>0</th>\n",
       "      <td>product_review_000000</td>\n",
       "      <td>OMG this is sooo good.. Very Good!!!</td>\n",
       "      <td>True</td>\n",
       "      <td>5.0</td>\n",
       "      <td>prime_pantry</td>\n",
       "    </tr>\n",
       "    <tr>\n",
       "      <th>1</th>\n",
       "      <td>product_review_000001</td>\n",
       "      <td>This soap smells pretty good and it seems to w...</td>\n",
       "      <td>True</td>\n",
       "      <td>4.0</td>\n",
       "      <td>prime_pantry</td>\n",
       "    </tr>\n",
       "    <tr>\n",
       "      <th>2</th>\n",
       "      <td>product_review_000002</td>\n",
       "      <td>Don't seem to dissolve after quite some time. ...</td>\n",
       "      <td>False</td>\n",
       "      <td>1.0</td>\n",
       "      <td>prime_pantry</td>\n",
       "    </tr>\n",
       "    <tr>\n",
       "      <th>3</th>\n",
       "      <td>product_review_000003</td>\n",
       "      <td>these zip bags do as they should. very good. I...</td>\n",
       "      <td>True</td>\n",
       "      <td>5.0</td>\n",
       "      <td>prime_pantry</td>\n",
       "    </tr>\n",
       "    <tr>\n",
       "      <th>4</th>\n",
       "      <td>product_review_000004</td>\n",
       "      <td>What. A. Mess.\\nI recommend making this in a m...</td>\n",
       "      <td>True</td>\n",
       "      <td>2.0</td>\n",
       "      <td>prime_pantry</td>\n",
       "    </tr>\n",
       "    <tr>\n",
       "      <th>...</th>\n",
       "      <td>...</td>\n",
       "      <td>...</td>\n",
       "      <td>...</td>\n",
       "      <td>...</td>\n",
       "      <td>...</td>\n",
       "    </tr>\n",
       "    <tr>\n",
       "      <th>27228</th>\n",
       "      <td>product_review_028147</td>\n",
       "      <td>Ordered two of the bandaids which we use most....</td>\n",
       "      <td>True</td>\n",
       "      <td>5.0</td>\n",
       "      <td>prime_pantry</td>\n",
       "    </tr>\n",
       "    <tr>\n",
       "      <th>27229</th>\n",
       "      <td>product_review_028148</td>\n",
       "      <td>Taste is ok..</td>\n",
       "      <td>True</td>\n",
       "      <td>5.0</td>\n",
       "      <td>prime_pantry</td>\n",
       "    </tr>\n",
       "    <tr>\n",
       "      <th>27230</th>\n",
       "      <td>product_review_028149</td>\n",
       "      <td>healthy tasty side dish.</td>\n",
       "      <td>True</td>\n",
       "      <td>5.0</td>\n",
       "      <td>prime_pantry</td>\n",
       "    </tr>\n",
       "    <tr>\n",
       "      <th>27231</th>\n",
       "      <td>product_review_028151</td>\n",
       "      <td>Don't let the packaging turn you away - Jack B...</td>\n",
       "      <td>False</td>\n",
       "      <td>5.0</td>\n",
       "      <td>luxury_beauty</td>\n",
       "    </tr>\n",
       "    <tr>\n",
       "      <th>27232</th>\n",
       "      <td>product_review_028152</td>\n",
       "      <td>I am quite light-skinned and when I was asked ...</td>\n",
       "      <td>False</td>\n",
       "      <td>5.0</td>\n",
       "      <td>luxury_beauty</td>\n",
       "    </tr>\n",
       "  </tbody>\n",
       "</table>\n",
       "<p>27233 rows × 5 columns</p>\n",
       "</div>"
      ],
      "text/plain": [
       "                   review_id  \\\n",
       "0      product_review_000000   \n",
       "1      product_review_000001   \n",
       "2      product_review_000002   \n",
       "3      product_review_000003   \n",
       "4      product_review_000004   \n",
       "...                      ...   \n",
       "27228  product_review_028147   \n",
       "27229  product_review_028148   \n",
       "27230  product_review_028149   \n",
       "27231  product_review_028151   \n",
       "27232  product_review_028152   \n",
       "\n",
       "                                                    text verified  \\\n",
       "0                   OMG this is sooo good.. Very Good!!!     True   \n",
       "1      This soap smells pretty good and it seems to w...     True   \n",
       "2      Don't seem to dissolve after quite some time. ...    False   \n",
       "3      these zip bags do as they should. very good. I...     True   \n",
       "4      What. A. Mess.\\nI recommend making this in a m...     True   \n",
       "...                                                  ...      ...   \n",
       "27228  Ordered two of the bandaids which we use most....     True   \n",
       "27229                                     Taste is ok..      True   \n",
       "27230                          healthy tasty side dish.      True   \n",
       "27231  Don't let the packaging turn you away - Jack B...    False   \n",
       "27232  I am quite light-skinned and when I was asked ...    False   \n",
       "\n",
       "       review_score product_category  \n",
       "0               5.0     prime_pantry  \n",
       "1               4.0     prime_pantry  \n",
       "2               1.0     prime_pantry  \n",
       "3               5.0     prime_pantry  \n",
       "4               2.0     prime_pantry  \n",
       "...             ...              ...  \n",
       "27228           5.0     prime_pantry  \n",
       "27229           5.0     prime_pantry  \n",
       "27230           5.0     prime_pantry  \n",
       "27231           5.0    luxury_beauty  \n",
       "27232           5.0    luxury_beauty  \n",
       "\n",
       "[27233 rows x 5 columns]"
      ]
     },
     "execution_count": 69,
     "metadata": {},
     "output_type": "execute_result"
    }
   ],
   "source": [
    "#dropping  missing values rows\n",
    "df = df.dropna(axis=0)\n",
    "df=df.reset_index(drop=True)\n",
    "df"
   ]
  },
  {
   "cell_type": "code",
   "execution_count": null,
   "id": "87df79f8",
   "metadata": {},
   "outputs": [],
   "source": [
    " "
   ]
  },
  {
   "cell_type": "markdown",
   "id": "bcc694b5",
   "metadata": {},
   "source": [
    "# replacing null values with mode for object type features"
   ]
  },
  {
   "cell_type": "markdown",
   "id": "6687eed8",
   "metadata": {},
   "source": [
    "# Cleaning the data"
   ]
  },
  {
   "cell_type": "markdown",
   "id": "4d04007f",
   "metadata": {},
   "source": [
    "# Let's first clean the data, remove stopwords etc and perform basic pre-processing\n",
    "\n",
    "Removing weird spaces"
   ]
  },
  {
   "cell_type": "code",
   "execution_count": 70,
   "id": "016e5bfd",
   "metadata": {},
   "outputs": [],
   "source": [
    "def remove_spaces(text):\n",
    "    text=text.strip()\n",
    "    text=text.split()\n",
    "    return ' '.join(text)"
   ]
  },
  {
   "cell_type": "markdown",
   "id": "ff4174b8",
   "metadata": {},
   "source": [
    "# Contraction"
   ]
  },
  {
   "cell_type": "code",
   "execution_count": 71,
   "id": "49261454",
   "metadata": {},
   "outputs": [],
   "source": [
    "contraction = {'cause':'because',\n",
    "              'aint': 'am not',\n",
    "              'aren\\'t': 'are not'}\n",
    "\n",
    "def mapping_replacer(x,dic):\n",
    "    for words in dic.keys():\n",
    "        if ' ' + words + ' ' in x:\n",
    "            x=x.replace(' '+ words +' ' ,' '+dic[words]+' ' )\n",
    "    return x"
   ]
  },
  {
   "cell_type": "markdown",
   "id": "f69d4ed4",
   "metadata": {},
   "source": [
    "# Stemming, lemmetisation and tokenisation"
   ]
  },
  {
   "cell_type": "code",
   "execution_count": 72,
   "id": "7e3c07c3",
   "metadata": {},
   "outputs": [],
   "source": [
    "\n",
    "from nltk.tokenize import word_tokenize\n",
    "from nltk.stem.wordnet import WordNetLemmatizer\n",
    "from nltk.stem.lancaster import LancasterStemmer\n",
    "\n",
    "nltk.LancasterStemmer\n",
    "ls = LancasterStemmer()\n",
    "lem = WordNetLemmatizer()\n",
    "def lexicon_normalization(text):\n",
    "    words = word_tokenize(text) \n",
    "    \n",
    "    \n",
    "    # 1- Stemming\n",
    "    words_stem = [ls.stem(w) for w in words]\n",
    "    \n",
    "    # 2- Lemmatization\n",
    "    words_lem = [lem.lemmatize(w) for w in words_stem]\n",
    "    return words_lem\n"
   ]
  },
  {
   "cell_type": "markdown",
   "id": "8d7d46f8",
   "metadata": {},
   "source": [
    "# Removing links, brackets, numbers, punctuations etc."
   ]
  },
  {
   "cell_type": "code",
   "execution_count": 73,
   "id": "ddd6c416",
   "metadata": {},
   "outputs": [],
   "source": [
    "def clean_text(text):\n",
    "    '''Make text lowercase, remove text in square brackets,remove links,remove punctuation\n",
    "    and remove words containing numbers.'''\n",
    "    text = str(text).lower()\n",
    "    text = re.sub('\\[.*?\\]', '', text)\n",
    "    text = re.sub('https?://\\S+|www\\.\\S+', '', text)\n",
    "    text = re.sub('<.*?>+', '', text)\n",
    "    text = re.sub('_', '', text)\n",
    "    text = re.sub('\\n', '', text)\n",
    "    text = re.sub('\\w*\\d\\w*', '', text)\n",
    "    text = re.sub('\\'','', text)\n",
    "    \n",
    "    return text"
   ]
  },
  {
   "cell_type": "markdown",
   "id": "d780b186",
   "metadata": {},
   "source": [
    "# Handling stopwords"
   ]
  },
  {
   "cell_type": "code",
   "execution_count": 74,
   "id": "28a5d027",
   "metadata": {},
   "outputs": [],
   "source": [
    "from collections import Counter\n",
    "def remove_stopword(text):\n",
    "    stop_words = stopwords.words('english')\n",
    "    stopwords_dict = Counter(stop_words)\n",
    "    text = ' '.join([word for word in text.split() if word not in stopwords_dict])\n",
    "    return text"
   ]
  },
  {
   "cell_type": "markdown",
   "id": "363bbb35",
   "metadata": {},
   "source": [
    "# Tokenisation"
   ]
  },
  {
   "cell_type": "code",
   "execution_count": 75,
   "id": "3c29946f",
   "metadata": {},
   "outputs": [],
   "source": [
    "def tokenise(text):\n",
    "    words = word_tokenize(text) \n",
    "    return words"
   ]
  },
  {
   "cell_type": "markdown",
   "id": "f4f7eb87",
   "metadata": {},
   "source": [
    "# Applying data cleaning steps to data\n",
    "Cleaning Regex Expressions from data"
   ]
  },
  {
   "cell_type": "code",
   "execution_count": 76,
   "id": "d3c94702",
   "metadata": {},
   "outputs": [],
   "source": [
    "import re\n",
    "df['text'] = df['text'].map(lambda x: re.sub(r'\\W+', ' ', str(x)))\n",
    "df['text'] = df['text'].replace(r'\\W+', ' ', regex=True)"
   ]
  },
  {
   "cell_type": "code",
   "execution_count": 77,
   "id": "454183ec",
   "metadata": {},
   "outputs": [],
   "source": [
    "df['text']=df['text'].apply(lambda x: mapping_replacer(x, contraction))"
   ]
  },
  {
   "cell_type": "code",
   "execution_count": 5,
   "id": "bbed0cc0",
   "metadata": {},
   "outputs": [
    {
     "ename": "NameError",
     "evalue": "name 'df' is not defined",
     "output_type": "error",
     "traceback": [
      "\u001b[1;31m---------------------------------------------------------------------------\u001b[0m",
      "\u001b[1;31mNameError\u001b[0m                                 Traceback (most recent call last)",
      "Input \u001b[1;32mIn [5]\u001b[0m, in \u001b[0;36m<cell line: 1>\u001b[1;34m()\u001b[0m\n\u001b[1;32m----> 1\u001b[0m df[\u001b[38;5;124m'\u001b[39m\u001b[38;5;124mtext\u001b[39m\u001b[38;5;124m'\u001b[39m]\u001b[38;5;241m=\u001b[39m\u001b[43mdf\u001b[49m[\u001b[38;5;124m'\u001b[39m\u001b[38;5;124mtext\u001b[39m\u001b[38;5;124m'\u001b[39m]\u001b[38;5;241m.\u001b[39mapply(\u001b[38;5;28;01mlambda\u001b[39;00m x:clean_text(x))\n",
      "\u001b[1;31mNameError\u001b[0m: name 'df' is not defined"
     ]
    }
   ],
   "source": [
    "df['text']=df['text'].apply(lambda x:clean_text(x))"
   ]
  },
  {
   "cell_type": "code",
   "execution_count": 79,
   "id": "14362e60",
   "metadata": {},
   "outputs": [],
   "source": [
    "df['text']=df['text'].apply(lambda x: remove_stopword(x))"
   ]
  },
  {
   "cell_type": "code",
   "execution_count": 4,
   "id": "619eab79",
   "metadata": {},
   "outputs": [
    {
     "ename": "NameError",
     "evalue": "name 'df' is not defined",
     "output_type": "error",
     "traceback": [
      "\u001b[1;31m---------------------------------------------------------------------------\u001b[0m",
      "\u001b[1;31mNameError\u001b[0m                                 Traceback (most recent call last)",
      "Input \u001b[1;32mIn [4]\u001b[0m, in \u001b[0;36m<cell line: 1>\u001b[1;34m()\u001b[0m\n\u001b[1;32m----> 1\u001b[0m df[\u001b[38;5;124m'\u001b[39m\u001b[38;5;124mtext\u001b[39m\u001b[38;5;124m'\u001b[39m]\u001b[38;5;241m=\u001b[39m\u001b[43mdf\u001b[49m[\u001b[38;5;124m'\u001b[39m\u001b[38;5;124mtext\u001b[39m\u001b[38;5;124m'\u001b[39m]\u001b[38;5;241m.\u001b[39mapply(\u001b[38;5;28;01mlambda\u001b[39;00m x: lexicon_normalization(x))\n",
      "\u001b[1;31mNameError\u001b[0m: name 'df' is not defined"
     ]
    }
   ],
   "source": [
    "df['text']=df['text'].apply(lambda x: lexicon_normalization(x))"
   ]
  },
  {
   "cell_type": "markdown",
   "id": "394792dc",
   "metadata": {},
   "source": [
    "# Finding the most Common words in our Text"
   ]
  },
  {
   "cell_type": "markdown",
   "id": "00471eb0",
   "metadata": {},
   "source": [
    "# Common words for video product category"
   ]
  },
  {
   "cell_type": "code",
   "execution_count": 81,
   "id": "adac24b4",
   "metadata": {},
   "outputs": [],
   "source": [
    "video=df[df['product_category']=='luxury_beauty']"
   ]
  },
  {
   "cell_type": "code",
   "execution_count": 82,
   "id": "feb4e1bc",
   "metadata": {},
   "outputs": [
    {
     "data": {
      "text/html": [
       "<style type=\"text/css\">\n",
       "#T_c74f0_row0_col1 {\n",
       "  background-color: #08306b;\n",
       "  color: #f1f1f1;\n",
       "}\n",
       "#T_c74f0_row1_col1 {\n",
       "  background-color: #2c7cba;\n",
       "  color: #f1f1f1;\n",
       "}\n",
       "#T_c74f0_row2_col1 {\n",
       "  background-color: #3080bd;\n",
       "  color: #f1f1f1;\n",
       "}\n",
       "#T_c74f0_row3_col1 {\n",
       "  background-color: #8cc0dd;\n",
       "  color: #000000;\n",
       "}\n",
       "#T_c74f0_row4_col1 {\n",
       "  background-color: #dceaf6;\n",
       "  color: #000000;\n",
       "}\n",
       "#T_c74f0_row5_col1 {\n",
       "  background-color: #dfebf7;\n",
       "  color: #000000;\n",
       "}\n",
       "#T_c74f0_row6_col1 {\n",
       "  background-color: #e1edf8;\n",
       "  color: #000000;\n",
       "}\n",
       "#T_c74f0_row7_col1 {\n",
       "  background-color: #e2edf8;\n",
       "  color: #000000;\n",
       "}\n",
       "#T_c74f0_row8_col1 {\n",
       "  background-color: #e3eef8;\n",
       "  color: #000000;\n",
       "}\n",
       "#T_c74f0_row9_col1 {\n",
       "  background-color: #e3eef9;\n",
       "  color: #000000;\n",
       "}\n",
       "#T_c74f0_row10_col1 {\n",
       "  background-color: #e6f0f9;\n",
       "  color: #000000;\n",
       "}\n",
       "#T_c74f0_row11_col1, #T_c74f0_row12_col1 {\n",
       "  background-color: #e7f0fa;\n",
       "  color: #000000;\n",
       "}\n",
       "#T_c74f0_row13_col1 {\n",
       "  background-color: #e8f1fa;\n",
       "  color: #000000;\n",
       "}\n",
       "#T_c74f0_row14_col1, #T_c74f0_row15_col1 {\n",
       "  background-color: #eaf2fb;\n",
       "  color: #000000;\n",
       "}\n",
       "#T_c74f0_row16_col1 {\n",
       "  background-color: #f2f7fd;\n",
       "  color: #000000;\n",
       "}\n",
       "#T_c74f0_row17_col1 {\n",
       "  background-color: #f2f8fd;\n",
       "  color: #000000;\n",
       "}\n",
       "#T_c74f0_row18_col1 {\n",
       "  background-color: #f5fafe;\n",
       "  color: #000000;\n",
       "}\n",
       "#T_c74f0_row19_col1 {\n",
       "  background-color: #f7fbff;\n",
       "  color: #000000;\n",
       "}\n",
       "</style>\n",
       "<table id=\"T_c74f0\">\n",
       "  <thead>\n",
       "    <tr>\n",
       "      <th class=\"blank level0\" >&nbsp;</th>\n",
       "      <th id=\"T_c74f0_level0_col0\" class=\"col_heading level0 col0\" >Common_words_video_categotry</th>\n",
       "      <th id=\"T_c74f0_level0_col1\" class=\"col_heading level0 col1\" >count</th>\n",
       "    </tr>\n",
       "  </thead>\n",
       "  <tbody>\n",
       "    <tr>\n",
       "      <th id=\"T_c74f0_level0_row0\" class=\"row_heading level0 row0\" >0</th>\n",
       "      <td id=\"T_c74f0_row0_col0\" class=\"data row0 col0\" >u</td>\n",
       "      <td id=\"T_c74f0_row0_col1\" class=\"data row0 col1\" >6557</td>\n",
       "    </tr>\n",
       "    <tr>\n",
       "      <th id=\"T_c74f0_level0_row1\" class=\"row_heading level0 row1\" >1</th>\n",
       "      <td id=\"T_c74f0_row1_col0\" class=\"data row1 col0\" >skin</td>\n",
       "      <td id=\"T_c74f0_row1_col1\" class=\"data row1 col1\" >5106</td>\n",
       "    </tr>\n",
       "    <tr>\n",
       "      <th id=\"T_c74f0_level0_row2\" class=\"row_heading level0 row2\" >2</th>\n",
       "      <td id=\"T_c74f0_row2_col0\" class=\"data row2 col0\" >produc</td>\n",
       "      <td id=\"T_c74f0_row2_col1\" class=\"data row2 col1\" >5017</td>\n",
       "    </tr>\n",
       "    <tr>\n",
       "      <th id=\"T_c74f0_level0_row3\" class=\"row_heading level0 row3\" >3</th>\n",
       "      <td id=\"T_c74f0_row3_col0\" class=\"data row3 col0\" >lik</td>\n",
       "      <td id=\"T_c74f0_row3_col1\" class=\"data row3 col1\" >3655</td>\n",
       "    </tr>\n",
       "    <tr>\n",
       "      <th id=\"T_c74f0_level0_row4\" class=\"row_heading level0 row4\" >4</th>\n",
       "      <td id=\"T_c74f0_row4_col0\" class=\"data row4 col0\" >look</td>\n",
       "      <td id=\"T_c74f0_row4_col1\" class=\"data row4 col1\" >2213</td>\n",
       "    </tr>\n",
       "    <tr>\n",
       "      <th id=\"T_c74f0_level0_row5\" class=\"row_heading level0 row5\" >5</th>\n",
       "      <td id=\"T_c74f0_row5_col0\" class=\"data row5 col0\" >feel</td>\n",
       "      <td id=\"T_c74f0_row5_col1\" class=\"data row5 col1\" >2161</td>\n",
       "    </tr>\n",
       "    <tr>\n",
       "      <th id=\"T_c74f0_level0_row6\" class=\"row_heading level0 row6\" >6</th>\n",
       "      <td id=\"T_c74f0_row6_col0\" class=\"data row6 col0\" >fac</td>\n",
       "      <td id=\"T_c74f0_row6_col1\" class=\"data row6 col1\" >2100</td>\n",
       "    </tr>\n",
       "    <tr>\n",
       "      <th id=\"T_c74f0_level0_row7\" class=\"row_heading level0 row7\" >7</th>\n",
       "      <td id=\"T_c74f0_row7_col0\" class=\"data row7 col0\" >work</td>\n",
       "      <td id=\"T_c74f0_row7_col1\" class=\"data row7 col1\" >2076</td>\n",
       "    </tr>\n",
       "    <tr>\n",
       "      <th id=\"T_c74f0_level0_row8\" class=\"row_heading level0 row8\" >8</th>\n",
       "      <td id=\"T_c74f0_row8_col0\" class=\"data row8 col0\" >gre</td>\n",
       "      <td id=\"T_c74f0_row8_col1\" class=\"data row8 col1\" >2057</td>\n",
       "    </tr>\n",
       "    <tr>\n",
       "      <th id=\"T_c74f0_level0_row9\" class=\"row_heading level0 row9\" >9</th>\n",
       "      <td id=\"T_c74f0_row9_col0\" class=\"data row9 col0\" >real</td>\n",
       "      <td id=\"T_c74f0_row9_col1\" class=\"data row9 col1\" >2051</td>\n",
       "    </tr>\n",
       "    <tr>\n",
       "      <th id=\"T_c74f0_level0_row10\" class=\"row_heading level0 row10\" >10</th>\n",
       "      <td id=\"T_c74f0_row10_col0\" class=\"data row10 col0\" >col</td>\n",
       "      <td id=\"T_c74f0_row10_col1\" class=\"data row10 col1\" >1985</td>\n",
       "    </tr>\n",
       "    <tr>\n",
       "      <th id=\"T_c74f0_level0_row11\" class=\"row_heading level0 row11\" >11</th>\n",
       "      <td id=\"T_c74f0_row11_col0\" class=\"data row11 col0\" >hair</td>\n",
       "      <td id=\"T_c74f0_row11_col1\" class=\"data row11 col1\" >1964</td>\n",
       "    </tr>\n",
       "    <tr>\n",
       "      <th id=\"T_c74f0_level0_row12\" class=\"row_heading level0 row12\" >12</th>\n",
       "      <td id=\"T_c74f0_row12_col0\" class=\"data row12 col0\" >lov</td>\n",
       "      <td id=\"T_c74f0_row12_col1\" class=\"data row12 col1\" >1960</td>\n",
       "    </tr>\n",
       "    <tr>\n",
       "      <th id=\"T_c74f0_level0_row13\" class=\"row_heading level0 row13\" >13</th>\n",
       "      <td id=\"T_c74f0_row13_col0\" class=\"data row13 col0\" >good</td>\n",
       "      <td id=\"T_c74f0_row13_col1\" class=\"data row13 col1\" >1923</td>\n",
       "    </tr>\n",
       "    <tr>\n",
       "      <th id=\"T_c74f0_level0_row14\" class=\"row_heading level0 row14\" >14</th>\n",
       "      <td id=\"T_c74f0_row14_col0\" class=\"data row14 col0\" >on</td>\n",
       "      <td id=\"T_c74f0_row14_col1\" class=\"data row14 col1\" >1887</td>\n",
       "    </tr>\n",
       "    <tr>\n",
       "      <th id=\"T_c74f0_level0_row15\" class=\"row_heading level0 row15\" >15</th>\n",
       "      <td id=\"T_c74f0_row15_col0\" class=\"data row15 col0\" >apply</td>\n",
       "      <td id=\"T_c74f0_row15_col1\" class=\"data row15 col1\" >1880</td>\n",
       "    </tr>\n",
       "    <tr>\n",
       "      <th id=\"T_c74f0_level0_row16\" class=\"row_heading level0 row16\" >16</th>\n",
       "      <td id=\"T_c74f0_row16_col0\" class=\"data row16 col0\" >nic</td>\n",
       "      <td id=\"T_c74f0_row16_col1\" class=\"data row16 col1\" >1686</td>\n",
       "    </tr>\n",
       "    <tr>\n",
       "      <th id=\"T_c74f0_level0_row17\" class=\"row_heading level0 row17\" >17</th>\n",
       "      <td id=\"T_c74f0_row17_col0\" class=\"data row17 col0\" >wel</td>\n",
       "      <td id=\"T_c74f0_row17_col1\" class=\"data row17 col1\" >1672</td>\n",
       "    </tr>\n",
       "    <tr>\n",
       "      <th id=\"T_c74f0_level0_row18\" class=\"row_heading level0 row18\" >18</th>\n",
       "      <td id=\"T_c74f0_row18_col0\" class=\"data row18 col0\" >scent</td>\n",
       "      <td id=\"T_c74f0_row18_col1\" class=\"data row18 col1\" >1601</td>\n",
       "    </tr>\n",
       "    <tr>\n",
       "      <th id=\"T_c74f0_level0_row19\" class=\"row_heading level0 row19\" >19</th>\n",
       "      <td id=\"T_c74f0_row19_col0\" class=\"data row19 col0\" >mak</td>\n",
       "      <td id=\"T_c74f0_row19_col1\" class=\"data row19 col1\" >1546</td>\n",
       "    </tr>\n",
       "  </tbody>\n",
       "</table>\n"
      ],
      "text/plain": [
       "<pandas.io.formats.style.Styler at 0x1521e4f27c0>"
      ]
     },
     "execution_count": 82,
     "metadata": {},
     "output_type": "execute_result"
    }
   ],
   "source": [
    "top = Counter([item for sublist in video['text'] for item in sublist])\n",
    "temp = pd.DataFrame(top.most_common(20))\n",
    "temp.columns = ['Common_words_video_categotry','count']\n",
    "temp.style.background_gradient(cmap='Blues')"
   ]
  },
  {
   "cell_type": "code",
   "execution_count": 83,
   "id": "84b0d8de",
   "metadata": {},
   "outputs": [
    {
     "data": {
      "text/plain": [
       "<AxesSubplot:xlabel='count', ylabel='Common_words_video_categotry'>"
      ]
     },
     "execution_count": 83,
     "metadata": {},
     "output_type": "execute_result"
    },
    {
     "data": {
      "image/png": "[encoded data removed]",
      "text/plain": [
       "<Figure size 864x864 with 1 Axes>"
      ]
     },
     "metadata": {
      "needs_background": "light"
     },
     "output_type": "display_data"
    }
   ],
   "source": [
    "import seaborn as sns\n",
    "plt.figure(figsize=(12,12))\n",
    "sns.barplot(temp['count'],temp['Common_words_video_categotry'])"
   ]
  },
  {
   "cell_type": "markdown",
   "id": "2aac3222",
   "metadata": {},
   "source": [
    "# Common words for music product category"
   ]
  },
  {
   "cell_type": "code",
   "execution_count": 84,
   "id": "fe50cb58",
   "metadata": {},
   "outputs": [],
   "source": [
    "music=df[df['product_category']=='prime_pantry']"
   ]
  },
  {
   "cell_type": "code",
   "execution_count": 85,
   "id": "ae6ded13",
   "metadata": {},
   "outputs": [
    {
     "data": {
      "text/html": [
       "<style type=\"text/css\">\n",
       "#T_702ab_row0_col1 {\n",
       "  background-color: #08306b;\n",
       "  color: #f1f1f1;\n",
       "}\n",
       "#T_702ab_row1_col1 {\n",
       "  background-color: #083c7d;\n",
       "  color: #f1f1f1;\n",
       "}\n",
       "#T_702ab_row2_col1 {\n",
       "  background-color: #3989c1;\n",
       "  color: #f1f1f1;\n",
       "}\n",
       "#T_702ab_row3_col1 {\n",
       "  background-color: #4191c6;\n",
       "  color: #f1f1f1;\n",
       "}\n",
       "#T_702ab_row4_col1 {\n",
       "  background-color: #56a0ce;\n",
       "  color: #f1f1f1;\n",
       "}\n",
       "#T_702ab_row5_col1 {\n",
       "  background-color: #6fb0d7;\n",
       "  color: #f1f1f1;\n",
       "}\n",
       "#T_702ab_row6_col1 {\n",
       "  background-color: #add0e6;\n",
       "  color: #000000;\n",
       "}\n",
       "#T_702ab_row7_col1 {\n",
       "  background-color: #c4daee;\n",
       "  color: #000000;\n",
       "}\n",
       "#T_702ab_row8_col1 {\n",
       "  background-color: #d6e6f4;\n",
       "  color: #000000;\n",
       "}\n",
       "#T_702ab_row9_col1 {\n",
       "  background-color: #dfecf7;\n",
       "  color: #000000;\n",
       "}\n",
       "#T_702ab_row10_col1 {\n",
       "  background-color: #e2edf8;\n",
       "  color: #000000;\n",
       "}\n",
       "#T_702ab_row11_col1 {\n",
       "  background-color: #e7f1fa;\n",
       "  color: #000000;\n",
       "}\n",
       "#T_702ab_row12_col1 {\n",
       "  background-color: #e8f1fa;\n",
       "  color: #000000;\n",
       "}\n",
       "#T_702ab_row13_col1 {\n",
       "  background-color: #e9f2fa;\n",
       "  color: #000000;\n",
       "}\n",
       "#T_702ab_row14_col1 {\n",
       "  background-color: #eaf2fb;\n",
       "  color: #000000;\n",
       "}\n",
       "#T_702ab_row15_col1 {\n",
       "  background-color: #f5f9fe;\n",
       "  color: #000000;\n",
       "}\n",
       "#T_702ab_row16_col1, #T_702ab_row17_col1 {\n",
       "  background-color: #f5fafe;\n",
       "  color: #000000;\n",
       "}\n",
       "#T_702ab_row18_col1 {\n",
       "  background-color: #f6faff;\n",
       "  color: #000000;\n",
       "}\n",
       "#T_702ab_row19_col1 {\n",
       "  background-color: #f7fbff;\n",
       "  color: #000000;\n",
       "}\n",
       "</style>\n",
       "<table id=\"T_702ab\">\n",
       "  <thead>\n",
       "    <tr>\n",
       "      <th class=\"blank level0\" >&nbsp;</th>\n",
       "      <th id=\"T_702ab_level0_col0\" class=\"col_heading level0 col0\" >Common_words_music_categotry</th>\n",
       "      <th id=\"T_702ab_level0_col1\" class=\"col_heading level0 col1\" >count</th>\n",
       "    </tr>\n",
       "  </thead>\n",
       "  <tbody>\n",
       "    <tr>\n",
       "      <th id=\"T_702ab_level0_row0\" class=\"row_heading level0 row0\" >0</th>\n",
       "      <td id=\"T_702ab_row0_col0\" class=\"data row0 col0\" >good</td>\n",
       "      <td id=\"T_702ab_row0_col1\" class=\"data row0 col1\" >7599</td>\n",
       "    </tr>\n",
       "    <tr>\n",
       "      <th id=\"T_702ab_level0_row1\" class=\"row_heading level0 row1\" >1</th>\n",
       "      <td id=\"T_702ab_row1_col0\" class=\"data row1 col0\" >gre</td>\n",
       "      <td id=\"T_702ab_row1_col1\" class=\"data row1 col1\" >7315</td>\n",
       "    </tr>\n",
       "    <tr>\n",
       "      <th id=\"T_702ab_level0_row2\" class=\"row_heading level0 row2\" >2</th>\n",
       "      <td id=\"T_702ab_row2_col0\" class=\"data row2 col0\" >lov</td>\n",
       "      <td id=\"T_702ab_row2_col1\" class=\"data row2 col1\" >5551</td>\n",
       "    </tr>\n",
       "    <tr>\n",
       "      <th id=\"T_702ab_level0_row3\" class=\"row_heading level0 row3\" >3</th>\n",
       "      <td id=\"T_702ab_row3_col0\" class=\"data row3 col0\" >lik</td>\n",
       "      <td id=\"T_702ab_row3_col1\" class=\"data row3 col1\" >5353</td>\n",
       "    </tr>\n",
       "    <tr>\n",
       "      <th id=\"T_702ab_level0_row4\" class=\"row_heading level0 row4\" >4</th>\n",
       "      <td id=\"T_702ab_row4_col0\" class=\"data row4 col0\" >u</td>\n",
       "      <td id=\"T_702ab_row4_col1\" class=\"data row4 col1\" >4981</td>\n",
       "    </tr>\n",
       "    <tr>\n",
       "      <th id=\"T_702ab_level0_row5\" class=\"row_heading level0 row5\" >5</th>\n",
       "      <td id=\"T_702ab_row5_col0\" class=\"data row5 col0\" >tast</td>\n",
       "      <td id=\"T_702ab_row5_col1\" class=\"data row5 col1\" >4539</td>\n",
       "    </tr>\n",
       "    <tr>\n",
       "      <th id=\"T_702ab_level0_row6\" class=\"row_heading level0 row6\" >6</th>\n",
       "      <td id=\"T_702ab_row6_col0\" class=\"data row6 col0\" >produc</td>\n",
       "      <td id=\"T_702ab_row6_col1\" class=\"data row6 col1\" >3573</td>\n",
       "    </tr>\n",
       "    <tr>\n",
       "      <th id=\"T_702ab_level0_row7\" class=\"row_heading level0 row7\" >7</th>\n",
       "      <td id=\"T_702ab_row7_col0\" class=\"data row7 col0\" >flav</td>\n",
       "      <td id=\"T_702ab_row7_col1\" class=\"data row7 col1\" >3142</td>\n",
       "    </tr>\n",
       "    <tr>\n",
       "      <th id=\"T_702ab_level0_row8\" class=\"row_heading level0 row8\" >8</th>\n",
       "      <td id=\"T_702ab_row8_col0\" class=\"data row8 col0\" >on</td>\n",
       "      <td id=\"T_702ab_row8_col1\" class=\"data row8 col1\" >2606</td>\n",
       "    </tr>\n",
       "    <tr>\n",
       "      <th id=\"T_702ab_level0_row9\" class=\"row_heading level0 row9\" >9</th>\n",
       "      <td id=\"T_702ab_row9_col0\" class=\"data row9 col0\" >pric</td>\n",
       "      <td id=\"T_702ab_row9_col1\" class=\"data row9 col1\" >2311</td>\n",
       "    </tr>\n",
       "    <tr>\n",
       "      <th id=\"T_702ab_level0_row10\" class=\"row_heading level0 row10\" >10</th>\n",
       "      <td id=\"T_702ab_row10_col0\" class=\"data row10 col0\" >real</td>\n",
       "      <td id=\"T_702ab_row10_col1\" class=\"data row10 col1\" >2238</td>\n",
       "    </tr>\n",
       "    <tr>\n",
       "      <th id=\"T_702ab_level0_row11\" class=\"row_heading level0 row11\" >11</th>\n",
       "      <td id=\"T_702ab_row11_col0\" class=\"data row11 col0\" >work</td>\n",
       "      <td id=\"T_702ab_row11_col1\" class=\"data row11 col1\" >2082</td>\n",
       "    </tr>\n",
       "    <tr>\n",
       "      <th id=\"T_702ab_level0_row12\" class=\"row_heading level0 row12\" >12</th>\n",
       "      <td id=\"T_702ab_row12_col0\" class=\"data row12 col0\" >mak</td>\n",
       "      <td id=\"T_702ab_row12_col1\" class=\"data row12 col1\" >2063</td>\n",
       "    </tr>\n",
       "    <tr>\n",
       "      <th id=\"T_702ab_level0_row13\" class=\"row_heading level0 row13\" >13</th>\n",
       "      <td id=\"T_702ab_row13_col0\" class=\"data row13 col0\" >buy</td>\n",
       "      <td id=\"T_702ab_row13_col1\" class=\"data row13 col1\" >2022</td>\n",
       "    </tr>\n",
       "    <tr>\n",
       "      <th id=\"T_702ab_level0_row14\" class=\"row_heading level0 row14\" >14</th>\n",
       "      <td id=\"T_702ab_row14_col0\" class=\"data row14 col0\" >get</td>\n",
       "      <td id=\"T_702ab_row14_col1\" class=\"data row14 col1\" >2008</td>\n",
       "    </tr>\n",
       "    <tr>\n",
       "      <th id=\"T_702ab_level0_row15\" class=\"row_heading level0 row15\" >15</th>\n",
       "      <td id=\"T_702ab_row15_col0\" class=\"data row15 col0\" >cle</td>\n",
       "      <td id=\"T_702ab_row15_col1\" class=\"data row15 col1\" >1682</td>\n",
       "    </tr>\n",
       "    <tr>\n",
       "      <th id=\"T_702ab_level0_row16\" class=\"row_heading level0 row16\" >16</th>\n",
       "      <td id=\"T_702ab_row16_col0\" class=\"data row16 col0\" >smel</td>\n",
       "      <td id=\"T_702ab_row16_col1\" class=\"data row16 col1\" >1662</td>\n",
       "    </tr>\n",
       "    <tr>\n",
       "      <th id=\"T_702ab_level0_row17\" class=\"row_heading level0 row17\" >17</th>\n",
       "      <td id=\"T_702ab_row17_col0\" class=\"data row17 col0\" >nic</td>\n",
       "      <td id=\"T_702ab_row17_col1\" class=\"data row17 col1\" >1662</td>\n",
       "    </tr>\n",
       "    <tr>\n",
       "      <th id=\"T_702ab_level0_row18\" class=\"row_heading level0 row18\" >18</th>\n",
       "      <td id=\"T_702ab_row18_col0\" class=\"data row18 col0\" >tim</td>\n",
       "      <td id=\"T_702ab_row18_col1\" class=\"data row18 col1\" >1637</td>\n",
       "    </tr>\n",
       "    <tr>\n",
       "      <th id=\"T_702ab_level0_row19\" class=\"row_heading level0 row19\" >19</th>\n",
       "      <td id=\"T_702ab_row19_col0\" class=\"data row19 col0\" >wel</td>\n",
       "      <td id=\"T_702ab_row19_col1\" class=\"data row19 col1\" >1599</td>\n",
       "    </tr>\n",
       "  </tbody>\n",
       "</table>\n"
      ],
      "text/plain": [
       "<pandas.io.formats.style.Styler at 0x15018cbc190>"
      ]
     },
     "execution_count": 85,
     "metadata": {},
     "output_type": "execute_result"
    }
   ],
   "source": [
    "top2 = Counter([item for sublist in music['text'] for item in sublist])\n",
    "temp2 = pd.DataFrame(top2.most_common(20))\n",
    "temp2.columns = ['Common_words_music_categotry','count']\n",
    "temp2.style.background_gradient(cmap='Blues')"
   ]
  },
  {
   "cell_type": "code",
   "execution_count": 86,
   "id": "4914f28f",
   "metadata": {},
   "outputs": [
    {
     "data": {
      "text/plain": [
       "<AxesSubplot:xlabel='count', ylabel='Common_words_music_categotry'>"
      ]
     },
     "execution_count": 86,
     "metadata": {},
     "output_type": "execute_result"
    },
    {
     "data": {
      "image/png": "[encoded data removed]",
      "text/plain": [
       "<Figure size 864x864 with 1 Axes>"
      ]
     },
     "metadata": {
      "needs_background": "light"
     },
     "output_type": "display_data"
    }
   ],
   "source": [
    "plt.figure(figsize=(12,12))\n",
    "sns.barplot(temp2['count'],temp2['Common_words_music_categotry'])"
   ]
  },
  {
   "cell_type": "code",
   "execution_count": 87,
   "id": "2196d26a",
   "metadata": {},
   "outputs": [],
   "source": [
    "l=[]\n",
    "for i in df['text']:\n",
    "    str1 = \" \" \n",
    "    t=str1.join(i)\n",
    "    l.append(t)\n",
    "df['text']=l   "
   ]
  },
  {
   "cell_type": "markdown",
   "id": "96c9afbd",
   "metadata": {},
   "source": [
    "# 1:Product cagegory prediction"
   ]
  },
  {
   "cell_type": "markdown",
   "id": "60f0e6d1",
   "metadata": {},
   "source": [
    "# #Converting Tweet feature into a vector using Bag of words technique"
   ]
  },
  {
   "cell_type": "code",
   "execution_count": 88,
   "id": "c877b3b7",
   "metadata": {},
   "outputs": [],
   "source": [
    " #Converting Tweet feature into a vector using Bag of words technique\n",
    "from sklearn.feature_extraction.text import CountVectorizer\n",
    "vectorizer = CountVectorizer()\n",
    "X = vectorizer.fit_transform(df['text'])\n",
    "b=vectorizer.get_feature_names()\n",
    "  \n",
    "  \n",
    " "
   ]
  },
  {
   "cell_type": "code",
   "execution_count": 89,
   "id": "9a14c239",
   "metadata": {},
   "outputs": [],
   "source": [
    "from mlxtend.feature_selection import SequentialFeatureSelector as SFS\n",
    "from sklearn.linear_model import LogisticRegression"
   ]
  },
  {
   "cell_type": "code",
   "execution_count": 90,
   "id": "af3c7d65",
   "metadata": {},
   "outputs": [
    {
     "data": {
      "text/html": [
       "<div>\n",
       "<style scoped>\n",
       "    .dataframe tbody tr th:only-of-type {\n",
       "        vertical-align: middle;\n",
       "    }\n",
       "\n",
       "    .dataframe tbody tr th {\n",
       "        vertical-align: top;\n",
       "    }\n",
       "\n",
       "    .dataframe thead th {\n",
       "        text-align: right;\n",
       "    }\n",
       "</style>\n",
       "<table border=\"1\" class=\"dataframe\">\n",
       "  <thead>\n",
       "    <tr style=\"text-align: right;\">\n",
       "      <th></th>\n",
       "      <th>review_id</th>\n",
       "      <th>text</th>\n",
       "      <th>verified</th>\n",
       "      <th>review_score</th>\n",
       "      <th>product_category</th>\n",
       "    </tr>\n",
       "  </thead>\n",
       "  <tbody>\n",
       "    <tr>\n",
       "      <th>0</th>\n",
       "      <td>product_review_000000</td>\n",
       "      <td>omg sooo good good</td>\n",
       "      <td>True</td>\n",
       "      <td>5.0</td>\n",
       "      <td>prime_pantry</td>\n",
       "    </tr>\n",
       "    <tr>\n",
       "      <th>1</th>\n",
       "      <td>product_review_000001</td>\n",
       "      <td>soap smel pretty good seem work gre definit mu...</td>\n",
       "      <td>True</td>\n",
       "      <td>4.0</td>\n",
       "      <td>prime_pantry</td>\n",
       "    </tr>\n",
       "    <tr>\n",
       "      <th>2</th>\n",
       "      <td>product_review_000002</td>\n",
       "      <td>seem dissolv quit tim see cle benefit smel nic...</td>\n",
       "      <td>False</td>\n",
       "      <td>1.0</td>\n",
       "      <td>prime_pantry</td>\n",
       "    </tr>\n",
       "    <tr>\n",
       "      <th>3</th>\n",
       "      <td>product_review_000003</td>\n",
       "      <td>zip bag good happy awesom</td>\n",
       "      <td>True</td>\n",
       "      <td>5.0</td>\n",
       "      <td>prime_pantry</td>\n",
       "    </tr>\n",
       "    <tr>\n",
       "      <th>4</th>\n",
       "      <td>product_review_000004</td>\n",
       "      <td>mess recommend mak much larg contain littl bow...</td>\n",
       "      <td>True</td>\n",
       "      <td>2.0</td>\n",
       "      <td>prime_pantry</td>\n",
       "    </tr>\n",
       "    <tr>\n",
       "      <th>...</th>\n",
       "      <td>...</td>\n",
       "      <td>...</td>\n",
       "      <td>...</td>\n",
       "      <td>...</td>\n",
       "      <td>...</td>\n",
       "    </tr>\n",
       "    <tr>\n",
       "      <th>27228</th>\n",
       "      <td>product_review_028147</td>\n",
       "      <td>ord two bandaid u band aid brand adher band to...</td>\n",
       "      <td>True</td>\n",
       "      <td>5.0</td>\n",
       "      <td>prime_pantry</td>\n",
       "    </tr>\n",
       "    <tr>\n",
       "      <th>27229</th>\n",
       "      <td>product_review_028148</td>\n",
       "      <td>tast ok</td>\n",
       "      <td>True</td>\n",
       "      <td>5.0</td>\n",
       "      <td>prime_pantry</td>\n",
       "    </tr>\n",
       "    <tr>\n",
       "      <th>27230</th>\n",
       "      <td>product_review_028149</td>\n",
       "      <td>healthy tasty sid dish</td>\n",
       "      <td>True</td>\n",
       "      <td>5.0</td>\n",
       "      <td>prime_pantry</td>\n",
       "    </tr>\n",
       "    <tr>\n",
       "      <th>27231</th>\n",
       "      <td>product_review_028151</td>\n",
       "      <td>let pack turn away jack black ep moist cle cre...</td>\n",
       "      <td>False</td>\n",
       "      <td>5.0</td>\n",
       "      <td>luxury_beauty</td>\n",
       "    </tr>\n",
       "    <tr>\n",
       "      <th>27232</th>\n",
       "      <td>product_review_028152</td>\n",
       "      <td>quit light skin ask try shad thought might dar...</td>\n",
       "      <td>False</td>\n",
       "      <td>5.0</td>\n",
       "      <td>luxury_beauty</td>\n",
       "    </tr>\n",
       "  </tbody>\n",
       "</table>\n",
       "<p>27233 rows × 5 columns</p>\n",
       "</div>"
      ],
      "text/plain": [
       "                   review_id  \\\n",
       "0      product_review_000000   \n",
       "1      product_review_000001   \n",
       "2      product_review_000002   \n",
       "3      product_review_000003   \n",
       "4      product_review_000004   \n",
       "...                      ...   \n",
       "27228  product_review_028147   \n",
       "27229  product_review_028148   \n",
       "27230  product_review_028149   \n",
       "27231  product_review_028151   \n",
       "27232  product_review_028152   \n",
       "\n",
       "                                                    text verified  \\\n",
       "0                                     omg sooo good good     True   \n",
       "1      soap smel pretty good seem work gre definit mu...     True   \n",
       "2      seem dissolv quit tim see cle benefit smel nic...    False   \n",
       "3                              zip bag good happy awesom     True   \n",
       "4      mess recommend mak much larg contain littl bow...     True   \n",
       "...                                                  ...      ...   \n",
       "27228  ord two bandaid u band aid brand adher band to...     True   \n",
       "27229                                            tast ok     True   \n",
       "27230                             healthy tasty sid dish     True   \n",
       "27231  let pack turn away jack black ep moist cle cre...    False   \n",
       "27232  quit light skin ask try shad thought might dar...    False   \n",
       "\n",
       "       review_score product_category  \n",
       "0               5.0     prime_pantry  \n",
       "1               4.0     prime_pantry  \n",
       "2               1.0     prime_pantry  \n",
       "3               5.0     prime_pantry  \n",
       "4               2.0     prime_pantry  \n",
       "...             ...              ...  \n",
       "27228           5.0     prime_pantry  \n",
       "27229           5.0     prime_pantry  \n",
       "27230           5.0     prime_pantry  \n",
       "27231           5.0    luxury_beauty  \n",
       "27232           5.0    luxury_beauty  \n",
       "\n",
       "[27233 rows x 5 columns]"
      ]
     },
     "execution_count": 90,
     "metadata": {},
     "output_type": "execute_result"
    }
   ],
   "source": [
    "df"
   ]
  },
  {
   "cell_type": "code",
   "execution_count": 91,
   "id": "00a8b17f",
   "metadata": {},
   "outputs": [],
   "source": [
    "ddf=df.drop(['text','review_id'],axis=1)"
   ]
  },
  {
   "cell_type": "markdown",
   "id": "d03968d6",
   "metadata": {},
   "source": [
    "# #creating a dataframe of the array which was converted into a vector and concatinating it with other features"
   ]
  },
  {
   "cell_type": "code",
   "execution_count": 92,
   "id": "ac8d64be",
   "metadata": {
    "scrolled": true
   },
   "outputs": [
    {
     "ename": "MemoryError",
     "evalue": "Unable to allocate 2.32 GiB for an array with shape (27233, 11444) and data type int64",
     "output_type": "error",
     "traceback": [
      "\u001b[1;31m---------------------------------------------------------------------------\u001b[0m",
      "\u001b[1;31mMemoryError\u001b[0m                               Traceback (most recent call last)",
      "Input \u001b[1;32mIn [92]\u001b[0m, in \u001b[0;36m<cell line: 2>\u001b[1;34m()\u001b[0m\n\u001b[0;32m      1\u001b[0m \u001b[38;5;66;03m#creating a dataframe of the array which was converted into a vector and concatinating it with other features\u001b[39;00m\n\u001b[1;32m----> 2\u001b[0m df1 \u001b[38;5;241m=\u001b[39m pd\u001b[38;5;241m.\u001b[39mDataFrame(\u001b[43mX\u001b[49m\u001b[38;5;241;43m.\u001b[39;49m\u001b[43mtoarray\u001b[49m\u001b[43m(\u001b[49m\u001b[43m)\u001b[49m, columns\u001b[38;5;241m=\u001b[39mvectorizer\u001b[38;5;241m.\u001b[39mget_feature_names())\n\u001b[0;32m      3\u001b[0m res \u001b[38;5;241m=\u001b[39m pd\u001b[38;5;241m.\u001b[39mconcat([df1, ddf], axis\u001b[38;5;241m=\u001b[39m\u001b[38;5;241m1\u001b[39m)\n",
      "File \u001b[1;32m~\\anaconda3\\lib\\site-packages\\scipy\\sparse\\compressed.py:1039\u001b[0m, in \u001b[0;36m_cs_matrix.toarray\u001b[1;34m(self, order, out)\u001b[0m\n\u001b[0;32m   1037\u001b[0m \u001b[38;5;28;01mif\u001b[39;00m out \u001b[38;5;129;01mis\u001b[39;00m \u001b[38;5;28;01mNone\u001b[39;00m \u001b[38;5;129;01mand\u001b[39;00m order \u001b[38;5;129;01mis\u001b[39;00m \u001b[38;5;28;01mNone\u001b[39;00m:\n\u001b[0;32m   1038\u001b[0m     order \u001b[38;5;241m=\u001b[39m \u001b[38;5;28mself\u001b[39m\u001b[38;5;241m.\u001b[39m_swap(\u001b[38;5;124m'\u001b[39m\u001b[38;5;124mcf\u001b[39m\u001b[38;5;124m'\u001b[39m)[\u001b[38;5;241m0\u001b[39m]\n\u001b[1;32m-> 1039\u001b[0m out \u001b[38;5;241m=\u001b[39m \u001b[38;5;28;43mself\u001b[39;49m\u001b[38;5;241;43m.\u001b[39;49m\u001b[43m_process_toarray_args\u001b[49m\u001b[43m(\u001b[49m\u001b[43morder\u001b[49m\u001b[43m,\u001b[49m\u001b[43m \u001b[49m\u001b[43mout\u001b[49m\u001b[43m)\u001b[49m\n\u001b[0;32m   1040\u001b[0m \u001b[38;5;28;01mif\u001b[39;00m \u001b[38;5;129;01mnot\u001b[39;00m (out\u001b[38;5;241m.\u001b[39mflags\u001b[38;5;241m.\u001b[39mc_contiguous \u001b[38;5;129;01mor\u001b[39;00m out\u001b[38;5;241m.\u001b[39mflags\u001b[38;5;241m.\u001b[39mf_contiguous):\n\u001b[0;32m   1041\u001b[0m     \u001b[38;5;28;01mraise\u001b[39;00m \u001b[38;5;167;01mValueError\u001b[39;00m(\u001b[38;5;124m'\u001b[39m\u001b[38;5;124mOutput array must be C or F contiguous\u001b[39m\u001b[38;5;124m'\u001b[39m)\n",
      "File \u001b[1;32m~\\anaconda3\\lib\\site-packages\\scipy\\sparse\\base.py:1202\u001b[0m, in \u001b[0;36mspmatrix._process_toarray_args\u001b[1;34m(self, order, out)\u001b[0m\n\u001b[0;32m   1200\u001b[0m     \u001b[38;5;28;01mreturn\u001b[39;00m out\n\u001b[0;32m   1201\u001b[0m \u001b[38;5;28;01melse\u001b[39;00m:\n\u001b[1;32m-> 1202\u001b[0m     \u001b[38;5;28;01mreturn\u001b[39;00m \u001b[43mnp\u001b[49m\u001b[38;5;241;43m.\u001b[39;49m\u001b[43mzeros\u001b[49m\u001b[43m(\u001b[49m\u001b[38;5;28;43mself\u001b[39;49m\u001b[38;5;241;43m.\u001b[39;49m\u001b[43mshape\u001b[49m\u001b[43m,\u001b[49m\u001b[43m \u001b[49m\u001b[43mdtype\u001b[49m\u001b[38;5;241;43m=\u001b[39;49m\u001b[38;5;28;43mself\u001b[39;49m\u001b[38;5;241;43m.\u001b[39;49m\u001b[43mdtype\u001b[49m\u001b[43m,\u001b[49m\u001b[43m \u001b[49m\u001b[43morder\u001b[49m\u001b[38;5;241;43m=\u001b[39;49m\u001b[43morder\u001b[49m\u001b[43m)\u001b[49m\n",
      "\u001b[1;31mMemoryError\u001b[0m: Unable to allocate 2.32 GiB for an array with shape (27233, 11444) and data type int64"
     ]
    }
   ],
   "source": [
    " #creating a dataframe of the array which was converted into a vector and concatinating it with other features\n",
    "df1 = pd.DataFrame(X.toarray(), columns=vectorizer.get_feature_names())\n",
    "res = pd.concat([df1, ddf], axis=1)"
   ]
  },
  {
   "cell_type": "markdown",
   "id": "1fa360cb",
   "metadata": {},
   "source": [
    "# Encoding categorical features"
   ]
  },
  {
   "cell_type": "code",
   "execution_count": null,
   "id": "ee5f834d",
   "metadata": {},
   "outputs": [],
   "source": [
    "a=df.select_dtypes(include='object')"
   ]
  },
  {
   "cell_type": "code",
   "execution_count": null,
   "id": "8db0d84c",
   "metadata": {},
   "outputs": [],
   "source": [
    "from sklearn import preprocessing\n",
    "le = preprocessing.LabelEncoder()\n",
    "df['product_category']=le.fit_transform(df['product_category'])"
   ]
  },
  {
   "cell_type": "markdown",
   "id": "6c41a4c0",
   "metadata": {},
   "source": [
    "# defining inputs and outputs as X and y respectively"
   ]
  },
  {
   "cell_type": "code",
   "execution_count": null,
   "id": "0abefb67",
   "metadata": {},
   "outputs": [],
   "source": [
    "X=df1\n",
    "y=df['product_category']"
   ]
  },
  {
   "cell_type": "code",
   "execution_count": null,
   "id": "1837ae49",
   "metadata": {},
   "outputs": [],
   "source": [
    "from sklearn.model_selection import train_test_split\n",
    "from sklearn.metrics import recall_score\n",
    "from sklearn.metrics import accuracy_score\n",
    "from sklearn.metrics import precision_score\n",
    "X_train, X_test, y_train, y_test = train_test_split(X,y, test_size=0.20, random_state=42)"
   ]
  },
  {
   "cell_type": "code",
   "execution_count": null,
   "id": "cbab8e0f",
   "metadata": {},
   "outputs": [],
   "source": [
    "\n",
    "from sklearn.tree import DecisionTreeClassifier\n"
   ]
  },
  {
   "cell_type": "code",
   "execution_count": null,
   "id": "e62af272",
   "metadata": {},
   "outputs": [],
   "source": []
  },
  {
   "cell_type": "code",
   "execution_count": null,
   "id": "30cad0be",
   "metadata": {},
   "outputs": [],
   "source": [
    "from sklearn.metrics import confusion_matrix\n",
    "\n",
    "dt =DecisionTreeClassifier(random_state=10000)\n",
    "dt.fit(X_train, y_train)\n",
    "y_predict_dt = dt.predict(X_test)\n",
    "y_predict_dt_train = dt.predict(X_train)\n",
    "# confusion_matrix\n",
    "cm = confusion_matrix(y_test, y_predict_dt)\n",
    "sns.heatmap(cm, annot=True, fmt=\"d\")\n"
   ]
  },
  {
   "cell_type": "code",
   "execution_count": null,
   "id": "fc7deeef",
   "metadata": {},
   "outputs": [],
   "source": [
    "print('train accuracy',accuracy_score((y_train), y_predict_dt_train))\n",
    "print('test accuracy',accuracy_score((y_test), y_predict_dt))\n",
    "print('precision',precision_score(y_test, y_predict_dt, average='macro'))\n",
    "print('recall',recall_score(y_test, y_predict_dt, average='macro'))"
   ]
  },
  {
   "cell_type": "code",
   "execution_count": null,
   "id": "e89b8495",
   "metadata": {},
   "outputs": [],
   "source": [
    "print(classification_report(y_test, y_predict_dt))"
   ]
  },
  {
   "cell_type": "code",
   "execution_count": null,
   "id": "65c707e2",
   "metadata": {},
   "outputs": [],
   "source": [
    "from sklearn.ensemble import RandomForestClassifier\n",
    "rf =RandomForestClassifier(random_state=10000) \n",
    "rf.fit(X_train, y_train)\n",
    "y_predict_rf = rf.predict(X_test)\n",
    "y_predict_rf_train = rf.predict(X_train)\n",
    "# confusion_matrix\n",
    "cm = confusion_matrix(y_test, y_predict_rf)\n",
    "sns.heatmap(cm, annot=True, fmt=\"d\")"
   ]
  },
  {
   "cell_type": "code",
   "execution_count": null,
   "id": "e63f67e4",
   "metadata": {},
   "outputs": [],
   "source": [
    "print(' train accuracy',accuracy_score((y_train), y_predict_rf_train))\n",
    "print(' test accuracy',accuracy_score((y_test), y_predict_rf))\n",
    "print('precision',precision_score(y_test, y_predict_rf))\n",
    "print('recall',recall_score(y_test, y_predict_rf))"
   ]
  },
  {
   "cell_type": "code",
   "execution_count": null,
   "id": "0f5f2628",
   "metadata": {},
   "outputs": [],
   "source": [
    "print(classification_report(y_test, y_predict_rf))"
   ]
  },
  {
   "cell_type": "code",
   "execution_count": null,
   "id": "0c43aec1",
   "metadata": {},
   "outputs": [],
   "source": [
    "### Compute ROC curve and ROC area for predictions on validation set\n",
    "from sklearn.metrics import roc_curve, auc\n",
    "\n",
    "### Plot\n",
    "plt.figure(figsize=(10,10))\n",
    "lw = 2\n",
    "\n",
    "fpr_rf, tpr_rf, _ = roc_curve(y_test, y_predict_rf)\n",
    "roc_auc_rf = auc(fpr_rf, tpr_rf)\n",
    "plt.plot(fpr_rf, tpr_rf, color='blue',\n",
    "         lw=lw, label='Random Forest (area = %0.2f)' % roc_auc_rf)\n",
    "fpr_dt, tpr_dt, _ = roc_curve(y_test, y_predict_dt)\n",
    "roc_auc_dt = auc(fpr_dt, tpr_dt)\n",
    "plt.plot(fpr_dt, tpr_dt, color='green',\n",
    "         lw=lw, label='Decision Tree (area = %0.2f)' % roc_auc_dt)\n",
    "\n",
    "plt.plot([0, 1], [0, 1], color='navy', lw=lw, linestyle='--')\n",
    "plt.xlim([0.0, 1.0])\n",
    "plt.ylim([0.0, 1.05])\n",
    "plt.xlabel('False Positive Rate')\n",
    "plt.ylabel('True Positive Rate')\n",
    "plt.title('Receiver operating characteristic example')\n",
    "plt.legend(loc=\"lower right\")\n",
    "plt.show()"
   ]
  },
  {
   "cell_type": "markdown",
   "id": "8daa602c",
   "metadata": {},
   "source": [
    "# 2:review_score prediction"
   ]
  },
  {
   "cell_type": "code",
   "execution_count": null,
   "id": "30f25c29",
   "metadata": {},
   "outputs": [],
   "source": [
    "vectorizer2 = CountVectorizer(max_features=2500)\n",
    "X2 = vectorizer2.fit_transform(df['text'])\n",
    "b2=vectorizer2.get_feature_names()\n",
    "  \n",
    "  "
   ]
  },
  {
   "cell_type": "code",
   "execution_count": null,
   "id": "5361c230",
   "metadata": {},
   "outputs": [],
   "source": [
    " #creating a dataframe of the array which was converted into a vector and concatinating it with other features\n",
    "df2 = pd.DataFrame(X2.toarray(), columns=vectorizer2.get_feature_names())"
   ]
  },
  {
   "cell_type": "code",
   "execution_count": null,
   "id": "b6a7da9b",
   "metadata": {},
   "outputs": [],
   "source": [
    "X2=df2\n",
    "y2=df[['review_score']]"
   ]
  },
  {
   "cell_type": "code",
   "execution_count": null,
   "id": "874a13d0",
   "metadata": {},
   "outputs": [],
   "source": [
    "from collections import Counter\n",
    "from imblearn.pipeline import Pipeline\n",
    "from imblearn.over_sampling import RandomOverSampler\n",
    "from imblearn.under_sampling import RandomUnderSampler\n",
    "# summarize class distribution\n",
    "print(Counter(y2))\n",
    "# define resampling\n",
    "# transform the dataset\n",
    "strategy = {5.0:18681, 4.0:10000,3.0:10000,2.0:9000,1.0:8500,-1.0:8000}\n",
    "over = RandomOverSampler(sampling_strategy=strategy)\n",
    "# define pipeline\n",
    "pipeline = Pipeline(steps=[('o', over)])\n",
    "X2, y2 = pipeline.fit_resample(X2, y2)\n",
    "# summarize class distribution\n",
    "print(Counter(y2))"
   ]
  },
  {
   "cell_type": "code",
   "execution_count": null,
   "id": "a053b8c2",
   "metadata": {},
   "outputs": [],
   "source": [
    "from sklearn.preprocessing import StandardScaler\n",
    "scaler = StandardScaler()\n",
    "X2 = scaler.fit_transform(X2)"
   ]
  },
  {
   "cell_type": "code",
   "execution_count": null,
   "id": "455d70f9",
   "metadata": {},
   "outputs": [],
   "source": [
    "\n",
    "X_train2, X_test2, y_train2, y_test2 = train_test_split(X2,y2, test_size=0.33, random_state=42)"
   ]
  },
  {
   "cell_type": "code",
   "execution_count": null,
   "id": "fcb231af",
   "metadata": {},
   "outputs": [],
   "source": [
    "dt2 =DecisionTreeClassifier(random_state=1024)\n",
    "dt2.fit(X_train2, y_train2)\n",
    "y_predict_dt2 = dt2.predict(X_test2)\n",
    "# confusion_matrix\n",
    "cm = confusion_matrix(y_test2, y_predict_dt2)\n",
    "plt.figure(figsize=(10,10))\n",
    "sns.heatmap(cm, annot=True, fmt=\"d\")\n"
   ]
  },
  {
   "cell_type": "code",
   "execution_count": null,
   "id": "84a07677",
   "metadata": {},
   "outputs": [],
   "source": [
    "print('accuracy',accuracy_score((y_test2), y_predict_dt2))\n",
    "print('precision',precision_score(y_test2, y_predict_dt2, average='macro'))\n",
    "print('recall',recall_score(y_test2, y_predict_dt2, average='macro'))"
   ]
  },
  {
   "cell_type": "code",
   "execution_count": null,
   "id": "046b1abf",
   "metadata": {},
   "outputs": [],
   "source": [
    "rf2 =RandomForestClassifier(random_state=1000) \n",
    "rf2.fit(X_train2, y_train2)\n",
    "y_predict_rf2 = rf2.predict(X_test2)\n",
    "# confusion_matrix\n",
    "cm = confusion_matrix(y_test2, y_predict_rf2)\n",
    "plt.figure(figsize=(10,10))\n",
    "sns.heatmap(cm, annot=True, fmt=\"d\")"
   ]
  },
  {
   "cell_type": "code",
   "execution_count": null,
   "id": "cbd0c154",
   "metadata": {},
   "outputs": [],
   "source": [
    "print('accuracy',accuracy_score((y_test2), y_predict_rf2))\n",
    "print('precision',precision_score(y_test2, y_predict_rf2, average='macro'))\n",
    "print('recall',recall_score(y_test2, y_predict_rf2, average='macro'))"
   ]
  },
  {
   "cell_type": "code",
   "execution_count": null,
   "id": "dccf86bc",
   "metadata": {},
   "outputs": [],
   "source": []
  },
  {
   "cell_type": "code",
   "execution_count": null,
   "id": "af44ddae",
   "metadata": {},
   "outputs": [],
   "source": []
  }
 ],
 "metadata": {
  "kernelspec": {
   "display_name": "Python 3 (ipykernel)",
   "language": "python",
   "name": "python3"
  },
  "language_info": {
   "codemirror_mode": {
    "name": "ipython",
    "version": 3
   },
   "file_extension": ".py",
   "mimetype": "text/x-python",
   "name": "python",
   "nbconvert_exporter": "python",
   "pygments_lexer": "ipython3",
   "version": "3.9.12"
  }
 },
 "nbformat": 4,
 "nbformat_minor": 5
}
