{
 "cells": [
  {
   "cell_type": "code",
   "execution_count": 80,
   "id": "4d62c614",
   "metadata": {},
   "outputs": [
    {
     "name": "stderr",
     "output_type": "stream",
     "text": [
      "[nltk_data] Downloading package punkt to\n",
      "[nltk_data]     C:\\Users\\wajah\\AppData\\Roaming\\nltk_data...\n",
      "[nltk_data]   Package punkt is already up-to-date!\n",
      "[nltk_data] Downloading package stopwords to\n",
      "[nltk_data]     C:\\Users\\wajah\\AppData\\Roaming\\nltk_data...\n",
      "[nltk_data]   Package stopwords is already up-to-date!\n",
      "[nltk_data] Downloading package omw-1.4 to\n",
      "[nltk_data]     C:\\Users\\wajah\\AppData\\Roaming\\nltk_data...\n",
      "[nltk_data]   Package omw-1.4 is already up-to-date!\n",
      "[nltk_data] Downloading package wordnet to\n",
      "[nltk_data]     C:\\Users\\wajah\\AppData\\Roaming\\nltk_data...\n",
      "[nltk_data]   Package wordnet is already up-to-date!\n"
     ]
    },
    {
     "data": {
      "text/plain": [
       "True"
      ]
     },
     "execution_count": 80,
     "metadata": {},
     "output_type": "execute_result"
    }
   ],
   "source": [
    "# Libraries\n",
    "import sys\n",
    "import pandas as pd\n",
    "import nltk\n",
    "from sklearn.metrics import classification_report\n",
    "import html\n",
    "import numpy as np\n",
    "import re\n",
    "import warnings\n",
    "warnings.filterwarnings('ignore')\n",
    "from nltk.corpus import stopwords\n",
    "from nltk.tokenize import word_tokenize\n",
    "import nltk\n",
    "nltk.download('punkt')\n",
    "nltk.download('stopwords')\n",
    "nltk.download('omw-1.4')\n",
    "nltk.download('wordnet')\n"
   ]
  },
  {
   "cell_type": "code",
   "execution_count": 81,
   "id": "fb1df617",
   "metadata": {},
   "outputs": [
    {
     "data": {
      "text/html": [
       "<div>\n",
       "<style scoped>\n",
       "    .dataframe tbody tr th:only-of-type {\n",
       "        vertical-align: middle;\n",
       "    }\n",
       "\n",
       "    .dataframe tbody tr th {\n",
       "        vertical-align: top;\n",
       "    }\n",
       "\n",
       "    .dataframe thead th {\n",
       "        text-align: right;\n",
       "    }\n",
       "</style>\n",
       "<table border=\"1\" class=\"dataframe\">\n",
       "  <thead>\n",
       "    <tr style=\"text-align: right;\">\n",
       "      <th></th>\n",
       "      <th>review_id</th>\n",
       "      <th>text</th>\n",
       "      <th>verified</th>\n",
       "      <th>review_score</th>\n",
       "      <th>product_category</th>\n",
       "    </tr>\n",
       "  </thead>\n",
       "  <tbody>\n",
       "    <tr>\n",
       "      <th>0</th>\n",
       "      <td>product_review_000000</td>\n",
       "      <td>OMG this is sooo good.. Very Good!!!</td>\n",
       "      <td>True</td>\n",
       "      <td>5.0</td>\n",
       "      <td>prime_pantry</td>\n",
       "    </tr>\n",
       "    <tr>\n",
       "      <th>1</th>\n",
       "      <td>product_review_000001</td>\n",
       "      <td>This soap smells pretty good and it seems to w...</td>\n",
       "      <td>True</td>\n",
       "      <td>4.0</td>\n",
       "      <td>prime_pantry</td>\n",
       "    </tr>\n",
       "    <tr>\n",
       "      <th>2</th>\n",
       "      <td>product_review_000002</td>\n",
       "      <td>Don't seem to dissolve after quite some time. ...</td>\n",
       "      <td>False</td>\n",
       "      <td>1.0</td>\n",
       "      <td>prime_pantry</td>\n",
       "    </tr>\n",
       "    <tr>\n",
       "      <th>3</th>\n",
       "      <td>product_review_000003</td>\n",
       "      <td>these zip bags do as they should. very good. I...</td>\n",
       "      <td>True</td>\n",
       "      <td>5.0</td>\n",
       "      <td>prime_pantry</td>\n",
       "    </tr>\n",
       "    <tr>\n",
       "      <th>4</th>\n",
       "      <td>product_review_000004</td>\n",
       "      <td>What. A. Mess.\\nI recommend making this in a m...</td>\n",
       "      <td>True</td>\n",
       "      <td>2.0</td>\n",
       "      <td>prime_pantry</td>\n",
       "    </tr>\n",
       "  </tbody>\n",
       "</table>\n",
       "</div>"
      ],
      "text/plain": [
       "               review_id                                               text  \\\n",
       "0  product_review_000000               OMG this is sooo good.. Very Good!!!   \n",
       "1  product_review_000001  This soap smells pretty good and it seems to w...   \n",
       "2  product_review_000002  Don't seem to dissolve after quite some time. ...   \n",
       "3  product_review_000003  these zip bags do as they should. very good. I...   \n",
       "4  product_review_000004  What. A. Mess.\\nI recommend making this in a m...   \n",
       "\n",
       "  verified  review_score product_category  \n",
       "0     True           5.0     prime_pantry  \n",
       "1     True           4.0     prime_pantry  \n",
       "2    False           1.0     prime_pantry  \n",
       "3     True           5.0     prime_pantry  \n",
       "4     True           2.0     prime_pantry  "
      ]
     },
     "execution_count": 81,
     "metadata": {},
     "output_type": "execute_result"
    }
   ],
   "source": [
    "#reading dataset\n",
    "df = pd.read_csv(\"processed_reviews_split_RESIT_minimal.csv\")\n",
    "df.head()"
   ]
  },
  {
   "cell_type": "code",
   "execution_count": 82,
   "id": "de6dd316",
   "metadata": {},
   "outputs": [],
   "source": [
    "#checking null values in percentage.\n",
    "percent_missing = df.isnull().sum() * 100 / len(df)\n",
    "missing_value_df = pd.DataFrame({'column_name': df.columns,'percent_missing': percent_missing})"
   ]
  },
  {
   "cell_type": "code",
   "execution_count": 83,
   "id": "b34af38e",
   "metadata": {},
   "outputs": [
    {
     "data": {
      "text/plain": [
       "<AxesSubplot:>"
      ]
     },
     "execution_count": 83,
     "metadata": {},
     "output_type": "execute_result"
    },
    {
     "data": {
      "image/png": "[encoded data removed]",
      "text/plain": [
       "<Figure size 720x720 with 1 Axes>"
      ]
     },
     "metadata": {
      "needs_background": "light"
     },
     "output_type": "display_data"
    }
   ],
   "source": [
    "#ploting numer of missing values in different columns in percentage.\n",
    "import matplotlib.pyplot as plt\n",
    "Miss_val = df.isna().sum()/df.shape[0]\n",
    "Miss_val.sort_values(ascending=False, inplace=True)\n",
    "Miss_val\n",
    "plt.figure(figsize=(10,10))\n",
    "Miss_val.plot.bar()"
   ]
  },
  {
   "cell_type": "code",
   "execution_count": 84,
   "id": "199241b1",
   "metadata": {},
   "outputs": [
    {
     "data": {
      "text/plain": [
       "0        product_review_000000\n",
       "1        product_review_000001\n",
       "2        product_review_000002\n",
       "3        product_review_000003\n",
       "4        product_review_000004\n",
       "                 ...          \n",
       "28148    product_review_028148\n",
       "28149    product_review_028149\n",
       "28150    product_review_028150\n",
       "28151    product_review_028151\n",
       "28152    product_review_028152\n",
       "Name: review_id, Length: 28153, dtype: object"
      ]
     },
     "execution_count": 84,
     "metadata": {},
     "output_type": "execute_result"
    }
   ],
   "source": [
    "drp=df[df.isnull().any(axis=1)]\n",
    "idd=drp['review_id']\n",
    "idd=list(idd)\n",
    "df['review_id']"
   ]
  },
  {
   "cell_type": "code",
   "execution_count": 85,
   "id": "cb09ae98",
   "metadata": {},
   "outputs": [],
   "source": [
    "l=[]\n",
    "for i in df['review_id']:\n",
    "   \n",
    "    if i in idd:\n",
    "        exc=i+\",1,missing_value_or_label\"\n",
    "        l.append(exc)\n",
    "    else:\n",
    "        exc=i+\",0,N/A\"\n",
    "        l.append(exc)\n"
   ]
  },
  {
   "cell_type": "code",
   "execution_count": 86,
   "id": "fb3b45ea",
   "metadata": {},
   "outputs": [],
   "source": [
    "exclusivedf=df.copy()\n",
    "exclusivedf = exclusivedf.drop('text', axis = 1)\n",
    "exclusivedf['reason_for_exclusion']=l"
   ]
  },
  {
   "cell_type": "code",
   "execution_count": 87,
   "id": "b0e9ae4d",
   "metadata": {},
   "outputs": [],
   "source": [
    "exclusivedf.to_csv('exclusions_resit_dataset_problem2.csv')"
   ]
  },
  {
   "cell_type": "code",
   "execution_count": 88,
   "id": "aa6f8c63",
   "metadata": {},
   "outputs": [
    {
     "data": {
      "text/html": [
       "<div>\n",
       "<style scoped>\n",
       "    .dataframe tbody tr th:only-of-type {\n",
       "        vertical-align: middle;\n",
       "    }\n",
       "\n",
       "    .dataframe tbody tr th {\n",
       "        vertical-align: top;\n",
       "    }\n",
       "\n",
       "    .dataframe thead th {\n",
       "        text-align: right;\n",
       "    }\n",
       "</style>\n",
       "<table border=\"1\" class=\"dataframe\">\n",
       "  <thead>\n",
       "    <tr style=\"text-align: right;\">\n",
       "      <th></th>\n",
       "      <th>review_id</th>\n",
       "      <th>text</th>\n",
       "      <th>verified</th>\n",
       "      <th>review_score</th>\n",
       "      <th>product_category</th>\n",
       "    </tr>\n",
       "  </thead>\n",
       "  <tbody>\n",
       "    <tr>\n",
       "      <th>0</th>\n",
       "      <td>product_review_000000</td>\n",
       "      <td>OMG this is sooo good.. Very Good!!!</td>\n",
       "      <td>True</td>\n",
       "      <td>5.0</td>\n",
       "      <td>prime_pantry</td>\n",
       "    </tr>\n",
       "    <tr>\n",
       "      <th>1</th>\n",
       "      <td>product_review_000001</td>\n",
       "      <td>This soap smells pretty good and it seems to w...</td>\n",
       "      <td>True</td>\n",
       "      <td>4.0</td>\n",
       "      <td>prime_pantry</td>\n",
       "    </tr>\n",
       "    <tr>\n",
       "      <th>2</th>\n",
       "      <td>product_review_000002</td>\n",
       "      <td>Don't seem to dissolve after quite some time. ...</td>\n",
       "      <td>False</td>\n",
       "      <td>1.0</td>\n",
       "      <td>prime_pantry</td>\n",
       "    </tr>\n",
       "    <tr>\n",
       "      <th>3</th>\n",
       "      <td>product_review_000003</td>\n",
       "      <td>these zip bags do as they should. very good. I...</td>\n",
       "      <td>True</td>\n",
       "      <td>5.0</td>\n",
       "      <td>prime_pantry</td>\n",
       "    </tr>\n",
       "    <tr>\n",
       "      <th>4</th>\n",
       "      <td>product_review_000004</td>\n",
       "      <td>What. A. Mess.\\nI recommend making this in a m...</td>\n",
       "      <td>True</td>\n",
       "      <td>2.0</td>\n",
       "      <td>prime_pantry</td>\n",
       "    </tr>\n",
       "    <tr>\n",
       "      <th>...</th>\n",
       "      <td>...</td>\n",
       "      <td>...</td>\n",
       "      <td>...</td>\n",
       "      <td>...</td>\n",
       "      <td>...</td>\n",
       "    </tr>\n",
       "    <tr>\n",
       "      <th>27228</th>\n",
       "      <td>product_review_028147</td>\n",
       "      <td>Ordered two of the bandaids which we use most....</td>\n",
       "      <td>True</td>\n",
       "      <td>5.0</td>\n",
       "      <td>prime_pantry</td>\n",
       "    </tr>\n",
       "    <tr>\n",
       "      <th>27229</th>\n",
       "      <td>product_review_028148</td>\n",
       "      <td>Taste is ok..</td>\n",
       "      <td>True</td>\n",
       "      <td>5.0</td>\n",
       "      <td>prime_pantry</td>\n",
       "    </tr>\n",
       "    <tr>\n",
       "      <th>27230</th>\n",
       "      <td>product_review_028149</td>\n",
       "      <td>healthy tasty side dish.</td>\n",
       "      <td>True</td>\n",
       "      <td>5.0</td>\n",
       "      <td>prime_pantry</td>\n",
       "    </tr>\n",
       "    <tr>\n",
       "      <th>27231</th>\n",
       "      <td>product_review_028151</td>\n",
       "      <td>Don't let the packaging turn you away - Jack B...</td>\n",
       "      <td>False</td>\n",
       "      <td>5.0</td>\n",
       "      <td>luxury_beauty</td>\n",
       "    </tr>\n",
       "    <tr>\n",
       "      <th>27232</th>\n",
       "      <td>product_review_028152</td>\n",
       "      <td>I am quite light-skinned and when I was asked ...</td>\n",
       "      <td>False</td>\n",
       "      <td>5.0</td>\n",
       "      <td>luxury_beauty</td>\n",
       "    </tr>\n",
       "  </tbody>\n",
       "</table>\n",
       "<p>27233 rows × 5 columns</p>\n",
       "</div>"
      ],
      "text/plain": [
       "                   review_id  \\\n",
       "0      product_review_000000   \n",
       "1      product_review_000001   \n",
       "2      product_review_000002   \n",
       "3      product_review_000003   \n",
       "4      product_review_000004   \n",
       "...                      ...   \n",
       "27228  product_review_028147   \n",
       "27229  product_review_028148   \n",
       "27230  product_review_028149   \n",
       "27231  product_review_028151   \n",
       "27232  product_review_028152   \n",
       "\n",
       "                                                    text verified  \\\n",
       "0                   OMG this is sooo good.. Very Good!!!     True   \n",
       "1      This soap smells pretty good and it seems to w...     True   \n",
       "2      Don't seem to dissolve after quite some time. ...    False   \n",
       "3      these zip bags do as they should. very good. I...     True   \n",
       "4      What. A. Mess.\\nI recommend making this in a m...     True   \n",
       "...                                                  ...      ...   \n",
       "27228  Ordered two of the bandaids which we use most....     True   \n",
       "27229                                     Taste is ok..      True   \n",
       "27230                          healthy tasty side dish.      True   \n",
       "27231  Don't let the packaging turn you away - Jack B...    False   \n",
       "27232  I am quite light-skinned and when I was asked ...    False   \n",
       "\n",
       "       review_score product_category  \n",
       "0               5.0     prime_pantry  \n",
       "1               4.0     prime_pantry  \n",
       "2               1.0     prime_pantry  \n",
       "3               5.0     prime_pantry  \n",
       "4               2.0     prime_pantry  \n",
       "...             ...              ...  \n",
       "27228           5.0     prime_pantry  \n",
       "27229           5.0     prime_pantry  \n",
       "27230           5.0     prime_pantry  \n",
       "27231           5.0    luxury_beauty  \n",
       "27232           5.0    luxury_beauty  \n",
       "\n",
       "[27233 rows x 5 columns]"
      ]
     },
     "execution_count": 88,
     "metadata": {},
     "output_type": "execute_result"
    }
   ],
   "source": [
    "#removing rows with missing values \n",
    "df = df.dropna(axis=0)\n",
    "df=df.reset_index(drop=True)\n",
    "df"
   ]
  },
  {
   "cell_type": "markdown",
   "id": "bcc694b5",
   "metadata": {},
   "source": [
    "# Data Cleaning"
   ]
  },
  {
   "cell_type": "markdown",
   "id": "6687eed8",
   "metadata": {},
   "source": [
    "# Removing unwanted spaces"
   ]
  },
  {
   "cell_type": "code",
   "execution_count": 89,
   "id": "016e5bfd",
   "metadata": {},
   "outputs": [],
   "source": [
    "def remove_spaces(text):\n",
    "    text=text.strip()\n",
    "    text=text.split()\n",
    "    return ' '.join(text)"
   ]
  },
  {
   "cell_type": "markdown",
   "id": "ff4174b8",
   "metadata": {},
   "source": [
    "# Contraction"
   ]
  },
  {
   "cell_type": "code",
   "execution_count": 90,
   "id": "49261454",
   "metadata": {},
   "outputs": [],
   "source": [
    "contraction = {'cause':'because', 'aint': 'am not', 'aren\\'t': 'are not'}\n",
    "\n",
    "def mapping_replacer(x,dic):\n",
    "    for words in dic.keys():\n",
    "        if ' ' + words + ' ' in x:\n",
    "            x=x.replace(' '+ words +' ' ,' '+dic[words]+' ' )\n",
    "    return x"
   ]
  },
  {
   "cell_type": "code",
   "execution_count": 91,
   "id": "7e3c07c3",
   "metadata": {},
   "outputs": [],
   "source": [
    "from nltk.tokenize import word_tokenize\n",
    "from nltk.stem.wordnet import WordNetLemmatizer\n",
    "from nltk.stem.lancaster import LancasterStemmer\n",
    "\n",
    "nltk.LancasterStemmer\n",
    "ls = LancasterStemmer()\n",
    "lem = WordNetLemmatizer()\n",
    "def lexicon_normalization(text):\n",
    "    words = word_tokenize(text) \n",
    "    \n",
    "    \n",
    "    #Stemming\n",
    "    words_stem = [ls.stem(w) for w in words]\n",
    "    \n",
    "    #Lemmatization\n",
    "    words_lem = [lem.lemmatize(w) for w in words_stem]\n",
    "    return words_lem"
   ]
  },
  {
   "cell_type": "markdown",
   "id": "8d7d46f8",
   "metadata": {},
   "source": [
    "# Removing hyperlinks, numbers, punctuations, brackets etc."
   ]
  },
  {
   "cell_type": "code",
   "execution_count": 92,
   "id": "ddd6c416",
   "metadata": {},
   "outputs": [],
   "source": [
    "# updating text to lowercase, removing text between square brackets, Remove hyperlinks, Remove the punctuation and remove words that are containing numbers.\n",
    "def clean_text(text):\n",
    "    text = str(text).lower()\n",
    "    text = re.sub('\\[.*?\\]', '', text)\n",
    "    text = re.sub('https?://\\S+|www\\.\\S+', '', text)\n",
    "    text = re.sub('<.*?>+', '', text)\n",
    "    text = re.sub('_', '', text)\n",
    "    text = re.sub('\\n', '', text)\n",
    "    text = re.sub('\\w*\\d\\w*', '', text)\n",
    "    text = re.sub('\\'','', text)\n",
    "    return text"
   ]
  },
  {
   "cell_type": "markdown",
   "id": "d780b186",
   "metadata": {},
   "source": [
    "# Managing stopwords"
   ]
  },
  {
   "cell_type": "code",
   "execution_count": 93,
   "id": "28a5d027",
   "metadata": {},
   "outputs": [],
   "source": [
    "from collections import Counter\n",
    "def remove_stopword(text):\n",
    "    stop_words = stopwords.words('english')\n",
    "    stopwords_dict = Counter(stop_words)\n",
    "    text = ' '.join([word for word in text.split() if word not in stopwords_dict])\n",
    "    return text"
   ]
  },
  {
   "cell_type": "markdown",
   "id": "363bbb35",
   "metadata": {},
   "source": [
    "# Tokenisation"
   ]
  },
  {
   "cell_type": "code",
   "execution_count": 94,
   "id": "3c29946f",
   "metadata": {},
   "outputs": [],
   "source": [
    "def tokenise(text):\n",
    "    words = word_tokenize(text) \n",
    "    return words"
   ]
  },
  {
   "cell_type": "markdown",
   "id": "f4f7eb87",
   "metadata": {},
   "source": [
    "# Handling Regular expressions"
   ]
  },
  {
   "cell_type": "code",
   "execution_count": 95,
   "id": "d3c94702",
   "metadata": {},
   "outputs": [],
   "source": [
    "import re\n",
    "df['text'] = df['text'].map(lambda x: re.sub(r'\\W+', ' ', str(x)))\n",
    "df['text'] = df['text'].replace(r'\\W+', ' ', regex=True)"
   ]
  },
  {
   "cell_type": "code",
   "execution_count": 96,
   "id": "454183ec",
   "metadata": {},
   "outputs": [],
   "source": [
    "df['text']=df['text'].apply(lambda x: mapping_replacer(x, contraction))"
   ]
  },
  {
   "cell_type": "code",
   "execution_count": 97,
   "id": "bbed0cc0",
   "metadata": {},
   "outputs": [],
   "source": [
    "df['text']=df['text'].apply(lambda x:clean_text(x))"
   ]
  },
  {
   "cell_type": "code",
   "execution_count": 98,
   "id": "14362e60",
   "metadata": {},
   "outputs": [],
   "source": [
    "df['text']=df['text'].apply(lambda x: remove_stopword(x))"
   ]
  },
  {
   "cell_type": "code",
   "execution_count": 99,
   "id": "619eab79",
   "metadata": {},
   "outputs": [],
   "source": [
    "df['text']=df['text'].apply(lambda x: lexicon_normalization(x))"
   ]
  },
  {
   "cell_type": "markdown",
   "id": "394792dc",
   "metadata": {},
   "source": [
    "# Finding Common words in text column of dataset"
   ]
  },
  {
   "cell_type": "markdown",
   "id": "00471eb0",
   "metadata": {},
   "source": [
    "# Common words for Luxury Beauty products"
   ]
  },
  {
   "cell_type": "code",
   "execution_count": 100,
   "id": "adac24b4",
   "metadata": {},
   "outputs": [],
   "source": [
    "beauty=df[df['product_category']=='luxury_beauty']"
   ]
  },
  {
   "cell_type": "code",
   "execution_count": 101,
   "id": "feb4e1bc",
   "metadata": {},
   "outputs": [
    {
     "data": {
      "text/html": [
       "<style type=\"text/css\">\n",
       "#T_41593_row0_col1 {\n",
       "  background-color: #7f2704;\n",
       "  color: #f1f1f1;\n",
       "}\n",
       "#T_41593_row1_col1 {\n",
       "  background-color: #db4a02;\n",
       "  color: #f1f1f1;\n",
       "}\n",
       "#T_41593_row2_col1 {\n",
       "  background-color: #de4e05;\n",
       "  color: #f1f1f1;\n",
       "}\n",
       "#T_41593_row3_col1 {\n",
       "  background-color: #fd9344;\n",
       "  color: #000000;\n",
       "}\n",
       "#T_41593_row4_col1 {\n",
       "  background-color: #fdd5ad;\n",
       "  color: #000000;\n",
       "}\n",
       "#T_41593_row5_col1 {\n",
       "  background-color: #fdd7af;\n",
       "  color: #000000;\n",
       "}\n",
       "#T_41593_row6_col1 {\n",
       "  background-color: #fdd9b4;\n",
       "  color: #000000;\n",
       "}\n",
       "#T_41593_row7_col1 {\n",
       "  background-color: #fdd9b5;\n",
       "  color: #000000;\n",
       "}\n",
       "#T_41593_row8_col1, #T_41593_row9_col1 {\n",
       "  background-color: #fddab6;\n",
       "  color: #000000;\n",
       "}\n",
       "#T_41593_row10_col1 {\n",
       "  background-color: #fedcbb;\n",
       "  color: #000000;\n",
       "}\n",
       "#T_41593_row11_col1 {\n",
       "  background-color: #feddbc;\n",
       "  color: #000000;\n",
       "}\n",
       "#T_41593_row12_col1 {\n",
       "  background-color: #fedebd;\n",
       "  color: #000000;\n",
       "}\n",
       "#T_41593_row13_col1 {\n",
       "  background-color: #fedebf;\n",
       "  color: #000000;\n",
       "}\n",
       "#T_41593_row14_col1, #T_41593_row15_col1 {\n",
       "  background-color: #fee0c1;\n",
       "  color: #000000;\n",
       "}\n",
       "#T_41593_row16_col1 {\n",
       "  background-color: #fee6ce;\n",
       "  color: #000000;\n",
       "}\n",
       "#T_41593_row17_col1 {\n",
       "  background-color: #fee6cf;\n",
       "  color: #000000;\n",
       "}\n",
       "#T_41593_row18_col1 {\n",
       "  background-color: #fee8d2;\n",
       "  color: #000000;\n",
       "}\n",
       "#T_41593_row19_col1, #T_41593_row20_col1, #T_41593_row21_col1 {\n",
       "  background-color: #fee9d4;\n",
       "  color: #000000;\n",
       "}\n",
       "#T_41593_row22_col1 {\n",
       "  background-color: #feead5;\n",
       "  color: #000000;\n",
       "}\n",
       "#T_41593_row23_col1, #T_41593_row24_col1 {\n",
       "  background-color: #feebd7;\n",
       "  color: #000000;\n",
       "}\n",
       "#T_41593_row25_col1 {\n",
       "  background-color: #feebd8;\n",
       "  color: #000000;\n",
       "}\n",
       "#T_41593_row26_col1 {\n",
       "  background-color: #feecd9;\n",
       "  color: #000000;\n",
       "}\n",
       "#T_41593_row27_col1 {\n",
       "  background-color: #feeddb;\n",
       "  color: #000000;\n",
       "}\n",
       "#T_41593_row28_col1, #T_41593_row29_col1 {\n",
       "  background-color: #feeddc;\n",
       "  color: #000000;\n",
       "}\n",
       "#T_41593_row30_col1, #T_41593_row31_col1 {\n",
       "  background-color: #fff0e1;\n",
       "  color: #000000;\n",
       "}\n",
       "#T_41593_row32_col1 {\n",
       "  background-color: #fff0e2;\n",
       "  color: #000000;\n",
       "}\n",
       "#T_41593_row33_col1, #T_41593_row34_col1, #T_41593_row35_col1 {\n",
       "  background-color: #fff1e3;\n",
       "  color: #000000;\n",
       "}\n",
       "#T_41593_row36_col1, #T_41593_row37_col1 {\n",
       "  background-color: #fff2e6;\n",
       "  color: #000000;\n",
       "}\n",
       "#T_41593_row38_col1 {\n",
       "  background-color: #fff3e6;\n",
       "  color: #000000;\n",
       "}\n",
       "#T_41593_row39_col1 {\n",
       "  background-color: #fff5eb;\n",
       "  color: #000000;\n",
       "}\n",
       "</style>\n",
       "<table id=\"T_41593\">\n",
       "  <thead>\n",
       "    <tr>\n",
       "      <th class=\"blank level0\" >&nbsp;</th>\n",
       "      <th id=\"T_41593_level0_col0\" class=\"col_heading level0 col0\" >Common_words_Beauty_products</th>\n",
       "      <th id=\"T_41593_level0_col1\" class=\"col_heading level0 col1\" >count</th>\n",
       "    </tr>\n",
       "  </thead>\n",
       "  <tbody>\n",
       "    <tr>\n",
       "      <th id=\"T_41593_level0_row0\" class=\"row_heading level0 row0\" >0</th>\n",
       "      <td id=\"T_41593_row0_col0\" class=\"data row0 col0\" >u</td>\n",
       "      <td id=\"T_41593_row0_col1\" class=\"data row0 col1\" >6557</td>\n",
       "    </tr>\n",
       "    <tr>\n",
       "      <th id=\"T_41593_level0_row1\" class=\"row_heading level0 row1\" >1</th>\n",
       "      <td id=\"T_41593_row1_col0\" class=\"data row1 col0\" >skin</td>\n",
       "      <td id=\"T_41593_row1_col1\" class=\"data row1 col1\" >5106</td>\n",
       "    </tr>\n",
       "    <tr>\n",
       "      <th id=\"T_41593_level0_row2\" class=\"row_heading level0 row2\" >2</th>\n",
       "      <td id=\"T_41593_row2_col0\" class=\"data row2 col0\" >produc</td>\n",
       "      <td id=\"T_41593_row2_col1\" class=\"data row2 col1\" >5017</td>\n",
       "    </tr>\n",
       "    <tr>\n",
       "      <th id=\"T_41593_level0_row3\" class=\"row_heading level0 row3\" >3</th>\n",
       "      <td id=\"T_41593_row3_col0\" class=\"data row3 col0\" >lik</td>\n",
       "      <td id=\"T_41593_row3_col1\" class=\"data row3 col1\" >3655</td>\n",
       "    </tr>\n",
       "    <tr>\n",
       "      <th id=\"T_41593_level0_row4\" class=\"row_heading level0 row4\" >4</th>\n",
       "      <td id=\"T_41593_row4_col0\" class=\"data row4 col0\" >look</td>\n",
       "      <td id=\"T_41593_row4_col1\" class=\"data row4 col1\" >2213</td>\n",
       "    </tr>\n",
       "    <tr>\n",
       "      <th id=\"T_41593_level0_row5\" class=\"row_heading level0 row5\" >5</th>\n",
       "      <td id=\"T_41593_row5_col0\" class=\"data row5 col0\" >feel</td>\n",
       "      <td id=\"T_41593_row5_col1\" class=\"data row5 col1\" >2161</td>\n",
       "    </tr>\n",
       "    <tr>\n",
       "      <th id=\"T_41593_level0_row6\" class=\"row_heading level0 row6\" >6</th>\n",
       "      <td id=\"T_41593_row6_col0\" class=\"data row6 col0\" >fac</td>\n",
       "      <td id=\"T_41593_row6_col1\" class=\"data row6 col1\" >2100</td>\n",
       "    </tr>\n",
       "    <tr>\n",
       "      <th id=\"T_41593_level0_row7\" class=\"row_heading level0 row7\" >7</th>\n",
       "      <td id=\"T_41593_row7_col0\" class=\"data row7 col0\" >work</td>\n",
       "      <td id=\"T_41593_row7_col1\" class=\"data row7 col1\" >2076</td>\n",
       "    </tr>\n",
       "    <tr>\n",
       "      <th id=\"T_41593_level0_row8\" class=\"row_heading level0 row8\" >8</th>\n",
       "      <td id=\"T_41593_row8_col0\" class=\"data row8 col0\" >gre</td>\n",
       "      <td id=\"T_41593_row8_col1\" class=\"data row8 col1\" >2057</td>\n",
       "    </tr>\n",
       "    <tr>\n",
       "      <th id=\"T_41593_level0_row9\" class=\"row_heading level0 row9\" >9</th>\n",
       "      <td id=\"T_41593_row9_col0\" class=\"data row9 col0\" >real</td>\n",
       "      <td id=\"T_41593_row9_col1\" class=\"data row9 col1\" >2051</td>\n",
       "    </tr>\n",
       "    <tr>\n",
       "      <th id=\"T_41593_level0_row10\" class=\"row_heading level0 row10\" >10</th>\n",
       "      <td id=\"T_41593_row10_col0\" class=\"data row10 col0\" >col</td>\n",
       "      <td id=\"T_41593_row10_col1\" class=\"data row10 col1\" >1985</td>\n",
       "    </tr>\n",
       "    <tr>\n",
       "      <th id=\"T_41593_level0_row11\" class=\"row_heading level0 row11\" >11</th>\n",
       "      <td id=\"T_41593_row11_col0\" class=\"data row11 col0\" >hair</td>\n",
       "      <td id=\"T_41593_row11_col1\" class=\"data row11 col1\" >1964</td>\n",
       "    </tr>\n",
       "    <tr>\n",
       "      <th id=\"T_41593_level0_row12\" class=\"row_heading level0 row12\" >12</th>\n",
       "      <td id=\"T_41593_row12_col0\" class=\"data row12 col0\" >lov</td>\n",
       "      <td id=\"T_41593_row12_col1\" class=\"data row12 col1\" >1960</td>\n",
       "    </tr>\n",
       "    <tr>\n",
       "      <th id=\"T_41593_level0_row13\" class=\"row_heading level0 row13\" >13</th>\n",
       "      <td id=\"T_41593_row13_col0\" class=\"data row13 col0\" >good</td>\n",
       "      <td id=\"T_41593_row13_col1\" class=\"data row13 col1\" >1923</td>\n",
       "    </tr>\n",
       "    <tr>\n",
       "      <th id=\"T_41593_level0_row14\" class=\"row_heading level0 row14\" >14</th>\n",
       "      <td id=\"T_41593_row14_col0\" class=\"data row14 col0\" >on</td>\n",
       "      <td id=\"T_41593_row14_col1\" class=\"data row14 col1\" >1887</td>\n",
       "    </tr>\n",
       "    <tr>\n",
       "      <th id=\"T_41593_level0_row15\" class=\"row_heading level0 row15\" >15</th>\n",
       "      <td id=\"T_41593_row15_col0\" class=\"data row15 col0\" >apply</td>\n",
       "      <td id=\"T_41593_row15_col1\" class=\"data row15 col1\" >1880</td>\n",
       "    </tr>\n",
       "    <tr>\n",
       "      <th id=\"T_41593_level0_row16\" class=\"row_heading level0 row16\" >16</th>\n",
       "      <td id=\"T_41593_row16_col0\" class=\"data row16 col0\" >nic</td>\n",
       "      <td id=\"T_41593_row16_col1\" class=\"data row16 col1\" >1686</td>\n",
       "    </tr>\n",
       "    <tr>\n",
       "      <th id=\"T_41593_level0_row17\" class=\"row_heading level0 row17\" >17</th>\n",
       "      <td id=\"T_41593_row17_col0\" class=\"data row17 col0\" >wel</td>\n",
       "      <td id=\"T_41593_row17_col1\" class=\"data row17 col1\" >1672</td>\n",
       "    </tr>\n",
       "    <tr>\n",
       "      <th id=\"T_41593_level0_row18\" class=\"row_heading level0 row18\" >18</th>\n",
       "      <td id=\"T_41593_row18_col0\" class=\"data row18 col0\" >scent</td>\n",
       "      <td id=\"T_41593_row18_col1\" class=\"data row18 col1\" >1601</td>\n",
       "    </tr>\n",
       "    <tr>\n",
       "      <th id=\"T_41593_level0_row19\" class=\"row_heading level0 row19\" >19</th>\n",
       "      <td id=\"T_41593_row19_col0\" class=\"data row19 col0\" >mak</td>\n",
       "      <td id=\"T_41593_row19_col1\" class=\"data row19 col1\" >1546</td>\n",
       "    </tr>\n",
       "    <tr>\n",
       "      <th id=\"T_41593_level0_row20\" class=\"row_heading level0 row20\" >20</th>\n",
       "      <td id=\"T_41593_row20_col0\" class=\"data row20 col0\" >get</td>\n",
       "      <td id=\"T_41593_row20_col1\" class=\"data row20 col1\" >1540</td>\n",
       "    </tr>\n",
       "    <tr>\n",
       "      <th id=\"T_41593_level0_row21\" class=\"row_heading level0 row21\" >21</th>\n",
       "      <td id=\"T_41593_row21_col0\" class=\"data row21 col0\" >cream</td>\n",
       "      <td id=\"T_41593_row21_col1\" class=\"data row21 col1\" >1538</td>\n",
       "    </tr>\n",
       "    <tr>\n",
       "      <th id=\"T_41593_level0_row22\" class=\"row_heading level0 row22\" >22</th>\n",
       "      <td id=\"T_41593_row22_col0\" class=\"data row22 col0\" >smel</td>\n",
       "      <td id=\"T_41593_row22_col1\" class=\"data row22 col1\" >1526</td>\n",
       "    </tr>\n",
       "    <tr>\n",
       "      <th id=\"T_41593_level0_row23\" class=\"row_heading level0 row23\" >23</th>\n",
       "      <td id=\"T_41593_row23_col0\" class=\"data row23 col0\" >ev</td>\n",
       "      <td id=\"T_41593_row23_col1\" class=\"data row23 col1\" >1472</td>\n",
       "    </tr>\n",
       "    <tr>\n",
       "      <th id=\"T_41593_level0_row24\" class=\"row_heading level0 row24\" >24</th>\n",
       "      <td id=\"T_41593_row24_col0\" class=\"data row24 col0\" >would</td>\n",
       "      <td id=\"T_41593_row24_col1\" class=\"data row24 col1\" >1465</td>\n",
       "    </tr>\n",
       "    <tr>\n",
       "      <th id=\"T_41593_level0_row25\" class=\"row_heading level0 row25\" >25</th>\n",
       "      <td id=\"T_41593_row25_col0\" class=\"data row25 col0\" >dry</td>\n",
       "      <td id=\"T_41593_row25_col1\" class=\"data row25 col1\" >1456</td>\n",
       "    </tr>\n",
       "    <tr>\n",
       "      <th id=\"T_41593_level0_row26\" class=\"row_heading level0 row26\" >26</th>\n",
       "      <td id=\"T_41593_row26_col0\" class=\"data row26 col0\" >moist</td>\n",
       "      <td id=\"T_41593_row26_col1\" class=\"data row26 col1\" >1420</td>\n",
       "    </tr>\n",
       "    <tr>\n",
       "      <th id=\"T_41593_level0_row27\" class=\"row_heading level0 row27\" >27</th>\n",
       "      <td id=\"T_41593_row27_col0\" class=\"data row27 col0\" >light</td>\n",
       "      <td id=\"T_41593_row27_col1\" class=\"data row27 col1\" >1380</td>\n",
       "    </tr>\n",
       "    <tr>\n",
       "      <th id=\"T_41593_level0_row28\" class=\"row_heading level0 row28\" >28</th>\n",
       "      <td id=\"T_41593_row28_col0\" class=\"data row28 col0\" >day</td>\n",
       "      <td id=\"T_41593_row28_col1\" class=\"data row28 col1\" >1344</td>\n",
       "    </tr>\n",
       "    <tr>\n",
       "      <th id=\"T_41593_level0_row29\" class=\"row_heading level0 row29\" >29</th>\n",
       "      <td id=\"T_41593_row29_col0\" class=\"data row29 col0\" >tim</td>\n",
       "      <td id=\"T_41593_row29_col1\" class=\"data row29 col1\" >1331</td>\n",
       "    </tr>\n",
       "    <tr>\n",
       "      <th id=\"T_41593_level0_row30\" class=\"row_heading level0 row30\" >30</th>\n",
       "      <td id=\"T_41593_row30_col0\" class=\"data row30 col0\" >found</td>\n",
       "      <td id=\"T_41593_row30_col1\" class=\"data row30 col1\" >1233</td>\n",
       "    </tr>\n",
       "    <tr>\n",
       "      <th id=\"T_41593_level0_row31\" class=\"row_heading level0 row31\" >31</th>\n",
       "      <td id=\"T_41593_row31_col0\" class=\"data row31 col0\" >long</td>\n",
       "      <td id=\"T_41593_row31_col1\" class=\"data row31 col1\" >1230</td>\n",
       "    </tr>\n",
       "    <tr>\n",
       "      <th id=\"T_41593_level0_row32\" class=\"row_heading level0 row32\" >32</th>\n",
       "      <td id=\"T_41593_row32_col0\" class=\"data row32 col0\" >littl</td>\n",
       "      <td id=\"T_41593_row32_col1\" class=\"data row32 col1\" >1214</td>\n",
       "    </tr>\n",
       "    <tr>\n",
       "      <th id=\"T_41593_level0_row33\" class=\"row_heading level0 row33\" >33</th>\n",
       "      <td id=\"T_41593_row33_col0\" class=\"data row33 col0\" >much</td>\n",
       "      <td id=\"T_41593_row33_col1\" class=\"data row33 col1\" >1190</td>\n",
       "    </tr>\n",
       "    <tr>\n",
       "      <th id=\"T_41593_level0_row34\" class=\"row_heading level0 row34\" >34</th>\n",
       "      <td id=\"T_41593_row34_col0\" class=\"data row34 col0\" >lot</td>\n",
       "      <td id=\"T_41593_row34_col1\" class=\"data row34 col1\" >1189</td>\n",
       "    </tr>\n",
       "    <tr>\n",
       "      <th id=\"T_41593_level0_row35\" class=\"row_heading level0 row35\" >35</th>\n",
       "      <td id=\"T_41593_row35_col0\" class=\"data row35 col0\" >also</td>\n",
       "      <td id=\"T_41593_row35_col1\" class=\"data row35 col1\" >1186</td>\n",
       "    </tr>\n",
       "    <tr>\n",
       "      <th id=\"T_41593_level0_row36\" class=\"row_heading level0 row36\" >36</th>\n",
       "      <td id=\"T_41593_row36_col0\" class=\"data row36 col0\" >ey</td>\n",
       "      <td id=\"T_41593_row36_col1\" class=\"data row36 col1\" >1122</td>\n",
       "    </tr>\n",
       "    <tr>\n",
       "      <th id=\"T_41593_level0_row37\" class=\"row_heading level0 row37\" >37</th>\n",
       "      <td id=\"T_41593_row37_col0\" class=\"data row37 col0\" >easy</td>\n",
       "      <td id=\"T_41593_row37_col1\" class=\"data row37 col1\" >1118</td>\n",
       "    </tr>\n",
       "    <tr>\n",
       "      <th id=\"T_41593_level0_row38\" class=\"row_heading level0 row38\" >38</th>\n",
       "      <td id=\"T_41593_row38_col0\" class=\"data row38 col0\" >last</td>\n",
       "      <td id=\"T_41593_row38_col1\" class=\"data row38 col1\" >1098</td>\n",
       "    </tr>\n",
       "    <tr>\n",
       "      <th id=\"T_41593_level0_row39\" class=\"row_heading level0 row39\" >39</th>\n",
       "      <td id=\"T_41593_row39_col0\" class=\"data row39 col0\" >not</td>\n",
       "      <td id=\"T_41593_row39_col1\" class=\"data row39 col1\" >982</td>\n",
       "    </tr>\n",
       "  </tbody>\n",
       "</table>\n"
      ],
      "text/plain": [
       "<pandas.io.formats.style.Styler at 0x155a343fbe0>"
      ]
     },
     "execution_count": 101,
     "metadata": {},
     "output_type": "execute_result"
    }
   ],
   "source": [
    "top = Counter([item for sublist in beauty['text'] for item in sublist])\n",
    "temp = pd.DataFrame(top.most_common(40))\n",
    "temp.columns = ['Common_words_Beauty_products','count']\n",
    "temp.style.background_gradient(cmap='Oranges')"
   ]
  },
  {
   "cell_type": "code",
   "execution_count": 102,
   "id": "84b0d8de",
   "metadata": {},
   "outputs": [
    {
     "data": {
      "text/plain": [
       "<AxesSubplot:xlabel='count', ylabel='Common_words_Beauty_products'>"
      ]
     },
     "execution_count": 102,
     "metadata": {},
     "output_type": "execute_result"
    },
    {
     "data": {
      "image/png": "[encoded data removed]",
      "text/plain": [
       "<Figure size 864x864 with 1 Axes>"
      ]
     },
     "metadata": {
      "needs_background": "light"
     },
     "output_type": "display_data"
    }
   ],
   "source": [
    "import seaborn as sns\n",
    "plt.figure(figsize=(12,12))\n",
    "sns.barplot(temp['count'],temp['Common_words_Beauty_products'])"
   ]
  },
  {
   "cell_type": "markdown",
   "id": "2aac3222",
   "metadata": {},
   "source": [
    "# Common words for Prime Pantry products "
   ]
  },
  {
   "cell_type": "code",
   "execution_count": 103,
   "id": "fe50cb58",
   "metadata": {},
   "outputs": [],
   "source": [
    "pantry=df[df['product_category']=='prime_pantry']"
   ]
  },
  {
   "cell_type": "code",
   "execution_count": 104,
   "id": "ae6ded13",
   "metadata": {},
   "outputs": [
    {
     "data": {
      "text/html": [
       "<style type=\"text/css\">\n",
       "#T_bebab_row0_col1 {\n",
       "  background-color: #7f2704;\n",
       "  color: #f1f1f1;\n",
       "}\n",
       "#T_bebab_row1_col1 {\n",
       "  background-color: #8e2d04;\n",
       "  color: #f1f1f1;\n",
       "}\n",
       "#T_bebab_row2_col1 {\n",
       "  background-color: #eb600e;\n",
       "  color: #f1f1f1;\n",
       "}\n",
       "#T_bebab_row3_col1 {\n",
       "  background-color: #f16813;\n",
       "  color: #f1f1f1;\n",
       "}\n",
       "#T_bebab_row4_col1 {\n",
       "  background-color: #f77a27;\n",
       "  color: #f1f1f1;\n",
       "}\n",
       "#T_bebab_row5_col1 {\n",
       "  background-color: #fd9040;\n",
       "  color: #000000;\n",
       "}\n",
       "#T_bebab_row6_col1 {\n",
       "  background-color: #fdba7f;\n",
       "  color: #000000;\n",
       "}\n",
       "#T_bebab_row7_col1 {\n",
       "  background-color: #fdcfa0;\n",
       "  color: #000000;\n",
       "}\n",
       "#T_bebab_row8_col1 {\n",
       "  background-color: #fedfc0;\n",
       "  color: #000000;\n",
       "}\n",
       "#T_bebab_row9_col1 {\n",
       "  background-color: #fee7d0;\n",
       "  color: #000000;\n",
       "}\n",
       "#T_bebab_row10_col1 {\n",
       "  background-color: #fee8d2;\n",
       "  color: #000000;\n",
       "}\n",
       "#T_bebab_row11_col1 {\n",
       "  background-color: #feecd9;\n",
       "  color: #000000;\n",
       "}\n",
       "#T_bebab_row12_col1 {\n",
       "  background-color: #feecda;\n",
       "  color: #000000;\n",
       "}\n",
       "#T_bebab_row13_col1 {\n",
       "  background-color: #feeddb;\n",
       "  color: #000000;\n",
       "}\n",
       "#T_bebab_row14_col1 {\n",
       "  background-color: #feeddc;\n",
       "  color: #000000;\n",
       "}\n",
       "#T_bebab_row15_col1 {\n",
       "  background-color: #fff4e8;\n",
       "  color: #000000;\n",
       "}\n",
       "#T_bebab_row16_col1, #T_bebab_row17_col1 {\n",
       "  background-color: #fff4e9;\n",
       "  color: #000000;\n",
       "}\n",
       "#T_bebab_row18_col1 {\n",
       "  background-color: #fff5ea;\n",
       "  color: #000000;\n",
       "}\n",
       "#T_bebab_row19_col1 {\n",
       "  background-color: #fff5eb;\n",
       "  color: #000000;\n",
       "}\n",
       "</style>\n",
       "<table id=\"T_bebab\">\n",
       "  <thead>\n",
       "    <tr>\n",
       "      <th class=\"blank level0\" >&nbsp;</th>\n",
       "      <th id=\"T_bebab_level0_col0\" class=\"col_heading level0 col0\" >Common_words_prime_pantry_categotry</th>\n",
       "      <th id=\"T_bebab_level0_col1\" class=\"col_heading level0 col1\" >count</th>\n",
       "    </tr>\n",
       "  </thead>\n",
       "  <tbody>\n",
       "    <tr>\n",
       "      <th id=\"T_bebab_level0_row0\" class=\"row_heading level0 row0\" >0</th>\n",
       "      <td id=\"T_bebab_row0_col0\" class=\"data row0 col0\" >good</td>\n",
       "      <td id=\"T_bebab_row0_col1\" class=\"data row0 col1\" >7599</td>\n",
       "    </tr>\n",
       "    <tr>\n",
       "      <th id=\"T_bebab_level0_row1\" class=\"row_heading level0 row1\" >1</th>\n",
       "      <td id=\"T_bebab_row1_col0\" class=\"data row1 col0\" >gre</td>\n",
       "      <td id=\"T_bebab_row1_col1\" class=\"data row1 col1\" >7315</td>\n",
       "    </tr>\n",
       "    <tr>\n",
       "      <th id=\"T_bebab_level0_row2\" class=\"row_heading level0 row2\" >2</th>\n",
       "      <td id=\"T_bebab_row2_col0\" class=\"data row2 col0\" >lov</td>\n",
       "      <td id=\"T_bebab_row2_col1\" class=\"data row2 col1\" >5551</td>\n",
       "    </tr>\n",
       "    <tr>\n",
       "      <th id=\"T_bebab_level0_row3\" class=\"row_heading level0 row3\" >3</th>\n",
       "      <td id=\"T_bebab_row3_col0\" class=\"data row3 col0\" >lik</td>\n",
       "      <td id=\"T_bebab_row3_col1\" class=\"data row3 col1\" >5353</td>\n",
       "    </tr>\n",
       "    <tr>\n",
       "      <th id=\"T_bebab_level0_row4\" class=\"row_heading level0 row4\" >4</th>\n",
       "      <td id=\"T_bebab_row4_col0\" class=\"data row4 col0\" >u</td>\n",
       "      <td id=\"T_bebab_row4_col1\" class=\"data row4 col1\" >4981</td>\n",
       "    </tr>\n",
       "    <tr>\n",
       "      <th id=\"T_bebab_level0_row5\" class=\"row_heading level0 row5\" >5</th>\n",
       "      <td id=\"T_bebab_row5_col0\" class=\"data row5 col0\" >tast</td>\n",
       "      <td id=\"T_bebab_row5_col1\" class=\"data row5 col1\" >4539</td>\n",
       "    </tr>\n",
       "    <tr>\n",
       "      <th id=\"T_bebab_level0_row6\" class=\"row_heading level0 row6\" >6</th>\n",
       "      <td id=\"T_bebab_row6_col0\" class=\"data row6 col0\" >produc</td>\n",
       "      <td id=\"T_bebab_row6_col1\" class=\"data row6 col1\" >3573</td>\n",
       "    </tr>\n",
       "    <tr>\n",
       "      <th id=\"T_bebab_level0_row7\" class=\"row_heading level0 row7\" >7</th>\n",
       "      <td id=\"T_bebab_row7_col0\" class=\"data row7 col0\" >flav</td>\n",
       "      <td id=\"T_bebab_row7_col1\" class=\"data row7 col1\" >3142</td>\n",
       "    </tr>\n",
       "    <tr>\n",
       "      <th id=\"T_bebab_level0_row8\" class=\"row_heading level0 row8\" >8</th>\n",
       "      <td id=\"T_bebab_row8_col0\" class=\"data row8 col0\" >on</td>\n",
       "      <td id=\"T_bebab_row8_col1\" class=\"data row8 col1\" >2606</td>\n",
       "    </tr>\n",
       "    <tr>\n",
       "      <th id=\"T_bebab_level0_row9\" class=\"row_heading level0 row9\" >9</th>\n",
       "      <td id=\"T_bebab_row9_col0\" class=\"data row9 col0\" >pric</td>\n",
       "      <td id=\"T_bebab_row9_col1\" class=\"data row9 col1\" >2311</td>\n",
       "    </tr>\n",
       "    <tr>\n",
       "      <th id=\"T_bebab_level0_row10\" class=\"row_heading level0 row10\" >10</th>\n",
       "      <td id=\"T_bebab_row10_col0\" class=\"data row10 col0\" >real</td>\n",
       "      <td id=\"T_bebab_row10_col1\" class=\"data row10 col1\" >2238</td>\n",
       "    </tr>\n",
       "    <tr>\n",
       "      <th id=\"T_bebab_level0_row11\" class=\"row_heading level0 row11\" >11</th>\n",
       "      <td id=\"T_bebab_row11_col0\" class=\"data row11 col0\" >work</td>\n",
       "      <td id=\"T_bebab_row11_col1\" class=\"data row11 col1\" >2082</td>\n",
       "    </tr>\n",
       "    <tr>\n",
       "      <th id=\"T_bebab_level0_row12\" class=\"row_heading level0 row12\" >12</th>\n",
       "      <td id=\"T_bebab_row12_col0\" class=\"data row12 col0\" >mak</td>\n",
       "      <td id=\"T_bebab_row12_col1\" class=\"data row12 col1\" >2063</td>\n",
       "    </tr>\n",
       "    <tr>\n",
       "      <th id=\"T_bebab_level0_row13\" class=\"row_heading level0 row13\" >13</th>\n",
       "      <td id=\"T_bebab_row13_col0\" class=\"data row13 col0\" >buy</td>\n",
       "      <td id=\"T_bebab_row13_col1\" class=\"data row13 col1\" >2022</td>\n",
       "    </tr>\n",
       "    <tr>\n",
       "      <th id=\"T_bebab_level0_row14\" class=\"row_heading level0 row14\" >14</th>\n",
       "      <td id=\"T_bebab_row14_col0\" class=\"data row14 col0\" >get</td>\n",
       "      <td id=\"T_bebab_row14_col1\" class=\"data row14 col1\" >2008</td>\n",
       "    </tr>\n",
       "    <tr>\n",
       "      <th id=\"T_bebab_level0_row15\" class=\"row_heading level0 row15\" >15</th>\n",
       "      <td id=\"T_bebab_row15_col0\" class=\"data row15 col0\" >cle</td>\n",
       "      <td id=\"T_bebab_row15_col1\" class=\"data row15 col1\" >1682</td>\n",
       "    </tr>\n",
       "    <tr>\n",
       "      <th id=\"T_bebab_level0_row16\" class=\"row_heading level0 row16\" >16</th>\n",
       "      <td id=\"T_bebab_row16_col0\" class=\"data row16 col0\" >smel</td>\n",
       "      <td id=\"T_bebab_row16_col1\" class=\"data row16 col1\" >1662</td>\n",
       "    </tr>\n",
       "    <tr>\n",
       "      <th id=\"T_bebab_level0_row17\" class=\"row_heading level0 row17\" >17</th>\n",
       "      <td id=\"T_bebab_row17_col0\" class=\"data row17 col0\" >nic</td>\n",
       "      <td id=\"T_bebab_row17_col1\" class=\"data row17 col1\" >1662</td>\n",
       "    </tr>\n",
       "    <tr>\n",
       "      <th id=\"T_bebab_level0_row18\" class=\"row_heading level0 row18\" >18</th>\n",
       "      <td id=\"T_bebab_row18_col0\" class=\"data row18 col0\" >tim</td>\n",
       "      <td id=\"T_bebab_row18_col1\" class=\"data row18 col1\" >1637</td>\n",
       "    </tr>\n",
       "    <tr>\n",
       "      <th id=\"T_bebab_level0_row19\" class=\"row_heading level0 row19\" >19</th>\n",
       "      <td id=\"T_bebab_row19_col0\" class=\"data row19 col0\" >wel</td>\n",
       "      <td id=\"T_bebab_row19_col1\" class=\"data row19 col1\" >1599</td>\n",
       "    </tr>\n",
       "  </tbody>\n",
       "</table>\n"
      ],
      "text/plain": [
       "<pandas.io.formats.style.Styler at 0x155b1165b50>"
      ]
     },
     "execution_count": 104,
     "metadata": {},
     "output_type": "execute_result"
    }
   ],
   "source": [
    "top2 = Counter([item for sublist in pantry['text'] for item in sublist])\n",
    "temp2 = pd.DataFrame(top2.most_common(20))\n",
    "temp2.columns = ['Common_words_prime_pantry_categotry','count']\n",
    "temp2.style.background_gradient(cmap='Oranges')"
   ]
  },
  {
   "cell_type": "code",
   "execution_count": 105,
   "id": "4914f28f",
   "metadata": {},
   "outputs": [
    {
     "data": {
      "text/plain": [
       "<AxesSubplot:xlabel='count', ylabel='Common_words_prime_pantry_categotry'>"
      ]
     },
     "execution_count": 105,
     "metadata": {},
     "output_type": "execute_result"
    },
    {
     "data": {
      "image/png": "[encoded data removed]",
      "text/plain": [
       "<Figure size 864x864 with 1 Axes>"
      ]
     },
     "metadata": {
      "needs_background": "light"
     },
     "output_type": "display_data"
    }
   ],
   "source": [
    "plt.figure(figsize=(12,12))\n",
    "sns.barplot(temp2['count'],temp2['Common_words_prime_pantry_categotry'])"
   ]
  },
  {
   "cell_type": "code",
   "execution_count": 106,
   "id": "2196d26a",
   "metadata": {},
   "outputs": [],
   "source": [
    "l=[]\n",
    "for i in df['text']:\n",
    "    str1 = \" \" \n",
    "    t=str1.join(i)\n",
    "    l.append(t)\n",
    "df['text']=l   "
   ]
  },
  {
   "cell_type": "markdown",
   "id": "96c9afbd",
   "metadata": {},
   "source": [
    "# Predicting Product Categories"
   ]
  },
  {
   "cell_type": "code",
   "execution_count": 107,
   "id": "c877b3b7",
   "metadata": {},
   "outputs": [],
   "source": [
    " # using Bag of words technique for Converting feature into a vector \n",
    "from sklearn.feature_extraction.text import CountVectorizer\n",
    "vectorizer = CountVectorizer()\n",
    "X = vectorizer.fit_transform(df['text'])\n",
    "b=vectorizer.get_feature_names()"
   ]
  },
  {
   "cell_type": "code",
   "execution_count": 108,
   "id": "9a14c239",
   "metadata": {},
   "outputs": [
    {
     "data": {
      "text/html": [
       "<div>\n",
       "<style scoped>\n",
       "    .dataframe tbody tr th:only-of-type {\n",
       "        vertical-align: middle;\n",
       "    }\n",
       "\n",
       "    .dataframe tbody tr th {\n",
       "        vertical-align: top;\n",
       "    }\n",
       "\n",
       "    .dataframe thead th {\n",
       "        text-align: right;\n",
       "    }\n",
       "</style>\n",
       "<table border=\"1\" class=\"dataframe\">\n",
       "  <thead>\n",
       "    <tr style=\"text-align: right;\">\n",
       "      <th></th>\n",
       "      <th>review_id</th>\n",
       "      <th>text</th>\n",
       "      <th>verified</th>\n",
       "      <th>review_score</th>\n",
       "      <th>product_category</th>\n",
       "    </tr>\n",
       "  </thead>\n",
       "  <tbody>\n",
       "    <tr>\n",
       "      <th>0</th>\n",
       "      <td>product_review_000000</td>\n",
       "      <td>omg sooo good good</td>\n",
       "      <td>True</td>\n",
       "      <td>5.0</td>\n",
       "      <td>prime_pantry</td>\n",
       "    </tr>\n",
       "    <tr>\n",
       "      <th>1</th>\n",
       "      <td>product_review_000001</td>\n",
       "      <td>soap smel pretty good seem work gre definit mu...</td>\n",
       "      <td>True</td>\n",
       "      <td>4.0</td>\n",
       "      <td>prime_pantry</td>\n",
       "    </tr>\n",
       "    <tr>\n",
       "      <th>2</th>\n",
       "      <td>product_review_000002</td>\n",
       "      <td>seem dissolv quit tim see cle benefit smel nic...</td>\n",
       "      <td>False</td>\n",
       "      <td>1.0</td>\n",
       "      <td>prime_pantry</td>\n",
       "    </tr>\n",
       "    <tr>\n",
       "      <th>3</th>\n",
       "      <td>product_review_000003</td>\n",
       "      <td>zip bag good happy awesom</td>\n",
       "      <td>True</td>\n",
       "      <td>5.0</td>\n",
       "      <td>prime_pantry</td>\n",
       "    </tr>\n",
       "    <tr>\n",
       "      <th>4</th>\n",
       "      <td>product_review_000004</td>\n",
       "      <td>mess recommend mak much larg contain littl bow...</td>\n",
       "      <td>True</td>\n",
       "      <td>2.0</td>\n",
       "      <td>prime_pantry</td>\n",
       "    </tr>\n",
       "    <tr>\n",
       "      <th>...</th>\n",
       "      <td>...</td>\n",
       "      <td>...</td>\n",
       "      <td>...</td>\n",
       "      <td>...</td>\n",
       "      <td>...</td>\n",
       "    </tr>\n",
       "    <tr>\n",
       "      <th>27228</th>\n",
       "      <td>product_review_028147</td>\n",
       "      <td>ord two bandaid u band aid brand adher band to...</td>\n",
       "      <td>True</td>\n",
       "      <td>5.0</td>\n",
       "      <td>prime_pantry</td>\n",
       "    </tr>\n",
       "    <tr>\n",
       "      <th>27229</th>\n",
       "      <td>product_review_028148</td>\n",
       "      <td>tast ok</td>\n",
       "      <td>True</td>\n",
       "      <td>5.0</td>\n",
       "      <td>prime_pantry</td>\n",
       "    </tr>\n",
       "    <tr>\n",
       "      <th>27230</th>\n",
       "      <td>product_review_028149</td>\n",
       "      <td>healthy tasty sid dish</td>\n",
       "      <td>True</td>\n",
       "      <td>5.0</td>\n",
       "      <td>prime_pantry</td>\n",
       "    </tr>\n",
       "    <tr>\n",
       "      <th>27231</th>\n",
       "      <td>product_review_028151</td>\n",
       "      <td>let pack turn away jack black ep moist cle cre...</td>\n",
       "      <td>False</td>\n",
       "      <td>5.0</td>\n",
       "      <td>luxury_beauty</td>\n",
       "    </tr>\n",
       "    <tr>\n",
       "      <th>27232</th>\n",
       "      <td>product_review_028152</td>\n",
       "      <td>quit light skin ask try shad thought might dar...</td>\n",
       "      <td>False</td>\n",
       "      <td>5.0</td>\n",
       "      <td>luxury_beauty</td>\n",
       "    </tr>\n",
       "  </tbody>\n",
       "</table>\n",
       "<p>27233 rows × 5 columns</p>\n",
       "</div>"
      ],
      "text/plain": [
       "                   review_id  \\\n",
       "0      product_review_000000   \n",
       "1      product_review_000001   \n",
       "2      product_review_000002   \n",
       "3      product_review_000003   \n",
       "4      product_review_000004   \n",
       "...                      ...   \n",
       "27228  product_review_028147   \n",
       "27229  product_review_028148   \n",
       "27230  product_review_028149   \n",
       "27231  product_review_028151   \n",
       "27232  product_review_028152   \n",
       "\n",
       "                                                    text verified  \\\n",
       "0                                     omg sooo good good     True   \n",
       "1      soap smel pretty good seem work gre definit mu...     True   \n",
       "2      seem dissolv quit tim see cle benefit smel nic...    False   \n",
       "3                              zip bag good happy awesom     True   \n",
       "4      mess recommend mak much larg contain littl bow...     True   \n",
       "...                                                  ...      ...   \n",
       "27228  ord two bandaid u band aid brand adher band to...     True   \n",
       "27229                                            tast ok     True   \n",
       "27230                             healthy tasty sid dish     True   \n",
       "27231  let pack turn away jack black ep moist cle cre...    False   \n",
       "27232  quit light skin ask try shad thought might dar...    False   \n",
       "\n",
       "       review_score product_category  \n",
       "0               5.0     prime_pantry  \n",
       "1               4.0     prime_pantry  \n",
       "2               1.0     prime_pantry  \n",
       "3               5.0     prime_pantry  \n",
       "4               2.0     prime_pantry  \n",
       "...             ...              ...  \n",
       "27228           5.0     prime_pantry  \n",
       "27229           5.0     prime_pantry  \n",
       "27230           5.0     prime_pantry  \n",
       "27231           5.0    luxury_beauty  \n",
       "27232           5.0    luxury_beauty  \n",
       "\n",
       "[27233 rows x 5 columns]"
      ]
     },
     "execution_count": 108,
     "metadata": {},
     "output_type": "execute_result"
    }
   ],
   "source": [
    "from mlxtend.feature_selection import SequentialFeatureSelector as SFS\n",
    "from sklearn.linear_model import LogisticRegression\n",
    "df"
   ]
  },
  {
   "cell_type": "code",
   "execution_count": 109,
   "id": "00a8b17f",
   "metadata": {},
   "outputs": [],
   "source": [
    "ddf=df.drop(['text','review_id'],axis=1)"
   ]
  },
  {
   "cell_type": "code",
   "execution_count": 110,
   "id": "ac8d64be",
   "metadata": {
    "scrolled": true
   },
   "outputs": [],
   "source": [
    " #creating an dataframe and converted it to a vector \n",
    "df1 = pd.DataFrame(X.toarray(), columns=vectorizer.get_feature_names())\n",
    "res = pd.concat([df1, ddf], axis=1)"
   ]
  },
  {
   "cell_type": "markdown",
   "id": "1fa360cb",
   "metadata": {},
   "source": [
    "# Encoding by categories."
   ]
  },
  {
   "cell_type": "code",
   "execution_count": 111,
   "id": "ee5f834d",
   "metadata": {},
   "outputs": [],
   "source": [
    "a=df.select_dtypes(include='object')"
   ]
  },
  {
   "cell_type": "code",
   "execution_count": 112,
   "id": "8db0d84c",
   "metadata": {},
   "outputs": [],
   "source": [
    "from sklearn import preprocessing\n",
    "le = preprocessing.LabelEncoder()\n",
    "df['product_category']=le.fit_transform(df['product_category'])"
   ]
  },
  {
   "cell_type": "markdown",
   "id": "6c41a4c0",
   "metadata": {},
   "source": []
  },
  {
   "cell_type": "code",
   "execution_count": 113,
   "id": "0abefb67",
   "metadata": {},
   "outputs": [],
   "source": [
    "# Assigning inputs and outputs as X and y \n",
    "X=df1\n",
    "y=df['product_category']"
   ]
  },
  {
   "cell_type": "code",
   "execution_count": 114,
   "id": "1837ae49",
   "metadata": {},
   "outputs": [],
   "source": [
    "from sklearn.model_selection import train_test_split\n",
    "from sklearn.metrics import recall_score\n",
    "from sklearn.metrics import accuracy_score\n",
    "from sklearn.metrics import precision_score"
   ]
  },
  {
   "cell_type": "code",
   "execution_count": 115,
   "id": "cbab8e0f",
   "metadata": {},
   "outputs": [],
   "source": [
    "X_train, X_test, y_train, y_test = train_test_split(X,y, test_size=0.20, random_state=42)"
   ]
  },
  {
   "cell_type": "code",
   "execution_count": 116,
   "id": "e62af272",
   "metadata": {},
   "outputs": [],
   "source": [
    "from sklearn.tree import DecisionTreeClassifier\n",
    "import seaborn as sns\n",
    "from sklearn.metrics import confusion_matrix"
   ]
  },
  {
   "cell_type": "code",
   "execution_count": 117,
   "id": "30cad0be",
   "metadata": {},
   "outputs": [],
   "source": [
    "dt =DecisionTreeClassifier(random_state=10000)"
   ]
  },
  {
   "cell_type": "code",
   "execution_count": 118,
   "id": "986d7ce3",
   "metadata": {},
   "outputs": [
    {
     "data": {
      "text/plain": [
       "DecisionTreeClassifier(random_state=10000)"
      ]
     },
     "execution_count": 118,
     "metadata": {},
     "output_type": "execute_result"
    }
   ],
   "source": [
    "dt.fit(X_train, y_train)"
   ]
  },
  {
   "cell_type": "code",
   "execution_count": 119,
   "id": "5b7d47e1",
   "metadata": {},
   "outputs": [
    {
     "data": {
      "text/plain": [
       "<AxesSubplot:>"
      ]
     },
     "execution_count": 119,
     "metadata": {},
     "output_type": "execute_result"
    },
    {
     "data": {
      "image/png": "[encoded data removed]",
      "text/plain": [
       "<Figure size 432x288 with 2 Axes>"
      ]
     },
     "metadata": {
      "needs_background": "light"
     },
     "output_type": "display_data"
    }
   ],
   "source": [
    "y_predict_dt = dt.predict(X_test)\n",
    "y_predict_dt_train = dt.predict(X_train)\n",
    "# confusion_matrix\n",
    "cm = confusion_matrix(y_test, y_predict_dt)\n",
    "sns.heatmap(cm, annot=True, fmt=\"d\")"
   ]
  },
  {
   "cell_type": "code",
   "execution_count": 120,
   "id": "fc7deeef",
   "metadata": {},
   "outputs": [
    {
     "name": "stdout",
     "output_type": "stream",
     "text": [
      "train accuracy 0.9972000367208299\n",
      "test accuracy 0.8931521938681843\n",
      "precision 0.8326568206880287\n",
      "recall 0.8312686777486917\n"
     ]
    }
   ],
   "source": [
    "print('train accuracy',accuracy_score((y_train), y_predict_dt_train))\n",
    "print('test accuracy',accuracy_score((y_test), y_predict_dt))\n",
    "print('precision',precision_score(y_test, y_predict_dt, average='macro'))\n",
    "print('recall',recall_score(y_test, y_predict_dt, average='macro'))"
   ]
  },
  {
   "cell_type": "code",
   "execution_count": 121,
   "id": "e89b8495",
   "metadata": {},
   "outputs": [
    {
     "name": "stdout",
     "output_type": "stream",
     "text": [
      "              precision    recall  f1-score   support\n",
      "\n",
      "           0       0.73      0.73      0.73      1083\n",
      "           1       0.93      0.93      0.93      4364\n",
      "\n",
      "    accuracy                           0.89      5447\n",
      "   macro avg       0.83      0.83      0.83      5447\n",
      "weighted avg       0.89      0.89      0.89      5447\n",
      "\n"
     ]
    }
   ],
   "source": [
    "print(classification_report(y_test, y_predict_dt))"
   ]
  },
  {
   "cell_type": "code",
   "execution_count": 122,
   "id": "65c707e2",
   "metadata": {},
   "outputs": [
    {
     "data": {
      "text/plain": [
       "<AxesSubplot:>"
      ]
     },
     "execution_count": 122,
     "metadata": {},
     "output_type": "execute_result"
    },
    {
     "data": {
      "image/png": "[encoded data removed]",
      "text/plain": [
       "<Figure size 432x288 with 2 Axes>"
      ]
     },
     "metadata": {
      "needs_background": "light"
     },
     "output_type": "display_data"
    }
   ],
   "source": [
    "from sklearn.ensemble import RandomForestClassifier\n",
    "rf =RandomForestClassifier(random_state=10000) \n",
    "rf.fit(X_train, y_train)\n",
    "y_predict_rf = rf.predict(X_test)\n",
    "y_predict_rf_train = rf.predict(X_train)\n",
    "# confusion_matrix\n",
    "cm = confusion_matrix(y_test, y_predict_rf)\n",
    "sns.heatmap(cm, annot=True, fmt=\"d\")"
   ]
  },
  {
   "cell_type": "code",
   "execution_count": 123,
   "id": "e63f67e4",
   "metadata": {},
   "outputs": [
    {
     "name": "stdout",
     "output_type": "stream",
     "text": [
      "train accuracy 0.9972000367208299\n",
      "test accuracy 0.9375803194418946\n",
      "precision 0.944150110375276\n",
      "recall 0.98006416131989\n"
     ]
    }
   ],
   "source": [
    "print('train accuracy',accuracy_score((y_train), y_predict_rf_train))\n",
    "print('test accuracy',accuracy_score((y_test), y_predict_rf))\n",
    "print('precision',precision_score(y_test, y_predict_rf))\n",
    "print('recall',recall_score(y_test, y_predict_rf))"
   ]
  },
  {
   "cell_type": "code",
   "execution_count": 124,
   "id": "0f5f2628",
   "metadata": {},
   "outputs": [
    {
     "name": "stdout",
     "output_type": "stream",
     "text": [
      "              precision    recall  f1-score   support\n",
      "\n",
      "           0       0.91      0.77      0.83      1083\n",
      "           1       0.94      0.98      0.96      4364\n",
      "\n",
      "    accuracy                           0.94      5447\n",
      "   macro avg       0.92      0.87      0.90      5447\n",
      "weighted avg       0.94      0.94      0.94      5447\n",
      "\n"
     ]
    }
   ],
   "source": [
    "print(classification_report(y_test, y_predict_rf))"
   ]
  },
  {
   "cell_type": "code",
   "execution_count": 125,
   "id": "0c43aec1",
   "metadata": {},
   "outputs": [
    {
     "data": {
      "image/png": "[encoded data removed]",
      "text/plain": [
       "<Figure size 720x720 with 1 Axes>"
      ]
     },
     "metadata": {
      "needs_background": "light"
     },
     "output_type": "display_data"
    }
   ],
   "source": [
    "### calculating ROC curve and area for predicting over validation set.\n",
    "from sklearn.metrics import roc_curve, auc\n",
    "\n",
    "### Ploting\n",
    "plt.figure(figsize=(10,10))\n",
    "lw = 2\n",
    "fpr_rf, tpr_rf, _ = roc_curve(y_test, y_predict_rf)\n",
    "roc_auc_rf = auc(fpr_rf, tpr_rf)\n",
    "plt.plot(fpr_rf, tpr_rf, color='blue',\n",
    "         lw=lw, label='Random Forest (area = %0.2f)' % roc_auc_rf)\n",
    "fpr_dt, tpr_dt, _ = roc_curve(y_test, y_predict_dt)\n",
    "roc_auc_dt = auc(fpr_dt, tpr_dt)\n",
    "plt.plot(fpr_dt, tpr_dt, color='green',\n",
    "         lw=lw, label='Decision Tree (area = %0.2f)' % roc_auc_dt)\n",
    "plt.plot([0, 1], [0, 1], color='navy', lw=lw, linestyle='--')\n",
    "plt.xlim([0.0, 1.0])\n",
    "plt.ylim([0.0, 1.05])\n",
    "plt.xlabel('False Positive Rate')\n",
    "plt.ylabel('True Positive Rate')\n",
    "plt.title('Receiver operating characteristic example')\n",
    "plt.legend(loc=\"lower right\")\n",
    "plt.show()"
   ]
  },
  {
   "cell_type": "markdown",
   "id": "8daa602c",
   "metadata": {},
   "source": [
    "# Predicting Review Scores"
   ]
  },
  {
   "cell_type": "code",
   "execution_count": 126,
   "id": "30f25c29",
   "metadata": {},
   "outputs": [],
   "source": [
    "vectorizer2 = CountVectorizer(max_features=2500)\n",
    "X2 = vectorizer2.fit_transform(df['text'])\n",
    "b2=vectorizer2.get_feature_names()"
   ]
  },
  {
   "cell_type": "code",
   "execution_count": 127,
   "id": "5361c230",
   "metadata": {},
   "outputs": [],
   "source": [
    " #defining dataframe which is converted into vector which also contains other features\n",
    "df2 = pd.DataFrame(X2.toarray(), columns=vectorizer2.get_feature_names())"
   ]
  },
  {
   "cell_type": "code",
   "execution_count": 128,
   "id": "b6a7da9b",
   "metadata": {},
   "outputs": [],
   "source": [
    "X2=df2\n",
    "y2=df[['review_score']]"
   ]
  },
  {
   "cell_type": "code",
   "execution_count": 129,
   "id": "874a13d0",
   "metadata": {},
   "outputs": [
    {
     "name": "stdout",
     "output_type": "stream",
     "text": [
      "review_score\n",
      " 5.0            17790\n",
      " 4.0             4678\n",
      " 3.0             2301\n",
      " 2.0              938\n",
      "-1.0              769\n",
      " 1.0              757\n",
      "dtype: int64\n",
      "review_score\n",
      " 5.0            18681\n",
      " 3.0            10000\n",
      " 4.0            10000\n",
      " 2.0             9000\n",
      " 1.0             8500\n",
      "-1.0             8000\n",
      "dtype: int64\n"
     ]
    }
   ],
   "source": [
    "from collections import Counter\n",
    "from imblearn.pipeline import Pipeline\n",
    "from imblearn.over_sampling import RandomOverSampler\n",
    "from imblearn.under_sampling import RandomUnderSampler\n",
    "# summarizeing the class distribution\n",
    "print(y2.value_counts())\n",
    "# defining resampling\n",
    "# transforming the given dataset\n",
    "strategy = {5.0:18681, 4.0:10000,3.0:10000,2.0:9000,1.0:8500,-1.0:8000}\n",
    "over = RandomOverSampler(sampling_strategy=strategy)\n",
    "# defining pipeline\n",
    "pipeline = Pipeline(steps=[('o', over)])\n",
    "X2, y2 = pipeline.fit_resample(X2, y2)\n",
    "# summarize class distribution\n",
    "print(y2.value_counts())"
   ]
  },
  {
   "cell_type": "code",
   "execution_count": 130,
   "id": "a053b8c2",
   "metadata": {},
   "outputs": [],
   "source": [
    "from sklearn.preprocessing import StandardScaler\n",
    "scaler = StandardScaler()\n",
    "X2 = scaler.fit_transform(X2)"
   ]
  },
  {
   "cell_type": "code",
   "execution_count": 131,
   "id": "455d70f9",
   "metadata": {},
   "outputs": [],
   "source": [
    "X_train2, X_test2, y_train2, y_test2 = train_test_split(X2,y2, test_size=0.33, random_state=42)"
   ]
  },
  {
   "cell_type": "code",
   "execution_count": 132,
   "id": "fcb231af",
   "metadata": {},
   "outputs": [
    {
     "data": {
      "text/plain": [
       "<AxesSubplot:>"
      ]
     },
     "execution_count": 132,
     "metadata": {},
     "output_type": "execute_result"
    },
    {
     "data": {
      "image/png": "[encoded data removed]",
      "text/plain": [
       "<Figure size 720x720 with 2 Axes>"
      ]
     },
     "metadata": {
      "needs_background": "light"
     },
     "output_type": "display_data"
    }
   ],
   "source": [
    "dt2 =DecisionTreeClassifier(random_state=1024)\n",
    "dt2.fit(X_train2, y_train2)\n",
    "y_predict_dt2 = dt2.predict(X_test2)\n",
    "# confusion_matrix\n",
    "cm = confusion_matrix(y_test2, y_predict_dt2)\n",
    "plt.figure(figsize=(10,10))\n",
    "sns.heatmap(cm, annot=True, fmt=\"d\")"
   ]
  },
  {
   "cell_type": "code",
   "execution_count": 133,
   "id": "84a07677",
   "metadata": {},
   "outputs": [
    {
     "name": "stdout",
     "output_type": "stream",
     "text": [
      "accuracy 0.82766761095373\n",
      "precision 0.8265300688783562\n",
      "recall 0.8609054743556918\n"
     ]
    }
   ],
   "source": [
    "print('accuracy',accuracy_score((y_test2), y_predict_dt2))\n",
    "print('precision',precision_score(y_test2, y_predict_dt2, average='macro'))\n",
    "print('recall',recall_score(y_test2, y_predict_dt2, average='macro'))"
   ]
  },
  {
   "cell_type": "code",
   "execution_count": 134,
   "id": "046b1abf",
   "metadata": {},
   "outputs": [
    {
     "data": {
      "text/plain": [
       "<AxesSubplot:>"
      ]
     },
     "execution_count": 134,
     "metadata": {},
     "output_type": "execute_result"
    },
    {
     "data": {
      "image/png": "[encoded data removed]",
      "text/plain": [
       "<Figure size 720x720 with 2 Axes>"
      ]
     },
     "metadata": {
      "needs_background": "light"
     },
     "output_type": "display_data"
    }
   ],
   "source": [
    "rf2 =RandomForestClassifier(random_state=1000) \n",
    "rf2.fit(X_train2, y_train2)\n",
    "y_predict_rf2 = rf2.predict(X_test2)\n",
    "# confusion_matrix\n",
    "cm = confusion_matrix(y_test2, y_predict_rf2)\n",
    "plt.figure(figsize=(10,10))\n",
    "sns.heatmap(cm, annot=True, fmt=\"d\")"
   ]
  },
  {
   "cell_type": "code",
   "execution_count": 135,
   "id": "cbd0c154",
   "metadata": {},
   "outputs": [
    {
     "name": "stdout",
     "output_type": "stream",
     "text": [
      "accuracy 0.8815391879131256\n",
      "precision 0.8845411989173232\n",
      "recall 0.8908584346463453\n"
     ]
    }
   ],
   "source": [
    "print('accuracy',accuracy_score((y_test2), y_predict_rf2))\n",
    "print('precision',precision_score(y_test2, y_predict_rf2, average='macro'))\n",
    "print('recall',recall_score(y_test2, y_predict_rf2, average='macro'))"
   ]
  },
  {
   "cell_type": "code",
   "execution_count": null,
   "id": "dccf86bc",
   "metadata": {},
   "outputs": [],
   "source": []
  },
  {
   "cell_type": "code",
   "execution_count": null,
   "id": "af44ddae",
   "metadata": {},
   "outputs": [],
   "source": []
  },
  {
   "cell_type": "code",
   "execution_count": null,
   "id": "fa1669f3",
   "metadata": {},
   "outputs": [],
   "source": []
  }
 ],
 "metadata": {
  "kernelspec": {
   "display_name": "Python 3 (ipykernel)",
   "language": "python",
   "name": "python3"
  },
  "language_info": {
   "codemirror_mode": {
    "name": "ipython",
    "version": 3
   },
   "file_extension": ".py",
   "mimetype": "text/x-python",
   "name": "python",
   "nbconvert_exporter": "python",
   "pygments_lexer": "ipython3",
   "version": "3.9.12"
  }
 },
 "nbformat": 4,
 "nbformat_minor": 5
}
