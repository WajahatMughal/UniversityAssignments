{
 "cells": [
  {
   "cell_type": "markdown",
   "metadata": {
    "id": "j3-kjMZOwOcZ",
    "papermill": {
     "duration": 0.089695,
     "end_time": "2021-08-23T06:37:48.943729",
     "exception": false,
     "start_time": "2021-08-23T06:37:48.854034",
     "status": "completed"
    },
    "tags": []
   },
   "source": []
  },
  {
   "cell_type": "markdown",
   "metadata": {
    "papermill": {
     "duration": 0.088362,
     "end_time": "2021-08-23T06:37:49.119648",
     "exception": false,
     "start_time": "2021-08-23T06:37:49.031286",
     "status": "completed"
    },
    "tags": []
   },
   "source": [
    "Deep learning to predict the various skin diseases. The main objective of this project is to achieve maximum accuracy of skin disease prediction.\n",
    "Deep learning techniques helps in detection of skin disease at an initial stage. The feature extraction plays a key role in classification of skin diseases.The usage of Deep Learning algorithms reduces the need for human labor, such as manual feature extraction and data reconstruction for classification purpose.\n",
    "Moreover, Explainable AI is used to interpret the decisions made by our model."
   ]
  },
  {
   "cell_type": "markdown",
   "metadata": {
    "id": "w8KhlqDYwOce",
    "papermill": {
     "duration": 0.08723,
     "end_time": "2021-08-23T06:37:49.295912",
     "exception": false,
     "start_time": "2021-08-23T06:37:49.208682",
     "status": "completed"
    },
    "tags": []
   },
   "source": [
    "## ABOUT THE DATASET\n",
    "\n",
    "HAM10000 (\"Human Against Machine with 10000 training images\") dataset - a large collection of multi-source dermatoscopic images of pigmented lesions\n",
    "\n",
    "The dermatoscopic images are collected from different populations, acquired and stored by different modalities. The final dataset consists of 10015 dermatoscopic images.\n",
    "\n",
    "It has 7 different classes of skin cancer which are listed below :\n",
    "- Melanocytic nevi\n",
    "- Melanoma\n",
    "- Benign keratosis-like lesions\n",
    "- Basal cell carcinoma\n",
    "- Actinic keratoses\n",
    "- Vascular lesions\n",
    "- Dermatofibroma\n"
   ]
  },
  {
   "cell_type": "code",
   "execution_count": 11,
   "metadata": {
    "execution": {
     "iopub.execute_input": "2021-08-24T14:02:17.316663Z",
     "iopub.status.busy": "2021-08-24T14:02:17.316402Z",
     "iopub.status.idle": "2021-08-24T14:02:22.128594Z",
     "shell.execute_reply": "2021-08-24T14:02:22.127671Z",
     "shell.execute_reply.started": "2021-08-24T14:02:17.316638Z"
    },
    "id": "KQ0eMEfSwOce",
    "papermill": {
     "duration": 4.757562,
     "end_time": "2021-08-23T06:37:54.166293",
     "exception": false,
     "start_time": "2021-08-23T06:37:49.408731",
     "status": "completed"
    },
    "tags": []
   },
   "outputs": [],
   "source": [
    "#Importing required libraries\n",
    "import matplotlib.pyplot as plt\n",
    "from PIL import Image\n",
    "import seaborn as sns\n",
    "import numpy as np\n",
    "import pandas as pd\n",
    "import os\n",
    "from tensorflow.keras.utils import to_categorical\n",
    "from glob import glob"
   ]
  },
  {
   "cell_type": "markdown",
   "metadata": {
    "id": "qILcq5GqwOcf",
    "papermill": {
     "duration": 0.088285,
     "end_time": "2021-08-23T06:37:54.342163",
     "exception": false,
     "start_time": "2021-08-23T06:37:54.253878",
     "status": "completed"
    },
    "tags": []
   },
   "source": [
    "HAM10000_metadata.csv file is the main csv file that includes the data of all training images, the features of which are -\n",
    " \n",
    "1. Lesion_id\n",
    "2. Image_id\n",
    "3. Dx\n",
    "4. Dx_type\n",
    "5. Age\n",
    "6. Sex\n",
    "7. Localization\n"
   ]
  },
  {
   "cell_type": "code",
   "execution_count": 12,
   "metadata": {
    "execution": {
     "iopub.execute_input": "2021-08-24T14:02:22.130291Z",
     "iopub.status.busy": "2021-08-24T14:02:22.129979Z",
     "iopub.status.idle": "2021-08-24T14:02:22.168311Z",
     "shell.execute_reply": "2021-08-24T14:02:22.167571Z",
     "shell.execute_reply.started": "2021-08-24T14:02:22.130255Z"
    },
    "id": "u0OUMn7MwOcf",
    "papermill": {
     "duration": 0.129499,
     "end_time": "2021-08-23T06:37:54.559562",
     "exception": false,
     "start_time": "2021-08-23T06:37:54.430063",
     "status": "completed"
    },
    "tags": []
   },
   "outputs": [],
   "source": [
    "# Reading the data from HAM_metadata.csv\n",
    "df = pd.read_csv('filename_to_category_map_surnamesIJKLM.csv')"
   ]
  },
  {
   "cell_type": "code",
   "execution_count": 13,
   "metadata": {
    "execution": {
     "iopub.execute_input": "2021-08-24T14:02:22.170431Z",
     "iopub.status.busy": "2021-08-24T14:02:22.170053Z",
     "iopub.status.idle": "2021-08-24T14:02:22.196404Z",
     "shell.execute_reply": "2021-08-24T14:02:22.195441Z",
     "shell.execute_reply.started": "2021-08-24T14:02:22.170394Z"
    },
    "id": "zykxTADVwOcf",
    "outputId": "f1568d21-2be4-4a6c-951b-792c72d7d867",
    "papermill": {
     "duration": 0.11456,
     "end_time": "2021-08-23T06:37:54.761167",
     "exception": false,
     "start_time": "2021-08-23T06:37:54.646607",
     "status": "completed"
    },
    "tags": []
   },
   "outputs": [
    {
     "data": {
      "text/html": [
       "<div>\n",
       "<style scoped>\n",
       "    .dataframe tbody tr th:only-of-type {\n",
       "        vertical-align: middle;\n",
       "    }\n",
       "\n",
       "    .dataframe tbody tr th {\n",
       "        vertical-align: top;\n",
       "    }\n",
       "\n",
       "    .dataframe thead th {\n",
       "        text-align: right;\n",
       "    }\n",
       "</style>\n",
       "<table border=\"1\" class=\"dataframe\">\n",
       "  <thead>\n",
       "    <tr style=\"text-align: right;\">\n",
       "      <th></th>\n",
       "      <th>image_id</th>\n",
       "      <th>cell_type</th>\n",
       "      <th>is_benign</th>\n",
       "      <th>localization</th>\n",
       "    </tr>\n",
       "  </thead>\n",
       "  <tbody>\n",
       "    <tr>\n",
       "      <th>0</th>\n",
       "      <td>ISIC_0027419</td>\n",
       "      <td>Benign keratosis-like lesions</td>\n",
       "      <td>1.0</td>\n",
       "      <td>scalp</td>\n",
       "    </tr>\n",
       "    <tr>\n",
       "      <th>1</th>\n",
       "      <td>ISIC_0026769</td>\n",
       "      <td>Benign keratosis-like lesions</td>\n",
       "      <td>1.0</td>\n",
       "      <td>scalp</td>\n",
       "    </tr>\n",
       "    <tr>\n",
       "      <th>2</th>\n",
       "      <td>ISIC_0031633</td>\n",
       "      <td>Benign keratosis-like lesions</td>\n",
       "      <td>1.0</td>\n",
       "      <td>ear</td>\n",
       "    </tr>\n",
       "    <tr>\n",
       "      <th>3</th>\n",
       "      <td>ISIC_0029176</td>\n",
       "      <td>Benign keratosis-like lesions</td>\n",
       "      <td>1.0</td>\n",
       "      <td>face</td>\n",
       "    </tr>\n",
       "    <tr>\n",
       "      <th>4</th>\n",
       "      <td>ISIC_0029068</td>\n",
       "      <td>Benign keratosis-like lesions</td>\n",
       "      <td>1.0</td>\n",
       "      <td>face</td>\n",
       "    </tr>\n",
       "    <tr>\n",
       "      <th>...</th>\n",
       "      <td>...</td>\n",
       "      <td>...</td>\n",
       "      <td>...</td>\n",
       "      <td>...</td>\n",
       "    </tr>\n",
       "    <tr>\n",
       "      <th>5371</th>\n",
       "      <td>ISIC_0032134</td>\n",
       "      <td>Melanocytic nevi</td>\n",
       "      <td>1.0</td>\n",
       "      <td>NaN</td>\n",
       "    </tr>\n",
       "    <tr>\n",
       "      <th>5372</th>\n",
       "      <td>ISIC_0032861</td>\n",
       "      <td>Benign keratosis-like lesions</td>\n",
       "      <td>1.0</td>\n",
       "      <td>NaN</td>\n",
       "    </tr>\n",
       "    <tr>\n",
       "      <th>5373</th>\n",
       "      <td>ISIC_0026054</td>\n",
       "      <td>Benign keratosis-like lesions</td>\n",
       "      <td>1.0</td>\n",
       "      <td>NaN</td>\n",
       "    </tr>\n",
       "    <tr>\n",
       "      <th>5374</th>\n",
       "      <td>ISIC_0032052</td>\n",
       "      <td>Melanoma</td>\n",
       "      <td>1.0</td>\n",
       "      <td>NaN</td>\n",
       "    </tr>\n",
       "    <tr>\n",
       "      <th>5375</th>\n",
       "      <td>ISIC_0031933</td>\n",
       "      <td>Benign keratosis-like lesions</td>\n",
       "      <td>1.0</td>\n",
       "      <td>NaN</td>\n",
       "    </tr>\n",
       "  </tbody>\n",
       "</table>\n",
       "<p>5376 rows × 4 columns</p>\n",
       "</div>"
      ],
      "text/plain": [
       "          image_id                       cell_type  is_benign localization\n",
       "0     ISIC_0027419  Benign keratosis-like lesions         1.0        scalp\n",
       "1     ISIC_0026769  Benign keratosis-like lesions         1.0        scalp\n",
       "2     ISIC_0031633  Benign keratosis-like lesions         1.0          ear\n",
       "3     ISIC_0029176  Benign keratosis-like lesions         1.0         face\n",
       "4     ISIC_0029068  Benign keratosis-like lesions         1.0         face\n",
       "...            ...                             ...        ...          ...\n",
       "5371  ISIC_0032134                Melanocytic nevi        1.0          NaN\n",
       "5372  ISIC_0032861  Benign keratosis-like lesions         1.0          NaN\n",
       "5373  ISIC_0026054  Benign keratosis-like lesions         1.0          NaN\n",
       "5374  ISIC_0032052                        Melanoma        1.0          NaN\n",
       "5375  ISIC_0031933  Benign keratosis-like lesions         1.0          NaN\n",
       "\n",
       "[5376 rows x 4 columns]"
      ]
     },
     "execution_count": 13,
     "metadata": {},
     "output_type": "execute_result"
    }
   ],
   "source": [
    "df"
   ]
  },
  {
   "cell_type": "code",
   "execution_count": 14,
   "metadata": {
    "execution": {
     "iopub.execute_input": "2021-08-24T14:02:22.198421Z",
     "iopub.status.busy": "2021-08-24T14:02:22.198082Z",
     "iopub.status.idle": "2021-08-24T14:02:22.205720Z",
     "shell.execute_reply": "2021-08-24T14:02:22.204534Z",
     "shell.execute_reply.started": "2021-08-24T14:02:22.198387Z"
    },
    "id": "dDMbjI7mwOcg",
    "outputId": "f454b4d4-5928-44d1-80ab-7650b5cc8b5b",
    "papermill": {
     "duration": 0.096753,
     "end_time": "2021-08-23T06:37:54.947946",
     "exception": false,
     "start_time": "2021-08-23T06:37:54.851193",
     "status": "completed"
    },
    "tags": []
   },
   "outputs": [
    {
     "data": {
      "text/plain": [
       "image_id         object\n",
       "cell_type        object\n",
       "is_benign       float64\n",
       "localization     object\n",
       "dtype: object"
      ]
     },
     "execution_count": 14,
     "metadata": {},
     "output_type": "execute_result"
    }
   ],
   "source": [
    "df.dtypes"
   ]
  },
  {
   "cell_type": "code",
   "execution_count": 15,
   "metadata": {
    "execution": {
     "iopub.execute_input": "2021-08-24T14:02:22.208005Z",
     "iopub.status.busy": "2021-08-24T14:02:22.207545Z",
     "iopub.status.idle": "2021-08-24T14:02:22.230302Z",
     "shell.execute_reply": "2021-08-24T14:02:22.229476Z",
     "shell.execute_reply.started": "2021-08-24T14:02:22.207964Z"
    },
    "id": "tpU8kRgawOcg",
    "outputId": "7f27cde9-d507-4fac-9a34-836fcaf8ec14",
    "papermill": {
     "duration": 0.107902,
     "end_time": "2021-08-23T06:37:55.143339",
     "exception": false,
     "start_time": "2021-08-23T06:37:55.035437",
     "status": "completed"
    },
    "tags": []
   },
   "outputs": [
    {
     "data": {
      "text/html": [
       "<div>\n",
       "<style scoped>\n",
       "    .dataframe tbody tr th:only-of-type {\n",
       "        vertical-align: middle;\n",
       "    }\n",
       "\n",
       "    .dataframe tbody tr th {\n",
       "        vertical-align: top;\n",
       "    }\n",
       "\n",
       "    .dataframe thead th {\n",
       "        text-align: right;\n",
       "    }\n",
       "</style>\n",
       "<table border=\"1\" class=\"dataframe\">\n",
       "  <thead>\n",
       "    <tr style=\"text-align: right;\">\n",
       "      <th></th>\n",
       "      <th>is_benign</th>\n",
       "    </tr>\n",
       "  </thead>\n",
       "  <tbody>\n",
       "    <tr>\n",
       "      <th>count</th>\n",
       "      <td>5276.000000</td>\n",
       "    </tr>\n",
       "    <tr>\n",
       "      <th>mean</th>\n",
       "      <td>0.807051</td>\n",
       "    </tr>\n",
       "    <tr>\n",
       "      <th>std</th>\n",
       "      <td>0.394651</td>\n",
       "    </tr>\n",
       "    <tr>\n",
       "      <th>min</th>\n",
       "      <td>0.000000</td>\n",
       "    </tr>\n",
       "    <tr>\n",
       "      <th>25%</th>\n",
       "      <td>1.000000</td>\n",
       "    </tr>\n",
       "    <tr>\n",
       "      <th>50%</th>\n",
       "      <td>1.000000</td>\n",
       "    </tr>\n",
       "    <tr>\n",
       "      <th>75%</th>\n",
       "      <td>1.000000</td>\n",
       "    </tr>\n",
       "    <tr>\n",
       "      <th>max</th>\n",
       "      <td>1.000000</td>\n",
       "    </tr>\n",
       "  </tbody>\n",
       "</table>\n",
       "</div>"
      ],
      "text/plain": [
       "         is_benign\n",
       "count  5276.000000\n",
       "mean      0.807051\n",
       "std       0.394651\n",
       "min       0.000000\n",
       "25%       1.000000\n",
       "50%       1.000000\n",
       "75%       1.000000\n",
       "max       1.000000"
      ]
     },
     "execution_count": 15,
     "metadata": {},
     "output_type": "execute_result"
    }
   ],
   "source": [
    "df.describe()"
   ]
  },
  {
   "cell_type": "markdown",
   "metadata": {
    "id": "kp1kSmp-wOcg",
    "papermill": {
     "duration": 0.08875,
     "end_time": "2021-08-23T06:37:55.32139",
     "exception": false,
     "start_time": "2021-08-23T06:37:55.23264",
     "status": "completed"
    },
    "tags": []
   },
   "source": [
    "A general statistical analysis of the numerical values of dataset (here : age)"
   ]
  },
  {
   "cell_type": "markdown",
   "metadata": {
    "id": "zBmL5gcXwOcg",
    "papermill": {
     "duration": 0.088451,
     "end_time": "2021-08-23T06:37:55.498655",
     "exception": false,
     "start_time": "2021-08-23T06:37:55.410204",
     "status": "completed"
    },
    "tags": []
   },
   "source": [
    "## **Data Cleaning**\n",
    "\n",
    "### Removing NULL values and performing visualizations to gain insights of dataset: Univariate and Bivariate Analysis"
   ]
  },
  {
   "cell_type": "code",
   "execution_count": 16,
   "metadata": {
    "execution": {
     "iopub.execute_input": "2021-08-24T14:02:22.231886Z",
     "iopub.status.busy": "2021-08-24T14:02:22.231533Z",
     "iopub.status.idle": "2021-08-24T14:02:22.245055Z",
     "shell.execute_reply": "2021-08-24T14:02:22.243961Z",
     "shell.execute_reply.started": "2021-08-24T14:02:22.231851Z"
    },
    "id": "QtPXpsvKwOch",
    "outputId": "d6b7c7a3-56ea-4c3d-8941-8d92415f8432",
    "papermill": {
     "duration": 0.104525,
     "end_time": "2021-08-23T06:37:55.691807",
     "exception": false,
     "start_time": "2021-08-23T06:37:55.587282",
     "status": "completed"
    },
    "tags": []
   },
   "outputs": [
    {
     "data": {
      "text/plain": [
       "image_id          0\n",
       "cell_type       100\n",
       "is_benign       100\n",
       "localization     18\n",
       "dtype: int64"
      ]
     },
     "execution_count": 16,
     "metadata": {},
     "output_type": "execute_result"
    }
   ],
   "source": [
    "df.isnull().sum()"
   ]
  },
  {
   "cell_type": "markdown",
   "metadata": {
    "id": "AxbBGh3GwOch",
    "papermill": {
     "duration": 0.089496,
     "end_time": "2021-08-23T06:37:55.870342",
     "exception": false,
     "start_time": "2021-08-23T06:37:55.780846",
     "status": "completed"
    },
    "tags": []
   },
   "source": [
    "The feature 'age' consists of 57 null records. Thus, we need to replace them with the mean of 'age' since dropping 57 records would lead to loss of data."
   ]
  },
  {
   "cell_type": "code",
   "execution_count": 17,
   "metadata": {
    "execution": {
     "iopub.execute_input": "2021-08-24T14:02:22.247358Z",
     "iopub.status.busy": "2021-08-24T14:02:22.246658Z",
     "iopub.status.idle": "2021-08-24T14:02:22.252451Z",
     "shell.execute_reply": "2021-08-24T14:02:22.251612Z",
     "shell.execute_reply.started": "2021-08-24T14:02:22.247281Z"
    },
    "id": "GQKef-JlwOch",
    "papermill": {
     "duration": 0.101223,
     "end_time": "2021-08-23T06:37:56.060435",
     "exception": false,
     "start_time": "2021-08-23T06:37:55.959212",
     "status": "completed"
    },
    "tags": []
   },
   "outputs": [
    {
     "data": {
      "text/plain": [
       "image_id        0\n",
       "cell_type       0\n",
       "is_benign       0\n",
       "localization    0\n",
       "dtype: int64"
      ]
     },
     "execution_count": 17,
     "metadata": {},
     "output_type": "execute_result"
    }
   ],
   "source": [
    "#df['age'].fillna(int(df['age'].mean()),inplace=True) \n",
    "df1 = df.dropna()\n",
    "df1.isnull().sum()"
   ]
  },
  {
   "cell_type": "code",
   "execution_count": 18,
   "metadata": {},
   "outputs": [
    {
     "data": {
      "text/html": [
       "<div>\n",
       "<style scoped>\n",
       "    .dataframe tbody tr th:only-of-type {\n",
       "        vertical-align: middle;\n",
       "    }\n",
       "\n",
       "    .dataframe tbody tr th {\n",
       "        vertical-align: top;\n",
       "    }\n",
       "\n",
       "    .dataframe thead th {\n",
       "        text-align: right;\n",
       "    }\n",
       "</style>\n",
       "<table border=\"1\" class=\"dataframe\">\n",
       "  <thead>\n",
       "    <tr style=\"text-align: right;\">\n",
       "      <th></th>\n",
       "      <th>image_id</th>\n",
       "      <th>cell_type</th>\n",
       "      <th>is_benign</th>\n",
       "      <th>localization</th>\n",
       "    </tr>\n",
       "  </thead>\n",
       "  <tbody>\n",
       "    <tr>\n",
       "      <th>167</th>\n",
       "      <td>ISIC_0028970</td>\n",
       "      <td>Benign keratosis-like lesions</td>\n",
       "      <td>1.0</td>\n",
       "      <td>hand</td>\n",
       "    </tr>\n",
       "    <tr>\n",
       "      <th>658</th>\n",
       "      <td>ISIC_0031745</td>\n",
       "      <td>Melanoma</td>\n",
       "      <td>0.0</td>\n",
       "      <td>lower extremity</td>\n",
       "    </tr>\n",
       "    <tr>\n",
       "      <th>687</th>\n",
       "      <td>ISIC_0028878</td>\n",
       "      <td>Melanoma</td>\n",
       "      <td>0.0</td>\n",
       "      <td>back</td>\n",
       "    </tr>\n",
       "    <tr>\n",
       "      <th>828</th>\n",
       "      <td>ISIC_0024482</td>\n",
       "      <td>Melanoma</td>\n",
       "      <td>0.0</td>\n",
       "      <td>back</td>\n",
       "    </tr>\n",
       "    <tr>\n",
       "      <th>949</th>\n",
       "      <td>ISIC_0030150</td>\n",
       "      <td>Melanoma</td>\n",
       "      <td>0.0</td>\n",
       "      <td>neck</td>\n",
       "    </tr>\n",
       "    <tr>\n",
       "      <th>957</th>\n",
       "      <td>ISIC_0033023</td>\n",
       "      <td>Melanoma</td>\n",
       "      <td>0.0</td>\n",
       "      <td>upper extremity</td>\n",
       "    </tr>\n",
       "    <tr>\n",
       "      <th>1068</th>\n",
       "      <td>ISIC_0027573</td>\n",
       "      <td>Melanoma</td>\n",
       "      <td>0.0</td>\n",
       "      <td>face</td>\n",
       "    </tr>\n",
       "    <tr>\n",
       "      <th>1237</th>\n",
       "      <td>ISIC_0028238</td>\n",
       "      <td>Basal cell carcinoma</td>\n",
       "      <td>0.0</td>\n",
       "      <td>back</td>\n",
       "    </tr>\n",
       "    <tr>\n",
       "      <th>1394</th>\n",
       "      <td>ISIC_0024448</td>\n",
       "      <td>Basal cell carcinoma</td>\n",
       "      <td>0.0</td>\n",
       "      <td>upper extremity</td>\n",
       "    </tr>\n",
       "    <tr>\n",
       "      <th>1660</th>\n",
       "      <td>ISIC_0027389</td>\n",
       "      <td>Melanocytic nevi</td>\n",
       "      <td>1.0</td>\n",
       "      <td>abdomen</td>\n",
       "    </tr>\n",
       "    <tr>\n",
       "      <th>1777</th>\n",
       "      <td>ISIC_0029950</td>\n",
       "      <td>Melanocytic nevi</td>\n",
       "      <td>1.0</td>\n",
       "      <td>foot</td>\n",
       "    </tr>\n",
       "    <tr>\n",
       "      <th>2304</th>\n",
       "      <td>ISIC_0028248</td>\n",
       "      <td>Melanocytic nevi</td>\n",
       "      <td>1.0</td>\n",
       "      <td>lower extremity</td>\n",
       "    </tr>\n",
       "    <tr>\n",
       "      <th>2489</th>\n",
       "      <td>ISIC_0026082</td>\n",
       "      <td>Melanocytic nevi</td>\n",
       "      <td>1.0</td>\n",
       "      <td>lower extremity</td>\n",
       "    </tr>\n",
       "    <tr>\n",
       "      <th>2543</th>\n",
       "      <td>ISIC_0024629</td>\n",
       "      <td>Melanocytic nevi</td>\n",
       "      <td>1.0</td>\n",
       "      <td>trunk</td>\n",
       "    </tr>\n",
       "    <tr>\n",
       "      <th>3402</th>\n",
       "      <td>ISIC_0031404</td>\n",
       "      <td>Melanocytic nevi</td>\n",
       "      <td>1.0</td>\n",
       "      <td>back</td>\n",
       "    </tr>\n",
       "    <tr>\n",
       "      <th>3440</th>\n",
       "      <td>ISIC_0029615</td>\n",
       "      <td>Melanocytic nevi</td>\n",
       "      <td>1.0</td>\n",
       "      <td>back</td>\n",
       "    </tr>\n",
       "    <tr>\n",
       "      <th>3491</th>\n",
       "      <td>ISIC_0027410</td>\n",
       "      <td>Melanocytic nevi</td>\n",
       "      <td>1.0</td>\n",
       "      <td>face</td>\n",
       "    </tr>\n",
       "    <tr>\n",
       "      <th>3498</th>\n",
       "      <td>ISIC_0029254</td>\n",
       "      <td>Melanocytic nevi</td>\n",
       "      <td>1.0</td>\n",
       "      <td>face</td>\n",
       "    </tr>\n",
       "    <tr>\n",
       "      <th>3734</th>\n",
       "      <td>ISIC_0033906</td>\n",
       "      <td>Melanocytic nevi</td>\n",
       "      <td>1.0</td>\n",
       "      <td>trunk</td>\n",
       "    </tr>\n",
       "    <tr>\n",
       "      <th>3778</th>\n",
       "      <td>ISIC_0033605</td>\n",
       "      <td>Melanocytic nevi</td>\n",
       "      <td>1.0</td>\n",
       "      <td>back</td>\n",
       "    </tr>\n",
       "    <tr>\n",
       "      <th>4034</th>\n",
       "      <td>ISIC_0026761</td>\n",
       "      <td>Melanocytic nevi</td>\n",
       "      <td>1.0</td>\n",
       "      <td>back</td>\n",
       "    </tr>\n",
       "    <tr>\n",
       "      <th>4369</th>\n",
       "      <td>ISIC_0025983</td>\n",
       "      <td>Melanocytic nevi</td>\n",
       "      <td>1.0</td>\n",
       "      <td>abdomen</td>\n",
       "    </tr>\n",
       "    <tr>\n",
       "      <th>4557</th>\n",
       "      <td>ISIC_0028016</td>\n",
       "      <td>Melanocytic nevi</td>\n",
       "      <td>1.0</td>\n",
       "      <td>abdomen</td>\n",
       "    </tr>\n",
       "    <tr>\n",
       "      <th>4617</th>\n",
       "      <td>ISIC_0029208</td>\n",
       "      <td>Melanocytic nevi</td>\n",
       "      <td>1.0</td>\n",
       "      <td>ear</td>\n",
       "    </tr>\n",
       "    <tr>\n",
       "      <th>4673</th>\n",
       "      <td>ISIC_0027714</td>\n",
       "      <td>Melanocytic nevi</td>\n",
       "      <td>1.0</td>\n",
       "      <td>back</td>\n",
       "    </tr>\n",
       "    <tr>\n",
       "      <th>4933</th>\n",
       "      <td>ISIC_0026149</td>\n",
       "      <td>Actinic keratoses</td>\n",
       "      <td>0.0</td>\n",
       "      <td>face</td>\n",
       "    </tr>\n",
       "    <tr>\n",
       "      <th>4968</th>\n",
       "      <td>ISIC_0031993</td>\n",
       "      <td>Actinic keratoses</td>\n",
       "      <td>0.0</td>\n",
       "      <td>face</td>\n",
       "    </tr>\n",
       "    <tr>\n",
       "      <th>5035</th>\n",
       "      <td>ISIC_0028163</td>\n",
       "      <td>Melanocytic nevi</td>\n",
       "      <td>1.0</td>\n",
       "      <td>lower extremity</td>\n",
       "    </tr>\n",
       "    <tr>\n",
       "      <th>5178</th>\n",
       "      <td>ISIC_0025293</td>\n",
       "      <td>Melanocytic nevi</td>\n",
       "      <td>1.0</td>\n",
       "      <td>foot</td>\n",
       "    </tr>\n",
       "    <tr>\n",
       "      <th>5218</th>\n",
       "      <td>ISIC_0027769</td>\n",
       "      <td>Melanocytic nevi</td>\n",
       "      <td>1.0</td>\n",
       "      <td>abdomen</td>\n",
       "    </tr>\n",
       "  </tbody>\n",
       "</table>\n",
       "</div>"
      ],
      "text/plain": [
       "          image_id                       cell_type  is_benign     localization\n",
       "167   ISIC_0028970  Benign keratosis-like lesions         1.0             hand\n",
       "658   ISIC_0031745                        Melanoma        0.0  lower extremity\n",
       "687   ISIC_0028878                        Melanoma        0.0             back\n",
       "828   ISIC_0024482                        Melanoma        0.0             back\n",
       "949   ISIC_0030150                        Melanoma        0.0             neck\n",
       "957   ISIC_0033023                        Melanoma        0.0  upper extremity\n",
       "1068  ISIC_0027573                        Melanoma        0.0             face\n",
       "1237  ISIC_0028238            Basal cell carcinoma        0.0             back\n",
       "1394  ISIC_0024448            Basal cell carcinoma        0.0  upper extremity\n",
       "1660  ISIC_0027389                Melanocytic nevi        1.0          abdomen\n",
       "1777  ISIC_0029950                Melanocytic nevi        1.0             foot\n",
       "2304  ISIC_0028248                Melanocytic nevi        1.0  lower extremity\n",
       "2489  ISIC_0026082                Melanocytic nevi        1.0  lower extremity\n",
       "2543  ISIC_0024629                Melanocytic nevi        1.0            trunk\n",
       "3402  ISIC_0031404                Melanocytic nevi        1.0             back\n",
       "3440  ISIC_0029615                Melanocytic nevi        1.0             back\n",
       "3491  ISIC_0027410                Melanocytic nevi        1.0             face\n",
       "3498  ISIC_0029254                Melanocytic nevi        1.0             face\n",
       "3734  ISIC_0033906                Melanocytic nevi        1.0            trunk\n",
       "3778  ISIC_0033605                Melanocytic nevi        1.0             back\n",
       "4034  ISIC_0026761                Melanocytic nevi        1.0             back\n",
       "4369  ISIC_0025983                Melanocytic nevi        1.0          abdomen\n",
       "4557  ISIC_0028016                Melanocytic nevi        1.0          abdomen\n",
       "4617  ISIC_0029208                Melanocytic nevi        1.0              ear\n",
       "4673  ISIC_0027714                Melanocytic nevi        1.0             back\n",
       "4933  ISIC_0026149               Actinic keratoses        0.0             face\n",
       "4968  ISIC_0031993               Actinic keratoses        0.0             face\n",
       "5035  ISIC_0028163                Melanocytic nevi        1.0  lower extremity\n",
       "5178  ISIC_0025293                Melanocytic nevi        1.0             foot\n",
       "5218  ISIC_0027769                Melanocytic nevi        1.0          abdomen"
      ]
     },
     "execution_count": 18,
     "metadata": {},
     "output_type": "execute_result"
    }
   ],
   "source": [
    "# 0 for benign, 1 for malignant\n",
    "class_names = [\"benign\", \"malignant\"]\n",
    "s0 = df1.is_benign[df1.is_benign.eq(0)].sample(10).index\n",
    "s1 = df1.is_benign[df1.is_benign.eq(1)].sample(20).index\n",
    "df1 = df1.loc[s0.union(s1)]\n",
    "df1['is_benign'].value_counts()\n",
    "df1"
   ]
  },
  {
   "cell_type": "code",
   "execution_count": 19,
   "metadata": {
    "execution": {
     "iopub.execute_input": "2021-08-24T14:02:22.255313Z",
     "iopub.status.busy": "2021-08-24T14:02:22.254839Z",
     "iopub.status.idle": "2021-08-24T14:02:22.270150Z",
     "shell.execute_reply": "2021-08-24T14:02:22.269259Z",
     "shell.execute_reply.started": "2021-08-24T14:02:22.255278Z"
    },
    "id": "Y7dkuQHVwOci",
    "outputId": "49294d5d-5b77-422a-9f54-f84899bc1a36",
    "papermill": {
     "duration": 0.103569,
     "end_time": "2021-08-23T06:37:56.253167",
     "exception": false,
     "start_time": "2021-08-23T06:37:56.149598",
     "status": "completed"
    },
    "tags": []
   },
   "outputs": [],
   "source": [
    "df1.isnull().sum()\n",
    "df1.to_csv('file_name.csv')"
   ]
  },
  {
   "cell_type": "markdown",
   "metadata": {
    "id": "Lbn8V-qFwOci",
    "papermill": {
     "duration": 0.089318,
     "end_time": "2021-08-23T06:37:56.431308",
     "exception": false,
     "start_time": "2021-08-23T06:37:56.34199",
     "status": "completed"
    },
    "tags": []
   },
   "source": [
    "Now, the null values have been removed."
   ]
  },
  {
   "cell_type": "code",
   "execution_count": 20,
   "metadata": {
    "execution": {
     "iopub.execute_input": "2021-08-24T14:02:22.271877Z",
     "iopub.status.busy": "2021-08-24T14:02:22.271528Z",
     "iopub.status.idle": "2021-08-24T14:02:23.467904Z",
     "shell.execute_reply": "2021-08-24T14:02:23.467069Z",
     "shell.execute_reply.started": "2021-08-24T14:02:22.271845Z"
    },
    "id": "Qe0OlQydx0m5",
    "papermill": {
     "duration": 1.042533,
     "end_time": "2021-08-23T06:37:57.562687",
     "exception": false,
     "start_time": "2021-08-23T06:37:56.520154",
     "status": "completed"
    },
    "tags": []
   },
   "outputs": [],
   "source": [
    "lesion_type_dict = {\n",
    "    'nv': 'Melanocytic nevi',\n",
    "    'mel': 'Melanoma',\n",
    "    'bkl': 'Benign keratosis-like lesions ',\n",
    "    'bcc': 'Basal cell carcinoma',\n",
    "    'akiec': 'Actinic keratoses',\n",
    "    'vasc': 'Vascular lesions',\n",
    "    'df': 'Dermatofibroma'\n",
    "}\n",
    "base_skin_dir = 'ham_data_surnamesIJKLM'\n",
    "\n",
    "# Merge images from both folders into one dictionary\n",
    "\n",
    "imageid_path_dict = {os.path.splitext(os.path.basename(x))[0]: x\n",
    "                     for x in glob(os.path.join(base_skin_dir, '*.jpg'))}"
   ]
  },
  {
   "cell_type": "code",
   "execution_count": 21,
   "metadata": {
    "execution": {
     "iopub.execute_input": "2021-08-24T14:02:23.469563Z",
     "iopub.status.busy": "2021-08-24T14:02:23.469238Z",
     "iopub.status.idle": "2021-08-24T14:02:23.496703Z",
     "shell.execute_reply": "2021-08-24T14:02:23.495889Z",
     "shell.execute_reply.started": "2021-08-24T14:02:23.469529Z"
    },
    "id": "04bziL-UyqPy",
    "outputId": "806112af-4658-4669-9e61-557022c99637",
    "papermill": {
     "duration": 0.115943,
     "end_time": "2021-08-23T06:37:57.768624",
     "exception": false,
     "start_time": "2021-08-23T06:37:57.652681",
     "status": "completed"
    },
    "tags": []
   },
   "outputs": [
    {
     "data": {
      "text/html": [
       "<div>\n",
       "<style scoped>\n",
       "    .dataframe tbody tr th:only-of-type {\n",
       "        vertical-align: middle;\n",
       "    }\n",
       "\n",
       "    .dataframe tbody tr th {\n",
       "        vertical-align: top;\n",
       "    }\n",
       "\n",
       "    .dataframe thead th {\n",
       "        text-align: right;\n",
       "    }\n",
       "</style>\n",
       "<table border=\"1\" class=\"dataframe\">\n",
       "  <thead>\n",
       "    <tr style=\"text-align: right;\">\n",
       "      <th></th>\n",
       "      <th>image_id</th>\n",
       "      <th>cell_type</th>\n",
       "      <th>is_benign</th>\n",
       "      <th>localization</th>\n",
       "      <th>path</th>\n",
       "    </tr>\n",
       "  </thead>\n",
       "  <tbody>\n",
       "    <tr>\n",
       "      <th>167</th>\n",
       "      <td>ISIC_0028970</td>\n",
       "      <td>Benign keratosis-like lesions</td>\n",
       "      <td>1.0</td>\n",
       "      <td>hand</td>\n",
       "      <td>ham_data_surnamesIJKLM\\ISIC_0028970.jpg</td>\n",
       "    </tr>\n",
       "    <tr>\n",
       "      <th>658</th>\n",
       "      <td>ISIC_0031745</td>\n",
       "      <td>Melanoma</td>\n",
       "      <td>0.0</td>\n",
       "      <td>lower extremity</td>\n",
       "      <td>ham_data_surnamesIJKLM\\ISIC_0031745.jpg</td>\n",
       "    </tr>\n",
       "    <tr>\n",
       "      <th>687</th>\n",
       "      <td>ISIC_0028878</td>\n",
       "      <td>Melanoma</td>\n",
       "      <td>0.0</td>\n",
       "      <td>back</td>\n",
       "      <td>ham_data_surnamesIJKLM\\ISIC_0028878.jpg</td>\n",
       "    </tr>\n",
       "    <tr>\n",
       "      <th>828</th>\n",
       "      <td>ISIC_0024482</td>\n",
       "      <td>Melanoma</td>\n",
       "      <td>0.0</td>\n",
       "      <td>back</td>\n",
       "      <td>ham_data_surnamesIJKLM\\ISIC_0024482.jpg</td>\n",
       "    </tr>\n",
       "    <tr>\n",
       "      <th>949</th>\n",
       "      <td>ISIC_0030150</td>\n",
       "      <td>Melanoma</td>\n",
       "      <td>0.0</td>\n",
       "      <td>neck</td>\n",
       "      <td>ham_data_surnamesIJKLM\\ISIC_0030150.jpg</td>\n",
       "    </tr>\n",
       "  </tbody>\n",
       "</table>\n",
       "</div>"
      ],
      "text/plain": [
       "         image_id                       cell_type  is_benign     localization  \\\n",
       "167  ISIC_0028970  Benign keratosis-like lesions         1.0             hand   \n",
       "658  ISIC_0031745                        Melanoma        0.0  lower extremity   \n",
       "687  ISIC_0028878                        Melanoma        0.0             back   \n",
       "828  ISIC_0024482                        Melanoma        0.0             back   \n",
       "949  ISIC_0030150                        Melanoma        0.0             neck   \n",
       "\n",
       "                                        path  \n",
       "167  ham_data_surnamesIJKLM\\ISIC_0028970.jpg  \n",
       "658  ham_data_surnamesIJKLM\\ISIC_0031745.jpg  \n",
       "687  ham_data_surnamesIJKLM\\ISIC_0028878.jpg  \n",
       "828  ham_data_surnamesIJKLM\\ISIC_0024482.jpg  \n",
       "949  ham_data_surnamesIJKLM\\ISIC_0030150.jpg  "
      ]
     },
     "execution_count": 21,
     "metadata": {},
     "output_type": "execute_result"
    }
   ],
   "source": [
    "df1['path'] = df1['image_id'].map(imageid_path_dict.get)\n",
    "#df['cell_type'] = df['dx'].map(lesion_type_dict.get) \n",
    "#df['cell_type_idx'] = pd.Categorical(df['cell_type']).codes\n",
    "df1.head()"
   ]
  },
  {
   "cell_type": "markdown",
   "metadata": {
    "id": "z11x4ncK0sjI",
    "papermill": {
     "duration": 0.090136,
     "end_time": "2021-08-23T06:37:57.949788",
     "exception": false,
     "start_time": "2021-08-23T06:37:57.859652",
     "status": "completed"
    },
    "tags": []
   },
   "source": [
    "## **Image Preprocessing**\n",
    "\n",
    "### Resizing of images because the original dimensions of 450 * 600 * 3 take long time to process in Neural Networks"
   ]
  },
  {
   "cell_type": "code",
   "execution_count": 22,
   "metadata": {
    "_uuid": "4ba2c25da8f5cfa8789a5ab4b4ddd395e62f1073",
    "id": "bcLzrFfKgN0_",
    "papermill": {
     "duration": 231.338408,
     "end_time": "2021-08-23T06:41:49.37749",
     "exception": false,
     "start_time": "2021-08-23T06:37:58.039082",
     "status": "completed"
    },
    "tags": []
   },
   "outputs": [],
   "source": [
    "df1['image'] = df1['path'].map(lambda x: np.asarray(Image.open(x).resize((125,100))))"
   ]
  },
  {
   "cell_type": "markdown",
   "metadata": {
    "id": "xx7th57uf2An",
    "papermill": {
     "duration": 0.088611,
     "end_time": "2021-08-23T06:41:49.555984",
     "exception": false,
     "start_time": "2021-08-23T06:41:49.467373",
     "status": "completed"
    },
    "tags": []
   },
   "source": [
    "Showcasing some samples of each class of the dataset in the images below:"
   ]
  },
  {
   "cell_type": "code",
   "execution_count": 23,
   "metadata": {
    "_uuid": "54afd31430a186d157262594ba74288a35cbc98e",
    "execution": {
     "iopub.execute_input": "2021-08-24T10:20:31.844528Z",
     "iopub.status.busy": "2021-08-24T10:20:31.844208Z",
     "iopub.status.idle": "2021-08-24T10:20:36.349092Z",
     "shell.execute_reply": "2021-08-24T10:20:36.348206Z",
     "shell.execute_reply.started": "2021-08-24T10:20:31.844494Z"
    },
    "id": "hMgpH77qgN0_",
    "outputId": "7e2582c1-4689-4346-eac3-fb1d2d0631bc",
    "papermill": {
     "duration": 5.433593,
     "end_time": "2021-08-23T06:41:55.078847",
     "exception": false,
     "start_time": "2021-08-23T06:41:49.645254",
     "status": "completed"
    },
    "tags": []
   },
   "outputs": [
    {
     "ename": "ValueError",
     "evalue": "Cannot take a larger sample than population when 'replace=False'",
     "output_type": "error",
     "traceback": [
      "\u001b[1;31m---------------------------------------------------------------------------\u001b[0m",
      "\u001b[1;31mValueError\u001b[0m                                Traceback (most recent call last)",
      "\u001b[1;32m~\\AppData\\Local\\Temp/ipykernel_3892/2047005624.py\u001b[0m in \u001b[0;36m<module>\u001b[1;34m\u001b[0m\n\u001b[0;32m      4\u001b[0m                                          df1.sort_values(['cell_type']).groupby('cell_type')):\n\u001b[0;32m      5\u001b[0m     \u001b[0mn_axs\u001b[0m\u001b[1;33m[\u001b[0m\u001b[1;36m0\u001b[0m\u001b[1;33m]\u001b[0m\u001b[1;33m.\u001b[0m\u001b[0mset_title\u001b[0m\u001b[1;33m(\u001b[0m\u001b[0mtype_name\u001b[0m\u001b[1;33m)\u001b[0m\u001b[1;33m\u001b[0m\u001b[1;33m\u001b[0m\u001b[0m\n\u001b[1;32m----> 6\u001b[1;33m     \u001b[1;32mfor\u001b[0m \u001b[0mc_ax\u001b[0m\u001b[1;33m,\u001b[0m \u001b[1;33m(\u001b[0m\u001b[0m_\u001b[0m\u001b[1;33m,\u001b[0m \u001b[0mc_row\u001b[0m\u001b[1;33m)\u001b[0m \u001b[1;32min\u001b[0m \u001b[0mzip\u001b[0m\u001b[1;33m(\u001b[0m\u001b[0mn_axs\u001b[0m\u001b[1;33m,\u001b[0m \u001b[0mtype_rows\u001b[0m\u001b[1;33m.\u001b[0m\u001b[0msample\u001b[0m\u001b[1;33m(\u001b[0m\u001b[0mn_samples\u001b[0m\u001b[1;33m,\u001b[0m \u001b[0mrandom_state\u001b[0m\u001b[1;33m=\u001b[0m\u001b[1;36m2018\u001b[0m\u001b[1;33m)\u001b[0m\u001b[1;33m.\u001b[0m\u001b[0miterrows\u001b[0m\u001b[1;33m(\u001b[0m\u001b[1;33m)\u001b[0m\u001b[1;33m)\u001b[0m\u001b[1;33m:\u001b[0m\u001b[1;33m\u001b[0m\u001b[1;33m\u001b[0m\u001b[0m\n\u001b[0m\u001b[0;32m      7\u001b[0m         \u001b[0mc_ax\u001b[0m\u001b[1;33m.\u001b[0m\u001b[0mimshow\u001b[0m\u001b[1;33m(\u001b[0m\u001b[0mc_row\u001b[0m\u001b[1;33m[\u001b[0m\u001b[1;34m'image'\u001b[0m\u001b[1;33m]\u001b[0m\u001b[1;33m)\u001b[0m\u001b[1;33m\u001b[0m\u001b[1;33m\u001b[0m\u001b[0m\n\u001b[0;32m      8\u001b[0m         \u001b[0mc_ax\u001b[0m\u001b[1;33m.\u001b[0m\u001b[0maxis\u001b[0m\u001b[1;33m(\u001b[0m\u001b[1;34m'off'\u001b[0m\u001b[1;33m)\u001b[0m\u001b[1;33m\u001b[0m\u001b[1;33m\u001b[0m\u001b[0m\n",
      "\u001b[1;32m~\\anaconda3\\lib\\site-packages\\pandas\\core\\generic.py\u001b[0m in \u001b[0;36msample\u001b[1;34m(self, n, frac, replace, weights, random_state, axis, ignore_index)\u001b[0m\n\u001b[0;32m   5452\u001b[0m             \u001b[0mweights\u001b[0m \u001b[1;33m=\u001b[0m \u001b[0msample\u001b[0m\u001b[1;33m.\u001b[0m\u001b[0mpreprocess_weights\u001b[0m\u001b[1;33m(\u001b[0m\u001b[0mself\u001b[0m\u001b[1;33m,\u001b[0m \u001b[0mweights\u001b[0m\u001b[1;33m,\u001b[0m \u001b[0maxis\u001b[0m\u001b[1;33m)\u001b[0m\u001b[1;33m\u001b[0m\u001b[1;33m\u001b[0m\u001b[0m\n\u001b[0;32m   5453\u001b[0m \u001b[1;33m\u001b[0m\u001b[0m\n\u001b[1;32m-> 5454\u001b[1;33m         \u001b[0msampled_indices\u001b[0m \u001b[1;33m=\u001b[0m \u001b[0msample\u001b[0m\u001b[1;33m.\u001b[0m\u001b[0msample\u001b[0m\u001b[1;33m(\u001b[0m\u001b[0mobj_len\u001b[0m\u001b[1;33m,\u001b[0m \u001b[0msize\u001b[0m\u001b[1;33m,\u001b[0m \u001b[0mreplace\u001b[0m\u001b[1;33m,\u001b[0m \u001b[0mweights\u001b[0m\u001b[1;33m,\u001b[0m \u001b[0mrs\u001b[0m\u001b[1;33m)\u001b[0m\u001b[1;33m\u001b[0m\u001b[1;33m\u001b[0m\u001b[0m\n\u001b[0m\u001b[0;32m   5455\u001b[0m         \u001b[0mresult\u001b[0m \u001b[1;33m=\u001b[0m \u001b[0mself\u001b[0m\u001b[1;33m.\u001b[0m\u001b[0mtake\u001b[0m\u001b[1;33m(\u001b[0m\u001b[0msampled_indices\u001b[0m\u001b[1;33m,\u001b[0m \u001b[0maxis\u001b[0m\u001b[1;33m=\u001b[0m\u001b[0maxis\u001b[0m\u001b[1;33m)\u001b[0m\u001b[1;33m\u001b[0m\u001b[1;33m\u001b[0m\u001b[0m\n\u001b[0;32m   5456\u001b[0m \u001b[1;33m\u001b[0m\u001b[0m\n",
      "\u001b[1;32m~\\anaconda3\\lib\\site-packages\\pandas\\core\\sample.py\u001b[0m in \u001b[0;36msample\u001b[1;34m(obj_len, size, replace, weights, random_state)\u001b[0m\n\u001b[0;32m    148\u001b[0m             \u001b[1;32mraise\u001b[0m \u001b[0mValueError\u001b[0m\u001b[1;33m(\u001b[0m\u001b[1;34m\"Invalid weights: weights sum to zero\"\u001b[0m\u001b[1;33m)\u001b[0m\u001b[1;33m\u001b[0m\u001b[1;33m\u001b[0m\u001b[0m\n\u001b[0;32m    149\u001b[0m \u001b[1;33m\u001b[0m\u001b[0m\n\u001b[1;32m--> 150\u001b[1;33m     return random_state.choice(obj_len, size=size, replace=replace, p=weights).astype(\n\u001b[0m\u001b[0;32m    151\u001b[0m         \u001b[0mnp\u001b[0m\u001b[1;33m.\u001b[0m\u001b[0mintp\u001b[0m\u001b[1;33m,\u001b[0m \u001b[0mcopy\u001b[0m\u001b[1;33m=\u001b[0m\u001b[1;32mFalse\u001b[0m\u001b[1;33m\u001b[0m\u001b[1;33m\u001b[0m\u001b[0m\n\u001b[0;32m    152\u001b[0m     )\n",
      "\u001b[1;32mmtrand.pyx\u001b[0m in \u001b[0;36mnumpy.random.mtrand.RandomState.choice\u001b[1;34m()\u001b[0m\n",
      "\u001b[1;31mValueError\u001b[0m: Cannot take a larger sample than population when 'replace=False'"
     ]
    },
    {
     "data": {
      "image/png": "[encoded data removed]",
      "text/plain": [
       "<Figure size 1440x1512 with 35 Axes>"
      ]
     },
     "metadata": {
      "needs_background": "light"
     },
     "output_type": "display_data"
    }
   ],
   "source": [
    "n_samples = 5\n",
    "fig, m_axs = plt.subplots(7, n_samples, figsize = (4*n_samples, 3*7))\n",
    "for n_axs, (type_name, type_rows) in zip(m_axs, \n",
    "                                         df1.sort_values(['cell_type']).groupby('cell_type')):\n",
    "    n_axs[0].set_title(type_name)\n",
    "    for c_ax, (_, c_row) in zip(n_axs, type_rows.sample(n_samples, random_state=2018).iterrows()):\n",
    "        c_ax.imshow(c_row['image'])\n",
    "        c_ax.axis('off')\n",
    "fig.savefig('category_samples.png', dpi=300)"
   ]
  },
  {
   "cell_type": "code",
   "execution_count": 24,
   "metadata": {
    "execution": {
     "iopub.execute_input": "2021-08-24T10:20:36.350677Z",
     "iopub.status.busy": "2021-08-24T10:20:36.350322Z",
     "iopub.status.idle": "2021-08-24T10:20:36.371187Z",
     "shell.execute_reply": "2021-08-24T10:20:36.370291Z",
     "shell.execute_reply.started": "2021-08-24T10:20:36.350634Z"
    },
    "id": "l9e7Ev4g05jC",
    "outputId": "26345f81-d9b4-4e78-dba9-213896b6253b",
    "papermill": {
     "duration": 0.143777,
     "end_time": "2021-08-23T06:41:55.347461",
     "exception": false,
     "start_time": "2021-08-23T06:41:55.203684",
     "status": "completed"
    },
    "tags": []
   },
   "outputs": [
    {
     "data": {
      "text/plain": [
       "(100, 125, 3)    30\n",
       "Name: image, dtype: int64"
      ]
     },
     "execution_count": 24,
     "metadata": {},
     "output_type": "execute_result"
    }
   ],
   "source": [
    "# See the image size distribution - should just return one row (all images are uniform)\n",
    "df1['image'].map(lambda x: x.shape).value_counts()"
   ]
  },
  {
   "cell_type": "markdown",
   "metadata": {
    "id": "z9bQoNdTwOci",
    "papermill": {
     "duration": 0.123894,
     "end_time": "2021-08-23T06:41:55.595097",
     "exception": false,
     "start_time": "2021-08-23T06:41:55.471203",
     "status": "completed"
    },
    "tags": []
   },
   "source": [
    "## **Exploratory Data Analysis**"
   ]
  },
  {
   "cell_type": "markdown",
   "metadata": {
    "id": "1HYJEYAXwOci",
    "papermill": {
     "duration": 0.123905,
     "end_time": "2021-08-23T06:41:55.842941",
     "exception": false,
     "start_time": "2021-08-23T06:41:55.719036",
     "status": "completed"
    },
    "tags": []
   },
   "source": [
    "Exploratory data analysis can help detect obvious errors, identify outliers in datasets, understand relationships, unearth important factors, find patterns within data, and provide new insights."
   ]
  },
  {
   "cell_type": "code",
   "execution_count": 43,
   "metadata": {
    "execution": {
     "iopub.execute_input": "2021-08-24T10:20:36.373003Z",
     "iopub.status.busy": "2021-08-24T10:20:36.372678Z",
     "iopub.status.idle": "2021-08-24T10:20:36.402271Z",
     "shell.execute_reply": "2021-08-24T10:20:36.401325Z",
     "shell.execute_reply.started": "2021-08-24T10:20:36.372970Z"
    },
    "id": "s5nLYWBxDu5c",
    "papermill": {
     "duration": 0.153577,
     "end_time": "2021-08-23T06:41:56.121367",
     "exception": false,
     "start_time": "2021-08-23T06:41:55.96779",
     "status": "completed"
    },
    "tags": []
   },
   "outputs": [],
   "source": [
    "#df= df[df['age'] != 0]\n",
    "#df= df[df['sex'] != 'unknown']"
   ]
  },
  {
   "cell_type": "markdown",
   "metadata": {
    "id": "OZAtgBKZwOci",
    "papermill": {
     "duration": 0.123876,
     "end_time": "2021-08-23T06:41:56.369836",
     "exception": false,
     "start_time": "2021-08-23T06:41:56.24596",
     "status": "completed"
    },
    "tags": []
   },
   "source": [
    "### UNIVARIATE ANALYSIS"
   ]
  },
  {
   "cell_type": "code",
   "execution_count": 44,
   "metadata": {
    "execution": {
     "iopub.execute_input": "2021-08-24T10:20:36.404142Z",
     "iopub.status.busy": "2021-08-24T10:20:36.403759Z",
     "iopub.status.idle": "2021-08-24T10:20:37.173418Z",
     "shell.execute_reply": "2021-08-24T10:20:37.172592Z",
     "shell.execute_reply.started": "2021-08-24T10:20:36.404079Z"
    },
    "id": "qLFh_bplwOcj",
    "outputId": "8b742887-8934-4bcb-f0a0-ded5503df62d",
    "papermill": {
     "duration": 0.90434,
     "end_time": "2021-08-23T06:41:57.39868",
     "exception": false,
     "start_time": "2021-08-23T06:41:56.49434",
     "status": "completed"
    },
    "tags": []
   },
   "outputs": [
    {
     "data": {
      "text/plain": [
       "<AxesSubplot:title={'center':'CELL TYPE'}, ylabel='Count'>"
      ]
     },
     "execution_count": 44,
     "metadata": {},
     "output_type": "execute_result"
    },
    {
     "data": {
      "image/png": "[encoded data removed]",
      "text/plain": [
       "<Figure size 1440x720 with 2 Axes>"
      ]
     },
     "metadata": {
      "needs_background": "light"
     },
     "output_type": "display_data"
    }
   ],
   "source": [
    "plt.figure(figsize=(20,10))\n",
    "plt.subplots_adjust(left=0.125, bottom=1, right=0.9, top=2, hspace=0.2)\n",
    "\n",
    "\n",
    "plt.subplot(2,4,3)\n",
    "plt.title(\"localization\",fontsize=15)\n",
    "plt.ylabel(\"Count\")\n",
    "plt.xticks(rotation=45)\n",
    "df1['localization'].value_counts().plot.bar()\n",
    "\n",
    "plt.subplot(2,4,4)\n",
    "plt.title(\"CELL TYPE\",fontsize=15)\n",
    "plt.ylabel(\"Count\")\n",
    "df1['cell_type'].value_counts().plot.bar()"
   ]
  },
  {
   "cell_type": "markdown",
   "metadata": {
    "id": "adzQlNqvwOcj",
    "papermill": {
     "duration": 0.12612,
     "end_time": "2021-08-23T06:41:57.651668",
     "exception": false,
     "start_time": "2021-08-23T06:41:57.525548",
     "status": "completed"
    },
    "tags": []
   },
   "source": [
    "1. Skin diseases are found to be maximum in people aged around 45. Minimum for 10 and below. We also observe that the probability of having skin disease increases with the increase in age.\n",
    "2. Skin diseases are more prominent in Men as compared to Women and other gender.\n",
    "3. Skin diseases are more visible on the \"back\" of the body and least on the \"acral surfaces\"(such as limbs, fingers, or ears).\n",
    "4. The most found disease among people is Melanocytic nevi while the least found is Dermatofibroma."
   ]
  },
  {
   "cell_type": "code",
   "execution_count": 45,
   "metadata": {
    "execution": {
     "iopub.execute_input": "2021-08-24T10:20:37.175213Z",
     "iopub.status.busy": "2021-08-24T10:20:37.174700Z",
     "iopub.status.idle": "2021-08-24T10:20:37.392161Z",
     "shell.execute_reply": "2021-08-24T10:20:37.391220Z",
     "shell.execute_reply.started": "2021-08-24T10:20:37.175173Z"
    },
    "id": "8KikXA0bwOck",
    "outputId": "d74e674a-3b07-49c7-df9d-5836567fbcf6",
    "papermill": {
     "duration": 0.353246,
     "end_time": "2021-08-23T06:41:58.131089",
     "exception": false,
     "start_time": "2021-08-23T06:41:57.777843",
     "status": "completed"
    },
    "tags": []
   },
   "outputs": [
    {
     "data": {
      "image/png": "[encoded data removed]",
      "text/plain": [
       "<Figure size 1080x720 with 2 Axes>"
      ]
     },
     "metadata": {},
     "output_type": "display_data"
    }
   ],
   "source": [
    "plt.figure(figsize=(15,10))\n",
    "plt.subplot(1,2,1)\n",
    "df1['cell_type'].value_counts().plot.pie(autopct=\"%1.1f%%\")\n",
    "plt.subplot(1,2,2)\n",
    "df1['localization'].value_counts().plot.pie(autopct=\"%1.1f%%\")\n",
    "plt.show()"
   ]
  },
  {
   "cell_type": "markdown",
   "metadata": {
    "id": "vSNcMo6UwOck",
    "papermill": {
     "duration": 0.12656,
     "end_time": "2021-08-23T06:41:58.385523",
     "exception": false,
     "start_time": "2021-08-23T06:41:58.258963",
     "status": "completed"
    },
    "tags": []
   },
   "source": [
    "1.  Type of skin disease:\n",
    "    *     nv: Melanocytic nevi - 69.9%\n",
    "    *     mel: Melanoma - 11.1 %\n",
    "    *     bkl: Benign keratosis-like lesions - 11.0%\n",
    "    *     bcc: Basal cell carcinoma - 5.1%\n",
    "    *     akiec: Actinic keratoses- 3.3%\n",
    "    *     vasc: Vascular lesions-1.4%\n",
    "    *     df: Dermatofibroma - 1.1%\n",
    "\n",
    "2. How the skin disease was discovered:\n",
    "   * histo - histopathology - 53.3%\n",
    "   * follow_up - follow up examination - 37.0%\n",
    "   * consensus - expert consensus - 9.0%\n",
    "   * confocal - confirmation by in-vivo confocal microscopy - 0.7%"
   ]
  },
  {
   "cell_type": "markdown",
   "metadata": {
    "id": "1_5eEy-PwOck",
    "papermill": {
     "duration": 0.126569,
     "end_time": "2021-08-23T06:41:58.639086",
     "exception": false,
     "start_time": "2021-08-23T06:41:58.512517",
     "status": "completed"
    },
    "tags": []
   },
   "source": [
    "### BIVARIATE ANALYSIS"
   ]
  },
  {
   "cell_type": "code",
   "execution_count": 46,
   "metadata": {
    "execution": {
     "iopub.execute_input": "2021-08-24T10:20:37.393863Z",
     "iopub.status.busy": "2021-08-24T10:20:37.393510Z",
     "iopub.status.idle": "2021-08-24T10:20:37.926586Z",
     "shell.execute_reply": "2021-08-24T10:20:37.925604Z",
     "shell.execute_reply.started": "2021-08-24T10:20:37.393828Z"
    },
    "id": "mJwrSJf0wOck",
    "outputId": "8df89ae6-bce5-4642-c4c2-ff9133a2859c",
    "papermill": {
     "duration": 0.66755,
     "end_time": "2021-08-23T06:41:59.433541",
     "exception": false,
     "start_time": "2021-08-23T06:41:58.765991",
     "status": "completed"
    },
    "tags": []
   },
   "outputs": [
    {
     "data": {
      "text/plain": [
       "<AxesSubplot:title={'center':'LOCALIZATION VS Cell Type'}, xlabel='count', ylabel='localization'>"
      ]
     },
     "execution_count": 46,
     "metadata": {},
     "output_type": "execute_result"
    },
    {
     "data": {
      "image/png": "[encoded data removed]",
      "text/plain": [
       "<Figure size 1800x720 with 1 Axes>"
      ]
     },
     "metadata": {
      "needs_background": "light"
     },
     "output_type": "display_data"
    }
   ],
   "source": [
    "plt.figure(figsize=(25,10))\n",
    "plt.title('LOCALIZATION VS Cell Type',fontsize = 15)\n",
    "sns.countplot(y='localization', hue='is_benign',data=df1)"
   ]
  },
  {
   "cell_type": "markdown",
   "metadata": {
    "id": "V3OrQvuawOck",
    "papermill": {
     "duration": 0.129804,
     "end_time": "2021-08-23T06:41:59.692235",
     "exception": false,
     "start_time": "2021-08-23T06:41:59.562431",
     "status": "completed"
    },
    "tags": []
   },
   "source": [
    "* Back are is the most affected among people and more prominent in men.\n",
    "* Infection on Lower extremity of the body is more visible in women.\n",
    "* Some unknown regions also show infections and it's visible in men, women and other genders.\n",
    "* The acral surfaces show the least infection cases that too in men only. Other gender groups don't show this kind of infection.\n"
   ]
  },
  {
   "cell_type": "code",
   "execution_count": 47,
   "metadata": {
    "execution": {
     "iopub.execute_input": "2021-08-24T10:20:37.928378Z",
     "iopub.status.busy": "2021-08-24T10:20:37.928014Z",
     "iopub.status.idle": "2021-08-24T10:20:38.566583Z",
     "shell.execute_reply": "2021-08-24T10:20:38.565638Z",
     "shell.execute_reply.started": "2021-08-24T10:20:37.928340Z"
    },
    "id": "PJxM7BK8wOcl",
    "outputId": "607b75d6-0066-4aff-c50d-0e4433dfeadd",
    "papermill": {
     "duration": 0.780782,
     "end_time": "2021-08-23T06:42:00.607206",
     "exception": false,
     "start_time": "2021-08-23T06:41:59.826424",
     "status": "completed"
    },
    "tags": []
   },
   "outputs": [
    {
     "data": {
      "text/plain": [
       "<AxesSubplot:title={'center':'LOCALIZATION VS CELL TYPE'}, xlabel='count', ylabel='localization'>"
      ]
     },
     "execution_count": 47,
     "metadata": {},
     "output_type": "execute_result"
    },
    {
     "data": {
      "image/png": "[encoded data removed]",
      "text/plain": [
       "<Figure size 1800x720 with 1 Axes>"
      ]
     },
     "metadata": {
      "needs_background": "light"
     },
     "output_type": "display_data"
    }
   ],
   "source": [
    "plt.figure(figsize=(25,10))\n",
    "plt.title('LOCALIZATION VS CELL TYPE',fontsize = 15)\n",
    "sns.countplot(y='localization', hue='cell_type',data=df1)"
   ]
  },
  {
   "cell_type": "markdown",
   "metadata": {
    "id": "RDE3JhSOwOcl",
    "papermill": {
     "duration": 0.133552,
     "end_time": "2021-08-23T06:42:00.874722",
     "exception": false,
     "start_time": "2021-08-23T06:42:00.74117",
     "status": "completed"
    },
    "tags": []
   },
   "source": [
    "* The face is infected the most by Benign keratosis-like lesions.\n",
    "* Body parts(except face) are infected the most by Melanocytic nevi."
   ]
  },
  {
   "cell_type": "code",
   "execution_count": 48,
   "metadata": {
    "execution": {
     "iopub.execute_input": "2021-08-24T10:20:38.568331Z",
     "iopub.status.busy": "2021-08-24T10:20:38.567966Z",
     "iopub.status.idle": "2021-08-24T10:20:39.451882Z",
     "shell.execute_reply": "2021-08-24T10:20:39.450929Z",
     "shell.execute_reply.started": "2021-08-24T10:20:38.568294Z"
    },
    "id": "BZGJ8WAPwOcl",
    "outputId": "33f7d035-34b2-4103-f0fb-85f3d96703fc",
    "papermill": {
     "duration": 1.023766,
     "end_time": "2021-08-23T06:42:02.029347",
     "exception": false,
     "start_time": "2021-08-23T06:42:01.005581",
     "status": "completed"
    },
    "tags": []
   },
   "outputs": [
    {
     "data": {
      "text/plain": [
       "<AxesSubplot:title={'center':'CELL TYPE VS is_benign'}, xlabel='count', ylabel='cell_type'>"
      ]
     },
     "execution_count": 48,
     "metadata": {},
     "output_type": "execute_result"
    },
    {
     "data": {
      "image/png": "[encoded data removed]",
      "text/plain": [
       "<Figure size 1800x720 with 2 Axes>"
      ]
     },
     "metadata": {
      "needs_background": "light"
     },
     "output_type": "display_data"
    }
   ],
   "source": [
    "plt.figure(figsize=(25,10))\n",
    "plt.subplot(131)\n",
    "plt.title('localization VS CELL TYPE',fontsize = 15)\n",
    "sns.countplot(y='localization', hue='cell_type',data=df1)\n",
    "plt.subplot(132)\n",
    "plt.title('CELL TYPE VS is_benign',fontsize = 15)\n",
    "sns.countplot(y='cell_type', hue='is_benign',data=df1)"
   ]
  },
  {
   "cell_type": "markdown",
   "metadata": {
    "id": "EIktbqZZwOcl",
    "papermill": {
     "duration": 0.129291,
     "end_time": "2021-08-23T06:42:02.289155",
     "exception": false,
     "start_time": "2021-08-23T06:42:02.159864",
     "status": "completed"
    },
    "tags": []
   },
   "source": [
    "1. The age group between 0-75 years is infected the most by Melanocytic nevi. On the other hand, the people aged 80-90 are affected more by Benign keratosis-like lesions.\n",
    "\n",
    "2. All the gender groups are affected the most by Melanocytic nevi."
   ]
  },
  {
   "cell_type": "code",
   "execution_count": 49,
   "metadata": {
    "execution": {
     "iopub.execute_input": "2021-08-24T14:02:33.394768Z",
     "iopub.status.busy": "2021-08-24T14:02:33.394444Z",
     "iopub.status.idle": "2021-08-24T14:02:33.581922Z",
     "shell.execute_reply": "2021-08-24T14:02:33.581119Z",
     "shell.execute_reply.started": "2021-08-24T14:02:33.394737Z"
    },
    "id": "wfxm4PSwwOcm",
    "papermill": {
     "duration": 0.317543,
     "end_time": "2021-08-23T06:42:02.736091",
     "exception": false,
     "start_time": "2021-08-23T06:42:02.418548",
     "status": "completed"
    },
    "tags": []
   },
   "outputs": [],
   "source": [
    "from sklearn.model_selection import train_test_split\n",
    "import keras\n",
    "from keras.models import Sequential\n",
    "from keras.layers import Dense, Dropout\n",
    "import tensorflow as tf\n",
    "from sklearn.preprocessing import StandardScaler"
   ]
  },
  {
   "cell_type": "markdown",
   "metadata": {
    "id": "32lU8JcwwOcm",
    "papermill": {
     "duration": 0.129733,
     "end_time": "2021-08-23T06:42:02.995915",
     "exception": false,
     "start_time": "2021-08-23T06:42:02.866182",
     "status": "completed"
    },
    "tags": []
   },
   "source": [
    "## **ANN**\n",
    "\n",
    "### A simple neural network is implemented first with the following layers to get patterns in images. The accuracy achieved is approximately 69 percent.\n"
   ]
  },
  {
   "cell_type": "code",
   "execution_count": 50,
   "metadata": {
    "execution": {
     "iopub.execute_input": "2021-08-24T10:20:39.762902Z",
     "iopub.status.busy": "2021-08-24T10:20:39.762498Z",
     "iopub.status.idle": "2021-08-24T10:20:39.771600Z",
     "shell.execute_reply": "2021-08-24T10:20:39.770758Z",
     "shell.execute_reply.started": "2021-08-24T10:20:39.762842Z"
    },
    "id": "RKCSHIb39eQ4",
    "papermill": {
     "duration": 0.139174,
     "end_time": "2021-08-23T06:42:03.266523",
     "exception": false,
     "start_time": "2021-08-23T06:42:03.127349",
     "status": "completed"
    },
    "tags": []
   },
   "outputs": [],
   "source": [
    "features=df1.drop(columns=['is_benign'],axis=1)\n",
    "target=df1['is_benign']"
   ]
  },
  {
   "cell_type": "code",
   "execution_count": 51,
   "metadata": {
    "execution": {
     "iopub.execute_input": "2021-08-24T10:20:39.773469Z",
     "iopub.status.busy": "2021-08-24T10:20:39.773007Z",
     "iopub.status.idle": "2021-08-24T10:20:54.038931Z",
     "shell.execute_reply": "2021-08-24T10:20:54.038157Z",
     "shell.execute_reply.started": "2021-08-24T10:20:39.773433Z"
    },
    "id": "fEHT7QQY9hws",
    "outputId": "8b53f58e-202f-4135-f35f-34469fbf98c7",
    "papermill": {
     "duration": 14.557567,
     "end_time": "2021-08-23T06:42:17.957752",
     "exception": false,
     "start_time": "2021-08-23T06:42:03.400185",
     "status": "completed"
    },
    "tags": []
   },
   "outputs": [
    {
     "data": {
      "text/html": [
       "<div>\n",
       "<style scoped>\n",
       "    .dataframe tbody tr th:only-of-type {\n",
       "        vertical-align: middle;\n",
       "    }\n",
       "\n",
       "    .dataframe tbody tr th {\n",
       "        vertical-align: top;\n",
       "    }\n",
       "\n",
       "    .dataframe thead th {\n",
       "        text-align: right;\n",
       "    }\n",
       "</style>\n",
       "<table border=\"1\" class=\"dataframe\">\n",
       "  <thead>\n",
       "    <tr style=\"text-align: right;\">\n",
       "      <th></th>\n",
       "      <th>image_id</th>\n",
       "      <th>cell_type</th>\n",
       "      <th>localization</th>\n",
       "      <th>path</th>\n",
       "      <th>image</th>\n",
       "    </tr>\n",
       "  </thead>\n",
       "  <tbody>\n",
       "    <tr>\n",
       "      <th>0</th>\n",
       "      <td>ISIC_0027419</td>\n",
       "      <td>Benign keratosis-like lesions</td>\n",
       "      <td>scalp</td>\n",
       "      <td>ham_data_surnamesIJKLM\\ISIC_0027419.jpg</td>\n",
       "      <td>[[[189, 152, 194], [192, 156, 198], [191, 154,...</td>\n",
       "    </tr>\n",
       "    <tr>\n",
       "      <th>1</th>\n",
       "      <td>ISIC_0026769</td>\n",
       "      <td>Benign keratosis-like lesions</td>\n",
       "      <td>scalp</td>\n",
       "      <td>ham_data_surnamesIJKLM\\ISIC_0026769.jpg</td>\n",
       "      <td>[[[186, 127, 135], [189, 133, 145], [192, 135,...</td>\n",
       "    </tr>\n",
       "    <tr>\n",
       "      <th>2</th>\n",
       "      <td>ISIC_0031633</td>\n",
       "      <td>Benign keratosis-like lesions</td>\n",
       "      <td>ear</td>\n",
       "      <td>ham_data_surnamesIJKLM\\ISIC_0031633.jpg</td>\n",
       "      <td>[[[131, 88, 110], [142, 97, 120], [152, 107, 1...</td>\n",
       "    </tr>\n",
       "    <tr>\n",
       "      <th>3</th>\n",
       "      <td>ISIC_0029176</td>\n",
       "      <td>Benign keratosis-like lesions</td>\n",
       "      <td>face</td>\n",
       "      <td>ham_data_surnamesIJKLM\\ISIC_0029176.jpg</td>\n",
       "      <td>[[[190, 144, 126], [192, 145, 130], [194, 146,...</td>\n",
       "    </tr>\n",
       "    <tr>\n",
       "      <th>4</th>\n",
       "      <td>ISIC_0029068</td>\n",
       "      <td>Benign keratosis-like lesions</td>\n",
       "      <td>face</td>\n",
       "      <td>ham_data_surnamesIJKLM\\ISIC_0029068.jpg</td>\n",
       "      <td>[[[147, 103, 83], [153, 111, 91], [159, 119, 1...</td>\n",
       "    </tr>\n",
       "  </tbody>\n",
       "</table>\n",
       "</div>"
      ],
      "text/plain": [
       "       image_id                       cell_type localization  \\\n",
       "0  ISIC_0027419  Benign keratosis-like lesions         scalp   \n",
       "1  ISIC_0026769  Benign keratosis-like lesions         scalp   \n",
       "2  ISIC_0031633  Benign keratosis-like lesions           ear   \n",
       "3  ISIC_0029176  Benign keratosis-like lesions          face   \n",
       "4  ISIC_0029068  Benign keratosis-like lesions          face   \n",
       "\n",
       "                                      path  \\\n",
       "0  ham_data_surnamesIJKLM\\ISIC_0027419.jpg   \n",
       "1  ham_data_surnamesIJKLM\\ISIC_0026769.jpg   \n",
       "2  ham_data_surnamesIJKLM\\ISIC_0031633.jpg   \n",
       "3  ham_data_surnamesIJKLM\\ISIC_0029176.jpg   \n",
       "4  ham_data_surnamesIJKLM\\ISIC_0029068.jpg   \n",
       "\n",
       "                                               image  \n",
       "0  [[[189, 152, 194], [192, 156, 198], [191, 154,...  \n",
       "1  [[[186, 127, 135], [189, 133, 145], [192, 135,...  \n",
       "2  [[[131, 88, 110], [142, 97, 120], [152, 107, 1...  \n",
       "3  [[[190, 144, 126], [192, 145, 130], [194, 146,...  \n",
       "4  [[[147, 103, 83], [153, 111, 91], [159, 119, 1...  "
      ]
     },
     "execution_count": 51,
     "metadata": {},
     "output_type": "execute_result"
    }
   ],
   "source": [
    "features.head()"
   ]
  },
  {
   "cell_type": "code",
   "execution_count": 52,
   "metadata": {
    "execution": {
     "iopub.execute_input": "2021-08-24T10:20:54.043903Z",
     "iopub.status.busy": "2021-08-24T10:20:54.043626Z",
     "iopub.status.idle": "2021-08-24T10:20:55.668648Z",
     "shell.execute_reply": "2021-08-24T10:20:55.667887Z",
     "shell.execute_reply.started": "2021-08-24T10:20:54.043865Z"
    },
    "id": "XmPiDyPI-TZK",
    "outputId": "ee6751ec-dada-4eb4-8ca8-4f3a00d62c3d",
    "papermill": {
     "duration": 1.823381,
     "end_time": "2021-08-23T06:42:19.91679",
     "exception": false,
     "start_time": "2021-08-23T06:42:18.093409",
     "status": "completed"
    },
    "tags": []
   },
   "outputs": [
    {
     "data": {
      "text/plain": [
       "Unique(y=<tf.Tensor: shape=(7,), dtype=string, numpy=\n",
       "array([b'Melanocytic nevi', b'Basal cell carcinoma',\n",
       "       b'Benign keratosis-like lesions ', b'Melanoma',\n",
       "       b'Actinic keratoses', b'Dermatofibroma', b'Vascular lesions'],\n",
       "      dtype=object)>, idx=<tf.Tensor: shape=(3943,), dtype=int32, numpy=array([0, 0, 0, ..., 0, 0, 0])>)"
      ]
     },
     "execution_count": 52,
     "metadata": {},
     "output_type": "execute_result"
    }
   ],
   "source": [
    "x_train_o, x_test_o, y_train_o, y_test_o = train_test_split(features, target, test_size=0.25,random_state=666)\n",
    "tf.unique(x_train_o.cell_type.values)"
   ]
  },
  {
   "cell_type": "code",
   "execution_count": 53,
   "metadata": {
    "execution": {
     "iopub.execute_input": "2021-08-24T10:20:55.671682Z",
     "iopub.status.busy": "2021-08-24T10:20:55.671402Z",
     "iopub.status.idle": "2021-08-24T10:20:58.858753Z",
     "shell.execute_reply": "2021-08-24T10:20:58.857887Z",
     "shell.execute_reply.started": "2021-08-24T10:20:55.671654Z"
    },
    "id": "cZVF-tJI-e9C",
    "papermill": {
     "duration": 3.215086,
     "end_time": "2021-08-23T06:42:23.271028",
     "exception": false,
     "start_time": "2021-08-23T06:42:20.055942",
     "status": "completed"
    },
    "tags": []
   },
   "outputs": [],
   "source": [
    "x_train = np.asarray(x_train_o['image'].tolist())\n",
    "x_test = np.asarray(x_test_o['image'].tolist())\n",
    "\n",
    "x_train_mean = np.mean(x_train)\n",
    "x_train_std = np.std(x_train)\n",
    "\n",
    "x_test_mean = np.mean(x_test)\n",
    "x_test_std = np.std(x_test)\n",
    "\n",
    "x_train = (x_train - x_train_mean)/x_train_std\n",
    "x_test = (x_test - x_test_mean)/x_test_std"
   ]
  },
  {
   "cell_type": "code",
   "execution_count": 54,
   "metadata": {
    "execution": {
     "iopub.execute_input": "2021-08-24T10:20:58.865082Z",
     "iopub.status.busy": "2021-08-24T10:20:58.863047Z",
     "iopub.status.idle": "2021-08-24T10:20:58.875559Z",
     "shell.execute_reply": "2021-08-24T10:20:58.874758Z",
     "shell.execute_reply.started": "2021-08-24T10:20:58.865042Z"
    },
    "id": "JrgjOuBS-jZk",
    "outputId": "0ab5ac69-4748-482d-de21-afd63c1d8bb1",
    "papermill": {
     "duration": 0.142564,
     "end_time": "2021-08-23T06:42:23.545944",
     "exception": false,
     "start_time": "2021-08-23T06:42:23.40338",
     "status": "completed"
    },
    "tags": []
   },
   "outputs": [
    {
     "data": {
      "text/plain": [
       "array([[0., 1., 0., ..., 0., 0., 0.],\n",
       "       [0., 1., 0., ..., 0., 0., 0.],\n",
       "       [0., 1., 0., ..., 0., 0., 0.],\n",
       "       ...,\n",
       "       [0., 1., 0., ..., 0., 0., 0.],\n",
       "       [0., 1., 0., ..., 0., 0., 0.],\n",
       "       [0., 1., 0., ..., 0., 0., 0.]], dtype=float32)"
      ]
     },
     "execution_count": 54,
     "metadata": {},
     "output_type": "execute_result"
    }
   ],
   "source": [
    "# Perform one-hot encoding on the labels\n",
    "y_train = to_categorical(y_train_o, num_classes = 7)\n",
    "y_test = to_categorical(y_test_o, num_classes = 7)\n",
    "y_test"
   ]
  },
  {
   "cell_type": "code",
   "execution_count": 55,
   "metadata": {
    "execution": {
     "iopub.execute_input": "2021-08-24T10:20:58.881132Z",
     "iopub.status.busy": "2021-08-24T10:20:58.879192Z",
     "iopub.status.idle": "2021-08-24T10:20:59.541419Z",
     "shell.execute_reply": "2021-08-24T10:20:59.540544Z",
     "shell.execute_reply.started": "2021-08-24T10:20:58.881097Z"
    },
    "id": "o196dkn4_U54",
    "papermill": {
     "duration": 0.792528,
     "end_time": "2021-08-23T06:42:24.469599",
     "exception": false,
     "start_time": "2021-08-23T06:42:23.677071",
     "status": "completed"
    },
    "tags": []
   },
   "outputs": [],
   "source": [
    "x_train, x_validate, y_train, y_validate = train_test_split(x_train, y_train, test_size = 0.1, random_state = 999)\n",
    "# Reshape image in 3 dimensions (height = 100, width = 125 , canal = 3)\n",
    "x_train = x_train.reshape(x_train.shape[0], *(100, 125, 3))\n",
    "x_test = x_test.reshape(x_test.shape[0], *(100, 125, 3))\n",
    "x_validate = x_validate.reshape(x_validate.shape[0], *(100, 125, 3))"
   ]
  },
  {
   "cell_type": "code",
   "execution_count": 57,
   "metadata": {
    "execution": {
     "iopub.execute_input": "2021-08-24T10:20:59.544355Z",
     "iopub.status.busy": "2021-08-24T10:20:59.543756Z",
     "iopub.status.idle": "2021-08-24T10:20:59.550594Z",
     "shell.execute_reply": "2021-08-24T10:20:59.549551Z",
     "shell.execute_reply.started": "2021-08-24T10:20:59.544315Z"
    },
    "id": "zsB2tAeCmHo1",
    "outputId": "2a5d0d95-386c-4cb4-e9f3-18f1e2002294",
    "papermill": {
     "duration": 0.216945,
     "end_time": "2021-08-23T06:42:24.839969",
     "exception": false,
     "start_time": "2021-08-23T06:42:24.623024",
     "status": "completed"
    },
    "tags": []
   },
   "outputs": [
    {
     "name": "stdout",
     "output_type": "stream",
     "text": [
      "(3548, 37500)\n",
      "(1315, 37500)\n"
     ]
    }
   ],
   "source": [
    "x_train = x_train.reshape(3548,125*100*3)\n",
    "x_test = x_test.reshape(1315,125*100*3)\n",
    "print(x_train.shape)\n",
    "print(x_test.shape)"
   ]
  },
  {
   "cell_type": "code",
   "execution_count": 58,
   "metadata": {
    "execution": {
     "iopub.execute_input": "2021-08-24T10:20:59.552543Z",
     "iopub.status.busy": "2021-08-24T10:20:59.552127Z",
     "iopub.status.idle": "2021-08-24T10:22:40.790142Z",
     "shell.execute_reply": "2021-08-24T10:22:40.789307Z",
     "shell.execute_reply.started": "2021-08-24T10:20:59.552509Z"
    },
    "id": "WX9-KBdCwOco",
    "outputId": "b81bf273-f375-4c11-98c6-cc83e300fd93",
    "papermill": {
     "duration": 101.931346,
     "end_time": "2021-08-23T06:44:06.978893",
     "exception": false,
     "start_time": "2021-08-23T06:42:25.047547",
     "status": "completed"
    },
    "tags": []
   },
   "outputs": [
    {
     "name": "stdout",
     "output_type": "stream",
     "text": [
      "Epoch 1/50\n",
      "355/355 [==============================] - 8s 18ms/step - loss: 0.5011 - accuracy: 0.8047\n",
      "Epoch 2/50\n",
      "355/355 [==============================] - 8s 21ms/step - loss: 0.4329 - accuracy: 0.8075\n",
      "Epoch 3/50\n",
      "355/355 [==============================] - 8s 22ms/step - loss: 0.4060 - accuracy: 0.8120 4s - loss: 0.3981 - accuracy: 0.81 - ETA: 4s - loss: 0.3\n",
      "Epoch 4/50\n",
      "355/355 [==============================] - 9s 25ms/step - loss: 0.3898 - accuracy: 0.8247\n",
      "Epoch 5/50\n",
      "355/355 [==============================] - 9s 24ms/step - loss: 0.3829 - accuracy: 0.8269\n",
      "Epoch 6/50\n",
      "355/355 [==============================] - 9s 25ms/step - loss: 0.3559 - accuracy: 0.8391\n",
      "Epoch 7/50\n",
      "355/355 [==============================] - 7s 20ms/step - loss: 0.3482 - accuracy: 0.8464\n",
      "Epoch 8/50\n",
      "355/355 [==============================] - 9s 24ms/step - loss: 0.3309 - accuracy: 0.8591\n",
      "Epoch 9/50\n",
      "355/355 [==============================] - 9s 25ms/step - loss: 0.3120 - accuracy: 0.8630\n",
      "Epoch 10/50\n",
      "355/355 [==============================] - 9s 24ms/step - loss: 0.3024 - accuracy: 0.8701\n",
      "Epoch 11/50\n",
      "355/355 [==============================] - 9s 25ms/step - loss: 0.2753 - accuracy: 0.8842\n",
      "Epoch 12/50\n",
      "355/355 [==============================] - 8s 22ms/step - loss: 0.2632 - accuracy: 0.8943\n",
      "Epoch 13/50\n",
      "355/355 [==============================] - 6s 17ms/step - loss: 0.2401 - accuracy: 0.9042\n",
      "Epoch 14/50\n",
      "355/355 [==============================] - 6s 17ms/step - loss: 0.2369 - accuracy: 0.9030\n",
      "Epoch 15/50\n",
      "355/355 [==============================] - 6s 17ms/step - loss: 0.2137 - accuracy: 0.9169\n",
      "Epoch 16/50\n",
      "355/355 [==============================] - 7s 20ms/step - loss: 0.2193 - accuracy: 0.9101\n",
      "Epoch 17/50\n",
      "355/355 [==============================] - 6s 18ms/step - loss: 0.1817 - accuracy: 0.9304\n",
      "Epoch 18/50\n",
      "355/355 [==============================] - 6s 17ms/step - loss: 0.1892 - accuracy: 0.9278\n",
      "Epoch 19/50\n",
      "355/355 [==============================] - 6s 18ms/step - loss: 0.1669 - accuracy: 0.9346\n",
      "Epoch 20/50\n",
      "355/355 [==============================] - 7s 20ms/step - loss: 0.1586 - accuracy: 0.9360\n",
      "Epoch 21/50\n",
      "355/355 [==============================] - 6s 16ms/step - loss: 0.1533 - accuracy: 0.9394\n",
      "Epoch 22/50\n",
      "355/355 [==============================] - 6s 18ms/step - loss: 0.1379 - accuracy: 0.9490\n",
      "Epoch 23/50\n",
      "355/355 [==============================] - 6s 17ms/step - loss: 0.1384 - accuracy: 0.9467\n",
      "Epoch 24/50\n",
      "355/355 [==============================] - 6s 17ms/step - loss: 0.1369 - accuracy: 0.9467\n",
      "Epoch 25/50\n",
      "355/355 [==============================] - 6s 17ms/step - loss: 0.1268 - accuracy: 0.9512\n",
      "Epoch 26/50\n",
      "355/355 [==============================] - 6s 16ms/step - loss: 0.1239 - accuracy: 0.9498\n",
      "Epoch 27/50\n",
      "355/355 [==============================] - 6s 17ms/step - loss: 0.1092 - accuracy: 0.9583\n",
      "Epoch 28/50\n",
      "355/355 [==============================] - 6s 16ms/step - loss: 0.1105 - accuracy: 0.9583\n",
      "Epoch 29/50\n",
      "355/355 [==============================] - 6s 17ms/step - loss: 0.0962 - accuracy: 0.9636\n",
      "Epoch 30/50\n",
      "355/355 [==============================] - 6s 17ms/step - loss: 0.0931 - accuracy: 0.9673\n",
      "Epoch 31/50\n",
      "355/355 [==============================] - 6s 18ms/step - loss: 0.0999 - accuracy: 0.9636\n",
      "Epoch 32/50\n",
      "355/355 [==============================] - 7s 18ms/step - loss: 0.0807 - accuracy: 0.9710\n",
      "Epoch 33/50\n",
      "355/355 [==============================] - 6s 17ms/step - loss: 0.0750 - accuracy: 0.9690\n",
      "Epoch 34/50\n",
      "355/355 [==============================] - 6s 17ms/step - loss: 0.0884 - accuracy: 0.9676\n",
      "Epoch 35/50\n",
      "355/355 [==============================] - 6s 17ms/step - loss: 0.0882 - accuracy: 0.9713\n",
      "Epoch 36/50\n",
      "355/355 [==============================] - 6s 16ms/step - loss: 0.0648 - accuracy: 0.9741\n",
      "Epoch 37/50\n",
      "355/355 [==============================] - 6s 16ms/step - loss: 0.0952 - accuracy: 0.9696\n",
      "Epoch 38/50\n",
      "355/355 [==============================] - 6s 16ms/step - loss: 0.0634 - accuracy: 0.9766\n",
      "Epoch 39/50\n",
      "355/355 [==============================] - 5s 15ms/step - loss: 0.0766 - accuracy: 0.9732\n",
      "Epoch 40/50\n",
      "355/355 [==============================] - 5s 15ms/step - loss: 0.0669 - accuracy: 0.9760\n",
      "Epoch 41/50\n",
      "355/355 [==============================] - 6s 16ms/step - loss: 0.0727 - accuracy: 0.9797\n",
      "Epoch 42/50\n",
      "355/355 [==============================] - 5s 14ms/step - loss: 0.0797 - accuracy: 0.9760\n",
      "Epoch 43/50\n",
      "355/355 [==============================] - 6s 16ms/step - loss: 0.0624 - accuracy: 0.9820\n",
      "Epoch 44/50\n",
      "355/355 [==============================] - 6s 16ms/step - loss: 0.0586 - accuracy: 0.9794\n",
      "Epoch 45/50\n",
      "355/355 [==============================] - 6s 16ms/step - loss: 0.0720 - accuracy: 0.9752\n",
      "Epoch 46/50\n",
      "355/355 [==============================] - 6s 16ms/step - loss: 0.0561 - accuracy: 0.9825\n",
      "Epoch 47/50\n",
      "355/355 [==============================] - 6s 16ms/step - loss: 0.0596 - accuracy: 0.9763\n",
      "Epoch 48/50\n",
      "355/355 [==============================] - 6s 16ms/step - loss: 0.0568 - accuracy: 0.9822\n",
      "Epoch 49/50\n",
      "355/355 [==============================] - 6s 16ms/step - loss: 0.0632 - accuracy: 0.9780 0s - loss: 0.0\n",
      "Epoch 50/50\n",
      "355/355 [==============================] - 6s 16ms/step - loss: 0.0777 - accuracy: 0.9735\n",
      "42/42 [==============================] - 1s 7ms/step - loss: 1.2581 - accuracy: 0.8205\n",
      "Test: accuracy =  82.05323219299316 %\n"
     ]
    }
   ],
   "source": [
    "# define the keras model\n",
    "model = Sequential()\n",
    "\n",
    "model.add(Dense(units= 64, kernel_initializer = 'uniform', activation = 'relu', input_dim = 37500))\n",
    "model.add(Dense(units= 64, kernel_initializer = 'uniform', activation = 'relu'))\n",
    "model.add(Dense(units= 64, kernel_initializer = 'uniform', activation = 'relu'))\n",
    "model.add(Dense(units= 64, kernel_initializer = 'uniform', activation = 'relu'))\n",
    "model.add(Dense(units = 7, kernel_initializer = 'uniform', activation = 'softmax'))\n",
    "\n",
    "optimizer = tf.keras.optimizers.Adam(learning_rate = 0.00075,\n",
    "                                    beta_1 = 0.9,\n",
    "                                    beta_2 = 0.999,\n",
    "                                    epsilon = 1e-8)\n",
    "\n",
    "# compile the keras model\n",
    "model.compile(optimizer = optimizer, loss = 'categorical_crossentropy', metrics = ['accuracy'])\n",
    "\n",
    "# fit the keras model on the dataset\n",
    "history = model.fit(x_train, y_train, batch_size = 10, epochs = 50)\n",
    "\n",
    "accuracy = model.evaluate(x_test, y_test, verbose=1)[1]\n",
    "print(\"Test: accuracy = \",accuracy*100,\"%\")"
   ]
  },
  {
   "cell_type": "code",
   "execution_count": 59,
   "metadata": {
    "execution": {
     "iopub.execute_input": "2021-08-24T10:22:40.794250Z",
     "iopub.status.busy": "2021-08-24T10:22:40.794000Z",
     "iopub.status.idle": "2021-08-24T10:22:41.272765Z",
     "shell.execute_reply": "2021-08-24T10:22:41.271654Z",
     "shell.execute_reply.started": "2021-08-24T10:22:40.794225Z"
    },
    "id": "I2qWO2t1jmy0",
    "outputId": "27a84f9a-a0d7-4ef4-af3e-365372c52a8d",
    "papermill": {
     "duration": 1.116015,
     "end_time": "2021-08-23T06:44:08.738132",
     "exception": false,
     "start_time": "2021-08-23T06:44:07.622117",
     "status": "completed"
    },
    "tags": []
   },
   "outputs": [
    {
     "data": {
      "image/png": "[encoded data removed]",
      "text/plain": [
       "<IPython.core.display.Image object>"
      ]
     },
     "execution_count": 59,
     "metadata": {},
     "output_type": "execute_result"
    }
   ],
   "source": [
    "from keras.utils.vis_utils import plot_model\n",
    "from tensorflow.keras.utils import plot_model\n",
    "plot_model(model, to_file='model_plot.png', show_shapes=True, show_layer_names=True)"
   ]
  },
  {
   "cell_type": "markdown",
   "metadata": {
    "id": "2BTJPIatwOco",
    "papermill": {
     "duration": 0.644155,
     "end_time": "2021-08-23T06:44:10.03294",
     "exception": false,
     "start_time": "2021-08-23T06:44:09.388785",
     "status": "completed"
    },
    "tags": []
   },
   "source": [
    "## **CNN**\n",
    "\n",
    "CNN is ideal for image classification. It is better since CNN has features parameter sharing and dimensionality reduction. Because of parameter sharing in CNN, the number of parameters is reduced thus the computations get decreased.\n",
    "\n",
    "\n",
    "### Applied Data augmentation using ImageDatagenerator before model training\n",
    "\n",
    "Since the data is less, we apply data augmentation using ImageDataGenerator.\n",
    "\n",
    "ImageDataGenerator generates augmentation of images in real-time while the model is still training. One can apply any random transformations on each training image as it is passed to the model.\n",
    "\n",
    "#### The CNN model is a repeated network of the following layers:\n",
    "\n",
    "1. Convolutional\n",
    "1. Pooling\n",
    "1. Dropout\n",
    "1. Flatten\n",
    "1. Dense\n",
    "\n",
    "Optimizer: Adam\n",
    "\n",
    "Activation function used: Softmax\n",
    "\n"
   ]
  },
  {
   "cell_type": "code",
   "execution_count": 60,
   "metadata": {
    "execution": {
     "iopub.execute_input": "2021-08-24T10:22:41.274904Z",
     "iopub.status.busy": "2021-08-24T10:22:41.274493Z",
     "iopub.status.idle": "2021-08-24T10:22:41.280430Z",
     "shell.execute_reply": "2021-08-24T10:22:41.279499Z",
     "shell.execute_reply.started": "2021-08-24T10:22:41.274830Z"
    },
    "id": "x6nDPT_bFWo-",
    "papermill": {
     "duration": 0.651805,
     "end_time": "2021-08-23T06:44:11.329726",
     "exception": false,
     "start_time": "2021-08-23T06:44:10.677921",
     "status": "completed"
    },
    "tags": []
   },
   "outputs": [],
   "source": [
    "from tensorflow.keras.layers import Flatten,Dense,Dropout,BatchNormalization,Conv2D, MaxPool2D\n",
    "from tensorflow.keras.optimizers import Adam\n",
    "from keras.callbacks import ReduceLROnPlateau\n",
    "from tensorflow.keras.preprocessing.image import ImageDataGenerator"
   ]
  },
  {
   "cell_type": "code",
   "execution_count": 61,
   "metadata": {
    "execution": {
     "iopub.execute_input": "2021-08-24T10:22:41.282763Z",
     "iopub.status.busy": "2021-08-24T10:22:41.282402Z",
     "iopub.status.idle": "2021-08-24T10:22:41.410643Z",
     "shell.execute_reply": "2021-08-24T10:22:41.409888Z",
     "shell.execute_reply.started": "2021-08-24T10:22:41.282728Z"
    },
    "id": "SW-PXIg_FRjV",
    "outputId": "68e2c8ba-2b2e-4e77-a686-20febbfa1a28",
    "papermill": {
     "duration": 0.768472,
     "end_time": "2021-08-23T06:44:12.772003",
     "exception": false,
     "start_time": "2021-08-23T06:44:12.003531",
     "status": "completed"
    },
    "tags": []
   },
   "outputs": [
    {
     "name": "stdout",
     "output_type": "stream",
     "text": [
      "Model: \"sequential_1\"\n",
      "_________________________________________________________________\n",
      " Layer (type)                Output Shape              Param #   \n",
      "=================================================================\n",
      " conv2d (Conv2D)             (None, 100, 125, 32)      896       \n",
      "                                                                 \n",
      " conv2d_1 (Conv2D)           (None, 100, 125, 32)      9248      \n",
      "                                                                 \n",
      " max_pooling2d (MaxPooling2D  (None, 50, 62, 32)       0         \n",
      " )                                                               \n",
      "                                                                 \n",
      " dropout (Dropout)           (None, 50, 62, 32)        0         \n",
      "                                                                 \n",
      " conv2d_2 (Conv2D)           (None, 50, 62, 32)        9248      \n",
      "                                                                 \n",
      " conv2d_3 (Conv2D)           (None, 50, 62, 32)        9248      \n",
      "                                                                 \n",
      " max_pooling2d_1 (MaxPooling  (None, 25, 31, 32)       0         \n",
      " 2D)                                                             \n",
      "                                                                 \n",
      " dropout_1 (Dropout)         (None, 25, 31, 32)        0         \n",
      "                                                                 \n",
      " conv2d_4 (Conv2D)           (None, 25, 31, 64)        18496     \n",
      "                                                                 \n",
      " conv2d_5 (Conv2D)           (None, 25, 31, 64)        36928     \n",
      "                                                                 \n",
      " max_pooling2d_2 (MaxPooling  (None, 12, 15, 64)       0         \n",
      " 2D)                                                             \n",
      "                                                                 \n",
      " dropout_2 (Dropout)         (None, 12, 15, 64)        0         \n",
      "                                                                 \n",
      " flatten (Flatten)           (None, 11520)             0         \n",
      "                                                                 \n",
      " dense_5 (Dense)             (None, 256)               2949376   \n",
      "                                                                 \n",
      " dense_6 (Dense)             (None, 128)               32896     \n",
      "                                                                 \n",
      " dropout_3 (Dropout)         (None, 128)               0         \n",
      "                                                                 \n",
      " dense_7 (Dense)             (None, 7)                 903       \n",
      "                                                                 \n",
      "=================================================================\n",
      "Total params: 3,067,239\n",
      "Trainable params: 3,067,239\n",
      "Non-trainable params: 0\n",
      "_________________________________________________________________\n"
     ]
    }
   ],
   "source": [
    "# Set the CNN model \n",
    "# my CNN architechture is In -> [[Conv2D->relu]*2 -> MaxPool2D -> Dropout]*3 -> Flatten -> Dense*2 -> Dropout -> Out\n",
    "input_shape = (100, 125, 3)\n",
    "num_classes = 7\n",
    "\n",
    "model = Sequential()\n",
    "model.add(Conv2D(32, kernel_size=(3, 3),activation='relu',padding = 'Same',input_shape=input_shape))\n",
    "model.add(Conv2D(32,kernel_size=(3, 3), activation='relu',padding = 'Same',))\n",
    "model.add(MaxPool2D(pool_size = (2, 2)))\n",
    "model.add(Dropout(0.16))\n",
    "\n",
    "model.add(Conv2D(32, kernel_size=(3, 3),activation='relu',padding = 'Same'))\n",
    "model.add(Conv2D(32,kernel_size=(3, 3), activation='relu',padding = 'Same',))\n",
    "model.add(MaxPool2D(pool_size = (2, 2)))\n",
    "model.add(Dropout(0.20))\n",
    "\n",
    "model.add(Conv2D(64, (3, 3), activation='relu',padding = 'same'))\n",
    "model.add(Conv2D(64, (3, 3), activation='relu',padding = 'Same'))\n",
    "model.add(MaxPool2D(pool_size=(2, 2)))\n",
    "model.add(Dropout(0.25))\n",
    "\n",
    "model.add(Flatten())\n",
    "model.add(Dense(256, activation='relu'))\n",
    "model.add(Dense(128, activation='relu'))\n",
    "model.add(Dropout(0.4))\n",
    "model.add(Dense(num_classes, activation='softmax'))\n",
    "model.summary()"
   ]
  },
  {
   "cell_type": "code",
   "execution_count": 62,
   "metadata": {
    "execution": {
     "iopub.execute_input": "2021-08-24T10:22:41.412376Z",
     "iopub.status.busy": "2021-08-24T10:22:41.412031Z",
     "iopub.status.idle": "2021-08-24T10:22:41.419905Z",
     "shell.execute_reply": "2021-08-24T10:22:41.418825Z",
     "shell.execute_reply.started": "2021-08-24T10:22:41.412341Z"
    },
    "id": "oM578m_ZFbf-",
    "papermill": {
     "duration": 0.65174,
     "end_time": "2021-08-23T06:44:14.067956",
     "exception": false,
     "start_time": "2021-08-23T06:44:13.416216",
     "status": "completed"
    },
    "tags": []
   },
   "outputs": [
    {
     "name": "stderr",
     "output_type": "stream",
     "text": [
      "C:\\Users\\wajah\\anaconda3\\lib\\site-packages\\keras\\optimizer_v2\\adam.py:105: UserWarning: The `lr` argument is deprecated, use `learning_rate` instead.\n",
      "  super(Adam, self).__init__(name, **kwargs)\n"
     ]
    }
   ],
   "source": [
    "# Define the optimizer\n",
    "optimizer = Adam(lr=0.0001, beta_1=0.9, beta_2=0.999, epsilon=None, decay=0.0, amsgrad=False)"
   ]
  },
  {
   "cell_type": "code",
   "execution_count": 63,
   "metadata": {
    "execution": {
     "iopub.execute_input": "2021-08-24T10:22:41.421832Z",
     "iopub.status.busy": "2021-08-24T10:22:41.421487Z",
     "iopub.status.idle": "2021-08-24T10:22:41.436440Z",
     "shell.execute_reply": "2021-08-24T10:22:41.435562Z",
     "shell.execute_reply.started": "2021-08-24T10:22:41.421797Z"
    },
    "id": "yehNyr-1Fdlm",
    "papermill": {
     "duration": 0.661861,
     "end_time": "2021-08-23T06:44:15.373773",
     "exception": false,
     "start_time": "2021-08-23T06:44:14.711912",
     "status": "completed"
    },
    "tags": []
   },
   "outputs": [],
   "source": [
    "# Compile the model\n",
    "model.compile(optimizer = optimizer , loss = \"categorical_crossentropy\", metrics=[\"accuracy\"])"
   ]
  },
  {
   "cell_type": "code",
   "execution_count": 64,
   "metadata": {
    "execution": {
     "iopub.execute_input": "2021-08-24T10:22:41.438154Z",
     "iopub.status.busy": "2021-08-24T10:22:41.437770Z",
     "iopub.status.idle": "2021-08-24T10:22:41.443338Z",
     "shell.execute_reply": "2021-08-24T10:22:41.442245Z",
     "shell.execute_reply.started": "2021-08-24T10:22:41.438119Z"
    },
    "id": "xnuSKyZPFozq",
    "papermill": {
     "duration": 0.86608,
     "end_time": "2021-08-23T06:44:16.882067",
     "exception": false,
     "start_time": "2021-08-23T06:44:16.015987",
     "status": "completed"
    },
    "tags": []
   },
   "outputs": [],
   "source": [
    "# Set a learning rate annealer\n",
    "learning_rate_reduction = ReduceLROnPlateau(monitor='val_accuracy', \n",
    "                                            patience=4, \n",
    "                                            verbose=1, \n",
    "                                            factor=0.5, \n",
    "                                            min_lr=0.00001)"
   ]
  },
  {
   "cell_type": "code",
   "execution_count": 65,
   "metadata": {
    "execution": {
     "iopub.execute_input": "2021-08-24T10:22:41.445332Z",
     "iopub.status.busy": "2021-08-24T10:22:41.444958Z",
     "iopub.status.idle": "2021-08-24T10:22:42.689849Z",
     "shell.execute_reply": "2021-08-24T10:22:42.688970Z",
     "shell.execute_reply.started": "2021-08-24T10:22:41.445294Z"
    },
    "id": "vVxqC1ddF3Hl",
    "papermill": {
     "duration": 1.978454,
     "end_time": "2021-08-23T06:44:19.521959",
     "exception": false,
     "start_time": "2021-08-23T06:44:17.543505",
     "status": "completed"
    },
    "tags": []
   },
   "outputs": [],
   "source": [
    "x_train, x_validate, y_train, y_validate = train_test_split(x_train, y_train, test_size = 0.1, random_state = 999)\n",
    "# Reshape image in 3 dimensions (height = 100, width = 125 , canal = 3)\n",
    "x_train = x_train.reshape(x_train.shape[0], *(100, 125, 3))\n",
    "x_test = x_test.reshape(x_test.shape[0], *(100, 125, 3))\n",
    "x_validate = x_validate.reshape(x_validate.shape[0], *(100, 125, 3))\n",
    "# With data augmentation to prevent overfitting \n",
    "\n",
    "datagen = ImageDataGenerator(\n",
    "        featurewise_center=False,  # set input mean to 0 over the dataset\n",
    "        samplewise_center=False,  # set each sample mean to 0\n",
    "        featurewise_std_normalization=False,  # divide inputs by std of the dataset\n",
    "        samplewise_std_normalization=False,  # divide each input by its std\n",
    "        zca_whitening=False,  # apply ZCA whitening\n",
    "        rotation_range=10,  # randomly rotate images in the range (degrees, 0 to 180)\n",
    "        zoom_range = 0.1, # Randomly zoom image \n",
    "        width_shift_range=0.12,  # randomly shift images horizontally (fraction of total width)\n",
    "        height_shift_range=0.12,  # randomly shift images vertically (fraction of total height)\n",
    "        horizontal_flip=True,  # randomly flip images\n",
    "        vertical_flip=True)  # randomly flip images\n",
    "\n",
    "datagen.fit(x_train)"
   ]
  },
  {
   "cell_type": "code",
   "execution_count": 66,
   "metadata": {
    "execution": {
     "iopub.execute_input": "2021-08-24T10:22:42.691425Z",
     "iopub.status.busy": "2021-08-24T10:22:42.691082Z",
     "iopub.status.idle": "2021-08-24T10:43:02.983677Z",
     "shell.execute_reply": "2021-08-24T10:43:02.982220Z",
     "shell.execute_reply.started": "2021-08-24T10:22:42.691389Z"
    },
    "id": "CUSPQhEXwOco",
    "outputId": "9d79002c-d41f-497e-8e3b-dbd4e38753b5",
    "papermill": {
     "duration": 1126.122839,
     "end_time": "2021-08-23T07:03:06.289599",
     "exception": false,
     "start_time": "2021-08-23T06:44:20.16676",
     "status": "completed"
    },
    "tags": []
   },
   "outputs": [
    {
     "name": "stderr",
     "output_type": "stream",
     "text": [
      "C:\\Users\\wajah\\AppData\\Local\\Temp/ipykernel_7072/87963123.py:4: UserWarning: `Model.fit_generator` is deprecated and will be removed in a future version. Please use `Model.fit`, which supports generators.\n",
      "  history = model.fit_generator(datagen.flow(x_train,y_train, batch_size=batch_size),\n"
     ]
    },
    {
     "name": "stdout",
     "output_type": "stream",
     "text": [
      "Epoch 1/60\n",
      "199/199 [==============================] - 126s 629ms/step - loss: 0.5866 - accuracy: 0.7919 - val_loss: 0.5652 - val_accuracy: 0.8113 - lr: 1.0000e-04\n",
      "Epoch 2/60\n",
      "199/199 [==============================] - 113s 568ms/step - loss: 0.5008 - accuracy: 0.8023 - val_loss: 0.4964 - val_accuracy: 0.8113 - lr: 1.0000e-04\n",
      "Epoch 3/60\n",
      "199/199 [==============================] - 113s 570ms/step - loss: 0.4727 - accuracy: 0.8017 - val_loss: 0.5108 - val_accuracy: 0.8113 - lr: 1.0000e-04\n",
      "Epoch 4/60\n",
      "199/199 [==============================] - 113s 569ms/step - loss: 0.4502 - accuracy: 0.8011 - val_loss: 0.4127 - val_accuracy: 0.8113 - lr: 1.0000e-04\n",
      "Epoch 5/60\n",
      "199/199 [==============================] - ETA: 0s - loss: 0.4285 - accuracy: 0.8061\n",
      "Epoch 00005: ReduceLROnPlateau reducing learning rate to 4.999999873689376e-05.\n",
      "199/199 [==============================] - 112s 565ms/step - loss: 0.4285 - accuracy: 0.8061 - val_loss: 0.4019 - val_accuracy: 0.8113 - lr: 1.0000e-04\n",
      "Epoch 6/60\n",
      "199/199 [==============================] - 113s 567ms/step - loss: 0.4099 - accuracy: 0.8067 - val_loss: 0.3872 - val_accuracy: 0.8085 - lr: 5.0000e-05\n",
      "Epoch 7/60\n",
      "199/199 [==============================] - 113s 569ms/step - loss: 0.4052 - accuracy: 0.8001 - val_loss: 0.3824 - val_accuracy: 0.8197 - lr: 5.0000e-05\n",
      "Epoch 8/60\n",
      "199/199 [==============================] - 113s 568ms/step - loss: 0.4018 - accuracy: 0.8111 - val_loss: 0.3852 - val_accuracy: 0.8085 - lr: 5.0000e-05\n",
      "Epoch 9/60\n",
      "199/199 [==============================] - 113s 568ms/step - loss: 0.3900 - accuracy: 0.8061 - val_loss: 0.3776 - val_accuracy: 0.8197 - lr: 5.0000e-05\n",
      "Epoch 10/60\n",
      "199/199 [==============================] - 113s 567ms/step - loss: 0.3901 - accuracy: 0.8048 - val_loss: 0.3829 - val_accuracy: 0.8085 - lr: 5.0000e-05\n",
      "Epoch 11/60\n",
      "199/199 [==============================] - ETA: 0s - loss: 0.3885 - accuracy: 0.8149\n",
      "Epoch 00011: ReduceLROnPlateau reducing learning rate to 2.499999936844688e-05.\n",
      "199/199 [==============================] - 113s 569ms/step - loss: 0.3885 - accuracy: 0.8149 - val_loss: 0.3723 - val_accuracy: 0.8169 - lr: 5.0000e-05\n",
      "Epoch 12/60\n",
      "199/199 [==============================] - 112s 564ms/step - loss: 0.3902 - accuracy: 0.8130 - val_loss: 0.3709 - val_accuracy: 0.8225 - lr: 2.5000e-05\n",
      "Epoch 13/60\n",
      "199/199 [==============================] - 112s 564ms/step - loss: 0.3796 - accuracy: 0.8118 - val_loss: 0.3708 - val_accuracy: 0.8169 - lr: 2.5000e-05\n",
      "Epoch 14/60\n",
      "199/199 [==============================] - 112s 564ms/step - loss: 0.3820 - accuracy: 0.8137 - val_loss: 0.3743 - val_accuracy: 0.8141 - lr: 2.5000e-05\n",
      "Epoch 15/60\n",
      "199/199 [==============================] - 112s 564ms/step - loss: 0.3781 - accuracy: 0.8171 - val_loss: 0.3644 - val_accuracy: 0.8366 - lr: 2.5000e-05\n",
      "Epoch 16/60\n",
      "199/199 [==============================] - 112s 561ms/step - loss: 0.3768 - accuracy: 0.8174 - val_loss: 0.3711 - val_accuracy: 0.8141 - lr: 2.5000e-05\n",
      "Epoch 17/60\n",
      "199/199 [==============================] - 112s 562ms/step - loss: 0.3777 - accuracy: 0.8174 - val_loss: 0.3614 - val_accuracy: 0.8338 - lr: 2.5000e-05\n",
      "Epoch 18/60\n",
      "199/199 [==============================] - 112s 565ms/step - loss: 0.3723 - accuracy: 0.8196 - val_loss: 0.3674 - val_accuracy: 0.8310 - lr: 2.5000e-05\n",
      "Epoch 19/60\n",
      "199/199 [==============================] - ETA: 0s - loss: 0.3727 - accuracy: 0.8149\n",
      "Epoch 00019: ReduceLROnPlateau reducing learning rate to 1.249999968422344e-05.\n",
      "199/199 [==============================] - 112s 565ms/step - loss: 0.3727 - accuracy: 0.8149 - val_loss: 0.3679 - val_accuracy: 0.8338 - lr: 2.5000e-05\n",
      "Epoch 20/60\n",
      "199/199 [==============================] - 112s 563ms/step - loss: 0.3721 - accuracy: 0.8155 - val_loss: 0.3587 - val_accuracy: 0.8394 - lr: 1.2500e-05\n",
      "Epoch 21/60\n",
      "199/199 [==============================] - 112s 562ms/step - loss: 0.3659 - accuracy: 0.8140 - val_loss: 0.3718 - val_accuracy: 0.8310 - lr: 1.2500e-05\n",
      "Epoch 22/60\n",
      "199/199 [==============================] - 112s 562ms/step - loss: 0.3657 - accuracy: 0.8171 - val_loss: 0.3630 - val_accuracy: 0.8310 - lr: 1.2500e-05\n",
      "Epoch 23/60\n",
      "199/199 [==============================] - 120s 604ms/step - loss: 0.3673 - accuracy: 0.8162 - val_loss: 0.3622 - val_accuracy: 0.8310 - lr: 1.2500e-05\n",
      "Epoch 24/60\n",
      "199/199 [==============================] - ETA: 0s - loss: 0.3641 - accuracy: 0.8209\n",
      "Epoch 00024: ReduceLROnPlateau reducing learning rate to 1e-05.\n",
      "199/199 [==============================] - 113s 565ms/step - loss: 0.3641 - accuracy: 0.8209 - val_loss: 0.3600 - val_accuracy: 0.8394 - lr: 1.2500e-05\n",
      "Epoch 25/60\n",
      "199/199 [==============================] - 112s 561ms/step - loss: 0.3598 - accuracy: 0.8294 - val_loss: 0.3596 - val_accuracy: 0.8366 - lr: 1.0000e-05\n",
      "Epoch 26/60\n",
      "199/199 [==============================] - 112s 563ms/step - loss: 0.3692 - accuracy: 0.8196 - val_loss: 0.3582 - val_accuracy: 0.8394 - lr: 1.0000e-05\n",
      "Epoch 27/60\n",
      "199/199 [==============================] - 113s 565ms/step - loss: 0.3622 - accuracy: 0.8234 - val_loss: 0.3592 - val_accuracy: 0.8394 - lr: 1.0000e-05\n",
      "Epoch 28/60\n",
      "199/199 [==============================] - 112s 563ms/step - loss: 0.3641 - accuracy: 0.8137 - val_loss: 0.3592 - val_accuracy: 0.8423 - lr: 1.0000e-05\n",
      "Epoch 29/60\n",
      "199/199 [==============================] - 113s 565ms/step - loss: 0.3622 - accuracy: 0.8234 - val_loss: 0.3700 - val_accuracy: 0.8338 - lr: 1.0000e-05\n",
      "Epoch 30/60\n",
      "199/199 [==============================] - 112s 562ms/step - loss: 0.3617 - accuracy: 0.8209 - val_loss: 0.3536 - val_accuracy: 0.8366 - lr: 1.0000e-05\n",
      "Epoch 31/60\n",
      "199/199 [==============================] - 112s 564ms/step - loss: 0.3593 - accuracy: 0.8181 - val_loss: 0.3534 - val_accuracy: 0.8366 - lr: 1.0000e-05\n",
      "Epoch 32/60\n",
      "199/199 [==============================] - 112s 561ms/step - loss: 0.3559 - accuracy: 0.8228 - val_loss: 0.3563 - val_accuracy: 0.8338 - lr: 1.0000e-05\n",
      "Epoch 33/60\n",
      "199/199 [==============================] - 115s 578ms/step - loss: 0.3569 - accuracy: 0.8234 - val_loss: 0.3570 - val_accuracy: 0.8366 - lr: 1.0000e-05\n",
      "Epoch 34/60\n",
      "199/199 [==============================] - 112s 564ms/step - loss: 0.3567 - accuracy: 0.8222 - val_loss: 0.3615 - val_accuracy: 0.8366 - lr: 1.0000e-05\n",
      "Epoch 35/60\n",
      "199/199 [==============================] - 112s 564ms/step - loss: 0.3562 - accuracy: 0.8225 - val_loss: 0.3546 - val_accuracy: 0.8394 - lr: 1.0000e-05\n",
      "Epoch 36/60\n",
      "199/199 [==============================] - 112s 564ms/step - loss: 0.3597 - accuracy: 0.8190 - val_loss: 0.3619 - val_accuracy: 0.8423 - lr: 1.0000e-05\n",
      "Epoch 37/60\n",
      "199/199 [==============================] - 112s 564ms/step - loss: 0.3575 - accuracy: 0.8234 - val_loss: 0.3555 - val_accuracy: 0.8394 - lr: 1.0000e-05\n",
      "Epoch 38/60\n",
      "199/199 [==============================] - 112s 564ms/step - loss: 0.3538 - accuracy: 0.8291 - val_loss: 0.3603 - val_accuracy: 0.8423 - lr: 1.0000e-05\n",
      "Epoch 39/60\n",
      "199/199 [==============================] - 113s 566ms/step - loss: 0.3575 - accuracy: 0.8228 - val_loss: 0.3568 - val_accuracy: 0.8479 - lr: 1.0000e-05\n",
      "Epoch 40/60\n",
      "199/199 [==============================] - 112s 564ms/step - loss: 0.3561 - accuracy: 0.8250 - val_loss: 0.3585 - val_accuracy: 0.8451 - lr: 1.0000e-05\n",
      "Epoch 41/60\n",
      "199/199 [==============================] - 112s 564ms/step - loss: 0.3551 - accuracy: 0.8215 - val_loss: 0.3522 - val_accuracy: 0.8479 - lr: 1.0000e-05\n",
      "Epoch 42/60\n",
      "199/199 [==============================] - 112s 563ms/step - loss: 0.3551 - accuracy: 0.8275 - val_loss: 0.3569 - val_accuracy: 0.8394 - lr: 1.0000e-05\n",
      "Epoch 43/60\n",
      "199/199 [==============================] - 112s 563ms/step - loss: 0.3529 - accuracy: 0.8247 - val_loss: 0.3566 - val_accuracy: 0.8479 - lr: 1.0000e-05\n",
      "Epoch 44/60\n",
      "199/199 [==============================] - 112s 564ms/step - loss: 0.3560 - accuracy: 0.8253 - val_loss: 0.3608 - val_accuracy: 0.8394 - lr: 1.0000e-05\n",
      "Epoch 45/60\n",
      "199/199 [==============================] - 112s 563ms/step - loss: 0.3550 - accuracy: 0.8237 - val_loss: 0.3556 - val_accuracy: 0.8423 - lr: 1.0000e-05\n",
      "Epoch 46/60\n",
      "199/199 [==============================] - 112s 563ms/step - loss: 0.3488 - accuracy: 0.8341 - val_loss: 0.3608 - val_accuracy: 0.8423 - lr: 1.0000e-05\n",
      "Epoch 47/60\n",
      "199/199 [==============================] - 112s 561ms/step - loss: 0.3505 - accuracy: 0.8332 - val_loss: 0.3534 - val_accuracy: 0.8451 - lr: 1.0000e-05\n",
      "Epoch 48/60\n",
      "199/199 [==============================] - 111s 558ms/step - loss: 0.3505 - accuracy: 0.8250 - val_loss: 0.3497 - val_accuracy: 0.8394 - lr: 1.0000e-05\n",
      "Epoch 49/60\n",
      "199/199 [==============================] - 111s 560ms/step - loss: 0.3505 - accuracy: 0.8281 - val_loss: 0.3543 - val_accuracy: 0.8451 - lr: 1.0000e-05\n",
      "Epoch 50/60\n",
      "199/199 [==============================] - 111s 559ms/step - loss: 0.3452 - accuracy: 0.8341 - val_loss: 0.3667 - val_accuracy: 0.8394 - lr: 1.0000e-05\n",
      "Epoch 51/60\n",
      "199/199 [==============================] - 111s 559ms/step - loss: 0.3517 - accuracy: 0.8269 - val_loss: 0.3552 - val_accuracy: 0.8507 - lr: 1.0000e-05\n",
      "Epoch 52/60\n",
      "199/199 [==============================] - 111s 560ms/step - loss: 0.3481 - accuracy: 0.8332 - val_loss: 0.3563 - val_accuracy: 0.8479 - lr: 1.0000e-05\n",
      "Epoch 53/60\n",
      "199/199 [==============================] - 111s 559ms/step - loss: 0.3537 - accuracy: 0.8269 - val_loss: 0.3504 - val_accuracy: 0.8479 - lr: 1.0000e-05\n",
      "Epoch 54/60\n",
      "199/199 [==============================] - 112s 562ms/step - loss: 0.3514 - accuracy: 0.8291 - val_loss: 0.3519 - val_accuracy: 0.8394 - lr: 1.0000e-05\n",
      "Epoch 55/60\n",
      "199/199 [==============================] - 118s 590ms/step - loss: 0.3540 - accuracy: 0.8275 - val_loss: 0.3544 - val_accuracy: 0.8423 - lr: 1.0000e-05\n",
      "Epoch 56/60\n",
      "199/199 [==============================] - 113s 566ms/step - loss: 0.3508 - accuracy: 0.8288 - val_loss: 0.3583 - val_accuracy: 0.8423 - lr: 1.0000e-05\n",
      "Epoch 57/60\n",
      "199/199 [==============================] - 111s 559ms/step - loss: 0.3451 - accuracy: 0.8322 - val_loss: 0.3593 - val_accuracy: 0.8479 - lr: 1.0000e-05\n",
      "Epoch 58/60\n",
      "199/199 [==============================] - 112s 562ms/step - loss: 0.3522 - accuracy: 0.8218 - val_loss: 0.3578 - val_accuracy: 0.8451 - lr: 1.0000e-05\n",
      "Epoch 59/60\n",
      "199/199 [==============================] - 112s 563ms/step - loss: 0.3484 - accuracy: 0.8347 - val_loss: 0.3604 - val_accuracy: 0.8451 - lr: 1.0000e-05\n",
      "Epoch 60/60\n",
      "199/199 [==============================] - 111s 560ms/step - loss: 0.3521 - accuracy: 0.8303 - val_loss: 0.3562 - val_accuracy: 0.8451 - lr: 1.0000e-05\n"
     ]
    }
   ],
   "source": [
    "# Fit the model\n",
    "epochs = 60\n",
    "batch_size = 16\n",
    "history = model.fit_generator(datagen.flow(x_train,y_train, batch_size=batch_size),\n",
    "                              epochs = epochs, validation_data = (x_validate,y_validate),\n",
    "                              verbose = 1, steps_per_epoch=x_train.shape[0] // batch_size\n",
    "                              , callbacks=[learning_rate_reduction])\n",
    "\n",
    "from tensorflow.keras.metrics import Recall\n",
    "from sklearn.metrics import classification_report,confusion_matrix"
   ]
  },
  {
   "cell_type": "code",
   "execution_count": 67,
   "metadata": {
    "execution": {
     "iopub.execute_input": "2021-08-24T10:43:02.985798Z",
     "iopub.status.busy": "2021-08-24T10:43:02.985446Z",
     "iopub.status.idle": "2021-08-24T10:43:03.362759Z",
     "shell.execute_reply": "2021-08-24T10:43:03.361666Z",
     "shell.execute_reply.started": "2021-08-24T10:43:02.985761Z"
    },
    "id": "tU7pPI2PwOcp",
    "papermill": {
     "duration": 4.519889,
     "end_time": "2021-08-23T07:03:15.050049",
     "exception": false,
     "start_time": "2021-08-23T07:03:10.53016",
     "status": "completed"
    },
    "tags": []
   },
   "outputs": [
    {
     "data": {
      "image/png": "[encoded data removed]",
      "text/plain": [
       "<IPython.core.display.Image object>"
      ]
     },
     "execution_count": 67,
     "metadata": {},
     "output_type": "execute_result"
    }
   ],
   "source": [
    "from keras.utils.vis_utils import plot_model\n",
    "plot_model(model, to_file='model_plot.png', show_shapes=True, show_layer_names=True)"
   ]
  },
  {
   "cell_type": "markdown",
   "metadata": {
    "id": "P6CslT9zg9Pb",
    "papermill": {
     "duration": 4.23699,
     "end_time": "2021-08-23T07:03:23.290681",
     "exception": false,
     "start_time": "2021-08-23T07:03:19.053691",
     "status": "completed"
    },
    "tags": []
   },
   "source": [
    "The CNN model has been visualised in the model attached above."
   ]
  },
  {
   "cell_type": "code",
   "execution_count": 68,
   "metadata": {
    "execution": {
     "iopub.execute_input": "2021-08-24T10:43:03.365272Z",
     "iopub.status.busy": "2021-08-24T10:43:03.364706Z",
     "iopub.status.idle": "2021-08-24T10:43:05.457058Z",
     "shell.execute_reply": "2021-08-24T10:43:05.455967Z",
     "shell.execute_reply.started": "2021-08-24T10:43:03.365230Z"
    },
    "id": "mCpy9JEFwOcp",
    "outputId": "ef1080d9-384b-45f0-8d24-ba09457df6a3",
    "papermill": {
     "duration": 5.905237,
     "end_time": "2021-08-23T07:03:33.627908",
     "exception": false,
     "start_time": "2021-08-23T07:03:27.722671",
     "status": "completed"
    },
    "tags": []
   },
   "outputs": [
    {
     "name": "stdout",
     "output_type": "stream",
     "text": [
      "42/42 [==============================] - 10s 231ms/step - loss: 0.3513 - accuracy: 0.8456\n",
      "12/12 [==============================] - 3s 222ms/step - loss: 0.3562 - accuracy: 0.8451\n",
      "Validation: accuracy = 0.845070  ;  loss_v = 0.356162\n",
      "Test: accuracy = 0.845627  ;  loss = 0.351293\n"
     ]
    }
   ],
   "source": [
    "loss, accuracy = model.evaluate(x_test, y_test, verbose=1)\n",
    "loss_v, accuracy_v = model.evaluate(x_validate, y_validate, verbose=1)\n",
    "print(\"Validation: accuracy = %f  ;  loss_v = %f\" % (accuracy_v, loss_v))\n",
    "print(\"Test: accuracy = %f  ;  loss = %f\" % (accuracy, loss))\n",
    "model.save(\"model.h5\")"
   ]
  },
  {
   "cell_type": "code",
   "execution_count": 69,
   "metadata": {
    "execution": {
     "iopub.execute_input": "2021-08-24T10:43:05.459129Z",
     "iopub.status.busy": "2021-08-24T10:43:05.458534Z",
     "iopub.status.idle": "2021-08-24T10:43:06.386502Z",
     "shell.execute_reply": "2021-08-24T10:43:06.385597Z",
     "shell.execute_reply.started": "2021-08-24T10:43:05.459092Z"
    },
    "id": "8Q08Vs6IwOcq",
    "outputId": "820c0163-9241-4377-c478-dbeb1c1b2d79",
    "papermill": {
     "duration": 4.993431,
     "end_time": "2021-08-23T07:03:42.592246",
     "exception": false,
     "start_time": "2021-08-23T07:03:37.598815",
     "status": "completed"
    },
    "tags": []
   },
   "outputs": [
    {
     "data": {
      "image/png": "[encoded data removed]",
      "text/plain": [
       "<Figure size 432x288 with 2 Axes>"
      ]
     },
     "metadata": {
      "needs_background": "light"
     },
     "output_type": "display_data"
    }
   ],
   "source": [
    "import itertools\n",
    "# Function to plot confusion matrix    \n",
    "def plot_confusion_matrix(cm, classes,\n",
    "                          normalize=False,\n",
    "                          title='Confusion matrix',\n",
    "                          cmap=plt.cm.Blues):\n",
    "    \"\"\"\n",
    "    This function prints and plots the confusion matrix.\n",
    "    Normalization can be applied by setting `normalize=True`.\n",
    "    \"\"\"\n",
    "    plt.imshow(cm, interpolation='nearest', cmap=cmap)\n",
    "    plt.title(title)\n",
    "    plt.colorbar()\n",
    "    tick_marks = np.arange(len(classes))\n",
    "    plt.xticks(tick_marks, classes, rotation=45)\n",
    "    plt.yticks(tick_marks, classes)\n",
    "\n",
    "    if normalize:\n",
    "        cm = cm.astype('float') / cm.sum(axis=1)[:, np.newaxis]\n",
    "\n",
    "    thresh = cm.max() / 2.\n",
    "    for i, j in itertools.product(range(cm.shape[0]), range(cm.shape[1])):\n",
    "        plt.text(j, i, cm[i, j],\n",
    "                 horizontalalignment=\"center\",\n",
    "                 color=\"white\" if cm[i, j] > thresh else \"black\")\n",
    "\n",
    "    plt.tight_layout()\n",
    "    plt.ylabel('True label')\n",
    "    plt.xlabel('Predicted label')\n",
    "\n",
    "# Predict the values from the validation dataset\n",
    "Y_pred = model.predict(x_validate)\n",
    "# Convert predictions classes to one hot vectors \n",
    "Y_pred_classes = np.argmax(Y_pred,axis = 1) \n",
    "# Convert validation observations to one hot vectors\n",
    "Y_true = np.argmax(y_validate,axis = 1) \n",
    "# compute the confusion matrix\n",
    "confusion_mtx = confusion_matrix(Y_true, Y_pred_classes)\n",
    "\n",
    " \n",
    "\n",
    "# plot the confusion matrix\n",
    "plot_confusion_matrix(confusion_mtx, classes = range(7)) \n"
   ]
  },
  {
   "cell_type": "code",
   "execution_count": 70,
   "metadata": {
    "execution": {
     "iopub.execute_input": "2021-08-24T10:43:06.390907Z",
     "iopub.status.busy": "2021-08-24T10:43:06.390534Z",
     "iopub.status.idle": "2021-08-24T10:43:07.769838Z",
     "shell.execute_reply": "2021-08-24T10:43:07.768900Z",
     "shell.execute_reply.started": "2021-08-24T10:43:06.390854Z"
    },
    "id": "rsoXREP2PGE8",
    "outputId": "83d0704c-97f2-4d6f-ef3d-35a4265a6742",
    "papermill": {
     "duration": 5.29886,
     "end_time": "2021-08-23T07:03:52.064926",
     "exception": false,
     "start_time": "2021-08-23T07:03:46.766066",
     "status": "completed"
    },
    "tags": []
   },
   "outputs": [
    {
     "data": {
      "image/png": "[encoded data removed]",
      "text/plain": [
       "<Figure size 432x288 with 2 Axes>"
      ]
     },
     "metadata": {
      "needs_background": "light"
     },
     "output_type": "display_data"
    }
   ],
   "source": [
    "# Predict the values from the validation dataset\n",
    "Y_pred = model.predict(x_test)\n",
    "# Convert predictions classes to one hot vectors \n",
    "Y_pred_classes = np.argmax(Y_pred,axis = 1) \n",
    "# Convert validation observations to one hot vectors\n",
    "Y_true = np.argmax(y_test,axis = 1) \n",
    "# compute the confusion matrix\n",
    "confusion_mtx = confusion_matrix(Y_true, Y_pred_classes)\n",
    "\n",
    " \n",
    "\n",
    "# plot the confusion matrix\n",
    "plot_confusion_matrix(confusion_mtx, classes = range(7)) "
   ]
  },
  {
   "cell_type": "code",
   "execution_count": 71,
   "metadata": {
    "execution": {
     "iopub.execute_input": "2021-08-24T10:43:07.772381Z",
     "iopub.status.busy": "2021-08-24T10:43:07.772068Z",
     "iopub.status.idle": "2021-08-24T10:43:08.023820Z",
     "shell.execute_reply": "2021-08-24T10:43:08.022815Z",
     "shell.execute_reply.started": "2021-08-24T10:43:07.772346Z"
    },
    "id": "FRVsAjVmwOcq",
    "outputId": "ec53ed77-74f5-42f3-c9a8-cee515525422",
    "papermill": {
     "duration": 4.630826,
     "end_time": "2021-08-23T07:04:01.006207",
     "exception": false,
     "start_time": "2021-08-23T07:03:56.375381",
     "status": "completed"
    },
    "tags": []
   },
   "outputs": [
    {
     "ename": "ValueError",
     "evalue": "shape mismatch: objects cannot be broadcast to a single shape",
     "output_type": "error",
     "traceback": [
      "\u001b[1;31m---------------------------------------------------------------------------\u001b[0m",
      "\u001b[1;31mValueError\u001b[0m                                Traceback (most recent call last)",
      "\u001b[1;32m~\\AppData\\Local\\Temp/ipykernel_7072/1127229655.py\u001b[0m in \u001b[0;36m<module>\u001b[1;34m\u001b[0m\n\u001b[0;32m      1\u001b[0m \u001b[0mlabel_frac_error\u001b[0m \u001b[1;33m=\u001b[0m \u001b[1;36m1\u001b[0m \u001b[1;33m-\u001b[0m \u001b[0mnp\u001b[0m\u001b[1;33m.\u001b[0m\u001b[0mdiag\u001b[0m\u001b[1;33m(\u001b[0m\u001b[0mconfusion_mtx\u001b[0m\u001b[1;33m)\u001b[0m \u001b[1;33m/\u001b[0m \u001b[0mnp\u001b[0m\u001b[1;33m.\u001b[0m\u001b[0msum\u001b[0m\u001b[1;33m(\u001b[0m\u001b[0mconfusion_mtx\u001b[0m\u001b[1;33m,\u001b[0m \u001b[0maxis\u001b[0m\u001b[1;33m=\u001b[0m\u001b[1;36m1\u001b[0m\u001b[1;33m)\u001b[0m\u001b[1;33m\u001b[0m\u001b[1;33m\u001b[0m\u001b[0m\n\u001b[1;32m----> 2\u001b[1;33m \u001b[0mplt\u001b[0m\u001b[1;33m.\u001b[0m\u001b[0mbar\u001b[0m\u001b[1;33m(\u001b[0m\u001b[0mnp\u001b[0m\u001b[1;33m.\u001b[0m\u001b[0marange\u001b[0m\u001b[1;33m(\u001b[0m\u001b[1;36m7\u001b[0m\u001b[1;33m)\u001b[0m\u001b[1;33m,\u001b[0m\u001b[0mlabel_frac_error\u001b[0m\u001b[1;33m)\u001b[0m\u001b[1;33m\u001b[0m\u001b[1;33m\u001b[0m\u001b[0m\n\u001b[0m\u001b[0;32m      3\u001b[0m \u001b[0mplt\u001b[0m\u001b[1;33m.\u001b[0m\u001b[0mxlabel\u001b[0m\u001b[1;33m(\u001b[0m\u001b[1;34m'True Label'\u001b[0m\u001b[1;33m)\u001b[0m\u001b[1;33m\u001b[0m\u001b[1;33m\u001b[0m\u001b[0m\n\u001b[0;32m      4\u001b[0m \u001b[0mplt\u001b[0m\u001b[1;33m.\u001b[0m\u001b[0mylabel\u001b[0m\u001b[1;33m(\u001b[0m\u001b[1;34m'Fraction classified incorrectly'\u001b[0m\u001b[1;33m)\u001b[0m\u001b[1;33m\u001b[0m\u001b[1;33m\u001b[0m\u001b[0m\n",
      "\u001b[1;32m~\\anaconda3\\lib\\site-packages\\matplotlib\\pyplot.py\u001b[0m in \u001b[0;36mbar\u001b[1;34m(x, height, width, bottom, align, data, **kwargs)\u001b[0m\n\u001b[0;32m   2385\u001b[0m         \u001b[0mx\u001b[0m\u001b[1;33m,\u001b[0m \u001b[0mheight\u001b[0m\u001b[1;33m,\u001b[0m \u001b[0mwidth\u001b[0m\u001b[1;33m=\u001b[0m\u001b[1;36m0.8\u001b[0m\u001b[1;33m,\u001b[0m \u001b[0mbottom\u001b[0m\u001b[1;33m=\u001b[0m\u001b[1;32mNone\u001b[0m\u001b[1;33m,\u001b[0m \u001b[1;33m*\u001b[0m\u001b[1;33m,\u001b[0m \u001b[0malign\u001b[0m\u001b[1;33m=\u001b[0m\u001b[1;34m'center'\u001b[0m\u001b[1;33m,\u001b[0m\u001b[1;33m\u001b[0m\u001b[1;33m\u001b[0m\u001b[0m\n\u001b[0;32m   2386\u001b[0m         data=None, **kwargs):\n\u001b[1;32m-> 2387\u001b[1;33m     return gca().bar(\n\u001b[0m\u001b[0;32m   2388\u001b[0m         \u001b[0mx\u001b[0m\u001b[1;33m,\u001b[0m \u001b[0mheight\u001b[0m\u001b[1;33m,\u001b[0m \u001b[0mwidth\u001b[0m\u001b[1;33m=\u001b[0m\u001b[0mwidth\u001b[0m\u001b[1;33m,\u001b[0m \u001b[0mbottom\u001b[0m\u001b[1;33m=\u001b[0m\u001b[0mbottom\u001b[0m\u001b[1;33m,\u001b[0m \u001b[0malign\u001b[0m\u001b[1;33m=\u001b[0m\u001b[0malign\u001b[0m\u001b[1;33m,\u001b[0m\u001b[1;33m\u001b[0m\u001b[1;33m\u001b[0m\u001b[0m\n\u001b[0;32m   2389\u001b[0m         **({\"data\": data} if data is not None else {}), **kwargs)\n",
      "\u001b[1;32m~\\anaconda3\\lib\\site-packages\\matplotlib\\__init__.py\u001b[0m in \u001b[0;36minner\u001b[1;34m(ax, data, *args, **kwargs)\u001b[0m\n\u001b[0;32m   1410\u001b[0m     \u001b[1;32mdef\u001b[0m \u001b[0minner\u001b[0m\u001b[1;33m(\u001b[0m\u001b[0max\u001b[0m\u001b[1;33m,\u001b[0m \u001b[1;33m*\u001b[0m\u001b[0margs\u001b[0m\u001b[1;33m,\u001b[0m \u001b[0mdata\u001b[0m\u001b[1;33m=\u001b[0m\u001b[1;32mNone\u001b[0m\u001b[1;33m,\u001b[0m \u001b[1;33m**\u001b[0m\u001b[0mkwargs\u001b[0m\u001b[1;33m)\u001b[0m\u001b[1;33m:\u001b[0m\u001b[1;33m\u001b[0m\u001b[1;33m\u001b[0m\u001b[0m\n\u001b[0;32m   1411\u001b[0m         \u001b[1;32mif\u001b[0m \u001b[0mdata\u001b[0m \u001b[1;32mis\u001b[0m \u001b[1;32mNone\u001b[0m\u001b[1;33m:\u001b[0m\u001b[1;33m\u001b[0m\u001b[1;33m\u001b[0m\u001b[0m\n\u001b[1;32m-> 1412\u001b[1;33m             \u001b[1;32mreturn\u001b[0m \u001b[0mfunc\u001b[0m\u001b[1;33m(\u001b[0m\u001b[0max\u001b[0m\u001b[1;33m,\u001b[0m \u001b[1;33m*\u001b[0m\u001b[0mmap\u001b[0m\u001b[1;33m(\u001b[0m\u001b[0msanitize_sequence\u001b[0m\u001b[1;33m,\u001b[0m \u001b[0margs\u001b[0m\u001b[1;33m)\u001b[0m\u001b[1;33m,\u001b[0m \u001b[1;33m**\u001b[0m\u001b[0mkwargs\u001b[0m\u001b[1;33m)\u001b[0m\u001b[1;33m\u001b[0m\u001b[1;33m\u001b[0m\u001b[0m\n\u001b[0m\u001b[0;32m   1413\u001b[0m \u001b[1;33m\u001b[0m\u001b[0m\n\u001b[0;32m   1414\u001b[0m         \u001b[0mbound\u001b[0m \u001b[1;33m=\u001b[0m \u001b[0mnew_sig\u001b[0m\u001b[1;33m.\u001b[0m\u001b[0mbind\u001b[0m\u001b[1;33m(\u001b[0m\u001b[0max\u001b[0m\u001b[1;33m,\u001b[0m \u001b[1;33m*\u001b[0m\u001b[0margs\u001b[0m\u001b[1;33m,\u001b[0m \u001b[1;33m**\u001b[0m\u001b[0mkwargs\u001b[0m\u001b[1;33m)\u001b[0m\u001b[1;33m\u001b[0m\u001b[1;33m\u001b[0m\u001b[0m\n",
      "\u001b[1;32m~\\anaconda3\\lib\\site-packages\\matplotlib\\axes\\_axes.py\u001b[0m in \u001b[0;36mbar\u001b[1;34m(self, x, height, width, bottom, align, **kwargs)\u001b[0m\n\u001b[0;32m   2340\u001b[0m                 \u001b[0myerr\u001b[0m \u001b[1;33m=\u001b[0m \u001b[0mself\u001b[0m\u001b[1;33m.\u001b[0m\u001b[0m_convert_dx\u001b[0m\u001b[1;33m(\u001b[0m\u001b[0myerr\u001b[0m\u001b[1;33m,\u001b[0m \u001b[0my0\u001b[0m\u001b[1;33m,\u001b[0m \u001b[0my\u001b[0m\u001b[1;33m,\u001b[0m \u001b[0mself\u001b[0m\u001b[1;33m.\u001b[0m\u001b[0mconvert_yunits\u001b[0m\u001b[1;33m)\u001b[0m\u001b[1;33m\u001b[0m\u001b[1;33m\u001b[0m\u001b[0m\n\u001b[0;32m   2341\u001b[0m \u001b[1;33m\u001b[0m\u001b[0m\n\u001b[1;32m-> 2342\u001b[1;33m         x, height, width, y, linewidth, hatch = np.broadcast_arrays(\n\u001b[0m\u001b[0;32m   2343\u001b[0m             \u001b[1;31m# Make args iterable too.\u001b[0m\u001b[1;33m\u001b[0m\u001b[1;33m\u001b[0m\u001b[1;33m\u001b[0m\u001b[0m\n\u001b[0;32m   2344\u001b[0m             np.atleast_1d(x), height, width, y, linewidth, hatch)\n",
      "\u001b[1;32m<__array_function__ internals>\u001b[0m in \u001b[0;36mbroadcast_arrays\u001b[1;34m(*args, **kwargs)\u001b[0m\n",
      "\u001b[1;32m~\\anaconda3\\lib\\site-packages\\numpy\\lib\\stride_tricks.py\u001b[0m in \u001b[0;36mbroadcast_arrays\u001b[1;34m(subok, *args)\u001b[0m\n\u001b[0;32m    536\u001b[0m     \u001b[0margs\u001b[0m \u001b[1;33m=\u001b[0m \u001b[1;33m[\u001b[0m\u001b[0mnp\u001b[0m\u001b[1;33m.\u001b[0m\u001b[0marray\u001b[0m\u001b[1;33m(\u001b[0m\u001b[0m_m\u001b[0m\u001b[1;33m,\u001b[0m \u001b[0mcopy\u001b[0m\u001b[1;33m=\u001b[0m\u001b[1;32mFalse\u001b[0m\u001b[1;33m,\u001b[0m \u001b[0msubok\u001b[0m\u001b[1;33m=\u001b[0m\u001b[0msubok\u001b[0m\u001b[1;33m)\u001b[0m \u001b[1;32mfor\u001b[0m \u001b[0m_m\u001b[0m \u001b[1;32min\u001b[0m \u001b[0margs\u001b[0m\u001b[1;33m]\u001b[0m\u001b[1;33m\u001b[0m\u001b[1;33m\u001b[0m\u001b[0m\n\u001b[0;32m    537\u001b[0m \u001b[1;33m\u001b[0m\u001b[0m\n\u001b[1;32m--> 538\u001b[1;33m     \u001b[0mshape\u001b[0m \u001b[1;33m=\u001b[0m \u001b[0m_broadcast_shape\u001b[0m\u001b[1;33m(\u001b[0m\u001b[1;33m*\u001b[0m\u001b[0margs\u001b[0m\u001b[1;33m)\u001b[0m\u001b[1;33m\u001b[0m\u001b[1;33m\u001b[0m\u001b[0m\n\u001b[0m\u001b[0;32m    539\u001b[0m \u001b[1;33m\u001b[0m\u001b[0m\n\u001b[0;32m    540\u001b[0m     \u001b[1;32mif\u001b[0m \u001b[0mall\u001b[0m\u001b[1;33m(\u001b[0m\u001b[0marray\u001b[0m\u001b[1;33m.\u001b[0m\u001b[0mshape\u001b[0m \u001b[1;33m==\u001b[0m \u001b[0mshape\u001b[0m \u001b[1;32mfor\u001b[0m \u001b[0marray\u001b[0m \u001b[1;32min\u001b[0m \u001b[0margs\u001b[0m\u001b[1;33m)\u001b[0m\u001b[1;33m:\u001b[0m\u001b[1;33m\u001b[0m\u001b[1;33m\u001b[0m\u001b[0m\n",
      "\u001b[1;32m~\\anaconda3\\lib\\site-packages\\numpy\\lib\\stride_tricks.py\u001b[0m in \u001b[0;36m_broadcast_shape\u001b[1;34m(*args)\u001b[0m\n\u001b[0;32m    418\u001b[0m     \u001b[1;31m# use the old-iterator because np.nditer does not handle size 0 arrays\u001b[0m\u001b[1;33m\u001b[0m\u001b[1;33m\u001b[0m\u001b[1;33m\u001b[0m\u001b[0m\n\u001b[0;32m    419\u001b[0m     \u001b[1;31m# consistently\u001b[0m\u001b[1;33m\u001b[0m\u001b[1;33m\u001b[0m\u001b[1;33m\u001b[0m\u001b[0m\n\u001b[1;32m--> 420\u001b[1;33m     \u001b[0mb\u001b[0m \u001b[1;33m=\u001b[0m \u001b[0mnp\u001b[0m\u001b[1;33m.\u001b[0m\u001b[0mbroadcast\u001b[0m\u001b[1;33m(\u001b[0m\u001b[1;33m*\u001b[0m\u001b[0margs\u001b[0m\u001b[1;33m[\u001b[0m\u001b[1;33m:\u001b[0m\u001b[1;36m32\u001b[0m\u001b[1;33m]\u001b[0m\u001b[1;33m)\u001b[0m\u001b[1;33m\u001b[0m\u001b[1;33m\u001b[0m\u001b[0m\n\u001b[0m\u001b[0;32m    421\u001b[0m     \u001b[1;31m# unfortunately, it cannot handle 32 or more arguments directly\u001b[0m\u001b[1;33m\u001b[0m\u001b[1;33m\u001b[0m\u001b[1;33m\u001b[0m\u001b[0m\n\u001b[0;32m    422\u001b[0m     \u001b[1;32mfor\u001b[0m \u001b[0mpos\u001b[0m \u001b[1;32min\u001b[0m \u001b[0mrange\u001b[0m\u001b[1;33m(\u001b[0m\u001b[1;36m32\u001b[0m\u001b[1;33m,\u001b[0m \u001b[0mlen\u001b[0m\u001b[1;33m(\u001b[0m\u001b[0margs\u001b[0m\u001b[1;33m)\u001b[0m\u001b[1;33m,\u001b[0m \u001b[1;36m31\u001b[0m\u001b[1;33m)\u001b[0m\u001b[1;33m:\u001b[0m\u001b[1;33m\u001b[0m\u001b[1;33m\u001b[0m\u001b[0m\n",
      "\u001b[1;31mValueError\u001b[0m: shape mismatch: objects cannot be broadcast to a single shape"
     ]
    },
    {
     "data": {
      "image/png": "[encoded data removed]",
      "text/plain": [
       "<Figure size 432x288 with 1 Axes>"
      ]
     },
     "metadata": {
      "needs_background": "light"
     },
     "output_type": "display_data"
    }
   ],
   "source": [
    "label_frac_error = 1 - np.diag(confusion_mtx) / np.sum(confusion_mtx, axis=1)\n",
    "plt.bar(np.arange(7),label_frac_error)\n",
    "plt.xlabel('True Label')\n",
    "plt.ylabel('Fraction classified incorrectly')"
   ]
  },
  {
   "cell_type": "code",
   "execution_count": 72,
   "metadata": {
    "execution": {
     "iopub.execute_input": "2021-08-24T10:43:08.027031Z",
     "iopub.status.busy": "2021-08-24T10:43:08.026664Z",
     "iopub.status.idle": "2021-08-24T10:43:08.034001Z",
     "shell.execute_reply": "2021-08-24T10:43:08.032398Z",
     "shell.execute_reply.started": "2021-08-24T10:43:08.026990Z"
    },
    "id": "ejQnM2ZiJ2Pg",
    "outputId": "16f527f4-39ee-402c-ec0f-6213f55c10f9",
    "papermill": {
     "duration": 4.376462,
     "end_time": "2021-08-23T07:04:09.644536",
     "exception": true,
     "start_time": "2021-08-23T07:04:05.268074",
     "status": "failed"
    },
    "tags": []
   },
   "outputs": [],
   "source": [
    "# # Function to plot model's validation loss and validation accuracy\n",
    "# def plot_model_history(model_history):\n",
    "#     fig, axs = plt.subplots(1,2,figsize=(15,5))\n",
    "#     # summarize history for accuracy\n",
    "#     axs[0].plot(range(1,len(model_history.history['accuracy'])+1),model_history.history['accuracy'])\n",
    "#     axs[0].plot(range(1,len(model_history.history['val_accuracy'])+1),model_history.history['val_accuracy'])\n",
    "#     axs[0].set_title('Model Accuracy')\n",
    "#     axs[0].set_ylabel('Accuracy')\n",
    "#     axs[0].set_xlabel('Epoch')\n",
    "#     axs[0].set_xticks(np.arange(1,len(model_history.history['accuracy'])+1),len(model_history.history['accuracy'])/10)\n",
    "#     axs[0].legend(['train', 'val'], loc='best')\n",
    "#     # summarize history for loss\n",
    "#     axs[1].plot(range(1,len(model_history.history['loss'])+1),model_history.history['loss'])\n",
    "#     axs[1].plot(range(1,len(model_history.history['val_loss'])+1),model_history.history['val_loss'])\n",
    "#     axs[1].set_title('Model Loss')\n",
    "#     axs[1].set_ylabel('Loss')\n",
    "#     axs[1].set_xlabel('Epoch')\n",
    "#     axs[1].set_xticks(np.arange(1,len(model_history.history['loss'])+1),len(model_history.history['loss'])/10)\n",
    "#     axs[1].legend(['train', 'val'], loc='best')\n",
    "#     plt.show()\n",
    "# plot_model_history(history)"
   ]
  },
  {
   "cell_type": "raw",
   "metadata": {
    "id": "ILsRpX9-wOcq",
    "papermill": {
     "duration": null,
     "end_time": null,
     "exception": null,
     "start_time": null,
     "status": "pending"
    },
    "tags": []
   },
   "source": []
  },
  {
   "cell_type": "markdown",
   "metadata": {
    "id": "geN3uTEeTkHC",
    "papermill": {
     "duration": null,
     "end_time": null,
     "exception": null,
     "start_time": null,
     "status": "pending"
    },
    "tags": []
   },
   "source": [
    "## **Tranfer Learning**\n",
    "\n",
    "### Due to lack of dataset, pretrained model of MobileNet is used.\n",
    "\n",
    "#### Why MobileNet?\n",
    "MobileNet significantly reduces the number of parameters when compared to the network with regular convolutions with the same depth in the nets. This results in lightweight deep neural networks.\n",
    "\n",
    "The 2 layers in addition to the ones used for CNN are:\n",
    "Batch Normalization\n",
    "Zero Padding\n"
   ]
  },
  {
   "cell_type": "code",
   "execution_count": 79,
   "metadata": {
    "execution": {
     "iopub.execute_input": "2021-08-24T13:42:34.294166Z",
     "iopub.status.busy": "2021-08-24T13:42:34.293722Z",
     "iopub.status.idle": "2021-08-24T13:42:34.300070Z",
     "shell.execute_reply": "2021-08-24T13:42:34.299138Z",
     "shell.execute_reply.started": "2021-08-24T13:42:34.294126Z"
    },
    "id": "SEryDqICR77U",
    "papermill": {
     "duration": null,
     "end_time": null,
     "exception": null,
     "start_time": null,
     "status": "pending"
    },
    "tags": []
   },
   "outputs": [],
   "source": [
    "import tensorflow\n",
    "from tensorflow.keras.models import Model\n",
    "from tensorflow.keras.callbacks import EarlyStopping, ReduceLROnPlateau, ModelCheckpoint"
   ]
  },
  {
   "cell_type": "code",
   "execution_count": 80,
   "metadata": {
    "execution": {
     "iopub.execute_input": "2021-08-24T13:42:34.661967Z",
     "iopub.status.busy": "2021-08-24T13:42:34.661655Z",
     "iopub.status.idle": "2021-08-24T13:47:18.795931Z",
     "shell.execute_reply": "2021-08-24T13:47:18.795078Z",
     "shell.execute_reply.started": "2021-08-24T13:42:34.661935Z"
    },
    "id": "I6n8LM2wXecA",
    "papermill": {
     "duration": null,
     "end_time": null,
     "exception": null,
     "start_time": null,
     "status": "pending"
    },
    "tags": []
   },
   "outputs": [
    {
     "name": "stderr",
     "output_type": "stream",
     "text": [
      "C:\\Users\\wajah\\AppData\\Local\\Temp/ipykernel_7072/3252559109.py:1: SettingWithCopyWarning: \n",
      "A value is trying to be set on a copy of a slice from a DataFrame.\n",
      "Try using .loc[row_indexer,col_indexer] = value instead\n",
      "\n",
      "See the caveats in the documentation: https://pandas.pydata.org/pandas-docs/stable/user_guide/indexing.html#returning-a-view-versus-a-copy\n",
      "  df1['image'] = df1['path'].map(lambda x: np.asarray(Image.open(x).resize((450,600))))\n"
     ]
    }
   ],
   "source": [
    "df1['image'] = df1['path'].map(lambda x: np.asarray(Image.open(x).resize((450,600))))"
   ]
  },
  {
   "cell_type": "code",
   "execution_count": 83,
   "metadata": {
    "execution": {
     "iopub.execute_input": "2021-08-24T13:47:18.797893Z",
     "iopub.status.busy": "2021-08-24T13:47:18.797518Z",
     "iopub.status.idle": "2021-08-24T13:47:18.807054Z",
     "shell.execute_reply": "2021-08-24T13:47:18.806256Z",
     "shell.execute_reply.started": "2021-08-24T13:47:18.797858Z"
    },
    "id": "qSjyfHgDXnYP",
    "papermill": {
     "duration": null,
     "end_time": null,
     "exception": null,
     "start_time": null,
     "status": "pending"
    },
    "tags": []
   },
   "outputs": [],
   "source": [
    "features=df1.drop(columns=['is_benign'],axis=1)\n",
    "target=df1['is_benign']"
   ]
  },
  {
   "cell_type": "code",
   "execution_count": 84,
   "metadata": {
    "execution": {
     "iopub.execute_input": "2021-08-24T13:47:18.809510Z",
     "iopub.status.busy": "2021-08-24T13:47:18.808903Z",
     "iopub.status.idle": "2021-08-24T13:47:20.449468Z",
     "shell.execute_reply": "2021-08-24T13:47:20.448616Z",
     "shell.execute_reply.started": "2021-08-24T13:47:18.809465Z"
    },
    "id": "IxzIg4ysXnYQ",
    "outputId": "7fecd156-6176-43eb-e503-fd03a3792ed6",
    "papermill": {
     "duration": null,
     "end_time": null,
     "exception": null,
     "start_time": null,
     "status": "pending"
    },
    "tags": []
   },
   "outputs": [
    {
     "data": {
      "text/plain": [
       "Unique(y=<tf.Tensor: shape=(7,), dtype=string, numpy=\n",
       "array([b'Melanocytic nevi', b'Basal cell carcinoma',\n",
       "       b'Benign keratosis-like lesions ', b'Melanoma',\n",
       "       b'Actinic keratoses', b'Dermatofibroma', b'Vascular lesions'],\n",
       "      dtype=object)>, idx=<tf.Tensor: shape=(3943,), dtype=int32, numpy=array([0, 0, 0, ..., 0, 0, 0])>)"
      ]
     },
     "execution_count": 84,
     "metadata": {},
     "output_type": "execute_result"
    }
   ],
   "source": [
    "x_train_o, x_test_o, y_train_o, y_test_o = train_test_split(features, target, test_size=0.25,random_state=666)\n",
    "tf.unique(x_train_o.cell_type.values)"
   ]
  },
  {
   "cell_type": "code",
   "execution_count": 85,
   "metadata": {
    "execution": {
     "iopub.execute_input": "2021-08-24T13:47:20.451324Z",
     "iopub.status.busy": "2021-08-24T13:47:20.450968Z"
    },
    "id": "5vRUQ-LJUMfd",
    "papermill": {
     "duration": null,
     "end_time": null,
     "exception": null,
     "start_time": null,
     "status": "pending"
    },
    "tags": []
   },
   "outputs": [
    {
     "ename": "MemoryError",
     "evalue": "Unable to allocate 23.8 GiB for an array with shape (3943, 600, 450, 3) and data type float64",
     "output_type": "error",
     "traceback": [
      "\u001b[1;31m---------------------------------------------------------------------------\u001b[0m",
      "\u001b[1;31mMemoryError\u001b[0m                               Traceback (most recent call last)",
      "\u001b[1;32m~\\AppData\\Local\\Temp/ipykernel_7072/2939144667.py\u001b[0m in \u001b[0;36m<module>\u001b[1;34m\u001b[0m\n\u001b[0;32m      3\u001b[0m \u001b[1;33m\u001b[0m\u001b[0m\n\u001b[0;32m      4\u001b[0m \u001b[0mx_train_mean\u001b[0m \u001b[1;33m=\u001b[0m \u001b[0mnp\u001b[0m\u001b[1;33m.\u001b[0m\u001b[0mmean\u001b[0m\u001b[1;33m(\u001b[0m\u001b[0mx_train\u001b[0m\u001b[1;33m)\u001b[0m\u001b[1;33m\u001b[0m\u001b[1;33m\u001b[0m\u001b[0m\n\u001b[1;32m----> 5\u001b[1;33m \u001b[0mx_train_std\u001b[0m \u001b[1;33m=\u001b[0m \u001b[0mnp\u001b[0m\u001b[1;33m.\u001b[0m\u001b[0mstd\u001b[0m\u001b[1;33m(\u001b[0m\u001b[0mx_train\u001b[0m\u001b[1;33m)\u001b[0m\u001b[1;33m\u001b[0m\u001b[1;33m\u001b[0m\u001b[0m\n\u001b[0m\u001b[0;32m      6\u001b[0m \u001b[1;33m\u001b[0m\u001b[0m\n\u001b[0;32m      7\u001b[0m \u001b[0mx_test_mean\u001b[0m \u001b[1;33m=\u001b[0m \u001b[0mnp\u001b[0m\u001b[1;33m.\u001b[0m\u001b[0mmean\u001b[0m\u001b[1;33m(\u001b[0m\u001b[0mx_test\u001b[0m\u001b[1;33m)\u001b[0m\u001b[1;33m\u001b[0m\u001b[1;33m\u001b[0m\u001b[0m\n",
      "\u001b[1;32m<__array_function__ internals>\u001b[0m in \u001b[0;36mstd\u001b[1;34m(*args, **kwargs)\u001b[0m\n",
      "\u001b[1;32m~\\anaconda3\\lib\\site-packages\\numpy\\core\\fromnumeric.py\u001b[0m in \u001b[0;36mstd\u001b[1;34m(a, axis, dtype, out, ddof, keepdims, where)\u001b[0m\n\u001b[0;32m   3579\u001b[0m             \u001b[1;32mreturn\u001b[0m \u001b[0mstd\u001b[0m\u001b[1;33m(\u001b[0m\u001b[0maxis\u001b[0m\u001b[1;33m=\u001b[0m\u001b[0maxis\u001b[0m\u001b[1;33m,\u001b[0m \u001b[0mdtype\u001b[0m\u001b[1;33m=\u001b[0m\u001b[0mdtype\u001b[0m\u001b[1;33m,\u001b[0m \u001b[0mout\u001b[0m\u001b[1;33m=\u001b[0m\u001b[0mout\u001b[0m\u001b[1;33m,\u001b[0m \u001b[0mddof\u001b[0m\u001b[1;33m=\u001b[0m\u001b[0mddof\u001b[0m\u001b[1;33m,\u001b[0m \u001b[1;33m**\u001b[0m\u001b[0mkwargs\u001b[0m\u001b[1;33m)\u001b[0m\u001b[1;33m\u001b[0m\u001b[1;33m\u001b[0m\u001b[0m\n\u001b[0;32m   3580\u001b[0m \u001b[1;33m\u001b[0m\u001b[0m\n\u001b[1;32m-> 3581\u001b[1;33m     return _methods._std(a, axis=axis, dtype=dtype, out=out, ddof=ddof,\n\u001b[0m\u001b[0;32m   3582\u001b[0m                          **kwargs)\n\u001b[0;32m   3583\u001b[0m \u001b[1;33m\u001b[0m\u001b[0m\n",
      "\u001b[1;32m~\\anaconda3\\lib\\site-packages\\numpy\\core\\_methods.py\u001b[0m in \u001b[0;36m_std\u001b[1;34m(a, axis, dtype, out, ddof, keepdims, where)\u001b[0m\n\u001b[0;32m    260\u001b[0m def _std(a, axis=None, dtype=None, out=None, ddof=0, keepdims=False, *,\n\u001b[0;32m    261\u001b[0m          where=True):\n\u001b[1;32m--> 262\u001b[1;33m     ret = _var(a, axis=axis, dtype=dtype, out=out, ddof=ddof,\n\u001b[0m\u001b[0;32m    263\u001b[0m                keepdims=keepdims, where=where)\n\u001b[0;32m    264\u001b[0m \u001b[1;33m\u001b[0m\u001b[0m\n",
      "\u001b[1;32m~\\anaconda3\\lib\\site-packages\\numpy\\core\\_methods.py\u001b[0m in \u001b[0;36m_var\u001b[1;34m(a, axis, dtype, out, ddof, keepdims, where)\u001b[0m\n\u001b[0;32m    228\u001b[0m     \u001b[1;31m# Note that x may not be inexact and that we need it to be an array,\u001b[0m\u001b[1;33m\u001b[0m\u001b[1;33m\u001b[0m\u001b[1;33m\u001b[0m\u001b[0m\n\u001b[0;32m    229\u001b[0m     \u001b[1;31m# not a scalar.\u001b[0m\u001b[1;33m\u001b[0m\u001b[1;33m\u001b[0m\u001b[1;33m\u001b[0m\u001b[0m\n\u001b[1;32m--> 230\u001b[1;33m     \u001b[0mx\u001b[0m \u001b[1;33m=\u001b[0m \u001b[0masanyarray\u001b[0m\u001b[1;33m(\u001b[0m\u001b[0marr\u001b[0m \u001b[1;33m-\u001b[0m \u001b[0marrmean\u001b[0m\u001b[1;33m)\u001b[0m\u001b[1;33m\u001b[0m\u001b[1;33m\u001b[0m\u001b[0m\n\u001b[0m\u001b[0;32m    231\u001b[0m \u001b[1;33m\u001b[0m\u001b[0m\n\u001b[0;32m    232\u001b[0m     \u001b[1;32mif\u001b[0m \u001b[0missubclass\u001b[0m\u001b[1;33m(\u001b[0m\u001b[0marr\u001b[0m\u001b[1;33m.\u001b[0m\u001b[0mdtype\u001b[0m\u001b[1;33m.\u001b[0m\u001b[0mtype\u001b[0m\u001b[1;33m,\u001b[0m \u001b[1;33m(\u001b[0m\u001b[0mnt\u001b[0m\u001b[1;33m.\u001b[0m\u001b[0mfloating\u001b[0m\u001b[1;33m,\u001b[0m \u001b[0mnt\u001b[0m\u001b[1;33m.\u001b[0m\u001b[0minteger\u001b[0m\u001b[1;33m)\u001b[0m\u001b[1;33m)\u001b[0m\u001b[1;33m:\u001b[0m\u001b[1;33m\u001b[0m\u001b[1;33m\u001b[0m\u001b[0m\n",
      "\u001b[1;31mMemoryError\u001b[0m: Unable to allocate 23.8 GiB for an array with shape (3943, 600, 450, 3) and data type float64"
     ]
    }
   ],
   "source": [
    "x_train = np.asarray(x_train_o['image'].tolist())\n",
    "x_test = np.asarray(x_test_o['image'].tolist())\n",
    "\n",
    "x_train_mean = np.mean(x_train)\n",
    "x_train_std = np.std(x_train)\n",
    "\n",
    "x_test_mean = np.mean(x_test)\n",
    "x_test_std = np.std(x_test)\n",
    "\n",
    "x_train = (x_train - x_train_mean)/x_train_std\n",
    "x_test = (x_test - x_test_mean)/x_test_std"
   ]
  },
  {
   "cell_type": "code",
   "execution_count": 86,
   "metadata": {
    "id": "NotFxAjsUSoU",
    "papermill": {
     "duration": null,
     "end_time": null,
     "exception": null,
     "start_time": null,
     "status": "pending"
    },
    "tags": []
   },
   "outputs": [
    {
     "data": {
      "text/plain": [
       "array([[0., 1., 0., ..., 0., 0., 0.],\n",
       "       [0., 1., 0., ..., 0., 0., 0.],\n",
       "       [0., 1., 0., ..., 0., 0., 0.],\n",
       "       ...,\n",
       "       [0., 1., 0., ..., 0., 0., 0.],\n",
       "       [0., 1., 0., ..., 0., 0., 0.],\n",
       "       [0., 1., 0., ..., 0., 0., 0.]], dtype=float32)"
      ]
     },
     "execution_count": 86,
     "metadata": {},
     "output_type": "execute_result"
    }
   ],
   "source": [
    "# Perform one-hot encoding on the labels\n",
    "y_train = to_categorical(y_train_o, num_classes = 7)\n",
    "y_test = to_categorical(y_test_o, num_classes = 7)\n",
    "y_test"
   ]
  },
  {
   "cell_type": "code",
   "execution_count": 87,
   "metadata": {
    "id": "DPzogZKbT-pp",
    "papermill": {
     "duration": null,
     "end_time": null,
     "exception": null,
     "start_time": null,
     "status": "pending"
    },
    "tags": []
   },
   "outputs": [
    {
     "ename": "ValueError",
     "evalue": "cannot reshape array of size 2873880000 into shape (3548,224,224,3)",
     "output_type": "error",
     "traceback": [
      "\u001b[1;31m---------------------------------------------------------------------------\u001b[0m",
      "\u001b[1;31mValueError\u001b[0m                                Traceback (most recent call last)",
      "\u001b[1;32m~\\AppData\\Local\\Temp/ipykernel_7072/2454700661.py\u001b[0m in \u001b[0;36m<module>\u001b[1;34m\u001b[0m\n\u001b[0;32m      1\u001b[0m \u001b[0mx_train\u001b[0m\u001b[1;33m,\u001b[0m \u001b[0mx_validate\u001b[0m\u001b[1;33m,\u001b[0m \u001b[0my_train\u001b[0m\u001b[1;33m,\u001b[0m \u001b[0my_validate\u001b[0m \u001b[1;33m=\u001b[0m \u001b[0mtrain_test_split\u001b[0m\u001b[1;33m(\u001b[0m\u001b[0mx_train\u001b[0m\u001b[1;33m,\u001b[0m \u001b[0my_train\u001b[0m\u001b[1;33m,\u001b[0m \u001b[0mtest_size\u001b[0m \u001b[1;33m=\u001b[0m \u001b[1;36m0.1\u001b[0m\u001b[1;33m,\u001b[0m \u001b[0mrandom_state\u001b[0m \u001b[1;33m=\u001b[0m \u001b[1;36m999\u001b[0m\u001b[1;33m)\u001b[0m\u001b[1;33m\u001b[0m\u001b[1;33m\u001b[0m\u001b[0m\n\u001b[0;32m      2\u001b[0m \u001b[1;31m# Reshape image in 3 dimensions (height = 100, width = 125 , canal = 3)\u001b[0m\u001b[1;33m\u001b[0m\u001b[1;33m\u001b[0m\u001b[1;33m\u001b[0m\u001b[0m\n\u001b[1;32m----> 3\u001b[1;33m \u001b[0mx_train\u001b[0m \u001b[1;33m=\u001b[0m \u001b[0mx_train\u001b[0m\u001b[1;33m.\u001b[0m\u001b[0mreshape\u001b[0m\u001b[1;33m(\u001b[0m\u001b[0mx_train\u001b[0m\u001b[1;33m.\u001b[0m\u001b[0mshape\u001b[0m\u001b[1;33m[\u001b[0m\u001b[1;36m0\u001b[0m\u001b[1;33m]\u001b[0m\u001b[1;33m,\u001b[0m \u001b[1;33m*\u001b[0m\u001b[1;33m(\u001b[0m\u001b[1;36m224\u001b[0m\u001b[1;33m,\u001b[0m \u001b[1;36m224\u001b[0m\u001b[1;33m,\u001b[0m \u001b[1;36m3\u001b[0m\u001b[1;33m)\u001b[0m\u001b[1;33m)\u001b[0m\u001b[1;33m\u001b[0m\u001b[1;33m\u001b[0m\u001b[0m\n\u001b[0m\u001b[0;32m      4\u001b[0m \u001b[0mx_test\u001b[0m \u001b[1;33m=\u001b[0m \u001b[0mx_test\u001b[0m\u001b[1;33m.\u001b[0m\u001b[0mreshape\u001b[0m\u001b[1;33m(\u001b[0m\u001b[0mx_test\u001b[0m\u001b[1;33m.\u001b[0m\u001b[0mshape\u001b[0m\u001b[1;33m[\u001b[0m\u001b[1;36m0\u001b[0m\u001b[1;33m]\u001b[0m\u001b[1;33m,\u001b[0m \u001b[1;33m*\u001b[0m\u001b[1;33m(\u001b[0m\u001b[1;36m224\u001b[0m\u001b[1;33m,\u001b[0m \u001b[1;36m224\u001b[0m\u001b[1;33m,\u001b[0m \u001b[1;36m3\u001b[0m\u001b[1;33m)\u001b[0m\u001b[1;33m)\u001b[0m\u001b[1;33m\u001b[0m\u001b[1;33m\u001b[0m\u001b[0m\n\u001b[0;32m      5\u001b[0m \u001b[0mx_validate\u001b[0m \u001b[1;33m=\u001b[0m \u001b[0mx_validate\u001b[0m\u001b[1;33m.\u001b[0m\u001b[0mreshape\u001b[0m\u001b[1;33m(\u001b[0m\u001b[0mx_validate\u001b[0m\u001b[1;33m.\u001b[0m\u001b[0mshape\u001b[0m\u001b[1;33m[\u001b[0m\u001b[1;36m0\u001b[0m\u001b[1;33m]\u001b[0m\u001b[1;33m,\u001b[0m \u001b[1;33m*\u001b[0m\u001b[1;33m(\u001b[0m\u001b[1;36m224\u001b[0m\u001b[1;33m,\u001b[0m \u001b[1;36m224\u001b[0m\u001b[1;33m,\u001b[0m \u001b[1;36m3\u001b[0m\u001b[1;33m)\u001b[0m\u001b[1;33m)\u001b[0m\u001b[1;33m\u001b[0m\u001b[1;33m\u001b[0m\u001b[0m\n",
      "\u001b[1;31mValueError\u001b[0m: cannot reshape array of size 2873880000 into shape (3548,224,224,3)"
     ]
    }
   ],
   "source": [
    "x_train, x_validate, y_train, y_validate = train_test_split(x_train, y_train, test_size = 0.1, random_state = 999)\n",
    "# Reshape image in 3 dimensions (height = 100, width = 125 , canal = 3)\n",
    "x_train = x_train.reshape(x_train.shape[0], *(224, 224, 3))\n",
    "x_test = x_test.reshape(x_test.shape[0], *(224, 224, 3))\n",
    "x_validate = x_validate.reshape(x_validate.shape[0], *(224, 224, 3))"
   ]
  },
  {
   "cell_type": "code",
   "execution_count": 88,
   "metadata": {
    "id": "VXDN4UPWUDIu",
    "papermill": {
     "duration": null,
     "end_time": null,
     "exception": null,
     "start_time": null,
     "status": "pending"
    },
    "tags": []
   },
   "outputs": [
    {
     "name": "stdout",
     "output_type": "stream",
     "text": [
      "(3548, 600, 450, 3)\n"
     ]
    }
   ],
   "source": [
    "print(x_train.shape)"
   ]
  },
  {
   "cell_type": "code",
   "execution_count": 89,
   "metadata": {
    "_uuid": "ad582cb8ea0ca2d563fc367aa89b7edfafc1a57f",
    "id": "HUY5GXG1fXb3",
    "papermill": {
     "duration": null,
     "end_time": null,
     "exception": null,
     "start_time": null,
     "status": "pending"
    },
    "tags": []
   },
   "outputs": [
    {
     "name": "stdout",
     "output_type": "stream",
     "text": [
      "Downloading data from https://storage.googleapis.com/tensorflow/keras-applications/mobilenet/mobilenet_1_0_224_tf.h5\n",
      "17227776/17225924 [==============================] - 19s 1us/step\n",
      "17235968/17225924 [==============================] - 19s 1us/step\n"
     ]
    }
   ],
   "source": [
    "# create a copy of a mobilenet model\n",
    "\n",
    "mobile = tensorflow.keras.applications.mobilenet.MobileNet()"
   ]
  },
  {
   "cell_type": "code",
   "execution_count": null,
   "metadata": {
    "_kg_hide-output": true,
    "_uuid": "960449ec7ecdda92ba733ad23b00b7be605f3d4b",
    "id": "pJihTTvGfXb3",
    "papermill": {
     "duration": null,
     "end_time": null,
     "exception": null,
     "start_time": null,
     "status": "pending"
    },
    "tags": []
   },
   "outputs": [],
   "source": [
    "mobile.summary()"
   ]
  },
  {
   "cell_type": "code",
   "execution_count": null,
   "metadata": {
    "id": "2dS171zSeTDw",
    "papermill": {
     "duration": null,
     "end_time": null,
     "exception": null,
     "start_time": null,
     "status": "pending"
    },
    "tags": []
   },
   "outputs": [],
   "source": [
    "def change_model(model, new_input_shape=(None, 40, 40, 3),custom_objects=None):\n",
    "    # replace input shape of first layer\n",
    "    \n",
    "    config = model.layers[0].get_config()\n",
    "    config['batch_input_shape']=new_input_shape\n",
    "    model._layers[0]=model.layers[0].from_config(config)\n",
    "\n",
    "    # rebuild model architecture by exporting and importing via json\n",
    "    new_model = tensorflow.keras.models.model_from_json(model.to_json(),custom_objects=custom_objects)\n",
    "\n",
    "    # copy weights from old model to new one\n",
    "    for layer in new_model._layers:\n",
    "        try:\n",
    "            layer.set_weights(model.get_layer(name=layer.name).get_weights())\n",
    "            print(\"Loaded layer {}\".format(layer.name))\n",
    "        except:\n",
    "            print(\"Could not transfer weights for layer {}\".format(layer.name))\n",
    "\n",
    "    return new_model"
   ]
  },
  {
   "cell_type": "code",
   "execution_count": null,
   "metadata": {
    "id": "ccJ4yYC3ecgs",
    "papermill": {
     "duration": null,
     "end_time": null,
     "exception": null,
     "start_time": null,
     "status": "pending"
    },
    "tags": []
   },
   "outputs": [],
   "source": [
    "new_model = change_model(mobile, new_input_shape=[None] + [100,125,3])\n",
    "new_model.summary()"
   ]
  },
  {
   "cell_type": "code",
   "execution_count": null,
   "metadata": {
    "_uuid": "4dd9dcf26d85a57a113e6b158cf8fceeca7f99de",
    "id": "NXypIGYkfXb4",
    "papermill": {
     "duration": null,
     "end_time": null,
     "exception": null,
     "start_time": null,
     "status": "pending"
    },
    "tags": []
   },
   "outputs": [],
   "source": [
    "# CREATE THE MODEL ARCHITECTURE\n",
    "\n",
    "# Exclude the last 5 layers of the above model.\n",
    "# This will include all layers up to and including global_average_pooling2d_1\n",
    "x = new_model.layers[-6].output\n",
    "\n",
    "# Create a new dense layer for predictions\n",
    "# 7 corresponds to the number of classes\n",
    "x = Dropout(0.25)(x)\n",
    "predictions = Dense(7, activation='softmax')(x)\n",
    "\n",
    "# inputs=mobile.input selects the input layer, outputs=predictions refers to the\n",
    "# dense layer we created above.\n",
    "\n",
    "model = Model(inputs=new_model.input, outputs=predictions)"
   ]
  },
  {
   "cell_type": "code",
   "execution_count": null,
   "metadata": {
    "_uuid": "a9d74e44630c3d07a596460c8fbfda3ae7cae1e9",
    "id": "3qYjxhPffXb4",
    "papermill": {
     "duration": null,
     "end_time": null,
     "exception": null,
     "start_time": null,
     "status": "pending"
    },
    "tags": []
   },
   "outputs": [],
   "source": [
    "# We need to choose how many layers we actually want to be trained.\n",
    "\n",
    "# Here we are freezing the weights of all layers except the\n",
    "# last 23 layers in the new model.\n",
    "# The last 23 layers of the model will be trained.\n",
    "\n",
    "for layer in model.layers[:-23]:\n",
    "    layer.trainable = False"
   ]
  },
  {
   "cell_type": "code",
   "execution_count": null,
   "metadata": {
    "_uuid": "915f30a4f5ad369713bcb8e3bfa438219d6c8ef7",
    "id": "u2b5hJqFfXb4",
    "papermill": {
     "duration": null,
     "end_time": null,
     "exception": null,
     "start_time": null,
     "status": "pending"
    },
    "tags": []
   },
   "outputs": [],
   "source": [
    "# Define Top2 and Top3 Accuracy\n",
    "\n",
    "from tensorflow.keras.metrics import categorical_accuracy, top_k_categorical_accuracy\n",
    "\n",
    "def top_3_accuracy(y_true, y_pred):\n",
    "    return top_k_categorical_accuracy(y_true, y_pred, k=3)\n",
    "\n",
    "def top_2_accuracy(y_true, y_pred):\n",
    "    return top_k_categorical_accuracy(y_true, y_pred, k=2)"
   ]
  },
  {
   "cell_type": "code",
   "execution_count": null,
   "metadata": {
    "_uuid": "2013ff1abae70fed845af94e7ab3d95cefad0d61",
    "id": "cv3LzOlMfXb5",
    "papermill": {
     "duration": null,
     "end_time": null,
     "exception": null,
     "start_time": null,
     "status": "pending"
    },
    "tags": []
   },
   "outputs": [],
   "source": [
    "model.compile(Adam(lr=0.01), loss='categorical_crossentropy', \n",
    "              metrics=[categorical_accuracy, top_2_accuracy, top_3_accuracy])\n",
    "\n"
   ]
  },
  {
   "cell_type": "code",
   "execution_count": null,
   "metadata": {
    "_uuid": "3001857c9a3c2b15c2343627e340eb1ae858fae9",
    "id": "IttFr0RvfXb5",
    "papermill": {
     "duration": null,
     "end_time": null,
     "exception": null,
     "start_time": null,
     "status": "pending"
    },
    "tags": []
   },
   "outputs": [],
   "source": [
    "# Add weights to try to make the model more sensitive to melanoma\n",
    "\n",
    "class_weights={\n",
    "    0: 1.0, # akiec\n",
    "    1: 1.0, # bcc\n",
    "    2: 1.0, # bkl\n",
    "    3: 1.0, # df\n",
    "    4: 3.0, # mel # Try to make the model more sensitive to Melanoma.\n",
    "    5: 1.0, # nv\n",
    "    6: 1.0, # vasc\n",
    "}"
   ]
  },
  {
   "cell_type": "code",
   "execution_count": null,
   "metadata": {
    "_kg_hide-output": true,
    "_uuid": "4a5e3bc3cf44f1d4326c34ad880a302ba082e9d5",
    "id": "da2wBOMxfXb5",
    "papermill": {
     "duration": null,
     "end_time": null,
     "exception": null,
     "start_time": null,
     "status": "pending"
    },
    "tags": []
   },
   "outputs": [],
   "source": [
    "\n",
    "filepath = \"model.h5\"\n",
    "checkpoint = ModelCheckpoint(filepath, monitor='val_top_3_accuracy', verbose=1, \n",
    "                             save_best_only=True, mode='max')\n",
    "\n",
    "reduce_lr = ReduceLROnPlateau(monitor='val_top_3_accuracy', factor=0.5, patience=2, \n",
    "                                   verbose=1, mode='max', min_lr=0.00001)\n",
    "                              \n",
    "                              \n",
    "callbacks_list = [checkpoint, reduce_lr]\n",
    "\n",
    "history = model.fit_generator(datagen.flow(x_train,y_train, batch_size=batch_size), \n",
    "                              class_weight=class_weights,\n",
    "                    validation_data=(x_validate,y_validate),steps_per_epoch=x_train.shape[0] // batch_size,\n",
    "                    epochs=10, verbose=1,\n",
    "                   callbacks=callbacks_list)\n"
   ]
  },
  {
   "cell_type": "code",
   "execution_count": null,
   "metadata": {
    "id": "LBT_I2N8xJKx",
    "outputId": "f2034cbd-36bc-4955-e81d-574dc73f279b",
    "papermill": {
     "duration": null,
     "end_time": null,
     "exception": null,
     "start_time": null,
     "status": "pending"
    },
    "tags": []
   },
   "outputs": [],
   "source": [
    "from keras.utils.vis_utils import plot_model\n",
    "plot_model(model, to_file='model_plot.png', show_shapes=True, show_layer_names=True)"
   ]
  },
  {
   "cell_type": "code",
   "execution_count": null,
   "metadata": {
    "_uuid": "710ee26097924153647ac432c8ade29383fe42f1",
    "id": "GBHwlxdKfXb5",
    "outputId": "bdf4a9a2-878e-41c2-95cc-0800a44c3758",
    "papermill": {
     "duration": null,
     "end_time": null,
     "exception": null,
     "start_time": null,
     "status": "pending"
    },
    "tags": []
   },
   "outputs": [],
   "source": [
    "# get the metric names so we can use evaulate_generator\n",
    "model.metrics_names"
   ]
  },
  {
   "cell_type": "code",
   "execution_count": null,
   "metadata": {
    "_uuid": "68603a5e8cb5e507db95074a07b552a61fa48e11",
    "id": "34ngOU_QfXb6",
    "outputId": "e2638fc1-b062-465b-f857-47015ed97e71",
    "papermill": {
     "duration": null,
     "end_time": null,
     "exception": null,
     "start_time": null,
     "status": "pending"
    },
    "tags": []
   },
   "outputs": [],
   "source": [
    "# Here the the last epoch will be used.\n",
    "\n",
    "val_loss, val_cat_acc, val_top_2_acc, val_top_3_acc = \\\n",
    "model.evaluate(datagen.flow(x_test,y_test, batch_size=16) )\n",
    "\n",
    "print('val_loss:', val_loss)\n",
    "print('val_cat_acc:', val_cat_acc)\n",
    "print('val_top_2_acc:', val_top_2_acc)\n",
    "print('val_top_3_acc:', val_top_3_acc)"
   ]
  },
  {
   "cell_type": "code",
   "execution_count": null,
   "metadata": {
    "_uuid": "897f066da922d81fefa165a6b911a741c52ef7f5",
    "id": "FixUbNkOfXb6",
    "outputId": "67dd3b47-f367-40f0-8c61-95468186027b",
    "papermill": {
     "duration": null,
     "end_time": null,
     "exception": null,
     "start_time": null,
     "status": "pending"
    },
    "tags": []
   },
   "outputs": [],
   "source": [
    "# Here the best epoch will be used.\n",
    "\n",
    "model.load_weights('model.h5')\n",
    "\n",
    "val_loss, val_cat_acc, val_top_2_acc, val_top_3_acc = \\\n",
    "model.evaluate_generator(datagen.flow(x_test,y_test, batch_size=16) \n",
    "                        )\n",
    "\n",
    "print('val_loss:', val_loss)\n",
    "print('val_cat_acc:', val_cat_acc)\n",
    "print('val_top_2_acc:', val_top_2_acc)\n",
    "print('val_top_3_acc:', val_top_3_acc)"
   ]
  },
  {
   "cell_type": "markdown",
   "metadata": {
    "_uuid": "c3fffba5e0aa9088cda1865c7b8d75d72c20d0f6",
    "id": "KuZJJailfXb6",
    "papermill": {
     "duration": null,
     "end_time": null,
     "exception": null,
     "start_time": null,
     "status": "pending"
    },
    "tags": []
   },
   "source": [
    "### Plot the Training Curves"
   ]
  },
  {
   "cell_type": "code",
   "execution_count": null,
   "metadata": {
    "_uuid": "0cbd11ef4286a751ef2918361af035d356f341ae",
    "id": "ZKAOr0AhfXb6",
    "outputId": "4025304d-8850-42bb-feb7-f4e7b0c94748",
    "papermill": {
     "duration": null,
     "end_time": null,
     "exception": null,
     "start_time": null,
     "status": "pending"
    },
    "tags": []
   },
   "outputs": [],
   "source": [
    "# display the loss and accuracy curves\n",
    "\n",
    "import matplotlib.pyplot as plt\n",
    "\n",
    "acc = history.history['categorical_accuracy']\n",
    "val_acc = history.history['val_categorical_accuracy']\n",
    "loss = history.history['loss']\n",
    "val_loss = history.history['val_loss']\n",
    "train_top2_acc = history.history['top_2_accuracy']\n",
    "val_top2_acc = history.history['val_top_2_accuracy']\n",
    "train_top3_acc = history.history['top_3_accuracy']\n",
    "val_top3_acc = history.history['val_top_3_accuracy']\n",
    "epochs = range(1, len(acc) + 1)\n",
    "\n",
    "plt.plot(epochs, loss, 'bo', label='Training loss')\n",
    "plt.plot(epochs, val_loss, 'b', label='Validation loss')\n",
    "plt.title('Training and validation loss')\n",
    "plt.legend()\n",
    "plt.figure()\n",
    "\n",
    "plt.plot(epochs, acc, 'bo', label='Training cat acc')\n",
    "plt.plot(epochs, val_acc, 'b', label='Validation cat acc')\n",
    "plt.title('Training and validation cat accuracy')\n",
    "plt.legend()\n",
    "plt.figure()\n",
    "\n",
    "\n",
    "plt.plot(epochs, train_top2_acc, 'bo', label='Training top2 acc')\n",
    "plt.plot(epochs, val_top2_acc, 'b', label='Validation top2 acc')\n",
    "plt.title('Training and validation top2 accuracy')\n",
    "plt.legend()\n",
    "plt.figure()\n",
    "plt.plot(epochs, train_top3_acc, 'bo', label='Training top3 acc')\n",
    "plt.plot(epochs, val_top3_acc, 'b', label='Validation top3 acc')\n",
    "plt.title('Training and validation top3 accuracy')\n",
    "plt.legend()\n",
    "\n",
    "\n",
    "plt.show()"
   ]
  },
  {
   "cell_type": "code",
   "execution_count": null,
   "metadata": {
    "id": "csX2zNpJuuzM",
    "outputId": "b9089dab-cf0c-4f65-ab48-1ba451edb1f7",
    "papermill": {
     "duration": null,
     "end_time": null,
     "exception": null,
     "start_time": null,
     "status": "pending"
    },
    "tags": []
   },
   "outputs": [],
   "source": [
    "accuracy = model.evaluate(x_test, y_test,verbose=1)[1]\n",
    "accuracy_v = model.evaluate(x_validate, y_validate)[1]\n",
    "print(\"Validation: accuracy = \", accuracy_v)\n",
    "print(\"Test: accuracy = \",accuracy)\n",
    "model.save(\"model.h5\")"
   ]
  },
  {
   "cell_type": "markdown",
   "metadata": {
    "_uuid": "4204e4056c8d12c1fee72b97912879cad4ee483f",
    "id": "yB1f7dthfXb6",
    "papermill": {
     "duration": null,
     "end_time": null,
     "exception": null,
     "start_time": null,
     "status": "pending"
    },
    "tags": []
   },
   "source": [
    "### Create a Confusion Matrix"
   ]
  },
  {
   "cell_type": "code",
   "execution_count": null,
   "metadata": {
    "_uuid": "701dafc5874aa60a054a74c04170cb7e8d750e94",
    "id": "D2U1gGmafXb7",
    "outputId": "316c213b-9e92-4530-c058-454f4deffdac",
    "papermill": {
     "duration": null,
     "end_time": null,
     "exception": null,
     "start_time": null,
     "status": "pending"
    },
    "tags": []
   },
   "outputs": [],
   "source": [
    "# make a prediction\n",
    "predictions = model.predict_generator(datagen.flow(x_test,y_test, batch_size=16), verbose=1)"
   ]
  },
  {
   "cell_type": "code",
   "execution_count": null,
   "metadata": {
    "_uuid": "dcce17ac0488ff90d29b11592c9226ed1bb210fb",
    "id": "ZJuZf7MHfXb7",
    "outputId": "924d13e7-72b4-43d4-dd97-40ba5f7897ba",
    "papermill": {
     "duration": null,
     "end_time": null,
     "exception": null,
     "start_time": null,
     "status": "pending"
    },
    "tags": []
   },
   "outputs": [],
   "source": [
    "predictions.shape"
   ]
  },
  {
   "cell_type": "code",
   "execution_count": null,
   "metadata": {
    "id": "kVqiUKZo0s4_",
    "outputId": "50c76da9-de1e-4131-b86b-d6fe12af666c",
    "papermill": {
     "duration": null,
     "end_time": null,
     "exception": null,
     "start_time": null,
     "status": "pending"
    },
    "tags": []
   },
   "outputs": [],
   "source": [
    "test_batches = datagen.flow(x_test,y_test, batch_size=16) \n",
    "test_batches"
   ]
  },
  {
   "cell_type": "code",
   "execution_count": null,
   "metadata": {
    "_uuid": "7cfd9bdbbd27e27d9c5de7c6593527686445ea89",
    "id": "bQGCw2UYfXb7",
    "papermill": {
     "duration": null,
     "end_time": null,
     "exception": null,
     "start_time": null,
     "status": "pending"
    },
    "tags": []
   },
   "outputs": [],
   "source": [
    "# Source: Scikit Learn website\n",
    "# http://scikit-learn.org/stable/auto_examples/\n",
    "# model_selection/plot_confusion_matrix.html#sphx-glr-auto-examples-model-\n",
    "# selection-plot-confusion-matrix-py\n",
    "\n",
    "\n",
    "def plot_confusion_matrix(cm, classes,\n",
    "                          normalize=False,\n",
    "                          title='Confusion matrix',\n",
    "                          cmap=plt.cm.Blues):\n",
    "    \"\"\"\n",
    "    This function prints and plots the confusion matrix.\n",
    "    Normalization can be applied by setting `normalize=True`.\n",
    "    \"\"\"\n",
    "    if normalize:\n",
    "        cm = cm.astype('float') / cm.sum(axis=1)[:, np.newaxis]\n",
    "        print(\"Normalized confusion matrix\")\n",
    "    else:\n",
    "        print('Confusion matrix, without normalization')\n",
    "\n",
    "    print(cm)\n",
    "\n",
    "    plt.imshow(cm, interpolation='nearest', cmap=cmap)\n",
    "    plt.title(title)\n",
    "    plt.colorbar()\n",
    "    tick_marks = np.arange(len(classes))\n",
    "    plt.xticks(tick_marks, classes, rotation=45)\n",
    "    plt.yticks(tick_marks, classes)\n",
    "\n",
    "    fmt = '.2f' if normalize else 'd'\n",
    "    thresh = cm.max() / 2.\n",
    "    for i, j in itertools.product(range(cm.shape[0]), range(cm.shape[1])):\n",
    "        plt.text(j, i, format(cm[i, j], fmt),\n",
    "                 horizontalalignment=\"center\",\n",
    "                 color=\"white\" if cm[i, j] > thresh else \"black\")\n",
    "\n",
    "    plt.ylabel('True label')\n",
    "    plt.xlabel('Predicted label')\n",
    "    plt.tight_layout()\n",
    "\n",
    "\n"
   ]
  },
  {
   "cell_type": "code",
   "execution_count": null,
   "metadata": {
    "id": "a9IKgAgA1eGS",
    "outputId": "5f871d03-d063-40e8-f33f-f892f273e1a1",
    "papermill": {
     "duration": null,
     "end_time": null,
     "exception": null,
     "start_time": null,
     "status": "pending"
    },
    "tags": []
   },
   "outputs": [],
   "source": [
    "# Function to plot confusion matrix    \n",
    "def plot_confusion_matrix(cm, classes,\n",
    "                          normalize=False,\n",
    "                          title='Confusion matrix',\n",
    "                          cmap=plt.cm.Blues):\n",
    "    \"\"\"\n",
    "    This function prints and plots the confusion matrix.\n",
    "    Normalization can be applied by setting `normalize=True`.\n",
    "    \"\"\"\n",
    "    plt.imshow(cm, interpolation='nearest', cmap=cmap)\n",
    "    plt.title(title)\n",
    "    plt.colorbar()\n",
    "    tick_marks = np.arange(len(classes))\n",
    "    plt.xticks(tick_marks, classes, rotation=45)\n",
    "    plt.yticks(tick_marks, classes)\n",
    "\n",
    "    if normalize:\n",
    "        cm = cm.astype('float') / cm.sum(axis=1)[:, np.newaxis]\n",
    "\n",
    "    thresh = cm.max() / 2.\n",
    "    for i, j in itertools.product(range(cm.shape[0]), range(cm.shape[1])):\n",
    "        plt.text(j, i, cm[i, j],\n",
    "                 horizontalalignment=\"center\",\n",
    "                 color=\"white\" if cm[i, j] > thresh else \"black\")\n",
    "\n",
    "    plt.tight_layout()\n",
    "    plt.ylabel('True label')\n",
    "    plt.xlabel('Predicted label')\n",
    "\n",
    "# Predict the values from the validation dataset\n",
    "Y_pred = model.predict(x_validate)\n",
    "# Convert predictions classes to one hot vectors \n",
    "Y_pred_classes = np.argmax(Y_pred,axis = 1) \n",
    "# Convert validation observations to one hot vectors\n",
    "Y_true = np.argmax(y_validate,axis = 1) \n",
    "# compute the confusion matrix\n",
    "confusion_mtx = confusion_matrix(Y_true, Y_pred_classes)\n",
    "\n",
    " \n",
    "\n",
    "# plot the confusion matrix\n",
    "plot_confusion_matrix(confusion_mtx, classes = range(7)) \n"
   ]
  },
  {
   "cell_type": "code",
   "execution_count": null,
   "metadata": {
    "id": "fdJpVu5Y1kXP",
    "outputId": "7cd21bf2-9b01-40a2-ad99-58e957e5eb86",
    "papermill": {
     "duration": null,
     "end_time": null,
     "exception": null,
     "start_time": null,
     "status": "pending"
    },
    "tags": []
   },
   "outputs": [],
   "source": [
    "# Predict the values from the validation dataset\n",
    "Y_pred = model.predict(x_test)\n",
    "# Convert predictions classes to one hot vectors \n",
    "Y_pred_classes = np.argmax(Y_pred,axis = 1) \n",
    "# Convert validation observations to one hot vectors\n",
    "Y_true = np.argmax(y_test,axis = 1) \n",
    "# compute the confusion matrix\n",
    "confusion_mtx = confusion_matrix(Y_true, Y_pred_classes)\n",
    "\n",
    " \n",
    "\n",
    "# plot the confusion matrix\n",
    "plot_confusion_matrix(confusion_mtx, classes = range(7)) "
   ]
  },
  {
   "cell_type": "markdown",
   "metadata": {
    "_uuid": "571f3f23d58daa03ec3fbf9207363063b2a63373",
    "id": "RPxCpfotfXb8",
    "papermill": {
     "duration": null,
     "end_time": null,
     "exception": null,
     "start_time": null,
     "status": "pending"
    },
    "tags": []
   },
   "source": [
    "### Generate the Classification Report"
   ]
  },
  {
   "cell_type": "code",
   "execution_count": null,
   "metadata": {
    "_uuid": "ebc31a49c8e8ab5d1305e46a7d638e0da326da8b",
    "id": "7DFNKieBfXb8",
    "papermill": {
     "duration": null,
     "end_time": null,
     "exception": null,
     "start_time": null,
     "status": "pending"
    },
    "tags": []
   },
   "outputs": [],
   "source": [
    "y_pred = model.predict(x_test)\n",
    "y_pred =y_pred>0.5"
   ]
  },
  {
   "cell_type": "code",
   "execution_count": null,
   "metadata": {
    "id": "RtKAAh5Z2XMh",
    "papermill": {
     "duration": null,
     "end_time": null,
     "exception": null,
     "start_time": null,
     "status": "pending"
    },
    "tags": []
   },
   "outputs": [],
   "source": [
    "cm_plot_labels = ['Actinic Keratoses', 'Basal cell carcinoma', 'Benign Keratosis-like lesions', 'Dermatofibroma', 'Melanoma','Melanocytic Nevi', 'Vascular lesions']"
   ]
  },
  {
   "cell_type": "code",
   "execution_count": null,
   "metadata": {
    "_uuid": "05027fe3475ab922340f9d905ec1239e2157fa05",
    "id": "GGSSWaKnfXb8",
    "outputId": "3ed96c4a-d865-48f5-9873-614670c90afa",
    "papermill": {
     "duration": null,
     "end_time": null,
     "exception": null,
     "start_time": null,
     "status": "pending"
    },
    "tags": []
   },
   "outputs": [],
   "source": [
    "from sklearn.metrics import classification_report\n",
    "\n",
    "# Generate a classification report\n",
    "report = classification_report(y_test, y_pred, target_names=cm_plot_labels)\n",
    "\n",
    "print(report)"
   ]
  },
  {
   "cell_type": "markdown",
   "metadata": {
    "_uuid": "d8313f0f4024fdb8053f943136880e63ac962ac2",
    "id": "bSVkgxS6fXb9",
    "papermill": {
     "duration": null,
     "end_time": null,
     "exception": null,
     "start_time": null,
     "status": "pending"
    },
    "tags": []
   },
   "source": [
    "**Recall** = Given a class, will the classifier be able to detect it?<br>\n",
    "**Precision** = Given a class prediction from a classifier, how likely is it to be correct?<br>\n",
    "**F1 Score** = The harmonic mean of the recall and precision. Essentially, it punishes extreme values."
   ]
  },
  {
   "cell_type": "code",
   "execution_count": null,
   "metadata": {
    "_uuid": "ffb96375ce44ef009192bf6ddb44f6eb53a43838",
    "id": "vn4HBiYUfXb_",
    "papermill": {
     "duration": null,
     "end_time": null,
     "exception": null,
     "start_time": null,
     "status": "pending"
    },
    "tags": []
   },
   "outputs": [],
   "source": [
    "model.save(\"lesion_model.h5\")"
   ]
  },
  {
   "cell_type": "markdown",
   "metadata": {
    "id": "2kttv6ehwOcq",
    "papermill": {
     "duration": null,
     "end_time": null,
     "exception": null,
     "start_time": null,
     "status": "pending"
    },
    "tags": []
   },
   "source": [
    "## **XAI**\n",
    "\n",
    "### Interpretation of results of model using Feature Importance techniques\n",
    "\n",
    "The increasing trend in the use of machine learning for critical applications such as medical diagnosis suggests an imperative need for methodologies that can help to understand and evaluate the predictions of machine-learning models. \n",
    "\n",
    "There are two main ways to look at a classification or a regression model: \n",
    "1. inspect model parameters and try to figure out how the model works globally; \n",
    "2. inspect an individual prediction of a model, try to figure out why the model makes the decision it makes. \n",
    "\n",
    "For example, LIME, or Local Interpretable Model-Agnostic Explanations, is an algorithm that can explain the predictions of any classifier or regressor in a faithful way, by approximating it locally with an interpretable model.-\n",
    "\n",
    "\n",
    "### Techniques applied: LIME, PDP, SHAP, etc."
   ]
  },
  {
   "cell_type": "code",
   "execution_count": null,
   "metadata": {
    "execution": {
     "iopub.execute_input": "2021-08-24T14:02:41.101803Z",
     "iopub.status.busy": "2021-08-24T14:02:41.101469Z",
     "iopub.status.idle": "2021-08-24T14:02:41.108718Z",
     "shell.execute_reply": "2021-08-24T14:02:41.107852Z",
     "shell.execute_reply.started": "2021-08-24T14:02:41.101771Z"
    },
    "id": "sVbpMoW1wOcq",
    "papermill": {
     "duration": null,
     "end_time": null,
     "exception": null,
     "start_time": null,
     "status": "pending"
    },
    "tags": []
   },
   "outputs": [],
   "source": [
    "tile_df = df.copy()\n",
    "tile_df"
   ]
  },
  {
   "cell_type": "code",
   "execution_count": null,
   "metadata": {
    "execution": {
     "iopub.execute_input": "2021-08-24T14:02:42.289503Z",
     "iopub.status.busy": "2021-08-24T14:02:42.289181Z",
     "iopub.status.idle": "2021-08-24T14:02:42.314221Z",
     "shell.execute_reply": "2021-08-24T14:02:42.313266Z",
     "shell.execute_reply.started": "2021-08-24T14:02:42.289473Z"
    },
    "id": "zAFR3s-nTy3x",
    "outputId": "bc90963b-6488-477a-c6eb-a7c90dcf123e",
    "papermill": {
     "duration": null,
     "end_time": null,
     "exception": null,
     "start_time": null,
     "status": "pending"
    },
    "tags": []
   },
   "outputs": [],
   "source": [
    "tile_df.drop('lesion_id', inplace=True, axis=1)\n",
    "tile_df.drop('image_id', inplace=True, axis=1)\n",
    "tile_df.drop('cell_type', inplace=True, axis=1)\n",
    "tile_df.drop('path', inplace=True, axis=1)\n",
    "tile_df.drop('dx', inplace=True, axis=1)\n",
    "tile_df.head()"
   ]
  },
  {
   "cell_type": "code",
   "execution_count": null,
   "metadata": {
    "execution": {
     "iopub.execute_input": "2021-08-24T14:02:43.240516Z",
     "iopub.status.busy": "2021-08-24T14:02:43.240187Z",
     "iopub.status.idle": "2021-08-24T14:02:43.250725Z",
     "shell.execute_reply": "2021-08-24T14:02:43.249580Z",
     "shell.execute_reply.started": "2021-08-24T14:02:43.240486Z"
    },
    "id": "l-b0fVb7TzUd",
    "papermill": {
     "duration": null,
     "end_time": null,
     "exception": null,
     "start_time": null,
     "status": "pending"
    },
    "tags": []
   },
   "outputs": [],
   "source": [
    "X = tile_df.drop(['cell_type_idx'],axis=1).values\n",
    "y = tile_df['cell_type_idx'].values\n",
    "X_train,X_test,y_train,y_test = train_test_split(X,y,random_state=0)"
   ]
  },
  {
   "cell_type": "code",
   "execution_count": null,
   "metadata": {
    "execution": {
     "iopub.execute_input": "2021-08-24T14:02:44.737196Z",
     "iopub.status.busy": "2021-08-24T14:02:44.736824Z",
     "iopub.status.idle": "2021-08-24T14:03:55.315384Z",
     "shell.execute_reply": "2021-08-24T14:03:55.314430Z",
     "shell.execute_reply.started": "2021-08-24T14:02:44.737163Z"
    },
    "id": "IgfkhpGlT3Eb",
    "papermill": {
     "duration": null,
     "end_time": null,
     "exception": null,
     "start_time": null,
     "status": "pending"
    },
    "tags": []
   },
   "outputs": [],
   "source": [
    "!pip install alibi"
   ]
  },
  {
   "cell_type": "code",
   "execution_count": null,
   "metadata": {
    "execution": {
     "iopub.execute_input": "2021-08-24T14:04:21.642170Z",
     "iopub.status.busy": "2021-08-24T14:04:21.641802Z",
     "iopub.status.idle": "2021-08-24T14:04:27.922458Z",
     "shell.execute_reply": "2021-08-24T14:04:27.921533Z",
     "shell.execute_reply.started": "2021-08-24T14:04:21.642135Z"
    },
    "id": "Ru4q35ehWPho",
    "papermill": {
     "duration": null,
     "end_time": null,
     "exception": null,
     "start_time": null,
     "status": "pending"
    },
    "tags": []
   },
   "outputs": [],
   "source": [
    "pip install shap"
   ]
  },
  {
   "cell_type": "code",
   "execution_count": null,
   "metadata": {
    "id": "9Jd-OPjfU8Rt",
    "outputId": "ba948583-28f9-4c34-ba7a-00ba13a4ed0d",
    "papermill": {
     "duration": null,
     "end_time": null,
     "exception": null,
     "start_time": null,
     "status": "pending"
    },
    "tags": []
   },
   "outputs": [],
   "source": [
    "import shap\n",
    "shap.initjs()\n",
    "\n",
    "import matplotlib.pyplot as plt\n",
    "import numpy as np\n",
    "import pandas as pd\n",
    "\n",
    "from alibi.explainers import KernelShap\n",
    "from scipy.special import logit\n",
    "from sklearn.metrics import confusion_matrix, plot_confusion_matrix\n",
    "from sklearn.model_selection import train_test_split\n",
    "from sklearn.preprocessing import StandardScaler\n",
    "from sklearn.linear_model import LogisticRegression"
   ]
  },
  {
   "cell_type": "markdown",
   "metadata": {
    "id": "vDbqT2xXh-UC",
    "papermill": {
     "duration": null,
     "end_time": null,
     "exception": null,
     "start_time": null,
     "status": "pending"
    },
    "tags": []
   },
   "source": [
    "As the dataframe consisted of a few features in the form of strings, we have processed these features by localization one hot method. "
   ]
  },
  {
   "cell_type": "code",
   "execution_count": null,
   "metadata": {
    "execution": {
     "iopub.execute_input": "2021-08-24T14:04:38.737107Z",
     "iopub.status.busy": "2021-08-24T14:04:38.736751Z",
     "iopub.status.idle": "2021-08-24T14:04:38.760980Z",
     "shell.execute_reply": "2021-08-24T14:04:38.760073Z",
     "shell.execute_reply.started": "2021-08-24T14:04:38.737072Z"
    },
    "id": "lrKHMqr6W3SA",
    "outputId": "fde064d2-1b1e-4c6b-fb19-012b49383204",
    "papermill": {
     "duration": null,
     "end_time": null,
     "exception": null,
     "start_time": null,
     "status": "pending"
    },
    "tags": []
   },
   "outputs": [],
   "source": [
    "tile_df['localization_onehot'] = tile_df.localization.map({'scalp':0, 'ear':1, 'face':2, 'neck':3,'back':4, 'trunk':5, 'chest':6,\n",
    "       'upper extremity':7, 'abdomen':8, 'lower extremity':9,\n",
    "       'genital':10, 'hand':11, 'foot':12, 'acral':13, 'unknown':14})\n",
    "tile_df.head()"
   ]
  },
  {
   "cell_type": "code",
   "execution_count": null,
   "metadata": {
    "execution": {
     "iopub.execute_input": "2021-08-24T14:04:39.994109Z",
     "iopub.status.busy": "2021-08-24T14:04:39.993746Z",
     "iopub.status.idle": "2021-08-24T14:04:40.009699Z",
     "shell.execute_reply": "2021-08-24T14:04:40.008743Z",
     "shell.execute_reply.started": "2021-08-24T14:04:39.994074Z"
    },
    "id": "yVcm2nb0Xfy3",
    "outputId": "d94e97a6-2cf5-4606-9bd0-d46fd5adba52",
    "papermill": {
     "duration": null,
     "end_time": null,
     "exception": null,
     "start_time": null,
     "status": "pending"
    },
    "tags": []
   },
   "outputs": [],
   "source": [
    "tile_df['dx_type_onehot'] = tile_df.dx_type.map({'confocal':0,'consensus':1,'follow_up':2,'histo':3})\n",
    "tile_df.head()"
   ]
  },
  {
   "cell_type": "code",
   "execution_count": null,
   "metadata": {
    "execution": {
     "iopub.execute_input": "2021-08-24T14:04:40.381701Z",
     "iopub.status.busy": "2021-08-24T14:04:40.381400Z",
     "iopub.status.idle": "2021-08-24T14:04:40.397781Z",
     "shell.execute_reply": "2021-08-24T14:04:40.396582Z",
     "shell.execute_reply.started": "2021-08-24T14:04:40.381672Z"
    },
    "id": "xj_wIHd1YCqu",
    "outputId": "78f86170-11d5-401a-90b1-d04a3e0bd930",
    "papermill": {
     "duration": null,
     "end_time": null,
     "exception": null,
     "start_time": null,
     "status": "pending"
    },
    "tags": []
   },
   "outputs": [],
   "source": [
    "tile_df['gender_male'] = tile_df.sex.map({'female':0, 'male':1, 'unknown':2})\n",
    "tile_df.head()"
   ]
  },
  {
   "cell_type": "code",
   "execution_count": null,
   "metadata": {
    "execution": {
     "iopub.execute_input": "2021-08-24T14:04:40.846331Z",
     "iopub.status.busy": "2021-08-24T14:04:40.846015Z",
     "iopub.status.idle": "2021-08-24T14:04:40.852917Z",
     "shell.execute_reply": "2021-08-24T14:04:40.851847Z",
     "shell.execute_reply.started": "2021-08-24T14:04:40.846302Z"
    },
    "id": "iVbVjR9XX1Up",
    "outputId": "d1def687-a1ab-4923-cfc3-78600691bc11",
    "papermill": {
     "duration": null,
     "end_time": null,
     "exception": null,
     "start_time": null,
     "status": "pending"
    },
    "tags": []
   },
   "outputs": [],
   "source": [
    "tile_df.columns"
   ]
  },
  {
   "cell_type": "code",
   "execution_count": null,
   "metadata": {
    "execution": {
     "iopub.execute_input": "2021-08-24T14:04:41.348495Z",
     "iopub.status.busy": "2021-08-24T14:04:41.348146Z",
     "iopub.status.idle": "2021-08-24T14:04:41.352908Z",
     "shell.execute_reply": "2021-08-24T14:04:41.351657Z",
     "shell.execute_reply.started": "2021-08-24T14:04:41.348464Z"
    },
    "id": "owwrHrmgXzjo",
    "papermill": {
     "duration": null,
     "end_time": null,
     "exception": null,
     "start_time": null,
     "status": "pending"
    },
    "tags": []
   },
   "outputs": [],
   "source": [
    "features = ['age',  'localization_onehot', 'dx_type_onehot','gender_male']"
   ]
  },
  {
   "cell_type": "code",
   "execution_count": null,
   "metadata": {
    "execution": {
     "iopub.execute_input": "2021-08-24T14:04:41.870440Z",
     "iopub.status.busy": "2021-08-24T14:04:41.870093Z",
     "iopub.status.idle": "2021-08-24T14:04:41.883025Z",
     "shell.execute_reply": "2021-08-24T14:04:41.882062Z",
     "shell.execute_reply.started": "2021-08-24T14:04:41.870408Z"
    },
    "id": "v7dGtw7OXwXF",
    "papermill": {
     "duration": null,
     "end_time": null,
     "exception": null,
     "start_time": null,
     "status": "pending"
    },
    "tags": []
   },
   "outputs": [],
   "source": [
    "X = tile_df[features]\n",
    "y = tile_df['cell_type_idx'].values\n",
    "X_train,X_test,y_train,y_test = train_test_split(X,y,random_state=0)"
   ]
  },
  {
   "cell_type": "code",
   "execution_count": null,
   "metadata": {
    "execution": {
     "iopub.execute_input": "2021-08-24T14:04:42.721519Z",
     "iopub.status.busy": "2021-08-24T14:04:42.721178Z",
     "iopub.status.idle": "2021-08-24T14:04:42.794335Z",
     "shell.execute_reply": "2021-08-24T14:04:42.793519Z",
     "shell.execute_reply.started": "2021-08-24T14:04:42.721488Z"
    },
    "id": "5mw1Wm5MbxVA",
    "papermill": {
     "duration": null,
     "end_time": null,
     "exception": null,
     "start_time": null,
     "status": "pending"
    },
    "tags": []
   },
   "outputs": [],
   "source": [
    "from xgboost import XGBClassifier\n",
    "from sklearn.ensemble import RandomForestClassifier"
   ]
  },
  {
   "cell_type": "markdown",
   "metadata": {
    "id": "QIlKOAVtiKKv",
    "papermill": {
     "duration": null,
     "end_time": null,
     "exception": null,
     "start_time": null,
     "status": "pending"
    },
    "tags": []
   },
   "source": [
    "Creating a XGB Classifier model for the prediction of the type of skin disease using a tabular dataset:"
   ]
  },
  {
   "cell_type": "code",
   "execution_count": null,
   "metadata": {
    "execution": {
     "iopub.execute_input": "2021-08-24T14:04:45.659420Z",
     "iopub.status.busy": "2021-08-24T14:04:45.659063Z",
     "iopub.status.idle": "2021-08-24T14:04:48.645417Z",
     "shell.execute_reply": "2021-08-24T14:04:48.644493Z",
     "shell.execute_reply.started": "2021-08-24T14:04:45.659386Z"
    },
    "id": "U-Rhy7M3Vrfq",
    "papermill": {
     "duration": null,
     "end_time": null,
     "exception": null,
     "start_time": null,
     "status": "pending"
    },
    "tags": []
   },
   "outputs": [],
   "source": [
    "model = XGBClassifier(random_state=1)\n",
    "model = model.fit(X_train, y_train)"
   ]
  },
  {
   "cell_type": "code",
   "execution_count": null,
   "metadata": {
    "execution": {
     "iopub.execute_input": "2021-08-24T14:04:48.648669Z",
     "iopub.status.busy": "2021-08-24T14:04:48.648133Z",
     "iopub.status.idle": "2021-08-24T14:04:48.680493Z",
     "shell.execute_reply": "2021-08-24T14:04:48.679888Z",
     "shell.execute_reply.started": "2021-08-24T14:04:48.648627Z"
    },
    "id": "dShcJg2dWUXV",
    "papermill": {
     "duration": null,
     "end_time": null,
     "exception": null,
     "start_time": null,
     "status": "pending"
    },
    "tags": []
   },
   "outputs": [],
   "source": [
    "y_pred = model.predict(X_test)"
   ]
  },
  {
   "cell_type": "code",
   "execution_count": null,
   "metadata": {
    "execution": {
     "iopub.execute_input": "2021-08-24T14:04:48.682444Z",
     "iopub.status.busy": "2021-08-24T14:04:48.681945Z",
     "iopub.status.idle": "2021-08-24T14:04:48.690518Z",
     "shell.execute_reply": "2021-08-24T14:04:48.689605Z",
     "shell.execute_reply.started": "2021-08-24T14:04:48.682406Z"
    },
    "id": "vMGWfEErgMFT",
    "papermill": {
     "duration": null,
     "end_time": null,
     "exception": null,
     "start_time": null,
     "status": "pending"
    },
    "tags": []
   },
   "outputs": [],
   "source": [
    "predictions = [round(value) for value in y_pred]"
   ]
  },
  {
   "cell_type": "code",
   "execution_count": null,
   "metadata": {
    "execution": {
     "iopub.execute_input": "2021-08-24T14:04:48.692181Z",
     "iopub.status.busy": "2021-08-24T14:04:48.691816Z",
     "iopub.status.idle": "2021-08-24T14:04:48.706189Z",
     "shell.execute_reply": "2021-08-24T14:04:48.703133Z",
     "shell.execute_reply.started": "2021-08-24T14:04:48.692141Z"
    },
    "id": "LZiCUVzrgQLK",
    "outputId": "53ca051d-2e76-464d-c091-1e6935493dd4",
    "papermill": {
     "duration": null,
     "end_time": null,
     "exception": null,
     "start_time": null,
     "status": "pending"
    },
    "tags": []
   },
   "outputs": [],
   "source": [
    "from sklearn.metrics import accuracy_score\n",
    "accuracy = accuracy_score(y_test, predictions)\n",
    "print(\"Accuracy: %.2f%%\" % (accuracy * 100.0))"
   ]
  },
  {
   "cell_type": "markdown",
   "metadata": {
    "id": "TMjMzMApiUjy",
    "papermill": {
     "duration": null,
     "end_time": null,
     "exception": null,
     "start_time": null,
     "status": "pending"
    },
    "tags": []
   },
   "source": [
    "**Shap:**\n",
    "\n",
    "The goal of SHAP is to explain the prediction of an instance x by computing the contribution of each feature to the prediction. The SHAP explanation method computes Shapley values from coalitional theory.\n",
    "\n",
    "![](https://christophm.github.io/interpretable-ml-book/images/shap-simplified-features.jpg)"
   ]
  },
  {
   "cell_type": "code",
   "execution_count": null,
   "metadata": {
    "execution": {
     "iopub.execute_input": "2021-08-24T14:04:49.637224Z",
     "iopub.status.busy": "2021-08-24T14:04:49.636843Z",
     "iopub.status.idle": "2021-08-24T14:04:55.101807Z",
     "shell.execute_reply": "2021-08-24T14:04:55.100824Z",
     "shell.execute_reply.started": "2021-08-24T14:04:49.637190Z"
    },
    "id": "N9R5HoEzYYY1",
    "papermill": {
     "duration": null,
     "end_time": null,
     "exception": null,
     "start_time": null,
     "status": "pending"
    },
    "tags": []
   },
   "outputs": [],
   "source": [
    "explainer = shap.TreeExplainer(model)\n",
    "shap_values = explainer.shap_values(X_test)"
   ]
  },
  {
   "cell_type": "code",
   "execution_count": null,
   "metadata": {
    "execution": {
     "iopub.execute_input": "2021-08-24T14:04:59.073230Z",
     "iopub.status.busy": "2021-08-24T14:04:59.072832Z",
     "iopub.status.idle": "2021-08-24T14:04:59.079542Z",
     "shell.execute_reply": "2021-08-24T14:04:59.078079Z",
     "shell.execute_reply.started": "2021-08-24T14:04:59.073191Z"
    },
    "id": "Y9MEZfJfcQVf",
    "outputId": "f189ee96-6f85-48ba-b304-13339335928e",
    "papermill": {
     "duration": null,
     "end_time": null,
     "exception": null,
     "start_time": null,
     "status": "pending"
    },
    "tags": []
   },
   "outputs": [],
   "source": [
    "print('Expected Value: ', explainer.expected_value)"
   ]
  },
  {
   "cell_type": "code",
   "execution_count": null,
   "metadata": {
    "execution": {
     "iopub.execute_input": "2021-08-24T14:04:59.488382Z",
     "iopub.status.busy": "2021-08-24T14:04:59.487991Z",
     "iopub.status.idle": "2021-08-24T14:04:59.798983Z",
     "shell.execute_reply": "2021-08-24T14:04:59.798193Z",
     "shell.execute_reply.started": "2021-08-24T14:04:59.488351Z"
    },
    "id": "D0OYKvbHdBV7",
    "outputId": "7122e81e-9016-445e-f58e-8d3a6ce8f7ef",
    "papermill": {
     "duration": null,
     "end_time": null,
     "exception": null,
     "start_time": null,
     "status": "pending"
    },
    "tags": []
   },
   "outputs": [],
   "source": [
    "shap.summary_plot(shap_values, X_test, plot_type=\"bar\")"
   ]
  },
  {
   "cell_type": "markdown",
   "metadata": {
    "id": "nV_59ksapNCQ",
    "papermill": {
     "duration": null,
     "end_time": null,
     "exception": null,
     "start_time": null,
     "status": "pending"
    },
    "tags": []
   },
   "source": [
    "The feature importance plot, other than showing us which features are the most important, also show us which feature plays a major role in the prediction of which class.\n",
    "For example, we observe that the localization plays a major role in predicting whether the disease belongs to class 3. Similarly, dx_type_onehot plays a major role in predicting whether the disease belongs to class 1, 5, etc."
   ]
  },
  {
   "cell_type": "code",
   "execution_count": null,
   "metadata": {
    "execution": {
     "iopub.execute_input": "2021-08-24T14:05:03.995144Z",
     "iopub.status.busy": "2021-08-24T14:05:03.994742Z",
     "iopub.status.idle": "2021-08-24T14:05:04.416321Z",
     "shell.execute_reply": "2021-08-24T14:05:04.415515Z",
     "shell.execute_reply.started": "2021-08-24T14:05:03.995096Z"
    },
    "id": "eRcKVMvNtris",
    "outputId": "8c7ddc39-ee5c-44b6-fb8e-a5c14b910d2e",
    "papermill": {
     "duration": null,
     "end_time": null,
     "exception": null,
     "start_time": null,
     "status": "pending"
    },
    "tags": []
   },
   "outputs": [],
   "source": [
    "shap.summary_plot(shap_values[0], X_test)"
   ]
  },
  {
   "cell_type": "markdown",
   "metadata": {
    "id": "lcNWgVlvvJ8P",
    "papermill": {
     "duration": null,
     "end_time": null,
     "exception": null,
     "start_time": null,
     "status": "pending"
    },
    "tags": []
   },
   "source": [
    "From this summary plot, we observe the effect of the different values of each feature on the SHAP value, which is used for prediction. For example, we see that the higher values of dx_type_onehot (follow up and histopathology) are associated with a higher SHAP value."
   ]
  },
  {
   "cell_type": "code",
   "execution_count": null,
   "metadata": {
    "execution": {
     "iopub.execute_input": "2021-08-24T14:05:15.838681Z",
     "iopub.status.busy": "2021-08-24T14:05:15.838329Z",
     "iopub.status.idle": "2021-08-24T14:05:15.851342Z",
     "shell.execute_reply": "2021-08-24T14:05:15.850239Z",
     "shell.execute_reply.started": "2021-08-24T14:05:15.838646Z"
    },
    "id": "VFTK7rtTugAy",
    "outputId": "ee4a6cb3-45db-43a7-9b80-34ed8653e1d4",
    "papermill": {
     "duration": null,
     "end_time": null,
     "exception": null,
     "start_time": null,
     "status": "pending"
    },
    "tags": []
   },
   "outputs": [],
   "source": [
    "from sklearn.preprocessing import LabelEncoder\n",
    "\n",
    "## Preprocess training and test target (y) after having performed train-test split\n",
    "le = LabelEncoder()\n",
    "y_multi_train = pd.Series(le.fit_transform(y_train))\n",
    "y_multi_test = pd.Series(le.transform(y_test))\n",
    "\n",
    "## Check classes\n",
    "le.classes_"
   ]
  },
  {
   "cell_type": "code",
   "execution_count": null,
   "metadata": {
    "execution": {
     "iopub.execute_input": "2021-08-24T14:05:16.131741Z",
     "iopub.status.busy": "2021-08-24T14:05:16.131364Z",
     "iopub.status.idle": "2021-08-24T14:05:16.414681Z",
     "shell.execute_reply": "2021-08-24T14:05:16.413923Z",
     "shell.execute_reply.started": "2021-08-24T14:05:16.131705Z"
    },
    "id": "9KhbgtZgu-vp",
    "outputId": "e1db7358-a185-49a2-bdae-159e0d3e7b5b",
    "papermill": {
     "duration": null,
     "end_time": null,
     "exception": null,
     "start_time": null,
     "status": "pending"
    },
    "tags": []
   },
   "outputs": [],
   "source": [
    "shap.initjs()\n",
    "shap.dependence_plot('dx_type_onehot', interaction_index='age',\n",
    "                     shap_values=shap_values[0], \n",
    "                     features=X_test,  \n",
    "                     display_features=X_test)"
   ]
  },
  {
   "cell_type": "markdown",
   "metadata": {
    "id": "6EpnCcY_vYR5",
    "papermill": {
     "duration": null,
     "end_time": null,
     "exception": null,
     "start_time": null,
     "status": "pending"
    },
    "tags": []
   },
   "source": [
    "In this graph, the effect of dx_type_onehot at specific ages is seen on the SHAP value. In congruence to what we observed in the earlier graph, the higher the value for dx_type_onehot (expert consensus or confirmation by microscopy) "
   ]
  },
  {
   "cell_type": "code",
   "execution_count": null,
   "metadata": {
    "execution": {
     "iopub.execute_input": "2021-08-24T14:05:16.758893Z",
     "iopub.status.busy": "2021-08-24T14:05:16.758585Z",
     "iopub.status.idle": "2021-08-24T14:05:16.808869Z",
     "shell.execute_reply": "2021-08-24T14:05:16.807979Z",
     "shell.execute_reply.started": "2021-08-24T14:05:16.758863Z"
    },
    "id": "rGvuLzKCwwB4",
    "outputId": "78265704-d19e-4ed1-ee3c-2d1d8f58dd89",
    "papermill": {
     "duration": null,
     "end_time": null,
     "exception": null,
     "start_time": null,
     "status": "pending"
    },
    "tags": []
   },
   "outputs": [],
   "source": [
    "shap.initjs()\n",
    "shap.force_plot(explainer.expected_value[0], shap_values[0][:100,:], X_test.iloc[:100,:])"
   ]
  },
  {
   "cell_type": "code",
   "execution_count": null,
   "metadata": {
    "execution": {
     "iopub.execute_input": "2021-08-24T14:05:16.924764Z",
     "iopub.status.busy": "2021-08-24T14:05:16.924435Z",
     "iopub.status.idle": "2021-08-24T14:05:16.950017Z",
     "shell.execute_reply": "2021-08-24T14:05:16.949205Z",
     "shell.execute_reply.started": "2021-08-24T14:05:16.924732Z"
    },
    "id": "kVjxkCD5xFkR",
    "outputId": "9f15215c-f69c-455b-949f-71f1667245cd",
    "papermill": {
     "duration": null,
     "end_time": null,
     "exception": null,
     "start_time": null,
     "status": "pending"
    },
    "tags": []
   },
   "outputs": [],
   "source": [
    "shap.initjs()\n",
    "shap.force_plot(explainer.expected_value[0], shap_values[0][15,:], X_test.iloc[15,:])"
   ]
  },
  {
   "cell_type": "markdown",
   "metadata": {
    "id": "LRTRj3LZwhyt",
    "papermill": {
     "duration": null,
     "end_time": null,
     "exception": null,
     "start_time": null,
     "status": "pending"
    },
    "tags": []
   },
   "source": [
    "Here, the force plot shows a local instance of the dataset. The localisation and type of diagnosis impact the prediction positively due to their positive SHAP value. \n",
    "On the other hand, the age and gender of the patient impacts the model negatively. "
   ]
  },
  {
   "cell_type": "markdown",
   "metadata": {
    "id": "au3W3bPMiqdS",
    "papermill": {
     "duration": null,
     "end_time": null,
     "exception": null,
     "start_time": null,
     "status": "pending"
    },
    "tags": []
   },
   "source": [
    "**Feature Importance:**\n",
    "\n",
    "Feature importance measures the increase in the prediction error of the model after we permuted the feature values.\n",
    "\n",
    "A feature is \"important\" if shuffling its values increases the model error, because in this case the model relied on the feature for the prediction. \n",
    "\n",
    "A feature is \"unimportant\" if shuffling its values leaves the model error unchanged, because in this case the model ignored the feature for the prediction.\n"
   ]
  },
  {
   "cell_type": "code",
   "execution_count": null,
   "metadata": {
    "execution": {
     "iopub.execute_input": "2021-08-24T14:05:17.726322Z",
     "iopub.status.busy": "2021-08-24T14:05:17.725985Z",
     "iopub.status.idle": "2021-08-24T14:05:23.941511Z",
     "shell.execute_reply": "2021-08-24T14:05:23.940536Z",
     "shell.execute_reply.started": "2021-08-24T14:05:17.726291Z"
    },
    "id": "5Q8dSGK-fE-a",
    "outputId": "2015e953-262c-423d-fa44-05b021906b27",
    "papermill": {
     "duration": null,
     "end_time": null,
     "exception": null,
     "start_time": null,
     "status": "pending"
    },
    "tags": []
   },
   "outputs": [],
   "source": [
    "pip install eli5"
   ]
  },
  {
   "cell_type": "code",
   "execution_count": null,
   "metadata": {
    "execution": {
     "iopub.execute_input": "2021-08-24T14:05:23.943843Z",
     "iopub.status.busy": "2021-08-24T14:05:23.943452Z",
     "iopub.status.idle": "2021-08-24T14:05:24.654398Z",
     "shell.execute_reply": "2021-08-24T14:05:24.653514Z",
     "shell.execute_reply.started": "2021-08-24T14:05:23.943800Z"
    },
    "id": "LcPZV0i1Lm2t",
    "outputId": "09ff3be2-ea60-436c-9997-cea1841f487a",
    "papermill": {
     "duration": null,
     "end_time": null,
     "exception": null,
     "start_time": null,
     "status": "pending"
    },
    "tags": []
   },
   "outputs": [],
   "source": [
    "import eli5\n",
    "from eli5.sklearn import PermutationImportance"
   ]
  },
  {
   "cell_type": "code",
   "execution_count": null,
   "metadata": {
    "execution": {
     "iopub.execute_input": "2021-08-24T14:05:46.700695Z",
     "iopub.status.busy": "2021-08-24T14:05:46.700297Z",
     "iopub.status.idle": "2021-08-24T14:05:46.984419Z",
     "shell.execute_reply": "2021-08-24T14:05:46.983331Z",
     "shell.execute_reply.started": "2021-08-24T14:05:46.700651Z"
    },
    "id": "IpmzQ4_2Lpc3",
    "outputId": "6af3be1d-ad22-4e7e-8574-c7b9408cca84",
    "papermill": {
     "duration": null,
     "end_time": null,
     "exception": null,
     "start_time": null,
     "status": "pending"
    },
    "tags": []
   },
   "outputs": [],
   "source": [
    "eli5.show_weights(model.get_booster(), top=15)"
   ]
  },
  {
   "cell_type": "markdown",
   "metadata": {
    "id": "gKTdGEQsiux-",
    "papermill": {
     "duration": null,
     "end_time": null,
     "exception": null,
     "start_time": null,
     "status": "pending"
    },
    "tags": []
   },
   "source": [
    "We observe that the way the skin disease was diagnosed is extremely important to the prediction of the type of disease.\n",
    "Age as well as the localization of the disease (area of the body the disease is present on) also play major roles in the prediction.\n",
    "However, we observe that the gender of the patient does not play a major part in the prediction of the model. This shows us that the probability of having a specific disease does not change based on the fact that the patient is male or female, as the innate human biology is the same for either of the sexes."
   ]
  },
  {
   "cell_type": "code",
   "execution_count": null,
   "metadata": {
    "execution": {
     "iopub.execute_input": "2021-08-24T14:05:48.267219Z",
     "iopub.status.busy": "2021-08-24T14:05:48.266805Z",
     "iopub.status.idle": "2021-08-24T14:05:49.347082Z",
     "shell.execute_reply": "2021-08-24T14:05:49.346108Z",
     "shell.execute_reply.started": "2021-08-24T14:05:48.267185Z"
    },
    "id": "PL6cRnsLLzEn",
    "outputId": "71b0b21c-57f6-45da-9207-9eb27dd0c0d0",
    "papermill": {
     "duration": null,
     "end_time": null,
     "exception": null,
     "start_time": null,
     "status": "pending"
    },
    "tags": []
   },
   "outputs": [],
   "source": [
    "tgt = 6\n",
    "print('Reference:', y_test[tgt])\n",
    "print('Predicted:', predictions[tgt])\n",
    "eli5.show_prediction(model.get_booster(), X_test.iloc[tgt], \n",
    "                     feature_names=features, show_feature_values=True)"
   ]
  },
  {
   "cell_type": "markdown",
   "metadata": {
    "id": "aUXPboaTkEWO",
    "papermill": {
     "duration": null,
     "end_time": null,
     "exception": null,
     "start_time": null,
     "status": "pending"
    },
    "tags": []
   },
   "source": [
    "Here, we have taken a local instance where we observe that the prediction has been made based off of the type of diagnosis and age. "
   ]
  },
  {
   "cell_type": "markdown",
   "metadata": {
    "papermill": {
     "duration": null,
     "end_time": null,
     "exception": null,
     "start_time": null,
     "status": "pending"
    },
    "tags": []
   },
   "source": [
    "**PDP :**\n",
    "\n",
    "The partial dependence plot shows the marginal effect one or two features have on the predicted outcome of a machine learning model. \n",
    "\n",
    "A partial dependence plot can show whether the relationship between the target and a feature is linear, monotonic or more complex.\n",
    "\n",
    "For each of the categories, we get a PDP estimate by forcing all data instances to have the same category. \n"
   ]
  },
  {
   "cell_type": "code",
   "execution_count": null,
   "metadata": {
    "execution": {
     "iopub.execute_input": "2021-08-24T14:05:49.349011Z",
     "iopub.status.busy": "2021-08-24T14:05:49.348649Z",
     "iopub.status.idle": "2021-08-24T14:06:09.547418Z",
     "shell.execute_reply": "2021-08-24T14:06:09.546447Z",
     "shell.execute_reply.started": "2021-08-24T14:05:49.348972Z"
    },
    "id": "iMqg-0v6jCFr",
    "outputId": "c7795737-fef5-4736-831a-9b6015ae7dbf",
    "papermill": {
     "duration": null,
     "end_time": null,
     "exception": null,
     "start_time": null,
     "status": "pending"
    },
    "tags": []
   },
   "outputs": [],
   "source": [
    "pip install pdpbox"
   ]
  },
  {
   "cell_type": "code",
   "execution_count": null,
   "metadata": {
    "id": "bGd1Jm5fi8mF",
    "papermill": {
     "duration": null,
     "end_time": null,
     "exception": null,
     "start_time": null,
     "status": "pending"
    },
    "tags": []
   },
   "outputs": [],
   "source": [
    "from pdpbox import pdp, get_dataset, info_plots"
   ]
  },
  {
   "cell_type": "code",
   "execution_count": null,
   "metadata": {
    "id": "0ba3qvLvGonp",
    "outputId": "02f6d421-877c-4f25-f65b-21941f076081",
    "papermill": {
     "duration": null,
     "end_time": null,
     "exception": null,
     "start_time": null,
     "status": "pending"
    },
    "tags": []
   },
   "outputs": [],
   "source": [
    "pdp_feat_67_rf = pdp.pdp_isolate(model=model,\n",
    "                                 dataset=X_train,\n",
    "                                 model_features=features,\n",
    "                                 feature='dx_type_onehot')\n",
    "fig, axes = pdp.pdp_plot(pdp_isolate_out=pdp_feat_67_rf,\n",
    "                         feature_name='type of diagnosis',\n",
    "                         center=True,\n",
    "                         x_quantile=True,\n",
    "                         ncols=3,\n",
    "                         plot_lines=True,\n",
    "                         frac_to_plot=100)"
   ]
  },
  {
   "cell_type": "markdown",
   "metadata": {
    "id": "W2Ue3aKgkS8l",
    "papermill": {
     "duration": null,
     "end_time": null,
     "exception": null,
     "start_time": null,
     "status": "pending"
    },
    "tags": []
   },
   "source": [
    "The PDP (Partial Dependence Plot) shows us the relation between an increase/decrease of one feature to the prediction of the model. \n",
    "\n",
    "For example:\n",
    "In figure 1 (class 0), we observe that the chances of the skin disease belonging to class 0 increases when the value of dx_type_onehot changes from 2 (follow up) to 3 (histopathology).\n",
    "\n",
    "Similarly, in figure 5 (class 4), we observe that the probability of the skin disease belonging to class 4 is extremely high when the value of dx_type_onehot lies between 0 and 2, and decreases comparatively when it lies between 2 and 3.\n",
    "\n",
    "Similarly, probability of the skin disease belonging to class 6 is extremely low when the value of dx_type_onehot lies between 0 and 2 (confocal, consensus and follow up), and increases comparatively when it changes from 2 to 3."
   ]
  },
  {
   "cell_type": "markdown",
   "metadata": {
    "id": "3eXcXe9XBRdx",
    "papermill": {
     "duration": null,
     "end_time": null,
     "exception": null,
     "start_time": null,
     "status": "pending"
    },
    "tags": []
   },
   "source": [
    "## **LIME**\n",
    "\n",
    "### LIME is a technique that explains how the input features of a machine learning model affect its predictions. For instance, for image classification tasks, LIME finds the region of an image (set of super-pixels) with the strongest association with a prediction label.\n",
    "\n",
    "\n",
    "### LIME creates explanations by generating a new dataset of random perturbations (with their respective predictions) around the instance being explained and then fitting a weighted local surrogate model -  model that gives explanation of individual predictions.\n",
    "\n",
    "Step 1: Generate random perturbations for input image\n",
    "\n",
    "Step 2: Predict class for perturbations\n",
    "\n",
    "Step 3: Compute weights (importance) for the perturbations\n",
    "\n",
    "Step 4: Fit a explainable linear model using the perturbations, predictions and weights\n"
   ]
  },
  {
   "cell_type": "code",
   "execution_count": null,
   "metadata": {
    "execution": {
     "iopub.execute_input": "2021-08-24T14:06:40.197916Z",
     "iopub.status.busy": "2021-08-24T14:06:40.197570Z",
     "iopub.status.idle": "2021-08-24T14:06:40.273193Z",
     "shell.execute_reply": "2021-08-24T14:06:40.272339Z",
     "shell.execute_reply.started": "2021-08-24T14:06:40.197883Z"
    },
    "id": "euyDaamQN4Lu",
    "papermill": {
     "duration": null,
     "end_time": null,
     "exception": null,
     "start_time": null,
     "status": "pending"
    },
    "tags": []
   },
   "outputs": [],
   "source": [
    "import skimage.io \n",
    "import skimage.segmentation"
   ]
  },
  {
   "cell_type": "code",
   "execution_count": null,
   "metadata": {
    "id": "liIPyaMIPqs7",
    "outputId": "747911fb-5c8c-4efc-a141-404f87625abe",
    "papermill": {
     "duration": null,
     "end_time": null,
     "exception": null,
     "start_time": null,
     "status": "pending"
    },
    "tags": []
   },
   "outputs": [],
   "source": [
    "np.random.seed(222)\n",
    "\n",
    "Xi = x_test[3]\n",
    "preds = model.predict(Xi[np.newaxis,:,:,:])\n",
    "top_pred_classes = preds[0].argsort()[-5:][::-1] # Save ids of top 5 classes\n",
    "top_pred_classes"
   ]
  },
  {
   "cell_type": "code",
   "execution_count": null,
   "metadata": {
    "execution": {
     "iopub.execute_input": "2021-08-24T14:06:41.260148Z",
     "iopub.status.busy": "2021-08-24T14:06:41.259699Z",
     "iopub.status.idle": "2021-08-24T14:06:41.265596Z",
     "shell.execute_reply": "2021-08-24T14:06:41.264588Z",
     "shell.execute_reply.started": "2021-08-24T14:06:41.260103Z"
    },
    "id": "pgCmQXg7Q_8o",
    "outputId": "28ced274-d966-47cf-fba0-928aafed4a60",
    "papermill": {
     "duration": null,
     "end_time": null,
     "exception": null,
     "start_time": null,
     "status": "pending"
    },
    "tags": []
   },
   "outputs": [],
   "source": [
    "print(y_test[3])"
   ]
  },
  {
   "cell_type": "code",
   "execution_count": null,
   "metadata": {
    "id": "4cHnvGulb72d",
    "outputId": "b72a82f3-f206-4402-c5b4-9a0aca995676",
    "papermill": {
     "duration": null,
     "end_time": null,
     "exception": null,
     "start_time": null,
     "status": "pending"
    },
    "tags": []
   },
   "outputs": [],
   "source": [
    "skimage.io.imshow(Xi)"
   ]
  },
  {
   "cell_type": "code",
   "execution_count": null,
   "metadata": {
    "execution": {
     "iopub.status.busy": "2021-08-24T14:06:09.668083Z",
     "iopub.status.idle": "2021-08-24T14:06:09.668630Z"
    },
    "id": "ahzMcm_wBWOP",
    "outputId": "1ef259e7-6e19-4fc1-be9b-6e0df8ca3826",
    "papermill": {
     "duration": null,
     "end_time": null,
     "exception": null,
     "start_time": null,
     "status": "pending"
    },
    "tags": []
   },
   "outputs": [],
   "source": [
    "#Generate segmentation for image\n",
    "superpixels = skimage.segmentation.quickshift(Xi, kernel_size=4,max_dist=200, ratio=0.2)\n",
    "num_superpixels = np.unique(superpixels).shape[0]\n",
    "skimage.io.imshow(skimage.segmentation.mark_boundaries(Xi, superpixels))\n",
    "print(\"The number of super pixels generated\")\n",
    "num_superpixels"
   ]
  },
  {
   "cell_type": "code",
   "execution_count": null,
   "metadata": {
    "execution": {
     "iopub.status.busy": "2021-08-24T14:06:09.669773Z",
     "iopub.status.idle": "2021-08-24T14:06:09.670352Z"
    },
    "id": "N4w8aUdvOKoM",
    "outputId": "fa5e0d05-a08c-46be-93d5-8566c6b14b75",
    "papermill": {
     "duration": null,
     "end_time": null,
     "exception": null,
     "start_time": null,
     "status": "pending"
    },
    "tags": []
   },
   "outputs": [],
   "source": [
    "#Generate perturbations\n",
    "num_perturb = 150\n",
    "perturbations = np.random.binomial(1, 0.5, size=(num_perturb, num_superpixels))\n",
    "\n",
    "#Create function to apply perturbations to images\n",
    "import copy\n",
    "def perturb_image(img,perturbation,segments): \n",
    "  active_pixels = np.where(perturbation == 1)[0]\n",
    "  mask = np.zeros(segments.shape)\n",
    "  for active in active_pixels:\n",
    "      mask[segments == active] = 1 \n",
    "  perturbed_image = copy.deepcopy(img)\n",
    "  perturbed_image = perturbed_image*mask[:,:,np.newaxis]\n",
    "  return perturbed_image\n",
    "\n",
    "#Show example of perturbations\n",
    "print(perturbations[0]) "
   ]
  },
  {
   "cell_type": "code",
   "execution_count": null,
   "metadata": {
    "execution": {
     "iopub.status.busy": "2021-08-24T14:06:09.671564Z",
     "iopub.status.idle": "2021-08-24T14:06:09.672142Z"
    },
    "id": "IRsjr90CBtW2",
    "outputId": "9ab83351-10f0-40d5-cbbb-335f1970231f",
    "papermill": {
     "duration": null,
     "end_time": null,
     "exception": null,
     "start_time": null,
     "status": "pending"
    },
    "tags": []
   },
   "outputs": [],
   "source": [
    "predictions = []\n",
    "for pert in perturbations:\n",
    "  perturbed_img = perturb_image(Xi,pert,superpixels)\n",
    "  pred = model.predict(perturbed_img[np.newaxis,:,:,:])\n",
    "  predictions.append(pred)\n",
    "\n",
    "predictions = np.array(predictions)\n",
    "print(predictions.shape)"
   ]
  },
  {
   "cell_type": "code",
   "execution_count": null,
   "metadata": {
    "execution": {
     "iopub.status.busy": "2021-08-24T14:06:09.673261Z",
     "iopub.status.idle": "2021-08-24T14:06:09.673800Z"
    },
    "id": "LS9GzKfxB0em",
    "outputId": "ba9c61fd-b805-4e73-9ed7-9385a5184122",
    "papermill": {
     "duration": null,
     "end_time": null,
     "exception": null,
     "start_time": null,
     "status": "pending"
    },
    "tags": []
   },
   "outputs": [],
   "source": [
    "skimage.io.imshow(perturb_image(Xi,perturbations[0],superpixels))"
   ]
  },
  {
   "cell_type": "code",
   "execution_count": null,
   "metadata": {
    "execution": {
     "iopub.status.busy": "2021-08-24T14:06:09.675011Z",
     "iopub.status.idle": "2021-08-24T14:06:09.675559Z"
    },
    "id": "1x3NudwiOxmL",
    "outputId": "7e00c1ba-5f14-4d44-d16a-aeeb02d4ee0b",
    "papermill": {
     "duration": null,
     "end_time": null,
     "exception": null,
     "start_time": null,
     "status": "pending"
    },
    "tags": []
   },
   "outputs": [],
   "source": [
    "skimage.io.imshow(perturb_image(Xi,perturbations[11],superpixels))"
   ]
  },
  {
   "cell_type": "code",
   "execution_count": null,
   "metadata": {
    "execution": {
     "iopub.status.busy": "2021-08-24T14:06:09.676670Z",
     "iopub.status.idle": "2021-08-24T14:06:09.677238Z"
    },
    "id": "C-e86q-8O9zj",
    "outputId": "58698052-2bfc-40e7-9644-975d03b92d8c",
    "papermill": {
     "duration": null,
     "end_time": null,
     "exception": null,
     "start_time": null,
     "status": "pending"
    },
    "tags": []
   },
   "outputs": [],
   "source": [
    "skimage.io.imshow(perturb_image(Xi,perturbations[2],superpixels))"
   ]
  },
  {
   "cell_type": "code",
   "execution_count": null,
   "metadata": {
    "execution": {
     "iopub.status.busy": "2021-08-24T14:06:09.678414Z",
     "iopub.status.idle": "2021-08-24T14:06:09.678963Z"
    },
    "id": "D9_hWJNWO-a-",
    "outputId": "017a588c-4400-4518-9ccf-c080f4ec20a9",
    "papermill": {
     "duration": null,
     "end_time": null,
     "exception": null,
     "start_time": null,
     "status": "pending"
    },
    "tags": []
   },
   "outputs": [],
   "source": [
    "#Compute distances to original image\n",
    "import sklearn.metrics\n",
    "original_image = np.ones(num_superpixels)[np.newaxis,:] #Perturbation with all superpixels enabled \n",
    "distances = sklearn.metrics.pairwise_distances(perturbations,original_image, metric='cosine').ravel()\n",
    "print(distances.shape)\n",
    "\n",
    "#Transform distances to a value between 0 an 1 (weights) using a kernel function\n",
    "kernel_width = 0.25\n",
    "weights = np.sqrt(np.exp(-(distances**2)/kernel_width**2)) #Kernel function\n",
    "print(weights.shape)"
   ]
  },
  {
   "cell_type": "code",
   "execution_count": null,
   "metadata": {
    "execution": {
     "iopub.status.busy": "2021-08-24T14:06:09.680128Z",
     "iopub.status.idle": "2021-08-24T14:06:09.680670Z"
    },
    "id": "tyvNWX-FPVx2",
    "outputId": "2a6c0cd8-c02f-47e4-a8ae-cc1cdabc17f1",
    "papermill": {
     "duration": null,
     "end_time": null,
     "exception": null,
     "start_time": null,
     "status": "pending"
    },
    "tags": []
   },
   "outputs": [],
   "source": [
    "#Estimate linear model\n",
    "from sklearn.linear_model import LinearRegression\n",
    "class_to_explain = 4\n",
    "simpler_model = LinearRegression()\n",
    "simpler_model.fit(X=perturbations, y=predictions[:,:,class_to_explain], sample_weight=weights)\n",
    "coeff = simpler_model.coef_[0]\n",
    "\n",
    "#Use coefficients from linear model to extract top features\n",
    "num_top_features = 4\n",
    "top_features = np.argsort(coeff)[-num_top_features:] \n",
    "\n",
    "#Show only the superpixels corresponding to the top features\n",
    "mask = np.zeros(num_superpixels) \n",
    "mask[top_features]= True #Activate top superpixels\n",
    "skimage.io.imshow(perturb_image(Xi,mask,superpixels))"
   ]
  },
  {
   "cell_type": "markdown",
   "metadata": {
    "papermill": {
     "duration": null,
     "end_time": null,
     "exception": null,
     "start_time": null,
     "status": "pending"
    },
    "tags": []
   },
   "source": [
    "This is what LIME returns as explanation. \n",
    "The area of the image (super-pixels) that has a stronger association with the prediction of the disease of class 4. This explanation suggests that the model is doing a good job predicting the class for the given image. \n",
    "\n",
    "This example shows how LIME can help to increase confidence in a machine-learning model by understanding why it is returning certain predictions."
   ]
  },
  {
   "cell_type": "code",
   "execution_count": null,
   "metadata": {
    "papermill": {
     "duration": null,
     "end_time": null,
     "exception": null,
     "start_time": null,
     "status": "pending"
    },
    "tags": []
   },
   "outputs": [],
   "source": []
  },
  {
   "cell_type": "markdown",
   "metadata": {
    "papermill": {
     "duration": null,
     "end_time": null,
     "exception": null,
     "start_time": null,
     "status": "pending"
    },
    "tags": []
   },
   "source": []
  }
 ],
 "metadata": {
  "kernelspec": {
   "display_name": "Python 3 (ipykernel)",
   "language": "python",
   "name": "python3"
  },
  "language_info": {
   "codemirror_mode": {
    "name": "ipython",
    "version": 3
   },
   "file_extension": ".py",
   "mimetype": "text/x-python",
   "name": "python",
   "nbconvert_exporter": "python",
   "pygments_lexer": "ipython3",
   "version": "3.8.5"
  }
 },
 "nbformat": 4,
 "nbformat_minor": 4
}
